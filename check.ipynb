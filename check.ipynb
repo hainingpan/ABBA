{
 "cells": [
  {
   "cell_type": "code",
   "execution_count": 1,
   "metadata": {},
   "outputs": [],
   "source": [
    "from sympy import *\n",
    "from sympy.physics.quantum import *\n",
    "import pandas as pd\n",
    "from scipy.sparse import csc_matrix"
   ]
  },
  {
   "cell_type": "code",
   "execution_count": 2,
   "metadata": {},
   "outputs": [],
   "source": [
    "n={}\n",
    "n[0]=Matrix([0,0])\n",
    "n[1]=Matrix([cos(rad(-120)),sin(rad(-120))])\n",
    "n[2]=Matrix([cos(rad(-60)),sin(rad(-60))])"
   ]
  },
  {
   "cell_type": "code",
   "execution_count": 3,
   "metadata": {},
   "outputs": [],
   "source": [
    "b={}\n",
    "b[1]=Matrix([cos(rad(30)),sin(rad(30))])\n",
    "b[2]=Matrix([cos(rad(-30)),sin(rad(-30))])\n",
    "K={}\n",
    "K['+']=(b[1]+b[2])/3\n",
    "K['-']=-(b[1]+b[2])/3"
   ]
  },
  {
   "cell_type": "code",
   "execution_count": 4,
   "metadata": {},
   "outputs": [],
   "source": [
    "b_idx={}\n",
    "b_idx[1]=Matrix([1,0])\n",
    "b_idx[2]=Matrix([0,1])\n",
    "K_idx={}\n",
    "K_idx['+']=(b_idx[1]+b_idx[2])/3\n",
    "K_idx['-']=-(b_idx[1]+b_idx[2])/3"
   ]
  },
  {
   "cell_type": "code",
   "execution_count": 5,
   "metadata": {},
   "outputs": [
    {
     "data": {
      "text/plain": [
       "[1, exp(2*I*pi/3), exp(-2*I*pi/3)]"
      ]
     },
     "execution_count": 5,
     "metadata": {},
     "output_type": "execute_result"
    }
   ],
   "source": [
    "[exp(I*2*4*pi/sqrt(3)*K['+'].dot(n[i])) for i in range(3)]"
   ]
  },
  {
   "cell_type": "code",
   "execution_count": 6,
   "metadata": {},
   "outputs": [
    {
     "data": {
      "text/plain": [
       "[1, exp(-2*I*pi/3), exp(2*I*pi/3)]"
      ]
     },
     "execution_count": 6,
     "metadata": {},
     "output_type": "execute_result"
    }
   ],
   "source": [
    "[exp(-I*2*4*pi/sqrt(3)*K['+'].dot(n[i])) for i in range(3)]"
   ]
  },
  {
   "cell_type": "code",
   "execution_count": 7,
   "metadata": {},
   "outputs": [],
   "source": [
    "theta={i:symbols(rf'\\theta_{{κ_{i}}}',real=True) for i in range(1,5)}"
   ]
  },
  {
   "cell_type": "code",
   "execution_count": 115,
   "metadata": {},
   "outputs": [],
   "source": [
    "# Gauge 2\n",
    "# W={(valley,i):1/sqrt(2)*Matrix([[exp(-I * theta[i]/2), exp(I * theta[i]/2)],[exp(-I * theta[i]/2),-exp(I * theta[i]/2)]]) for i in range(1,5) for valley in '+-'}\n",
    "\n",
    "\n",
    "W={('+',i):1/sqrt(2)*Matrix([[1,exp(I*theta[i])],[1,-exp(I*theta[i])]]) for i in range(1,5)}\n",
    "W.update({('-',i):1/sqrt(2)*Matrix([[-exp(I*theta[i]),1],[exp(I*theta[i]),1]]) for i in range(1,5)}) # Gauge 1\n",
    "# W.update({('-',i):1/sqrt(2)*Matrix([[1,-exp(-I*theta[i])],[1,exp(-I*theta[i])]]) for i in range(1,5)}) # Gauge 3\n"
   ]
  },
  {
   "cell_type": "code",
   "execution_count": 116,
   "metadata": {},
   "outputs": [],
   "source": [
    "sigma={}\n",
    "sigma['0']=Matrix([[1,0],[0,1]])\n",
    "sigma['x']=Matrix([[0,1],[1,0]])\n",
    "sigma['y']=Matrix([[0,-I],[I,0]])\n",
    "sigma['z']=Matrix([[1,0],[0,-1]])\n",
    "sigma['+']=Matrix([[0,1],[0,0]])\n",
    "sigma['-']=Matrix([[0,0],[1,0]])\n",
    "sigma['u']=Matrix([[1,0],[0,0]])\n",
    "sigma['d']=Matrix([[0,0],[0,1]])"
   ]
  },
  {
   "cell_type": "code",
   "execution_count": 117,
   "metadata": {},
   "outputs": [],
   "source": [
    "spin=lambda σ: '↑' if σ =='u' else '↓'"
   ]
  },
  {
   "cell_type": "code",
   "execution_count": 118,
   "metadata": {},
   "outputs": [],
   "source": [
    "c={\"\".join([λ,l,σ,κ]):Operator(f'c_{{{λ}K,{l},{spin(σ)},κ_{κ}}}') for λ in '+-' for l in '+-AB' for σ in 'ud' for κ in '1234'}\n",
    "psi={\"\".join([λ,l,σ,κ]):Operator(f'\\psi_{{{λ}K,{l},{spin(σ)},κ_{κ}}}') for λ in '+-' for l in '+-AB' for σ in 'ud' for κ in '1234'}"
   ]
  },
  {
   "cell_type": "code",
   "execution_count": 119,
   "metadata": {},
   "outputs": [],
   "source": [
    "c_vec={κ:Matrix([c[\"\".join([λ,l,σ,str(κ)])] for σ in 'ud' for λ in '+-' for l in 'AB']) for κ in range(1,5)}\n",
    "c_d_vec={κ:Matrix([Dagger(c[\"\".join([λ,l,σ,str(κ)])]) for σ in 'ud' for λ in '+-' for l in 'AB']) for κ in range(1,5)}\n",
    "cl_vec={κ:Matrix([c[\"\".join([λ,l,σ,str(κ)])] for σ in 'ud' for λ in '+-' for l in '+-']) for κ in range(1,5)}\n",
    "cl_d_vec={κ:Matrix([Dagger(c[\"\".join([λ,l,σ,str(κ)])]) for σ in 'ud' for λ in '+-' for l in '+-']) for κ in range(1,5)}"
   ]
  },
  {
   "cell_type": "code",
   "execution_count": 120,
   "metadata": {},
   "outputs": [],
   "source": [
    "psi_vec={κ:Matrix([psi[\"\".join([λ,l,σ,str(κ)])] for σ in 'ud' for λ in '+-' for l in 'AB']) for κ in range(1,5)}\n",
    "psi_d_vec={κ:Matrix([Dagger(psi[\"\".join([λ,l,σ,str(κ)])]) for σ in 'ud' for λ in '+-' for l in 'AB']) for κ in range(1,5)}\n",
    "psil_vec={κ:Matrix([psi[\"\".join([λ,l,σ,str(κ)])] for σ in 'ud' for λ in '+-' for l in '+-']) for κ in range(1,5)}\n",
    "psil_d_vec={κ:Matrix([Dagger(psi[\"\".join([λ,l,σ,str(κ)])]) for σ in 'ud' for λ in '+-' for l in '+-']) for κ in range(1,5)}"
   ]
  },
  {
   "cell_type": "code",
   "execution_count": 121,
   "metadata": {},
   "outputs": [],
   "source": [
    "M=kronecker_product(sigma['0'],kronecker_product(sigma['u'],sigma['0'])+kronecker_product(sigma['d'],I*sigma['y']))"
   ]
  },
  {
   "cell_type": "code",
   "execution_count": 122,
   "metadata": {},
   "outputs": [],
   "source": [
    "# WW={i:kronecker_product(sigma['0'],sigma['0'],(W[i])) for i in range(1,5)}\n",
    "WW={i:kronecker_product(kronecker_product(sigma['0'],sigma['u']),W[('+',i)]) + kronecker_product(kronecker_product(sigma['0'],sigma['d']),W[('-',i)]) for i in range(1,5)}"
   ]
  },
  {
   "cell_type": "code",
   "execution_count": 123,
   "metadata": {},
   "outputs": [
    {
     "data": {
      "text/latex": [
       "$\\displaystyle \\left[\\begin{matrix}\\frac{\\sqrt{2}}{2} & \\frac{\\sqrt{2} e^{i \\theta_{κ_1}}}{2} & 0 & 0 & 0 & 0 & 0 & 0\\\\\\frac{\\sqrt{2}}{2} & - \\frac{\\sqrt{2} e^{i \\theta_{κ_1}}}{2} & 0 & 0 & 0 & 0 & 0 & 0\\\\0 & 0 & - \\frac{\\sqrt{2} e^{i \\theta_{κ_1}}}{2} & \\frac{\\sqrt{2}}{2} & 0 & 0 & 0 & 0\\\\0 & 0 & \\frac{\\sqrt{2} e^{i \\theta_{κ_1}}}{2} & \\frac{\\sqrt{2}}{2} & 0 & 0 & 0 & 0\\\\0 & 0 & 0 & 0 & \\frac{\\sqrt{2}}{2} & \\frac{\\sqrt{2} e^{i \\theta_{κ_1}}}{2} & 0 & 0\\\\0 & 0 & 0 & 0 & \\frac{\\sqrt{2}}{2} & - \\frac{\\sqrt{2} e^{i \\theta_{κ_1}}}{2} & 0 & 0\\\\0 & 0 & 0 & 0 & 0 & 0 & - \\frac{\\sqrt{2} e^{i \\theta_{κ_1}}}{2} & \\frac{\\sqrt{2}}{2}\\\\0 & 0 & 0 & 0 & 0 & 0 & \\frac{\\sqrt{2} e^{i \\theta_{κ_1}}}{2} & \\frac{\\sqrt{2}}{2}\\end{matrix}\\right]$"
      ],
      "text/plain": [
       "Matrix([\n",
       "[sqrt(2)/2,  sqrt(2)*exp(I*\\theta_{κ_1})/2,                              0,         0,         0,                              0,                              0,         0],\n",
       "[sqrt(2)/2, -sqrt(2)*exp(I*\\theta_{κ_1})/2,                              0,         0,         0,                              0,                              0,         0],\n",
       "[        0,                              0, -sqrt(2)*exp(I*\\theta_{κ_1})/2, sqrt(2)/2,         0,                              0,                              0,         0],\n",
       "[        0,                              0,  sqrt(2)*exp(I*\\theta_{κ_1})/2, sqrt(2)/2,         0,                              0,                              0,         0],\n",
       "[        0,                              0,                              0,         0, sqrt(2)/2,  sqrt(2)*exp(I*\\theta_{κ_1})/2,                              0,         0],\n",
       "[        0,                              0,                              0,         0, sqrt(2)/2, -sqrt(2)*exp(I*\\theta_{κ_1})/2,                              0,         0],\n",
       "[        0,                              0,                              0,         0,         0,                              0, -sqrt(2)*exp(I*\\theta_{κ_1})/2, sqrt(2)/2],\n",
       "[        0,                              0,                              0,         0,         0,                              0,  sqrt(2)*exp(I*\\theta_{κ_1})/2, sqrt(2)/2]])"
      ]
     },
     "execution_count": 123,
     "metadata": {},
     "output_type": "execute_result"
    }
   ],
   "source": [
    "WW[1]"
   ]
  },
  {
   "cell_type": "code",
   "execution_count": 124,
   "metadata": {},
   "outputs": [],
   "source": [
    "rules_c2cl=sum([list(zip(c_vec[i],WW[i].T*cl_vec[i])) for i in range(1,5)],[])"
   ]
  },
  {
   "cell_type": "code",
   "execution_count": 125,
   "metadata": {},
   "outputs": [],
   "source": [
    "rules_c2psi=sum([list(zip(c_vec[i],M.T*psi_vec[i])) for i in range(1,5)],[])\n",
    "rules_psi2c=sum([list(zip(psi_vec[i],M*c_vec[i])) for i in range(1,5)],[])\n",
    "rules_psil2psi=sum([list(zip(psil_vec[i],conjugate(WW[i])*psi_vec[i])) for i in range(1,5)],[])\n",
    "rules_psi2psil=sum([list(zip(psi_vec[i],(WW[i].T)*psil_vec[i])) for i in range(1,5)],[])"
   ]
  },
  {
   "cell_type": "code",
   "execution_count": 126,
   "metadata": {},
   "outputs": [
    {
     "data": {
      "text/latex": [
       "$\\displaystyle \\left[\\begin{matrix}c_{+K,A,↑,κ_1}\\\\c_{+K,B,↑,κ_1}\\\\c_{-K,A,↑,κ_1}\\\\c_{-K,B,↑,κ_1}\\\\c_{+K,A,↓,κ_1}\\\\c_{+K,B,↓,κ_1}\\\\c_{-K,A,↓,κ_1}\\\\c_{-K,B,↓,κ_1}\\end{matrix}\\right]$"
      ],
      "text/plain": [
       "Matrix([\n",
       "[c_{+K,A,↑,κ_1}],\n",
       "[c_{+K,B,↑,κ_1}],\n",
       "[c_{-K,A,↑,κ_1}],\n",
       "[c_{-K,B,↑,κ_1}],\n",
       "[c_{+K,A,↓,κ_1}],\n",
       "[c_{+K,B,↓,κ_1}],\n",
       "[c_{-K,A,↓,κ_1}],\n",
       "[c_{-K,B,↓,κ_1}]])"
      ]
     },
     "execution_count": 126,
     "metadata": {},
     "output_type": "execute_result"
    }
   ],
   "source": [
    "c_vec[1]"
   ]
  },
  {
   "cell_type": "code",
   "execution_count": 127,
   "metadata": {},
   "outputs": [
    {
     "data": {
      "text/latex": [
       "$\\displaystyle \\left[\\begin{matrix}\\frac{\\sqrt{2} c_{+K,+,↑,κ_1}}{2} + \\frac{\\sqrt{2} c_{+K,-,↑,κ_1}}{2}\\\\\\frac{\\sqrt{2} e^{i \\theta_{κ_1}} c_{+K,+,↑,κ_1}}{2} - \\frac{\\sqrt{2} e^{i \\theta_{κ_1}} c_{+K,-,↑,κ_1}}{2}\\\\- \\frac{\\sqrt{2} e^{i \\theta_{κ_1}} c_{-K,+,↑,κ_1}}{2} + \\frac{\\sqrt{2} e^{i \\theta_{κ_1}} c_{-K,-,↑,κ_1}}{2}\\\\\\frac{\\sqrt{2} c_{-K,+,↑,κ_1}}{2} + \\frac{\\sqrt{2} c_{-K,-,↑,κ_1}}{2}\\\\\\frac{\\sqrt{2} c_{+K,+,↓,κ_1}}{2} + \\frac{\\sqrt{2} c_{+K,-,↓,κ_1}}{2}\\\\\\frac{\\sqrt{2} e^{i \\theta_{κ_1}} c_{+K,+,↓,κ_1}}{2} - \\frac{\\sqrt{2} e^{i \\theta_{κ_1}} c_{+K,-,↓,κ_1}}{2}\\\\- \\frac{\\sqrt{2} e^{i \\theta_{κ_1}} c_{-K,+,↓,κ_1}}{2} + \\frac{\\sqrt{2} e^{i \\theta_{κ_1}} c_{-K,-,↓,κ_1}}{2}\\\\\\frac{\\sqrt{2} c_{-K,+,↓,κ_1}}{2} + \\frac{\\sqrt{2} c_{-K,-,↓,κ_1}}{2}\\end{matrix}\\right]$"
      ],
      "text/plain": [
       "Matrix([\n",
       "[                                         sqrt(2)*c_{+K,+,↑,κ_1}/2 + sqrt(2)*c_{+K,-,↑,κ_1}/2],\n",
       "[ sqrt(2)*exp(I*\\theta_{κ_1})*c_{+K,+,↑,κ_1}/2 - sqrt(2)*exp(I*\\theta_{κ_1})*c_{+K,-,↑,κ_1}/2],\n",
       "[-sqrt(2)*exp(I*\\theta_{κ_1})*c_{-K,+,↑,κ_1}/2 + sqrt(2)*exp(I*\\theta_{κ_1})*c_{-K,-,↑,κ_1}/2],\n",
       "[                                         sqrt(2)*c_{-K,+,↑,κ_1}/2 + sqrt(2)*c_{-K,-,↑,κ_1}/2],\n",
       "[                                         sqrt(2)*c_{+K,+,↓,κ_1}/2 + sqrt(2)*c_{+K,-,↓,κ_1}/2],\n",
       "[ sqrt(2)*exp(I*\\theta_{κ_1})*c_{+K,+,↓,κ_1}/2 - sqrt(2)*exp(I*\\theta_{κ_1})*c_{+K,-,↓,κ_1}/2],\n",
       "[-sqrt(2)*exp(I*\\theta_{κ_1})*c_{-K,+,↓,κ_1}/2 + sqrt(2)*exp(I*\\theta_{κ_1})*c_{-K,-,↓,κ_1}/2],\n",
       "[                                         sqrt(2)*c_{-K,+,↓,κ_1}/2 + sqrt(2)*c_{-K,-,↓,κ_1}/2]])"
      ]
     },
     "execution_count": 127,
     "metadata": {},
     "output_type": "execute_result"
    }
   ],
   "source": [
    "c_vec[1].subs(rules_c2cl)"
   ]
  },
  {
   "cell_type": "markdown",
   "metadata": {},
   "source": [
    "# $H_0$"
   ]
  },
  {
   "cell_type": "code",
   "execution_count": 128,
   "metadata": {},
   "outputs": [],
   "source": [
    "H0=(Matrix([Dagger(c['+Au1']),Dagger(c['+Bu1'])]).T * (sigma['x']*cos(theta[1])+sigma['y']*sin(theta[1])) * Matrix([c['+Au1'],c['+Bu1']]) + Matrix([Dagger(c['-Au1']),Dagger(c['-Bu1'])]).T * conjugate(-sigma['x']*cos(theta[1])-sigma['y']*sin(theta[1])) * Matrix([c['-Au1'],c['-Bu1']]))[0,0].rewrite(exp)"
   ]
  },
  {
   "cell_type": "code",
   "execution_count": 25,
   "metadata": {},
   "outputs": [
    {
     "data": {
      "text/latex": [
       "$\\displaystyle e^{i \\theta_{κ_1}} c_{+K,B,↑,κ_1}^{\\dagger} c_{+K,A,↑,κ_1} - e^{i \\theta_{κ_1}} c_{-K,A,↑,κ_1}^{\\dagger} c_{-K,B,↑,κ_1} + e^{- i \\theta_{κ_1}} c_{+K,A,↑,κ_1}^{\\dagger} c_{+K,B,↑,κ_1} - e^{- i \\theta_{κ_1}} c_{-K,B,↑,κ_1}^{\\dagger} c_{-K,A,↑,κ_1}$"
      ],
      "text/plain": [
       "exp(I*\\theta_{κ_1})*Dagger(c_{+K,B,↑,κ_1})*c_{+K,A,↑,κ_1} - exp(I*\\theta_{κ_1})*Dagger(c_{-K,A,↑,κ_1})*c_{-K,B,↑,κ_1} + exp(-I*\\theta_{κ_1})*Dagger(c_{+K,A,↑,κ_1})*c_{+K,B,↑,κ_1} - exp(-I*\\theta_{κ_1})*Dagger(c_{-K,B,↑,κ_1})*c_{-K,A,↑,κ_1}"
      ]
     },
     "execution_count": 25,
     "metadata": {},
     "output_type": "execute_result"
    }
   ],
   "source": [
    "H0"
   ]
  },
  {
   "cell_type": "code",
   "execution_count": 26,
   "metadata": {},
   "outputs": [
    {
     "data": {
      "text/latex": [
       "$\\displaystyle c_{+K,+,↑,κ_1}^{\\dagger} c_{+K,+,↑,κ_1} - c_{+K,-,↑,κ_1}^{\\dagger} c_{+K,-,↑,κ_1} + c_{-K,+,↑,κ_1}^{\\dagger} c_{-K,+,↑,κ_1} - c_{-K,-,↑,κ_1}^{\\dagger} c_{-K,-,↑,κ_1}$"
      ],
      "text/plain": [
       "Dagger(c_{+K,+,↑,κ_1})*c_{+K,+,↑,κ_1} - Dagger(c_{+K,-,↑,κ_1})*c_{+K,-,↑,κ_1} + Dagger(c_{-K,+,↑,κ_1})*c_{-K,+,↑,κ_1} - Dagger(c_{-K,-,↑,κ_1})*c_{-K,-,↑,κ_1}"
      ]
     },
     "execution_count": 26,
     "metadata": {},
     "output_type": "execute_result"
    }
   ],
   "source": [
    "H0.subs(rules_c2cl).expand()"
   ]
  },
  {
   "cell_type": "code",
   "execution_count": 27,
   "metadata": {},
   "outputs": [
    {
     "data": {
      "text/latex": [
       "$\\displaystyle e^{i \\theta_{κ_1}} \\psi_{+K,B,↑,κ_1}^{\\dagger} \\psi_{+K,A,↑,κ_1} + e^{i \\theta_{κ_1}} \\psi_{-K,B,↑,κ_1}^{\\dagger} \\psi_{-K,A,↑,κ_1} + e^{- i \\theta_{κ_1}} \\psi_{+K,A,↑,κ_1}^{\\dagger} \\psi_{+K,B,↑,κ_1} + e^{- i \\theta_{κ_1}} \\psi_{-K,A,↑,κ_1}^{\\dagger} \\psi_{-K,B,↑,κ_1}$"
      ],
      "text/plain": [
       "exp(I*\\theta_{κ_1})*Dagger(\\psi_{+K,B,↑,κ_1})*\\psi_{+K,A,↑,κ_1} + exp(I*\\theta_{κ_1})*Dagger(\\psi_{-K,B,↑,κ_1})*\\psi_{-K,A,↑,κ_1} + exp(-I*\\theta_{κ_1})*Dagger(\\psi_{+K,A,↑,κ_1})*\\psi_{+K,B,↑,κ_1} + exp(-I*\\theta_{κ_1})*Dagger(\\psi_{-K,A,↑,κ_1})*\\psi_{-K,B,↑,κ_1}"
      ]
     },
     "execution_count": 27,
     "metadata": {},
     "output_type": "execute_result"
    }
   ],
   "source": [
    "H0.subs(rules_c2psi)"
   ]
  },
  {
   "cell_type": "code",
   "execution_count": 28,
   "metadata": {},
   "outputs": [],
   "source": [
    "H0_psi=(Matrix(psi_d_vec[1][:4]).T * kronecker_product(sigma['0'],(sigma['x']*cos(theta[1])+sigma['y']*sin(theta[1]))).rewrite(exp) * Matrix(psi_vec[1][:4]))[0,0]"
   ]
  },
  {
   "cell_type": "code",
   "execution_count": 29,
   "metadata": {},
   "outputs": [
    {
     "data": {
      "text/latex": [
       "$\\displaystyle 0$"
      ],
      "text/plain": [
       "0"
      ]
     },
     "execution_count": 29,
     "metadata": {},
     "output_type": "execute_result"
    }
   ],
   "source": [
    "(H0_psi-H0.subs(rules_c2psi))"
   ]
  },
  {
   "cell_type": "code",
   "execution_count": 30,
   "metadata": {},
   "outputs": [
    {
     "data": {
      "text/latex": [
       "$\\displaystyle \\left[\\begin{matrix}\\frac{\\sqrt{2} \\psi_{+K,+,↑,κ_1}}{2} + \\frac{\\sqrt{2} \\psi_{+K,-,↑,κ_1}}{2}\\\\\\frac{\\sqrt{2} e^{i \\theta_{κ_1}} \\psi_{+K,+,↑,κ_1}}{2} - \\frac{\\sqrt{2} e^{i \\theta_{κ_1}} \\psi_{+K,-,↑,κ_1}}{2}\\\\- \\frac{\\sqrt{2} e^{i \\theta_{κ_1}} \\psi_{-K,+,↑,κ_1}}{2} + \\frac{\\sqrt{2} e^{i \\theta_{κ_1}} \\psi_{-K,-,↑,κ_1}}{2}\\\\\\frac{\\sqrt{2} \\psi_{-K,+,↑,κ_1}}{2} + \\frac{\\sqrt{2} \\psi_{-K,-,↑,κ_1}}{2}\\\\\\frac{\\sqrt{2} \\psi_{+K,+,↓,κ_1}}{2} + \\frac{\\sqrt{2} \\psi_{+K,-,↓,κ_1}}{2}\\\\\\frac{\\sqrt{2} e^{i \\theta_{κ_1}} \\psi_{+K,+,↓,κ_1}}{2} - \\frac{\\sqrt{2} e^{i \\theta_{κ_1}} \\psi_{+K,-,↓,κ_1}}{2}\\\\- \\frac{\\sqrt{2} e^{i \\theta_{κ_1}} \\psi_{-K,+,↓,κ_1}}{2} + \\frac{\\sqrt{2} e^{i \\theta_{κ_1}} \\psi_{-K,-,↓,κ_1}}{2}\\\\\\frac{\\sqrt{2} \\psi_{-K,+,↓,κ_1}}{2} + \\frac{\\sqrt{2} \\psi_{-K,-,↓,κ_1}}{2}\\end{matrix}\\right]$"
      ],
      "text/plain": [
       "Matrix([\n",
       "[                                         sqrt(2)*\\psi_{+K,+,↑,κ_1}/2 + sqrt(2)*\\psi_{+K,-,↑,κ_1}/2],\n",
       "[ sqrt(2)*exp(I*\\theta_{κ_1})*\\psi_{+K,+,↑,κ_1}/2 - sqrt(2)*exp(I*\\theta_{κ_1})*\\psi_{+K,-,↑,κ_1}/2],\n",
       "[-sqrt(2)*exp(I*\\theta_{κ_1})*\\psi_{-K,+,↑,κ_1}/2 + sqrt(2)*exp(I*\\theta_{κ_1})*\\psi_{-K,-,↑,κ_1}/2],\n",
       "[                                         sqrt(2)*\\psi_{-K,+,↑,κ_1}/2 + sqrt(2)*\\psi_{-K,-,↑,κ_1}/2],\n",
       "[                                         sqrt(2)*\\psi_{+K,+,↓,κ_1}/2 + sqrt(2)*\\psi_{+K,-,↓,κ_1}/2],\n",
       "[ sqrt(2)*exp(I*\\theta_{κ_1})*\\psi_{+K,+,↓,κ_1}/2 - sqrt(2)*exp(I*\\theta_{κ_1})*\\psi_{+K,-,↓,κ_1}/2],\n",
       "[-sqrt(2)*exp(I*\\theta_{κ_1})*\\psi_{-K,+,↓,κ_1}/2 + sqrt(2)*exp(I*\\theta_{κ_1})*\\psi_{-K,-,↓,κ_1}/2],\n",
       "[                                         sqrt(2)*\\psi_{-K,+,↓,κ_1}/2 + sqrt(2)*\\psi_{-K,-,↓,κ_1}/2]])"
      ]
     },
     "execution_count": 30,
     "metadata": {},
     "output_type": "execute_result"
    }
   ],
   "source": [
    "psi_vec[1].subs(rules_psi2psil)"
   ]
  },
  {
   "cell_type": "code",
   "execution_count": 31,
   "metadata": {},
   "outputs": [
    {
     "data": {
      "text/latex": [
       "$\\displaystyle \\left[\\begin{matrix}\\frac{\\sqrt{2} \\psi_{+K,+,↑,κ_1}^{\\dagger}}{2} + \\frac{\\sqrt{2} \\psi_{+K,-,↑,κ_1}^{\\dagger}}{2}\\\\\\frac{\\sqrt{2} e^{- i \\theta_{κ_1}} \\psi_{+K,+,↑,κ_1}^{\\dagger}}{2} - \\frac{\\sqrt{2} e^{- i \\theta_{κ_1}} \\psi_{+K,-,↑,κ_1}^{\\dagger}}{2}\\\\- \\frac{\\sqrt{2} e^{- i \\theta_{κ_1}} \\psi_{-K,+,↑,κ_1}^{\\dagger}}{2} + \\frac{\\sqrt{2} e^{- i \\theta_{κ_1}} \\psi_{-K,-,↑,κ_1}^{\\dagger}}{2}\\\\\\frac{\\sqrt{2} \\psi_{-K,+,↑,κ_1}^{\\dagger}}{2} + \\frac{\\sqrt{2} \\psi_{-K,-,↑,κ_1}^{\\dagger}}{2}\\\\\\frac{\\sqrt{2} \\psi_{+K,+,↓,κ_1}^{\\dagger}}{2} + \\frac{\\sqrt{2} \\psi_{+K,-,↓,κ_1}^{\\dagger}}{2}\\\\\\frac{\\sqrt{2} e^{- i \\theta_{κ_1}} \\psi_{+K,+,↓,κ_1}^{\\dagger}}{2} - \\frac{\\sqrt{2} e^{- i \\theta_{κ_1}} \\psi_{+K,-,↓,κ_1}^{\\dagger}}{2}\\\\- \\frac{\\sqrt{2} e^{- i \\theta_{κ_1}} \\psi_{-K,+,↓,κ_1}^{\\dagger}}{2} + \\frac{\\sqrt{2} e^{- i \\theta_{κ_1}} \\psi_{-K,-,↓,κ_1}^{\\dagger}}{2}\\\\\\frac{\\sqrt{2} \\psi_{-K,+,↓,κ_1}^{\\dagger}}{2} + \\frac{\\sqrt{2} \\psi_{-K,-,↓,κ_1}^{\\dagger}}{2}\\end{matrix}\\right]$"
      ],
      "text/plain": [
       "Matrix([\n",
       "[                                           sqrt(2)*Dagger(\\psi_{+K,+,↑,κ_1})/2 + sqrt(2)*Dagger(\\psi_{+K,-,↑,κ_1})/2],\n",
       "[ sqrt(2)*exp(-I*\\theta_{κ_1})*Dagger(\\psi_{+K,+,↑,κ_1})/2 - sqrt(2)*exp(-I*\\theta_{κ_1})*Dagger(\\psi_{+K,-,↑,κ_1})/2],\n",
       "[-sqrt(2)*exp(-I*\\theta_{κ_1})*Dagger(\\psi_{-K,+,↑,κ_1})/2 + sqrt(2)*exp(-I*\\theta_{κ_1})*Dagger(\\psi_{-K,-,↑,κ_1})/2],\n",
       "[                                           sqrt(2)*Dagger(\\psi_{-K,+,↑,κ_1})/2 + sqrt(2)*Dagger(\\psi_{-K,-,↑,κ_1})/2],\n",
       "[                                           sqrt(2)*Dagger(\\psi_{+K,+,↓,κ_1})/2 + sqrt(2)*Dagger(\\psi_{+K,-,↓,κ_1})/2],\n",
       "[ sqrt(2)*exp(-I*\\theta_{κ_1})*Dagger(\\psi_{+K,+,↓,κ_1})/2 - sqrt(2)*exp(-I*\\theta_{κ_1})*Dagger(\\psi_{+K,-,↓,κ_1})/2],\n",
       "[-sqrt(2)*exp(-I*\\theta_{κ_1})*Dagger(\\psi_{-K,+,↓,κ_1})/2 + sqrt(2)*exp(-I*\\theta_{κ_1})*Dagger(\\psi_{-K,-,↓,κ_1})/2],\n",
       "[                                           sqrt(2)*Dagger(\\psi_{-K,+,↓,κ_1})/2 + sqrt(2)*Dagger(\\psi_{-K,-,↓,κ_1})/2]])"
      ]
     },
     "execution_count": 31,
     "metadata": {},
     "output_type": "execute_result"
    }
   ],
   "source": [
    "psi_d_vec[1].subs(rules_psi2psil)"
   ]
  },
  {
   "cell_type": "code",
   "execution_count": 32,
   "metadata": {},
   "outputs": [
    {
     "data": {
      "text/latex": [
       "$\\displaystyle - \\frac{e^{2 i \\theta_{κ_1}} \\psi_{-K,+,↑,κ_1}^{\\dagger} \\psi_{-K,+,↑,κ_1}}{2} + \\frac{e^{2 i \\theta_{κ_1}} \\psi_{-K,+,↑,κ_1}^{\\dagger} \\psi_{-K,-,↑,κ_1}}{2} - \\frac{e^{2 i \\theta_{κ_1}} \\psi_{-K,-,↑,κ_1}^{\\dagger} \\psi_{-K,+,↑,κ_1}}{2} + \\frac{e^{2 i \\theta_{κ_1}} \\psi_{-K,-,↑,κ_1}^{\\dagger} \\psi_{-K,-,↑,κ_1}}{2} + \\psi_{+K,+,↑,κ_1}^{\\dagger} \\psi_{+K,+,↑,κ_1} - \\psi_{+K,-,↑,κ_1}^{\\dagger} \\psi_{+K,-,↑,κ_1} - \\frac{e^{- 2 i \\theta_{κ_1}} \\psi_{-K,+,↑,κ_1}^{\\dagger} \\psi_{-K,+,↑,κ_1}}{2} - \\frac{e^{- 2 i \\theta_{κ_1}} \\psi_{-K,+,↑,κ_1}^{\\dagger} \\psi_{-K,-,↑,κ_1}}{2} + \\frac{e^{- 2 i \\theta_{κ_1}} \\psi_{-K,-,↑,κ_1}^{\\dagger} \\psi_{-K,+,↑,κ_1}}{2} + \\frac{e^{- 2 i \\theta_{κ_1}} \\psi_{-K,-,↑,κ_1}^{\\dagger} \\psi_{-K,-,↑,κ_1}}{2}$"
      ],
      "text/plain": [
       "-exp(2*I*\\theta_{κ_1})*Dagger(\\psi_{-K,+,↑,κ_1})*\\psi_{-K,+,↑,κ_1}/2 + exp(2*I*\\theta_{κ_1})*Dagger(\\psi_{-K,+,↑,κ_1})*\\psi_{-K,-,↑,κ_1}/2 - exp(2*I*\\theta_{κ_1})*Dagger(\\psi_{-K,-,↑,κ_1})*\\psi_{-K,+,↑,κ_1}/2 + exp(2*I*\\theta_{κ_1})*Dagger(\\psi_{-K,-,↑,κ_1})*\\psi_{-K,-,↑,κ_1}/2 + Dagger(\\psi_{+K,+,↑,κ_1})*\\psi_{+K,+,↑,κ_1} - Dagger(\\psi_{+K,-,↑,κ_1})*\\psi_{+K,-,↑,κ_1} - exp(-2*I*\\theta_{κ_1})*Dagger(\\psi_{-K,+,↑,κ_1})*\\psi_{-K,+,↑,κ_1}/2 - exp(-2*I*\\theta_{κ_1})*Dagger(\\psi_{-K,+,↑,κ_1})*\\psi_{-K,-,↑,κ_1}/2 + exp(-2*I*\\theta_{κ_1})*Dagger(\\psi_{-K,-,↑,κ_1})*\\psi_{-K,+,↑,κ_1}/2 + exp(-2*I*\\theta_{κ_1})*Dagger(\\psi_{-K,-,↑,κ_1})*\\psi_{-K,-,↑,κ_1}/2"
      ]
     },
     "execution_count": 32,
     "metadata": {},
     "output_type": "execute_result"
    }
   ],
   "source": [
    "H0_psi.subs(rules_psi2psil).expand()"
   ]
  },
  {
   "cell_type": "code",
   "execution_count": 33,
   "metadata": {},
   "outputs": [],
   "source": [
    "vF=Symbol('v_F',real=True)\n",
    "B=Symbol('B',real=True)"
   ]
  },
  {
   "cell_type": "code",
   "execution_count": 34,
   "metadata": {},
   "outputs": [],
   "source": [
    "H_0=(psi_d_vec[1].T * (kronecker_product(sigma['0'], sigma['0'], vF*(sigma['x']*cos(theta[1])+sigma['y']*sin(theta[1]))) + B*kronecker_product(sigma['z'],sigma['0'],sigma['0'])) * psi_vec[1])[0,0]"
   ]
  },
  {
   "cell_type": "code",
   "execution_count": 35,
   "metadata": {},
   "outputs": [
    {
     "data": {
      "text/latex": [
       "$\\displaystyle \\frac{e^{- 2 i \\theta_{κ_1}} \\left(- v_{F} \\psi_{-K,+,↑,κ_1}^{\\dagger} \\psi_{-K,+,↑,κ_1} - v_{F} \\psi_{-K,+,↑,κ_1}^{\\dagger} \\psi_{-K,-,↑,κ_1} - v_{F} \\psi_{-K,+,↓,κ_1}^{\\dagger} \\psi_{-K,+,↓,κ_1} - v_{F} \\psi_{-K,+,↓,κ_1}^{\\dagger} \\psi_{-K,-,↓,κ_1} + v_{F} \\psi_{-K,-,↑,κ_1}^{\\dagger} \\psi_{-K,+,↑,κ_1} + v_{F} \\psi_{-K,-,↑,κ_1}^{\\dagger} \\psi_{-K,-,↑,κ_1} + v_{F} \\psi_{-K,-,↓,κ_1}^{\\dagger} \\psi_{-K,+,↓,κ_1} + v_{F} \\psi_{-K,-,↓,κ_1}^{\\dagger} \\psi_{-K,-,↓,κ_1} + e^{2 i \\theta_{κ_1}} \\cdot \\left(2 B \\psi_{+K,+,↑,κ_1}^{\\dagger} \\psi_{+K,+,↑,κ_1} - 2 B \\psi_{+K,+,↓,κ_1}^{\\dagger} \\psi_{+K,+,↓,κ_1} + 2 B \\psi_{+K,-,↑,κ_1}^{\\dagger} \\psi_{+K,-,↑,κ_1} - 2 B \\psi_{+K,-,↓,κ_1}^{\\dagger} \\psi_{+K,-,↓,κ_1} + 2 B \\psi_{-K,+,↑,κ_1}^{\\dagger} \\psi_{-K,+,↑,κ_1} - 2 B \\psi_{-K,+,↓,κ_1}^{\\dagger} \\psi_{-K,+,↓,κ_1} + 2 B \\psi_{-K,-,↑,κ_1}^{\\dagger} \\psi_{-K,-,↑,κ_1} - 2 B \\psi_{-K,-,↓,κ_1}^{\\dagger} \\psi_{-K,-,↓,κ_1} - v_{F} e^{2 i \\theta_{κ_1}} \\psi_{-K,+,↑,κ_1}^{\\dagger} \\psi_{-K,+,↑,κ_1} + v_{F} e^{2 i \\theta_{κ_1}} \\psi_{-K,+,↑,κ_1}^{\\dagger} \\psi_{-K,-,↑,κ_1} - v_{F} e^{2 i \\theta_{κ_1}} \\psi_{-K,+,↓,κ_1}^{\\dagger} \\psi_{-K,+,↓,κ_1} + v_{F} e^{2 i \\theta_{κ_1}} \\psi_{-K,+,↓,κ_1}^{\\dagger} \\psi_{-K,-,↓,κ_1} - v_{F} e^{2 i \\theta_{κ_1}} \\psi_{-K,-,↑,κ_1}^{\\dagger} \\psi_{-K,+,↑,κ_1} + v_{F} e^{2 i \\theta_{κ_1}} \\psi_{-K,-,↑,κ_1}^{\\dagger} \\psi_{-K,-,↑,κ_1} - v_{F} e^{2 i \\theta_{κ_1}} \\psi_{-K,-,↓,κ_1}^{\\dagger} \\psi_{-K,+,↓,κ_1} + v_{F} e^{2 i \\theta_{κ_1}} \\psi_{-K,-,↓,κ_1}^{\\dagger} \\psi_{-K,-,↓,κ_1} + 2 v_{F} \\psi_{+K,+,↑,κ_1}^{\\dagger} \\psi_{+K,+,↑,κ_1} + 2 v_{F} \\psi_{+K,+,↓,κ_1}^{\\dagger} \\psi_{+K,+,↓,κ_1} - 2 v_{F} \\psi_{+K,-,↑,κ_1}^{\\dagger} \\psi_{+K,-,↑,κ_1} - 2 v_{F} \\psi_{+K,-,↓,κ_1}^{\\dagger} \\psi_{+K,-,↓,κ_1}\\right)\\right)}{2}$"
      ],
      "text/plain": [
       "exp(-2*I*\\theta_{κ_1})*(-v_F*Dagger(\\psi_{-K,+,↑,κ_1})*\\psi_{-K,+,↑,κ_1} - v_F*Dagger(\\psi_{-K,+,↑,κ_1})*\\psi_{-K,-,↑,κ_1} - v_F*Dagger(\\psi_{-K,+,↓,κ_1})*\\psi_{-K,+,↓,κ_1} - v_F*Dagger(\\psi_{-K,+,↓,κ_1})*\\psi_{-K,-,↓,κ_1} + v_F*Dagger(\\psi_{-K,-,↑,κ_1})*\\psi_{-K,+,↑,κ_1} + v_F*Dagger(\\psi_{-K,-,↑,κ_1})*\\psi_{-K,-,↑,κ_1} + v_F*Dagger(\\psi_{-K,-,↓,κ_1})*\\psi_{-K,+,↓,κ_1} + v_F*Dagger(\\psi_{-K,-,↓,κ_1})*\\psi_{-K,-,↓,κ_1} + exp(2*I*\\theta_{κ_1})*(2*B*Dagger(\\psi_{+K,+,↑,κ_1})*\\psi_{+K,+,↑,κ_1} - 2*B*Dagger(\\psi_{+K,+,↓,κ_1})*\\psi_{+K,+,↓,κ_1} + 2*B*Dagger(\\psi_{+K,-,↑,κ_1})*\\psi_{+K,-,↑,κ_1} - 2*B*Dagger(\\psi_{+K,-,↓,κ_1})*\\psi_{+K,-,↓,κ_1} + 2*B*Dagger(\\psi_{-K,+,↑,κ_1})*\\psi_{-K,+,↑,κ_1} - 2*B*Dagger(\\psi_{-K,+,↓,κ_1})*\\psi_{-K,+,↓,κ_1} + 2*B*Dagger(\\psi_{-K,-,↑,κ_1})*\\psi_{-K,-,↑,κ_1} - 2*B*Dagger(\\psi_{-K,-,↓,κ_1})*\\psi_{-K,-,↓,κ_1} - v_F*exp(2*I*\\theta_{κ_1})*Dagger(\\psi_{-K,+,↑,κ_1})*\\psi_{-K,+,↑,κ_1} + v_F*exp(2*I*\\theta_{κ_1})*Dagger(\\psi_{-K,+,↑,κ_1})*\\psi_{-K,-,↑,κ_1} - v_F*exp(2*I*\\theta_{κ_1})*Dagger(\\psi_{-K,+,↓,κ_1})*\\psi_{-K,+,↓,κ_1} + v_F*exp(2*I*\\theta_{κ_1})*Dagger(\\psi_{-K,+,↓,κ_1})*\\psi_{-K,-,↓,κ_1} - v_F*exp(2*I*\\theta_{κ_1})*Dagger(\\psi_{-K,-,↑,κ_1})*\\psi_{-K,+,↑,κ_1} + v_F*exp(2*I*\\theta_{κ_1})*Dagger(\\psi_{-K,-,↑,κ_1})*\\psi_{-K,-,↑,κ_1} - v_F*exp(2*I*\\theta_{κ_1})*Dagger(\\psi_{-K,-,↓,κ_1})*\\psi_{-K,+,↓,κ_1} + v_F*exp(2*I*\\theta_{κ_1})*Dagger(\\psi_{-K,-,↓,κ_1})*\\psi_{-K,-,↓,κ_1} + 2*v_F*Dagger(\\psi_{+K,+,↑,κ_1})*\\psi_{+K,+,↑,κ_1} + 2*v_F*Dagger(\\psi_{+K,+,↓,κ_1})*\\psi_{+K,+,↓,κ_1} - 2*v_F*Dagger(\\psi_{+K,-,↑,κ_1})*\\psi_{+K,-,↑,κ_1} - 2*v_F*Dagger(\\psi_{+K,-,↓,κ_1})*\\psi_{+K,-,↓,κ_1}))/2"
      ]
     },
     "execution_count": 35,
     "metadata": {},
     "output_type": "execute_result"
    }
   ],
   "source": [
    "H_0.subs(rules_psi2psil).rewrite(exp).expand().simplify()"
   ]
  },
  {
   "attachments": {},
   "cell_type": "markdown",
   "metadata": {},
   "source": [
    "# $H_{10}$"
   ]
  },
  {
   "cell_type": "code",
   "execution_count": 20,
   "metadata": {},
   "outputs": [],
   "source": [
    "valley_pairing=[(k1,k2,k3,k4) for k1 in '-+' for k2 in '-+' for k3 in '-+' for k4 in '-+' if (K_idx[k1]-K_idx[k2]+K_idx[k3]-K_idx[k4])%1 == Matrix([0,0])]"
   ]
  },
  {
   "cell_type": "code",
   "execution_count": 21,
   "metadata": {},
   "outputs": [
    {
     "data": {
      "text/plain": [
       "[('-', '-', '-', '-'),\n",
       " ('-', '-', '+', '+'),\n",
       " ('-', '+', '+', '-'),\n",
       " ('+', '-', '-', '+'),\n",
       " ('+', '+', '-', '-'),\n",
       " ('+', '+', '+', '+')]"
      ]
     },
     "execution_count": 21,
     "metadata": {},
     "output_type": "execute_result"
    }
   ],
   "source": [
    "valley_pairing"
   ]
  },
  {
   "cell_type": "code",
   "execution_count": 22,
   "metadata": {},
   "outputs": [],
   "source": [
    "H10=sum([Dagger(c[\"\".join([k1,l,'u','1'])]) * c[\"\".join([k2,l,'u','2'])] * Dagger(c[\"\".join([k3,l,'d','3'])]) * c[\"\".join([k4,l,'d','4'])] for k1,k2,k3,k4 in valley_pairing for l in 'AB'])"
   ]
  },
  {
   "attachments": {},
   "cell_type": "markdown",
   "metadata": {},
   "source": [
    "1. keep only  $-\\uparrow$ and $+\\downarrow$\n",
    "2. expand Wick\n",
    "3. substitute order parameter, with inter & intra"
   ]
  },
  {
   "cell_type": "code",
   "execution_count": 110,
   "metadata": {},
   "outputs": [],
   "source": [
    "# rules_proj=[(psi[\"\".join([idx,k])],0) for k in '1234' for idx in ['++u','+-d','--u','-+d']]\n",
    "# rules_proj=[(psi[\"\".join([λ,s,k])],0) for λ in '+-' for k in '1234' for s in ['+u','-d']]\n",
    "rules_proj=[(c[\"\".join([λ,s,k])],0) for λ in '+-' for k in '1234' for s in ['+u','-d']]\n",
    "rules_proj_3=[(c[\"\".join([λ,s,k])],0) for λ in '+-' for k in '1234' for s in ['+u','-d','+d']]\n",
    "rules_proj_1=[(c[\"\".join([λ,s,k])],0) for λ in '+-' for k in '1234' for s in ['+u']]"
   ]
  },
  {
   "cell_type": "code",
   "execution_count": 25,
   "metadata": {},
   "outputs": [],
   "source": [
    "# H10_pm=H10.subs(rules_c2psi).subs(rules_psi2psil).expand()\n",
    "H10_pm=H10.subs(rules_c2cl).expand()"
   ]
  },
  {
   "cell_type": "code",
   "execution_count": 26,
   "metadata": {},
   "outputs": [
    {
     "data": {
      "text/latex": [
       "$\\displaystyle \\frac{e^{i \\theta_{κ_2}} e^{- i \\theta_{κ_3}} c_{+K,+,↑,κ_1}^{\\dagger} c_{-K,+,↑,κ_2} c_{-K,+,↓,κ_3}^{\\dagger} c_{+K,+,↓,κ_4}}{4} + \\frac{e^{i \\theta_{κ_2}} e^{- i \\theta_{κ_3}} c_{+K,+,↑,κ_1}^{\\dagger} c_{-K,+,↑,κ_2} c_{-K,+,↓,κ_3}^{\\dagger} c_{+K,-,↓,κ_4}}{4} - \\frac{e^{i \\theta_{κ_2}} e^{- i \\theta_{κ_3}} c_{+K,+,↑,κ_1}^{\\dagger} c_{-K,+,↑,κ_2} c_{-K,-,↓,κ_3}^{\\dagger} c_{+K,+,↓,κ_4}}{4} - \\frac{e^{i \\theta_{κ_2}} e^{- i \\theta_{κ_3}} c_{+K,+,↑,κ_1}^{\\dagger} c_{-K,+,↑,κ_2} c_{-K,-,↓,κ_3}^{\\dagger} c_{+K,-,↓,κ_4}}{4} - \\frac{e^{i \\theta_{κ_2}} e^{- i \\theta_{κ_3}} c_{+K,+,↑,κ_1}^{\\dagger} c_{-K,-,↑,κ_2} c_{-K,+,↓,κ_3}^{\\dagger} c_{+K,+,↓,κ_4}}{4} - \\frac{e^{i \\theta_{κ_2}} e^{- i \\theta_{κ_3}} c_{+K,+,↑,κ_1}^{\\dagger} c_{-K,-,↑,κ_2} c_{-K,+,↓,κ_3}^{\\dagger} c_{+K,-,↓,κ_4}}{4} + \\frac{e^{i \\theta_{κ_2}} e^{- i \\theta_{κ_3}} c_{+K,+,↑,κ_1}^{\\dagger} c_{-K,-,↑,κ_2} c_{-K,-,↓,κ_3}^{\\dagger} c_{+K,+,↓,κ_4}}{4} + \\frac{e^{i \\theta_{κ_2}} e^{- i \\theta_{κ_3}} c_{+K,+,↑,κ_1}^{\\dagger} c_{-K,-,↑,κ_2} c_{-K,-,↓,κ_3}^{\\dagger} c_{+K,-,↓,κ_4}}{4} + \\frac{e^{i \\theta_{κ_2}} e^{- i \\theta_{κ_3}} c_{+K,-,↑,κ_1}^{\\dagger} c_{-K,+,↑,κ_2} c_{-K,+,↓,κ_3}^{\\dagger} c_{+K,+,↓,κ_4}}{4} + \\frac{e^{i \\theta_{κ_2}} e^{- i \\theta_{κ_3}} c_{+K,-,↑,κ_1}^{\\dagger} c_{-K,+,↑,κ_2} c_{-K,+,↓,κ_3}^{\\dagger} c_{+K,-,↓,κ_4}}{4} - \\frac{e^{i \\theta_{κ_2}} e^{- i \\theta_{κ_3}} c_{+K,-,↑,κ_1}^{\\dagger} c_{-K,+,↑,κ_2} c_{-K,-,↓,κ_3}^{\\dagger} c_{+K,+,↓,κ_4}}{4} - \\frac{e^{i \\theta_{κ_2}} e^{- i \\theta_{κ_3}} c_{+K,-,↑,κ_1}^{\\dagger} c_{-K,+,↑,κ_2} c_{-K,-,↓,κ_3}^{\\dagger} c_{+K,-,↓,κ_4}}{4} - \\frac{e^{i \\theta_{κ_2}} e^{- i \\theta_{κ_3}} c_{+K,-,↑,κ_1}^{\\dagger} c_{-K,-,↑,κ_2} c_{-K,+,↓,κ_3}^{\\dagger} c_{+K,+,↓,κ_4}}{4} - \\frac{e^{i \\theta_{κ_2}} e^{- i \\theta_{κ_3}} c_{+K,-,↑,κ_1}^{\\dagger} c_{-K,-,↑,κ_2} c_{-K,+,↓,κ_3}^{\\dagger} c_{+K,-,↓,κ_4}}{4} + \\frac{e^{i \\theta_{κ_2}} e^{- i \\theta_{κ_3}} c_{+K,-,↑,κ_1}^{\\dagger} c_{-K,-,↑,κ_2} c_{-K,-,↓,κ_3}^{\\dagger} c_{+K,+,↓,κ_4}}{4} + \\frac{e^{i \\theta_{κ_2}} e^{- i \\theta_{κ_3}} c_{+K,-,↑,κ_1}^{\\dagger} c_{-K,-,↑,κ_2} c_{-K,-,↓,κ_3}^{\\dagger} c_{+K,-,↓,κ_4}}{4} + \\frac{e^{i \\theta_{κ_2}} e^{- i \\theta_{κ_3}} c_{-K,+,↑,κ_1}^{\\dagger} c_{+K,+,↑,κ_2} c_{+K,+,↓,κ_3}^{\\dagger} c_{-K,+,↓,κ_4}}{4} + \\frac{e^{i \\theta_{κ_2}} e^{- i \\theta_{κ_3}} c_{-K,+,↑,κ_1}^{\\dagger} c_{+K,+,↑,κ_2} c_{+K,+,↓,κ_3}^{\\dagger} c_{-K,-,↓,κ_4}}{4} - \\frac{e^{i \\theta_{κ_2}} e^{- i \\theta_{κ_3}} c_{-K,+,↑,κ_1}^{\\dagger} c_{+K,+,↑,κ_2} c_{+K,-,↓,κ_3}^{\\dagger} c_{-K,+,↓,κ_4}}{4} - \\frac{e^{i \\theta_{κ_2}} e^{- i \\theta_{κ_3}} c_{-K,+,↑,κ_1}^{\\dagger} c_{+K,+,↑,κ_2} c_{+K,-,↓,κ_3}^{\\dagger} c_{-K,-,↓,κ_4}}{4} - \\frac{e^{i \\theta_{κ_2}} e^{- i \\theta_{κ_3}} c_{-K,+,↑,κ_1}^{\\dagger} c_{+K,-,↑,κ_2} c_{+K,+,↓,κ_3}^{\\dagger} c_{-K,+,↓,κ_4}}{4} - \\frac{e^{i \\theta_{κ_2}} e^{- i \\theta_{κ_3}} c_{-K,+,↑,κ_1}^{\\dagger} c_{+K,-,↑,κ_2} c_{+K,+,↓,κ_3}^{\\dagger} c_{-K,-,↓,κ_4}}{4} + \\frac{e^{i \\theta_{κ_2}} e^{- i \\theta_{κ_3}} c_{-K,+,↑,κ_1}^{\\dagger} c_{+K,-,↑,κ_2} c_{+K,-,↓,κ_3}^{\\dagger} c_{-K,+,↓,κ_4}}{4} + \\frac{e^{i \\theta_{κ_2}} e^{- i \\theta_{κ_3}} c_{-K,+,↑,κ_1}^{\\dagger} c_{+K,-,↑,κ_2} c_{+K,-,↓,κ_3}^{\\dagger} c_{-K,-,↓,κ_4}}{4} + \\frac{e^{i \\theta_{κ_2}} e^{- i \\theta_{κ_3}} c_{-K,-,↑,κ_1}^{\\dagger} c_{+K,+,↑,κ_2} c_{+K,+,↓,κ_3}^{\\dagger} c_{-K,+,↓,κ_4}}{4} + \\frac{e^{i \\theta_{κ_2}} e^{- i \\theta_{κ_3}} c_{-K,-,↑,κ_1}^{\\dagger} c_{+K,+,↑,κ_2} c_{+K,+,↓,κ_3}^{\\dagger} c_{-K,-,↓,κ_4}}{4} - \\frac{e^{i \\theta_{κ_2}} e^{- i \\theta_{κ_3}} c_{-K,-,↑,κ_1}^{\\dagger} c_{+K,+,↑,κ_2} c_{+K,-,↓,κ_3}^{\\dagger} c_{-K,+,↓,κ_4}}{4} - \\frac{e^{i \\theta_{κ_2}} e^{- i \\theta_{κ_3}} c_{-K,-,↑,κ_1}^{\\dagger} c_{+K,+,↑,κ_2} c_{+K,-,↓,κ_3}^{\\dagger} c_{-K,-,↓,κ_4}}{4} - \\frac{e^{i \\theta_{κ_2}} e^{- i \\theta_{κ_3}} c_{-K,-,↑,κ_1}^{\\dagger} c_{+K,-,↑,κ_2} c_{+K,+,↓,κ_3}^{\\dagger} c_{-K,+,↓,κ_4}}{4} - \\frac{e^{i \\theta_{κ_2}} e^{- i \\theta_{κ_3}} c_{-K,-,↑,κ_1}^{\\dagger} c_{+K,-,↑,κ_2} c_{+K,+,↓,κ_3}^{\\dagger} c_{-K,-,↓,κ_4}}{4} + \\frac{e^{i \\theta_{κ_2}} e^{- i \\theta_{κ_3}} c_{-K,-,↑,κ_1}^{\\dagger} c_{+K,-,↑,κ_2} c_{+K,-,↓,κ_3}^{\\dagger} c_{-K,+,↓,κ_4}}{4} + \\frac{e^{i \\theta_{κ_2}} e^{- i \\theta_{κ_3}} c_{-K,-,↑,κ_1}^{\\dagger} c_{+K,-,↑,κ_2} c_{+K,-,↓,κ_3}^{\\dagger} c_{-K,-,↓,κ_4}}{4} + \\frac{c_{+K,+,↑,κ_1}^{\\dagger} c_{+K,+,↑,κ_2} c_{+K,+,↓,κ_3}^{\\dagger} c_{+K,+,↓,κ_4}}{4} + \\frac{c_{+K,+,↑,κ_1}^{\\dagger} c_{+K,+,↑,κ_2} c_{+K,+,↓,κ_3}^{\\dagger} c_{+K,-,↓,κ_4}}{4} + \\frac{c_{+K,+,↑,κ_1}^{\\dagger} c_{+K,+,↑,κ_2} c_{+K,-,↓,κ_3}^{\\dagger} c_{+K,+,↓,κ_4}}{4} + \\frac{c_{+K,+,↑,κ_1}^{\\dagger} c_{+K,+,↑,κ_2} c_{+K,-,↓,κ_3}^{\\dagger} c_{+K,-,↓,κ_4}}{4} + \\frac{c_{+K,+,↑,κ_1}^{\\dagger} c_{+K,-,↑,κ_2} c_{+K,+,↓,κ_3}^{\\dagger} c_{+K,+,↓,κ_4}}{4} + \\frac{c_{+K,+,↑,κ_1}^{\\dagger} c_{+K,-,↑,κ_2} c_{+K,+,↓,κ_3}^{\\dagger} c_{+K,-,↓,κ_4}}{4} + \\frac{c_{+K,+,↑,κ_1}^{\\dagger} c_{+K,-,↑,κ_2} c_{+K,-,↓,κ_3}^{\\dagger} c_{+K,+,↓,κ_4}}{4} + \\frac{c_{+K,+,↑,κ_1}^{\\dagger} c_{+K,-,↑,κ_2} c_{+K,-,↓,κ_3}^{\\dagger} c_{+K,-,↓,κ_4}}{4} + \\frac{c_{+K,-,↑,κ_1}^{\\dagger} c_{+K,+,↑,κ_2} c_{+K,+,↓,κ_3}^{\\dagger} c_{+K,+,↓,κ_4}}{4} + \\frac{c_{+K,-,↑,κ_1}^{\\dagger} c_{+K,+,↑,κ_2} c_{+K,+,↓,κ_3}^{\\dagger} c_{+K,-,↓,κ_4}}{4} + \\frac{c_{+K,-,↑,κ_1}^{\\dagger} c_{+K,+,↑,κ_2} c_{+K,-,↓,κ_3}^{\\dagger} c_{+K,+,↓,κ_4}}{4} + \\frac{c_{+K,-,↑,κ_1}^{\\dagger} c_{+K,+,↑,κ_2} c_{+K,-,↓,κ_3}^{\\dagger} c_{+K,-,↓,κ_4}}{4} + \\frac{c_{+K,-,↑,κ_1}^{\\dagger} c_{+K,-,↑,κ_2} c_{+K,+,↓,κ_3}^{\\dagger} c_{+K,+,↓,κ_4}}{4} + \\frac{c_{+K,-,↑,κ_1}^{\\dagger} c_{+K,-,↑,κ_2} c_{+K,+,↓,κ_3}^{\\dagger} c_{+K,-,↓,κ_4}}{4} + \\frac{c_{+K,-,↑,κ_1}^{\\dagger} c_{+K,-,↑,κ_2} c_{+K,-,↓,κ_3}^{\\dagger} c_{+K,+,↓,κ_4}}{4} + \\frac{c_{+K,-,↑,κ_1}^{\\dagger} c_{+K,-,↑,κ_2} c_{+K,-,↓,κ_3}^{\\dagger} c_{+K,-,↓,κ_4}}{4} + \\frac{c_{-K,+,↑,κ_1}^{\\dagger} c_{-K,+,↑,κ_2} c_{-K,+,↓,κ_3}^{\\dagger} c_{-K,+,↓,κ_4}}{4} + \\frac{c_{-K,+,↑,κ_1}^{\\dagger} c_{-K,+,↑,κ_2} c_{-K,+,↓,κ_3}^{\\dagger} c_{-K,-,↓,κ_4}}{4} + \\frac{c_{-K,+,↑,κ_1}^{\\dagger} c_{-K,+,↑,κ_2} c_{-K,-,↓,κ_3}^{\\dagger} c_{-K,+,↓,κ_4}}{4} + \\frac{c_{-K,+,↑,κ_1}^{\\dagger} c_{-K,+,↑,κ_2} c_{-K,-,↓,κ_3}^{\\dagger} c_{-K,-,↓,κ_4}}{4} + \\frac{c_{-K,+,↑,κ_1}^{\\dagger} c_{-K,-,↑,κ_2} c_{-K,+,↓,κ_3}^{\\dagger} c_{-K,+,↓,κ_4}}{4} + \\frac{c_{-K,+,↑,κ_1}^{\\dagger} c_{-K,-,↑,κ_2} c_{-K,+,↓,κ_3}^{\\dagger} c_{-K,-,↓,κ_4}}{4} + \\frac{c_{-K,+,↑,κ_1}^{\\dagger} c_{-K,-,↑,κ_2} c_{-K,-,↓,κ_3}^{\\dagger} c_{-K,+,↓,κ_4}}{4} + \\frac{c_{-K,+,↑,κ_1}^{\\dagger} c_{-K,-,↑,κ_2} c_{-K,-,↓,κ_3}^{\\dagger} c_{-K,-,↓,κ_4}}{4} + \\frac{c_{-K,-,↑,κ_1}^{\\dagger} c_{-K,+,↑,κ_2} c_{-K,+,↓,κ_3}^{\\dagger} c_{-K,+,↓,κ_4}}{4} + \\frac{c_{-K,-,↑,κ_1}^{\\dagger} c_{-K,+,↑,κ_2} c_{-K,+,↓,κ_3}^{\\dagger} c_{-K,-,↓,κ_4}}{4} + \\frac{c_{-K,-,↑,κ_1}^{\\dagger} c_{-K,+,↑,κ_2} c_{-K,-,↓,κ_3}^{\\dagger} c_{-K,+,↓,κ_4}}{4} + \\frac{c_{-K,-,↑,κ_1}^{\\dagger} c_{-K,+,↑,κ_2} c_{-K,-,↓,κ_3}^{\\dagger} c_{-K,-,↓,κ_4}}{4} + \\frac{c_{-K,-,↑,κ_1}^{\\dagger} c_{-K,-,↑,κ_2} c_{-K,+,↓,κ_3}^{\\dagger} c_{-K,+,↓,κ_4}}{4} + \\frac{c_{-K,-,↑,κ_1}^{\\dagger} c_{-K,-,↑,κ_2} c_{-K,+,↓,κ_3}^{\\dagger} c_{-K,-,↓,κ_4}}{4} + \\frac{c_{-K,-,↑,κ_1}^{\\dagger} c_{-K,-,↑,κ_2} c_{-K,-,↓,κ_3}^{\\dagger} c_{-K,+,↓,κ_4}}{4} + \\frac{c_{-K,-,↑,κ_1}^{\\dagger} c_{-K,-,↑,κ_2} c_{-K,-,↓,κ_3}^{\\dagger} c_{-K,-,↓,κ_4}}{4} + \\frac{e^{- i \\theta_{κ_3}} e^{i \\theta_{κ_4}} c_{+K,+,↑,κ_1}^{\\dagger} c_{+K,+,↑,κ_2} c_{-K,+,↓,κ_3}^{\\dagger} c_{-K,+,↓,κ_4}}{4} - \\frac{e^{- i \\theta_{κ_3}} e^{i \\theta_{κ_4}} c_{+K,+,↑,κ_1}^{\\dagger} c_{+K,+,↑,κ_2} c_{-K,+,↓,κ_3}^{\\dagger} c_{-K,-,↓,κ_4}}{4} - \\frac{e^{- i \\theta_{κ_3}} e^{i \\theta_{κ_4}} c_{+K,+,↑,κ_1}^{\\dagger} c_{+K,+,↑,κ_2} c_{-K,-,↓,κ_3}^{\\dagger} c_{-K,+,↓,κ_4}}{4} + \\frac{e^{- i \\theta_{κ_3}} e^{i \\theta_{κ_4}} c_{+K,+,↑,κ_1}^{\\dagger} c_{+K,+,↑,κ_2} c_{-K,-,↓,κ_3}^{\\dagger} c_{-K,-,↓,κ_4}}{4} + \\frac{e^{- i \\theta_{κ_3}} e^{i \\theta_{κ_4}} c_{+K,+,↑,κ_1}^{\\dagger} c_{+K,-,↑,κ_2} c_{-K,+,↓,κ_3}^{\\dagger} c_{-K,+,↓,κ_4}}{4} - \\frac{e^{- i \\theta_{κ_3}} e^{i \\theta_{κ_4}} c_{+K,+,↑,κ_1}^{\\dagger} c_{+K,-,↑,κ_2} c_{-K,+,↓,κ_3}^{\\dagger} c_{-K,-,↓,κ_4}}{4} - \\frac{e^{- i \\theta_{κ_3}} e^{i \\theta_{κ_4}} c_{+K,+,↑,κ_1}^{\\dagger} c_{+K,-,↑,κ_2} c_{-K,-,↓,κ_3}^{\\dagger} c_{-K,+,↓,κ_4}}{4} + \\frac{e^{- i \\theta_{κ_3}} e^{i \\theta_{κ_4}} c_{+K,+,↑,κ_1}^{\\dagger} c_{+K,-,↑,κ_2} c_{-K,-,↓,κ_3}^{\\dagger} c_{-K,-,↓,κ_4}}{4} + \\frac{e^{- i \\theta_{κ_3}} e^{i \\theta_{κ_4}} c_{+K,-,↑,κ_1}^{\\dagger} c_{+K,+,↑,κ_2} c_{-K,+,↓,κ_3}^{\\dagger} c_{-K,+,↓,κ_4}}{4} - \\frac{e^{- i \\theta_{κ_3}} e^{i \\theta_{κ_4}} c_{+K,-,↑,κ_1}^{\\dagger} c_{+K,+,↑,κ_2} c_{-K,+,↓,κ_3}^{\\dagger} c_{-K,-,↓,κ_4}}{4} - \\frac{e^{- i \\theta_{κ_3}} e^{i \\theta_{κ_4}} c_{+K,-,↑,κ_1}^{\\dagger} c_{+K,+,↑,κ_2} c_{-K,-,↓,κ_3}^{\\dagger} c_{-K,+,↓,κ_4}}{4} + \\frac{e^{- i \\theta_{κ_3}} e^{i \\theta_{κ_4}} c_{+K,-,↑,κ_1}^{\\dagger} c_{+K,+,↑,κ_2} c_{-K,-,↓,κ_3}^{\\dagger} c_{-K,-,↓,κ_4}}{4} + \\frac{e^{- i \\theta_{κ_3}} e^{i \\theta_{κ_4}} c_{+K,-,↑,κ_1}^{\\dagger} c_{+K,-,↑,κ_2} c_{-K,+,↓,κ_3}^{\\dagger} c_{-K,+,↓,κ_4}}{4} - \\frac{e^{- i \\theta_{κ_3}} e^{i \\theta_{κ_4}} c_{+K,-,↑,κ_1}^{\\dagger} c_{+K,-,↑,κ_2} c_{-K,+,↓,κ_3}^{\\dagger} c_{-K,-,↓,κ_4}}{4} - \\frac{e^{- i \\theta_{κ_3}} e^{i \\theta_{κ_4}} c_{+K,-,↑,κ_1}^{\\dagger} c_{+K,-,↑,κ_2} c_{-K,-,↓,κ_3}^{\\dagger} c_{-K,+,↓,κ_4}}{4} + \\frac{e^{- i \\theta_{κ_3}} e^{i \\theta_{κ_4}} c_{+K,-,↑,κ_1}^{\\dagger} c_{+K,-,↑,κ_2} c_{-K,-,↓,κ_3}^{\\dagger} c_{-K,-,↓,κ_4}}{4} + \\frac{e^{- i \\theta_{κ_3}} e^{i \\theta_{κ_4}} c_{-K,+,↑,κ_1}^{\\dagger} c_{-K,+,↑,κ_2} c_{+K,+,↓,κ_3}^{\\dagger} c_{+K,+,↓,κ_4}}{4} - \\frac{e^{- i \\theta_{κ_3}} e^{i \\theta_{κ_4}} c_{-K,+,↑,κ_1}^{\\dagger} c_{-K,+,↑,κ_2} c_{+K,+,↓,κ_3}^{\\dagger} c_{+K,-,↓,κ_4}}{4} - \\frac{e^{- i \\theta_{κ_3}} e^{i \\theta_{κ_4}} c_{-K,+,↑,κ_1}^{\\dagger} c_{-K,+,↑,κ_2} c_{+K,-,↓,κ_3}^{\\dagger} c_{+K,+,↓,κ_4}}{4} + \\frac{e^{- i \\theta_{κ_3}} e^{i \\theta_{κ_4}} c_{-K,+,↑,κ_1}^{\\dagger} c_{-K,+,↑,κ_2} c_{+K,-,↓,κ_3}^{\\dagger} c_{+K,-,↓,κ_4}}{4} + \\frac{e^{- i \\theta_{κ_3}} e^{i \\theta_{κ_4}} c_{-K,+,↑,κ_1}^{\\dagger} c_{-K,-,↑,κ_2} c_{+K,+,↓,κ_3}^{\\dagger} c_{+K,+,↓,κ_4}}{4} - \\frac{e^{- i \\theta_{κ_3}} e^{i \\theta_{κ_4}} c_{-K,+,↑,κ_1}^{\\dagger} c_{-K,-,↑,κ_2} c_{+K,+,↓,κ_3}^{\\dagger} c_{+K,-,↓,κ_4}}{4} - \\frac{e^{- i \\theta_{κ_3}} e^{i \\theta_{κ_4}} c_{-K,+,↑,κ_1}^{\\dagger} c_{-K,-,↑,κ_2} c_{+K,-,↓,κ_3}^{\\dagger} c_{+K,+,↓,κ_4}}{4} + \\frac{e^{- i \\theta_{κ_3}} e^{i \\theta_{κ_4}} c_{-K,+,↑,κ_1}^{\\dagger} c_{-K,-,↑,κ_2} c_{+K,-,↓,κ_3}^{\\dagger} c_{+K,-,↓,κ_4}}{4} + \\frac{e^{- i \\theta_{κ_3}} e^{i \\theta_{κ_4}} c_{-K,-,↑,κ_1}^{\\dagger} c_{-K,+,↑,κ_2} c_{+K,+,↓,κ_3}^{\\dagger} c_{+K,+,↓,κ_4}}{4} - \\frac{e^{- i \\theta_{κ_3}} e^{i \\theta_{κ_4}} c_{-K,-,↑,κ_1}^{\\dagger} c_{-K,+,↑,κ_2} c_{+K,+,↓,κ_3}^{\\dagger} c_{+K,-,↓,κ_4}}{4} - \\frac{e^{- i \\theta_{κ_3}} e^{i \\theta_{κ_4}} c_{-K,-,↑,κ_1}^{\\dagger} c_{-K,+,↑,κ_2} c_{+K,-,↓,κ_3}^{\\dagger} c_{+K,+,↓,κ_4}}{4} + \\frac{e^{- i \\theta_{κ_3}} e^{i \\theta_{κ_4}} c_{-K,-,↑,κ_1}^{\\dagger} c_{-K,+,↑,κ_2} c_{+K,-,↓,κ_3}^{\\dagger} c_{+K,-,↓,κ_4}}{4} + \\frac{e^{- i \\theta_{κ_3}} e^{i \\theta_{κ_4}} c_{-K,-,↑,κ_1}^{\\dagger} c_{-K,-,↑,κ_2} c_{+K,+,↓,κ_3}^{\\dagger} c_{+K,+,↓,κ_4}}{4} - \\frac{e^{- i \\theta_{κ_3}} e^{i \\theta_{κ_4}} c_{-K,-,↑,κ_1}^{\\dagger} c_{-K,-,↑,κ_2} c_{+K,+,↓,κ_3}^{\\dagger} c_{+K,-,↓,κ_4}}{4} - \\frac{e^{- i \\theta_{κ_3}} e^{i \\theta_{κ_4}} c_{-K,-,↑,κ_1}^{\\dagger} c_{-K,-,↑,κ_2} c_{+K,-,↓,κ_3}^{\\dagger} c_{+K,+,↓,κ_4}}{4} + \\frac{e^{- i \\theta_{κ_3}} e^{i \\theta_{κ_4}} c_{-K,-,↑,κ_1}^{\\dagger} c_{-K,-,↑,κ_2} c_{+K,-,↓,κ_3}^{\\dagger} c_{+K,-,↓,κ_4}}{4} + \\frac{e^{- i \\theta_{κ_1}} e^{i \\theta_{κ_2}} c_{+K,+,↑,κ_1}^{\\dagger} c_{+K,+,↑,κ_2} c_{-K,+,↓,κ_3}^{\\dagger} c_{-K,+,↓,κ_4}}{4} + \\frac{e^{- i \\theta_{κ_1}} e^{i \\theta_{κ_2}} c_{+K,+,↑,κ_1}^{\\dagger} c_{+K,+,↑,κ_2} c_{-K,+,↓,κ_3}^{\\dagger} c_{-K,-,↓,κ_4}}{4} + \\frac{e^{- i \\theta_{κ_1}} e^{i \\theta_{κ_2}} c_{+K,+,↑,κ_1}^{\\dagger} c_{+K,+,↑,κ_2} c_{-K,-,↓,κ_3}^{\\dagger} c_{-K,+,↓,κ_4}}{4} + \\frac{e^{- i \\theta_{κ_1}} e^{i \\theta_{κ_2}} c_{+K,+,↑,κ_1}^{\\dagger} c_{+K,+,↑,κ_2} c_{-K,-,↓,κ_3}^{\\dagger} c_{-K,-,↓,κ_4}}{4} - \\frac{e^{- i \\theta_{κ_1}} e^{i \\theta_{κ_2}} c_{+K,+,↑,κ_1}^{\\dagger} c_{+K,-,↑,κ_2} c_{-K,+,↓,κ_3}^{\\dagger} c_{-K,+,↓,κ_4}}{4} - \\frac{e^{- i \\theta_{κ_1}} e^{i \\theta_{κ_2}} c_{+K,+,↑,κ_1}^{\\dagger} c_{+K,-,↑,κ_2} c_{-K,+,↓,κ_3}^{\\dagger} c_{-K,-,↓,κ_4}}{4} - \\frac{e^{- i \\theta_{κ_1}} e^{i \\theta_{κ_2}} c_{+K,+,↑,κ_1}^{\\dagger} c_{+K,-,↑,κ_2} c_{-K,-,↓,κ_3}^{\\dagger} c_{-K,+,↓,κ_4}}{4} - \\frac{e^{- i \\theta_{κ_1}} e^{i \\theta_{κ_2}} c_{+K,+,↑,κ_1}^{\\dagger} c_{+K,-,↑,κ_2} c_{-K,-,↓,κ_3}^{\\dagger} c_{-K,-,↓,κ_4}}{4} - \\frac{e^{- i \\theta_{κ_1}} e^{i \\theta_{κ_2}} c_{+K,-,↑,κ_1}^{\\dagger} c_{+K,+,↑,κ_2} c_{-K,+,↓,κ_3}^{\\dagger} c_{-K,+,↓,κ_4}}{4} - \\frac{e^{- i \\theta_{κ_1}} e^{i \\theta_{κ_2}} c_{+K,-,↑,κ_1}^{\\dagger} c_{+K,+,↑,κ_2} c_{-K,+,↓,κ_3}^{\\dagger} c_{-K,-,↓,κ_4}}{4} - \\frac{e^{- i \\theta_{κ_1}} e^{i \\theta_{κ_2}} c_{+K,-,↑,κ_1}^{\\dagger} c_{+K,+,↑,κ_2} c_{-K,-,↓,κ_3}^{\\dagger} c_{-K,+,↓,κ_4}}{4} - \\frac{e^{- i \\theta_{κ_1}} e^{i \\theta_{κ_2}} c_{+K,-,↑,κ_1}^{\\dagger} c_{+K,+,↑,κ_2} c_{-K,-,↓,κ_3}^{\\dagger} c_{-K,-,↓,κ_4}}{4} + \\frac{e^{- i \\theta_{κ_1}} e^{i \\theta_{κ_2}} c_{+K,-,↑,κ_1}^{\\dagger} c_{+K,-,↑,κ_2} c_{-K,+,↓,κ_3}^{\\dagger} c_{-K,+,↓,κ_4}}{4} + \\frac{e^{- i \\theta_{κ_1}} e^{i \\theta_{κ_2}} c_{+K,-,↑,κ_1}^{\\dagger} c_{+K,-,↑,κ_2} c_{-K,+,↓,κ_3}^{\\dagger} c_{-K,-,↓,κ_4}}{4} + \\frac{e^{- i \\theta_{κ_1}} e^{i \\theta_{κ_2}} c_{+K,-,↑,κ_1}^{\\dagger} c_{+K,-,↑,κ_2} c_{-K,-,↓,κ_3}^{\\dagger} c_{-K,+,↓,κ_4}}{4} + \\frac{e^{- i \\theta_{κ_1}} e^{i \\theta_{κ_2}} c_{+K,-,↑,κ_1}^{\\dagger} c_{+K,-,↑,κ_2} c_{-K,-,↓,κ_3}^{\\dagger} c_{-K,-,↓,κ_4}}{4} + \\frac{e^{- i \\theta_{κ_1}} e^{i \\theta_{κ_2}} c_{-K,+,↑,κ_1}^{\\dagger} c_{-K,+,↑,κ_2} c_{+K,+,↓,κ_3}^{\\dagger} c_{+K,+,↓,κ_4}}{4} + \\frac{e^{- i \\theta_{κ_1}} e^{i \\theta_{κ_2}} c_{-K,+,↑,κ_1}^{\\dagger} c_{-K,+,↑,κ_2} c_{+K,+,↓,κ_3}^{\\dagger} c_{+K,-,↓,κ_4}}{4} + \\frac{e^{- i \\theta_{κ_1}} e^{i \\theta_{κ_2}} c_{-K,+,↑,κ_1}^{\\dagger} c_{-K,+,↑,κ_2} c_{+K,-,↓,κ_3}^{\\dagger} c_{+K,+,↓,κ_4}}{4} + \\frac{e^{- i \\theta_{κ_1}} e^{i \\theta_{κ_2}} c_{-K,+,↑,κ_1}^{\\dagger} c_{-K,+,↑,κ_2} c_{+K,-,↓,κ_3}^{\\dagger} c_{+K,-,↓,κ_4}}{4} - \\frac{e^{- i \\theta_{κ_1}} e^{i \\theta_{κ_2}} c_{-K,+,↑,κ_1}^{\\dagger} c_{-K,-,↑,κ_2} c_{+K,+,↓,κ_3}^{\\dagger} c_{+K,+,↓,κ_4}}{4} - \\frac{e^{- i \\theta_{κ_1}} e^{i \\theta_{κ_2}} c_{-K,+,↑,κ_1}^{\\dagger} c_{-K,-,↑,κ_2} c_{+K,+,↓,κ_3}^{\\dagger} c_{+K,-,↓,κ_4}}{4} - \\frac{e^{- i \\theta_{κ_1}} e^{i \\theta_{κ_2}} c_{-K,+,↑,κ_1}^{\\dagger} c_{-K,-,↑,κ_2} c_{+K,-,↓,κ_3}^{\\dagger} c_{+K,+,↓,κ_4}}{4} - \\frac{e^{- i \\theta_{κ_1}} e^{i \\theta_{κ_2}} c_{-K,+,↑,κ_1}^{\\dagger} c_{-K,-,↑,κ_2} c_{+K,-,↓,κ_3}^{\\dagger} c_{+K,-,↓,κ_4}}{4} - \\frac{e^{- i \\theta_{κ_1}} e^{i \\theta_{κ_2}} c_{-K,-,↑,κ_1}^{\\dagger} c_{-K,+,↑,κ_2} c_{+K,+,↓,κ_3}^{\\dagger} c_{+K,+,↓,κ_4}}{4} - \\frac{e^{- i \\theta_{κ_1}} e^{i \\theta_{κ_2}} c_{-K,-,↑,κ_1}^{\\dagger} c_{-K,+,↑,κ_2} c_{+K,+,↓,κ_3}^{\\dagger} c_{+K,-,↓,κ_4}}{4} - \\frac{e^{- i \\theta_{κ_1}} e^{i \\theta_{κ_2}} c_{-K,-,↑,κ_1}^{\\dagger} c_{-K,+,↑,κ_2} c_{+K,-,↓,κ_3}^{\\dagger} c_{+K,+,↓,κ_4}}{4} - \\frac{e^{- i \\theta_{κ_1}} e^{i \\theta_{κ_2}} c_{-K,-,↑,κ_1}^{\\dagger} c_{-K,+,↑,κ_2} c_{+K,-,↓,κ_3}^{\\dagger} c_{+K,-,↓,κ_4}}{4} + \\frac{e^{- i \\theta_{κ_1}} e^{i \\theta_{κ_2}} c_{-K,-,↑,κ_1}^{\\dagger} c_{-K,-,↑,κ_2} c_{+K,+,↓,κ_3}^{\\dagger} c_{+K,+,↓,κ_4}}{4} + \\frac{e^{- i \\theta_{κ_1}} e^{i \\theta_{κ_2}} c_{-K,-,↑,κ_1}^{\\dagger} c_{-K,-,↑,κ_2} c_{+K,+,↓,κ_3}^{\\dagger} c_{+K,-,↓,κ_4}}{4} + \\frac{e^{- i \\theta_{κ_1}} e^{i \\theta_{κ_2}} c_{-K,-,↑,κ_1}^{\\dagger} c_{-K,-,↑,κ_2} c_{+K,-,↓,κ_3}^{\\dagger} c_{+K,+,↓,κ_4}}{4} + \\frac{e^{- i \\theta_{κ_1}} e^{i \\theta_{κ_2}} c_{-K,-,↑,κ_1}^{\\dagger} c_{-K,-,↑,κ_2} c_{+K,-,↓,κ_3}^{\\dagger} c_{+K,-,↓,κ_4}}{4} + \\frac{e^{- i \\theta_{κ_1}} e^{i \\theta_{κ_2}} e^{- i \\theta_{κ_3}} e^{i \\theta_{κ_4}} c_{+K,+,↑,κ_1}^{\\dagger} c_{+K,+,↑,κ_2} c_{+K,+,↓,κ_3}^{\\dagger} c_{+K,+,↓,κ_4}}{4} - \\frac{e^{- i \\theta_{κ_1}} e^{i \\theta_{κ_2}} e^{- i \\theta_{κ_3}} e^{i \\theta_{κ_4}} c_{+K,+,↑,κ_1}^{\\dagger} c_{+K,+,↑,κ_2} c_{+K,+,↓,κ_3}^{\\dagger} c_{+K,-,↓,κ_4}}{4} - \\frac{e^{- i \\theta_{κ_1}} e^{i \\theta_{κ_2}} e^{- i \\theta_{κ_3}} e^{i \\theta_{κ_4}} c_{+K,+,↑,κ_1}^{\\dagger} c_{+K,+,↑,κ_2} c_{+K,-,↓,κ_3}^{\\dagger} c_{+K,+,↓,κ_4}}{4} + \\frac{e^{- i \\theta_{κ_1}} e^{i \\theta_{κ_2}} e^{- i \\theta_{κ_3}} e^{i \\theta_{κ_4}} c_{+K,+,↑,κ_1}^{\\dagger} c_{+K,+,↑,κ_2} c_{+K,-,↓,κ_3}^{\\dagger} c_{+K,-,↓,κ_4}}{4} - \\frac{e^{- i \\theta_{κ_1}} e^{i \\theta_{κ_2}} e^{- i \\theta_{κ_3}} e^{i \\theta_{κ_4}} c_{+K,+,↑,κ_1}^{\\dagger} c_{+K,-,↑,κ_2} c_{+K,+,↓,κ_3}^{\\dagger} c_{+K,+,↓,κ_4}}{4} + \\frac{e^{- i \\theta_{κ_1}} e^{i \\theta_{κ_2}} e^{- i \\theta_{κ_3}} e^{i \\theta_{κ_4}} c_{+K,+,↑,κ_1}^{\\dagger} c_{+K,-,↑,κ_2} c_{+K,+,↓,κ_3}^{\\dagger} c_{+K,-,↓,κ_4}}{4} + \\frac{e^{- i \\theta_{κ_1}} e^{i \\theta_{κ_2}} e^{- i \\theta_{κ_3}} e^{i \\theta_{κ_4}} c_{+K,+,↑,κ_1}^{\\dagger} c_{+K,-,↑,κ_2} c_{+K,-,↓,κ_3}^{\\dagger} c_{+K,+,↓,κ_4}}{4} - \\frac{e^{- i \\theta_{κ_1}} e^{i \\theta_{κ_2}} e^{- i \\theta_{κ_3}} e^{i \\theta_{κ_4}} c_{+K,+,↑,κ_1}^{\\dagger} c_{+K,-,↑,κ_2} c_{+K,-,↓,κ_3}^{\\dagger} c_{+K,-,↓,κ_4}}{4} - \\frac{e^{- i \\theta_{κ_1}} e^{i \\theta_{κ_2}} e^{- i \\theta_{κ_3}} e^{i \\theta_{κ_4}} c_{+K,-,↑,κ_1}^{\\dagger} c_{+K,+,↑,κ_2} c_{+K,+,↓,κ_3}^{\\dagger} c_{+K,+,↓,κ_4}}{4} + \\frac{e^{- i \\theta_{κ_1}} e^{i \\theta_{κ_2}} e^{- i \\theta_{κ_3}} e^{i \\theta_{κ_4}} c_{+K,-,↑,κ_1}^{\\dagger} c_{+K,+,↑,κ_2} c_{+K,+,↓,κ_3}^{\\dagger} c_{+K,-,↓,κ_4}}{4} + \\frac{e^{- i \\theta_{κ_1}} e^{i \\theta_{κ_2}} e^{- i \\theta_{κ_3}} e^{i \\theta_{κ_4}} c_{+K,-,↑,κ_1}^{\\dagger} c_{+K,+,↑,κ_2} c_{+K,-,↓,κ_3}^{\\dagger} c_{+K,+,↓,κ_4}}{4} - \\frac{e^{- i \\theta_{κ_1}} e^{i \\theta_{κ_2}} e^{- i \\theta_{κ_3}} e^{i \\theta_{κ_4}} c_{+K,-,↑,κ_1}^{\\dagger} c_{+K,+,↑,κ_2} c_{+K,-,↓,κ_3}^{\\dagger} c_{+K,-,↓,κ_4}}{4} + \\frac{e^{- i \\theta_{κ_1}} e^{i \\theta_{κ_2}} e^{- i \\theta_{κ_3}} e^{i \\theta_{κ_4}} c_{+K,-,↑,κ_1}^{\\dagger} c_{+K,-,↑,κ_2} c_{+K,+,↓,κ_3}^{\\dagger} c_{+K,+,↓,κ_4}}{4} - \\frac{e^{- i \\theta_{κ_1}} e^{i \\theta_{κ_2}} e^{- i \\theta_{κ_3}} e^{i \\theta_{κ_4}} c_{+K,-,↑,κ_1}^{\\dagger} c_{+K,-,↑,κ_2} c_{+K,+,↓,κ_3}^{\\dagger} c_{+K,-,↓,κ_4}}{4} - \\frac{e^{- i \\theta_{κ_1}} e^{i \\theta_{κ_2}} e^{- i \\theta_{κ_3}} e^{i \\theta_{κ_4}} c_{+K,-,↑,κ_1}^{\\dagger} c_{+K,-,↑,κ_2} c_{+K,-,↓,κ_3}^{\\dagger} c_{+K,+,↓,κ_4}}{4} + \\frac{e^{- i \\theta_{κ_1}} e^{i \\theta_{κ_2}} e^{- i \\theta_{κ_3}} e^{i \\theta_{κ_4}} c_{+K,-,↑,κ_1}^{\\dagger} c_{+K,-,↑,κ_2} c_{+K,-,↓,κ_3}^{\\dagger} c_{+K,-,↓,κ_4}}{4} + \\frac{e^{- i \\theta_{κ_1}} e^{i \\theta_{κ_2}} e^{- i \\theta_{κ_3}} e^{i \\theta_{κ_4}} c_{-K,+,↑,κ_1}^{\\dagger} c_{-K,+,↑,κ_2} c_{-K,+,↓,κ_3}^{\\dagger} c_{-K,+,↓,κ_4}}{4} - \\frac{e^{- i \\theta_{κ_1}} e^{i \\theta_{κ_2}} e^{- i \\theta_{κ_3}} e^{i \\theta_{κ_4}} c_{-K,+,↑,κ_1}^{\\dagger} c_{-K,+,↑,κ_2} c_{-K,+,↓,κ_3}^{\\dagger} c_{-K,-,↓,κ_4}}{4} - \\frac{e^{- i \\theta_{κ_1}} e^{i \\theta_{κ_2}} e^{- i \\theta_{κ_3}} e^{i \\theta_{κ_4}} c_{-K,+,↑,κ_1}^{\\dagger} c_{-K,+,↑,κ_2} c_{-K,-,↓,κ_3}^{\\dagger} c_{-K,+,↓,κ_4}}{4} + \\frac{e^{- i \\theta_{κ_1}} e^{i \\theta_{κ_2}} e^{- i \\theta_{κ_3}} e^{i \\theta_{κ_4}} c_{-K,+,↑,κ_1}^{\\dagger} c_{-K,+,↑,κ_2} c_{-K,-,↓,κ_3}^{\\dagger} c_{-K,-,↓,κ_4}}{4} - \\frac{e^{- i \\theta_{κ_1}} e^{i \\theta_{κ_2}} e^{- i \\theta_{κ_3}} e^{i \\theta_{κ_4}} c_{-K,+,↑,κ_1}^{\\dagger} c_{-K,-,↑,κ_2} c_{-K,+,↓,κ_3}^{\\dagger} c_{-K,+,↓,κ_4}}{4} + \\frac{e^{- i \\theta_{κ_1}} e^{i \\theta_{κ_2}} e^{- i \\theta_{κ_3}} e^{i \\theta_{κ_4}} c_{-K,+,↑,κ_1}^{\\dagger} c_{-K,-,↑,κ_2} c_{-K,+,↓,κ_3}^{\\dagger} c_{-K,-,↓,κ_4}}{4} + \\frac{e^{- i \\theta_{κ_1}} e^{i \\theta_{κ_2}} e^{- i \\theta_{κ_3}} e^{i \\theta_{κ_4}} c_{-K,+,↑,κ_1}^{\\dagger} c_{-K,-,↑,κ_2} c_{-K,-,↓,κ_3}^{\\dagger} c_{-K,+,↓,κ_4}}{4} - \\frac{e^{- i \\theta_{κ_1}} e^{i \\theta_{κ_2}} e^{- i \\theta_{κ_3}} e^{i \\theta_{κ_4}} c_{-K,+,↑,κ_1}^{\\dagger} c_{-K,-,↑,κ_2} c_{-K,-,↓,κ_3}^{\\dagger} c_{-K,-,↓,κ_4}}{4} - \\frac{e^{- i \\theta_{κ_1}} e^{i \\theta_{κ_2}} e^{- i \\theta_{κ_3}} e^{i \\theta_{κ_4}} c_{-K,-,↑,κ_1}^{\\dagger} c_{-K,+,↑,κ_2} c_{-K,+,↓,κ_3}^{\\dagger} c_{-K,+,↓,κ_4}}{4} + \\frac{e^{- i \\theta_{κ_1}} e^{i \\theta_{κ_2}} e^{- i \\theta_{κ_3}} e^{i \\theta_{κ_4}} c_{-K,-,↑,κ_1}^{\\dagger} c_{-K,+,↑,κ_2} c_{-K,+,↓,κ_3}^{\\dagger} c_{-K,-,↓,κ_4}}{4} + \\frac{e^{- i \\theta_{κ_1}} e^{i \\theta_{κ_2}} e^{- i \\theta_{κ_3}} e^{i \\theta_{κ_4}} c_{-K,-,↑,κ_1}^{\\dagger} c_{-K,+,↑,κ_2} c_{-K,-,↓,κ_3}^{\\dagger} c_{-K,+,↓,κ_4}}{4} - \\frac{e^{- i \\theta_{κ_1}} e^{i \\theta_{κ_2}} e^{- i \\theta_{κ_3}} e^{i \\theta_{κ_4}} c_{-K,-,↑,κ_1}^{\\dagger} c_{-K,+,↑,κ_2} c_{-K,-,↓,κ_3}^{\\dagger} c_{-K,-,↓,κ_4}}{4} + \\frac{e^{- i \\theta_{κ_1}} e^{i \\theta_{κ_2}} e^{- i \\theta_{κ_3}} e^{i \\theta_{κ_4}} c_{-K,-,↑,κ_1}^{\\dagger} c_{-K,-,↑,κ_2} c_{-K,+,↓,κ_3}^{\\dagger} c_{-K,+,↓,κ_4}}{4} - \\frac{e^{- i \\theta_{κ_1}} e^{i \\theta_{κ_2}} e^{- i \\theta_{κ_3}} e^{i \\theta_{κ_4}} c_{-K,-,↑,κ_1}^{\\dagger} c_{-K,-,↑,κ_2} c_{-K,+,↓,κ_3}^{\\dagger} c_{-K,-,↓,κ_4}}{4} - \\frac{e^{- i \\theta_{κ_1}} e^{i \\theta_{κ_2}} e^{- i \\theta_{κ_3}} e^{i \\theta_{κ_4}} c_{-K,-,↑,κ_1}^{\\dagger} c_{-K,-,↑,κ_2} c_{-K,-,↓,κ_3}^{\\dagger} c_{-K,+,↓,κ_4}}{4} + \\frac{e^{- i \\theta_{κ_1}} e^{i \\theta_{κ_2}} e^{- i \\theta_{κ_3}} e^{i \\theta_{κ_4}} c_{-K,-,↑,κ_1}^{\\dagger} c_{-K,-,↑,κ_2} c_{-K,-,↓,κ_3}^{\\dagger} c_{-K,-,↓,κ_4}}{4} + \\frac{e^{- i \\theta_{κ_1}} e^{i \\theta_{κ_4}} c_{+K,+,↑,κ_1}^{\\dagger} c_{-K,+,↑,κ_2} c_{-K,+,↓,κ_3}^{\\dagger} c_{+K,+,↓,κ_4}}{4} - \\frac{e^{- i \\theta_{κ_1}} e^{i \\theta_{κ_4}} c_{+K,+,↑,κ_1}^{\\dagger} c_{-K,+,↑,κ_2} c_{-K,+,↓,κ_3}^{\\dagger} c_{+K,-,↓,κ_4}}{4} + \\frac{e^{- i \\theta_{κ_1}} e^{i \\theta_{κ_4}} c_{+K,+,↑,κ_1}^{\\dagger} c_{-K,+,↑,κ_2} c_{-K,-,↓,κ_3}^{\\dagger} c_{+K,+,↓,κ_4}}{4} - \\frac{e^{- i \\theta_{κ_1}} e^{i \\theta_{κ_4}} c_{+K,+,↑,κ_1}^{\\dagger} c_{-K,+,↑,κ_2} c_{-K,-,↓,κ_3}^{\\dagger} c_{+K,-,↓,κ_4}}{4} + \\frac{e^{- i \\theta_{κ_1}} e^{i \\theta_{κ_4}} c_{+K,+,↑,κ_1}^{\\dagger} c_{-K,-,↑,κ_2} c_{-K,+,↓,κ_3}^{\\dagger} c_{+K,+,↓,κ_4}}{4} - \\frac{e^{- i \\theta_{κ_1}} e^{i \\theta_{κ_4}} c_{+K,+,↑,κ_1}^{\\dagger} c_{-K,-,↑,κ_2} c_{-K,+,↓,κ_3}^{\\dagger} c_{+K,-,↓,κ_4}}{4} + \\frac{e^{- i \\theta_{κ_1}} e^{i \\theta_{κ_4}} c_{+K,+,↑,κ_1}^{\\dagger} c_{-K,-,↑,κ_2} c_{-K,-,↓,κ_3}^{\\dagger} c_{+K,+,↓,κ_4}}{4} - \\frac{e^{- i \\theta_{κ_1}} e^{i \\theta_{κ_4}} c_{+K,+,↑,κ_1}^{\\dagger} c_{-K,-,↑,κ_2} c_{-K,-,↓,κ_3}^{\\dagger} c_{+K,-,↓,κ_4}}{4} - \\frac{e^{- i \\theta_{κ_1}} e^{i \\theta_{κ_4}} c_{+K,-,↑,κ_1}^{\\dagger} c_{-K,+,↑,κ_2} c_{-K,+,↓,κ_3}^{\\dagger} c_{+K,+,↓,κ_4}}{4} + \\frac{e^{- i \\theta_{κ_1}} e^{i \\theta_{κ_4}} c_{+K,-,↑,κ_1}^{\\dagger} c_{-K,+,↑,κ_2} c_{-K,+,↓,κ_3}^{\\dagger} c_{+K,-,↓,κ_4}}{4} - \\frac{e^{- i \\theta_{κ_1}} e^{i \\theta_{κ_4}} c_{+K,-,↑,κ_1}^{\\dagger} c_{-K,+,↑,κ_2} c_{-K,-,↓,κ_3}^{\\dagger} c_{+K,+,↓,κ_4}}{4} + \\frac{e^{- i \\theta_{κ_1}} e^{i \\theta_{κ_4}} c_{+K,-,↑,κ_1}^{\\dagger} c_{-K,+,↑,κ_2} c_{-K,-,↓,κ_3}^{\\dagger} c_{+K,-,↓,κ_4}}{4} - \\frac{e^{- i \\theta_{κ_1}} e^{i \\theta_{κ_4}} c_{+K,-,↑,κ_1}^{\\dagger} c_{-K,-,↑,κ_2} c_{-K,+,↓,κ_3}^{\\dagger} c_{+K,+,↓,κ_4}}{4} + \\frac{e^{- i \\theta_{κ_1}} e^{i \\theta_{κ_4}} c_{+K,-,↑,κ_1}^{\\dagger} c_{-K,-,↑,κ_2} c_{-K,+,↓,κ_3}^{\\dagger} c_{+K,-,↓,κ_4}}{4} - \\frac{e^{- i \\theta_{κ_1}} e^{i \\theta_{κ_4}} c_{+K,-,↑,κ_1}^{\\dagger} c_{-K,-,↑,κ_2} c_{-K,-,↓,κ_3}^{\\dagger} c_{+K,+,↓,κ_4}}{4} + \\frac{e^{- i \\theta_{κ_1}} e^{i \\theta_{κ_4}} c_{+K,-,↑,κ_1}^{\\dagger} c_{-K,-,↑,κ_2} c_{-K,-,↓,κ_3}^{\\dagger} c_{+K,-,↓,κ_4}}{4} + \\frac{e^{- i \\theta_{κ_1}} e^{i \\theta_{κ_4}} c_{-K,+,↑,κ_1}^{\\dagger} c_{+K,+,↑,κ_2} c_{+K,+,↓,κ_3}^{\\dagger} c_{-K,+,↓,κ_4}}{4} - \\frac{e^{- i \\theta_{κ_1}} e^{i \\theta_{κ_4}} c_{-K,+,↑,κ_1}^{\\dagger} c_{+K,+,↑,κ_2} c_{+K,+,↓,κ_3}^{\\dagger} c_{-K,-,↓,κ_4}}{4} + \\frac{e^{- i \\theta_{κ_1}} e^{i \\theta_{κ_4}} c_{-K,+,↑,κ_1}^{\\dagger} c_{+K,+,↑,κ_2} c_{+K,-,↓,κ_3}^{\\dagger} c_{-K,+,↓,κ_4}}{4} - \\frac{e^{- i \\theta_{κ_1}} e^{i \\theta_{κ_4}} c_{-K,+,↑,κ_1}^{\\dagger} c_{+K,+,↑,κ_2} c_{+K,-,↓,κ_3}^{\\dagger} c_{-K,-,↓,κ_4}}{4} + \\frac{e^{- i \\theta_{κ_1}} e^{i \\theta_{κ_4}} c_{-K,+,↑,κ_1}^{\\dagger} c_{+K,-,↑,κ_2} c_{+K,+,↓,κ_3}^{\\dagger} c_{-K,+,↓,κ_4}}{4} - \\frac{e^{- i \\theta_{κ_1}} e^{i \\theta_{κ_4}} c_{-K,+,↑,κ_1}^{\\dagger} c_{+K,-,↑,κ_2} c_{+K,+,↓,κ_3}^{\\dagger} c_{-K,-,↓,κ_4}}{4} + \\frac{e^{- i \\theta_{κ_1}} e^{i \\theta_{κ_4}} c_{-K,+,↑,κ_1}^{\\dagger} c_{+K,-,↑,κ_2} c_{+K,-,↓,κ_3}^{\\dagger} c_{-K,+,↓,κ_4}}{4} - \\frac{e^{- i \\theta_{κ_1}} e^{i \\theta_{κ_4}} c_{-K,+,↑,κ_1}^{\\dagger} c_{+K,-,↑,κ_2} c_{+K,-,↓,κ_3}^{\\dagger} c_{-K,-,↓,κ_4}}{4} - \\frac{e^{- i \\theta_{κ_1}} e^{i \\theta_{κ_4}} c_{-K,-,↑,κ_1}^{\\dagger} c_{+K,+,↑,κ_2} c_{+K,+,↓,κ_3}^{\\dagger} c_{-K,+,↓,κ_4}}{4} + \\frac{e^{- i \\theta_{κ_1}} e^{i \\theta_{κ_4}} c_{-K,-,↑,κ_1}^{\\dagger} c_{+K,+,↑,κ_2} c_{+K,+,↓,κ_3}^{\\dagger} c_{-K,-,↓,κ_4}}{4} - \\frac{e^{- i \\theta_{κ_1}} e^{i \\theta_{κ_4}} c_{-K,-,↑,κ_1}^{\\dagger} c_{+K,+,↑,κ_2} c_{+K,-,↓,κ_3}^{\\dagger} c_{-K,+,↓,κ_4}}{4} + \\frac{e^{- i \\theta_{κ_1}} e^{i \\theta_{κ_4}} c_{-K,-,↑,κ_1}^{\\dagger} c_{+K,+,↑,κ_2} c_{+K,-,↓,κ_3}^{\\dagger} c_{-K,-,↓,κ_4}}{4} - \\frac{e^{- i \\theta_{κ_1}} e^{i \\theta_{κ_4}} c_{-K,-,↑,κ_1}^{\\dagger} c_{+K,-,↑,κ_2} c_{+K,+,↓,κ_3}^{\\dagger} c_{-K,+,↓,κ_4}}{4} + \\frac{e^{- i \\theta_{κ_1}} e^{i \\theta_{κ_4}} c_{-K,-,↑,κ_1}^{\\dagger} c_{+K,-,↑,κ_2} c_{+K,+,↓,κ_3}^{\\dagger} c_{-K,-,↓,κ_4}}{4} - \\frac{e^{- i \\theta_{κ_1}} e^{i \\theta_{κ_4}} c_{-K,-,↑,κ_1}^{\\dagger} c_{+K,-,↑,κ_2} c_{+K,-,↓,κ_3}^{\\dagger} c_{-K,+,↓,κ_4}}{4} + \\frac{e^{- i \\theta_{κ_1}} e^{i \\theta_{κ_4}} c_{-K,-,↑,κ_1}^{\\dagger} c_{+K,-,↑,κ_2} c_{+K,-,↓,κ_3}^{\\dagger} c_{-K,-,↓,κ_4}}{4}$"
      ],
      "text/plain": [
       "exp(I*\\theta_{κ_2})*exp(-I*\\theta_{κ_3})*Dagger(c_{+K,+,↑,κ_1})*c_{-K,+,↑,κ_2}*Dagger(c_{-K,+,↓,κ_3})*c_{+K,+,↓,κ_4}/4 + exp(I*\\theta_{κ_2})*exp(-I*\\theta_{κ_3})*Dagger(c_{+K,+,↑,κ_1})*c_{-K,+,↑,κ_2}*Dagger(c_{-K,+,↓,κ_3})*c_{+K,-,↓,κ_4}/4 - exp(I*\\theta_{κ_2})*exp(-I*\\theta_{κ_3})*Dagger(c_{+K,+,↑,κ_1})*c_{-K,+,↑,κ_2}*Dagger(c_{-K,-,↓,κ_3})*c_{+K,+,↓,κ_4}/4 - exp(I*\\theta_{κ_2})*exp(-I*\\theta_{κ_3})*Dagger(c_{+K,+,↑,κ_1})*c_{-K,+,↑,κ_2}*Dagger(c_{-K,-,↓,κ_3})*c_{+K,-,↓,κ_4}/4 - exp(I*\\theta_{κ_2})*exp(-I*\\theta_{κ_3})*Dagger(c_{+K,+,↑,κ_1})*c_{-K,-,↑,κ_2}*Dagger(c_{-K,+,↓,κ_3})*c_{+K,+,↓,κ_4}/4 - exp(I*\\theta_{κ_2})*exp(-I*\\theta_{κ_3})*Dagger(c_{+K,+,↑,κ_1})*c_{-K,-,↑,κ_2}*Dagger(c_{-K,+,↓,κ_3})*c_{+K,-,↓,κ_4}/4 + exp(I*\\theta_{κ_2})*exp(-I*\\theta_{κ_3})*Dagger(c_{+K,+,↑,κ_1})*c_{-K,-,↑,κ_2}*Dagger(c_{-K,-,↓,κ_3})*c_{+K,+,↓,κ_4}/4 + exp(I*\\theta_{κ_2})*exp(-I*\\theta_{κ_3})*Dagger(c_{+K,+,↑,κ_1})*c_{-K,-,↑,κ_2}*Dagger(c_{-K,-,↓,κ_3})*c_{+K,-,↓,κ_4}/4 + exp(I*\\theta_{κ_2})*exp(-I*\\theta_{κ_3})*Dagger(c_{+K,-,↑,κ_1})*c_{-K,+,↑,κ_2}*Dagger(c_{-K,+,↓,κ_3})*c_{+K,+,↓,κ_4}/4 + exp(I*\\theta_{κ_2})*exp(-I*\\theta_{κ_3})*Dagger(c_{+K,-,↑,κ_1})*c_{-K,+,↑,κ_2}*Dagger(c_{-K,+,↓,κ_3})*c_{+K,-,↓,κ_4}/4 - exp(I*\\theta_{κ_2})*exp(-I*\\theta_{κ_3})*Dagger(c_{+K,-,↑,κ_1})*c_{-K,+,↑,κ_2}*Dagger(c_{-K,-,↓,κ_3})*c_{+K,+,↓,κ_4}/4 - exp(I*\\theta_{κ_2})*exp(-I*\\theta_{κ_3})*Dagger(c_{+K,-,↑,κ_1})*c_{-K,+,↑,κ_2}*Dagger(c_{-K,-,↓,κ_3})*c_{+K,-,↓,κ_4}/4 - exp(I*\\theta_{κ_2})*exp(-I*\\theta_{κ_3})*Dagger(c_{+K,-,↑,κ_1})*c_{-K,-,↑,κ_2}*Dagger(c_{-K,+,↓,κ_3})*c_{+K,+,↓,κ_4}/4 - exp(I*\\theta_{κ_2})*exp(-I*\\theta_{κ_3})*Dagger(c_{+K,-,↑,κ_1})*c_{-K,-,↑,κ_2}*Dagger(c_{-K,+,↓,κ_3})*c_{+K,-,↓,κ_4}/4 + exp(I*\\theta_{κ_2})*exp(-I*\\theta_{κ_3})*Dagger(c_{+K,-,↑,κ_1})*c_{-K,-,↑,κ_2}*Dagger(c_{-K,-,↓,κ_3})*c_{+K,+,↓,κ_4}/4 + exp(I*\\theta_{κ_2})*exp(-I*\\theta_{κ_3})*Dagger(c_{+K,-,↑,κ_1})*c_{-K,-,↑,κ_2}*Dagger(c_{-K,-,↓,κ_3})*c_{+K,-,↓,κ_4}/4 + exp(I*\\theta_{κ_2})*exp(-I*\\theta_{κ_3})*Dagger(c_{-K,+,↑,κ_1})*c_{+K,+,↑,κ_2}*Dagger(c_{+K,+,↓,κ_3})*c_{-K,+,↓,κ_4}/4 + exp(I*\\theta_{κ_2})*exp(-I*\\theta_{κ_3})*Dagger(c_{-K,+,↑,κ_1})*c_{+K,+,↑,κ_2}*Dagger(c_{+K,+,↓,κ_3})*c_{-K,-,↓,κ_4}/4 - exp(I*\\theta_{κ_2})*exp(-I*\\theta_{κ_3})*Dagger(c_{-K,+,↑,κ_1})*c_{+K,+,↑,κ_2}*Dagger(c_{+K,-,↓,κ_3})*c_{-K,+,↓,κ_4}/4 - exp(I*\\theta_{κ_2})*exp(-I*\\theta_{κ_3})*Dagger(c_{-K,+,↑,κ_1})*c_{+K,+,↑,κ_2}*Dagger(c_{+K,-,↓,κ_3})*c_{-K,-,↓,κ_4}/4 - exp(I*\\theta_{κ_2})*exp(-I*\\theta_{κ_3})*Dagger(c_{-K,+,↑,κ_1})*c_{+K,-,↑,κ_2}*Dagger(c_{+K,+,↓,κ_3})*c_{-K,+,↓,κ_4}/4 - exp(I*\\theta_{κ_2})*exp(-I*\\theta_{κ_3})*Dagger(c_{-K,+,↑,κ_1})*c_{+K,-,↑,κ_2}*Dagger(c_{+K,+,↓,κ_3})*c_{-K,-,↓,κ_4}/4 + exp(I*\\theta_{κ_2})*exp(-I*\\theta_{κ_3})*Dagger(c_{-K,+,↑,κ_1})*c_{+K,-,↑,κ_2}*Dagger(c_{+K,-,↓,κ_3})*c_{-K,+,↓,κ_4}/4 + exp(I*\\theta_{κ_2})*exp(-I*\\theta_{κ_3})*Dagger(c_{-K,+,↑,κ_1})*c_{+K,-,↑,κ_2}*Dagger(c_{+K,-,↓,κ_3})*c_{-K,-,↓,κ_4}/4 + exp(I*\\theta_{κ_2})*exp(-I*\\theta_{κ_3})*Dagger(c_{-K,-,↑,κ_1})*c_{+K,+,↑,κ_2}*Dagger(c_{+K,+,↓,κ_3})*c_{-K,+,↓,κ_4}/4 + exp(I*\\theta_{κ_2})*exp(-I*\\theta_{κ_3})*Dagger(c_{-K,-,↑,κ_1})*c_{+K,+,↑,κ_2}*Dagger(c_{+K,+,↓,κ_3})*c_{-K,-,↓,κ_4}/4 - exp(I*\\theta_{κ_2})*exp(-I*\\theta_{κ_3})*Dagger(c_{-K,-,↑,κ_1})*c_{+K,+,↑,κ_2}*Dagger(c_{+K,-,↓,κ_3})*c_{-K,+,↓,κ_4}/4 - exp(I*\\theta_{κ_2})*exp(-I*\\theta_{κ_3})*Dagger(c_{-K,-,↑,κ_1})*c_{+K,+,↑,κ_2}*Dagger(c_{+K,-,↓,κ_3})*c_{-K,-,↓,κ_4}/4 - exp(I*\\theta_{κ_2})*exp(-I*\\theta_{κ_3})*Dagger(c_{-K,-,↑,κ_1})*c_{+K,-,↑,κ_2}*Dagger(c_{+K,+,↓,κ_3})*c_{-K,+,↓,κ_4}/4 - exp(I*\\theta_{κ_2})*exp(-I*\\theta_{κ_3})*Dagger(c_{-K,-,↑,κ_1})*c_{+K,-,↑,κ_2}*Dagger(c_{+K,+,↓,κ_3})*c_{-K,-,↓,κ_4}/4 + exp(I*\\theta_{κ_2})*exp(-I*\\theta_{κ_3})*Dagger(c_{-K,-,↑,κ_1})*c_{+K,-,↑,κ_2}*Dagger(c_{+K,-,↓,κ_3})*c_{-K,+,↓,κ_4}/4 + exp(I*\\theta_{κ_2})*exp(-I*\\theta_{κ_3})*Dagger(c_{-K,-,↑,κ_1})*c_{+K,-,↑,κ_2}*Dagger(c_{+K,-,↓,κ_3})*c_{-K,-,↓,κ_4}/4 + Dagger(c_{+K,+,↑,κ_1})*c_{+K,+,↑,κ_2}*Dagger(c_{+K,+,↓,κ_3})*c_{+K,+,↓,κ_4}/4 + Dagger(c_{+K,+,↑,κ_1})*c_{+K,+,↑,κ_2}*Dagger(c_{+K,+,↓,κ_3})*c_{+K,-,↓,κ_4}/4 + Dagger(c_{+K,+,↑,κ_1})*c_{+K,+,↑,κ_2}*Dagger(c_{+K,-,↓,κ_3})*c_{+K,+,↓,κ_4}/4 + Dagger(c_{+K,+,↑,κ_1})*c_{+K,+,↑,κ_2}*Dagger(c_{+K,-,↓,κ_3})*c_{+K,-,↓,κ_4}/4 + Dagger(c_{+K,+,↑,κ_1})*c_{+K,-,↑,κ_2}*Dagger(c_{+K,+,↓,κ_3})*c_{+K,+,↓,κ_4}/4 + Dagger(c_{+K,+,↑,κ_1})*c_{+K,-,↑,κ_2}*Dagger(c_{+K,+,↓,κ_3})*c_{+K,-,↓,κ_4}/4 + Dagger(c_{+K,+,↑,κ_1})*c_{+K,-,↑,κ_2}*Dagger(c_{+K,-,↓,κ_3})*c_{+K,+,↓,κ_4}/4 + Dagger(c_{+K,+,↑,κ_1})*c_{+K,-,↑,κ_2}*Dagger(c_{+K,-,↓,κ_3})*c_{+K,-,↓,κ_4}/4 + Dagger(c_{+K,-,↑,κ_1})*c_{+K,+,↑,κ_2}*Dagger(c_{+K,+,↓,κ_3})*c_{+K,+,↓,κ_4}/4 + Dagger(c_{+K,-,↑,κ_1})*c_{+K,+,↑,κ_2}*Dagger(c_{+K,+,↓,κ_3})*c_{+K,-,↓,κ_4}/4 + Dagger(c_{+K,-,↑,κ_1})*c_{+K,+,↑,κ_2}*Dagger(c_{+K,-,↓,κ_3})*c_{+K,+,↓,κ_4}/4 + Dagger(c_{+K,-,↑,κ_1})*c_{+K,+,↑,κ_2}*Dagger(c_{+K,-,↓,κ_3})*c_{+K,-,↓,κ_4}/4 + Dagger(c_{+K,-,↑,κ_1})*c_{+K,-,↑,κ_2}*Dagger(c_{+K,+,↓,κ_3})*c_{+K,+,↓,κ_4}/4 + Dagger(c_{+K,-,↑,κ_1})*c_{+K,-,↑,κ_2}*Dagger(c_{+K,+,↓,κ_3})*c_{+K,-,↓,κ_4}/4 + Dagger(c_{+K,-,↑,κ_1})*c_{+K,-,↑,κ_2}*Dagger(c_{+K,-,↓,κ_3})*c_{+K,+,↓,κ_4}/4 + Dagger(c_{+K,-,↑,κ_1})*c_{+K,-,↑,κ_2}*Dagger(c_{+K,-,↓,κ_3})*c_{+K,-,↓,κ_4}/4 + Dagger(c_{-K,+,↑,κ_1})*c_{-K,+,↑,κ_2}*Dagger(c_{-K,+,↓,κ_3})*c_{-K,+,↓,κ_4}/4 + Dagger(c_{-K,+,↑,κ_1})*c_{-K,+,↑,κ_2}*Dagger(c_{-K,+,↓,κ_3})*c_{-K,-,↓,κ_4}/4 + Dagger(c_{-K,+,↑,κ_1})*c_{-K,+,↑,κ_2}*Dagger(c_{-K,-,↓,κ_3})*c_{-K,+,↓,κ_4}/4 + Dagger(c_{-K,+,↑,κ_1})*c_{-K,+,↑,κ_2}*Dagger(c_{-K,-,↓,κ_3})*c_{-K,-,↓,κ_4}/4 + Dagger(c_{-K,+,↑,κ_1})*c_{-K,-,↑,κ_2}*Dagger(c_{-K,+,↓,κ_3})*c_{-K,+,↓,κ_4}/4 + Dagger(c_{-K,+,↑,κ_1})*c_{-K,-,↑,κ_2}*Dagger(c_{-K,+,↓,κ_3})*c_{-K,-,↓,κ_4}/4 + Dagger(c_{-K,+,↑,κ_1})*c_{-K,-,↑,κ_2}*Dagger(c_{-K,-,↓,κ_3})*c_{-K,+,↓,κ_4}/4 + Dagger(c_{-K,+,↑,κ_1})*c_{-K,-,↑,κ_2}*Dagger(c_{-K,-,↓,κ_3})*c_{-K,-,↓,κ_4}/4 + Dagger(c_{-K,-,↑,κ_1})*c_{-K,+,↑,κ_2}*Dagger(c_{-K,+,↓,κ_3})*c_{-K,+,↓,κ_4}/4 + Dagger(c_{-K,-,↑,κ_1})*c_{-K,+,↑,κ_2}*Dagger(c_{-K,+,↓,κ_3})*c_{-K,-,↓,κ_4}/4 + Dagger(c_{-K,-,↑,κ_1})*c_{-K,+,↑,κ_2}*Dagger(c_{-K,-,↓,κ_3})*c_{-K,+,↓,κ_4}/4 + Dagger(c_{-K,-,↑,κ_1})*c_{-K,+,↑,κ_2}*Dagger(c_{-K,-,↓,κ_3})*c_{-K,-,↓,κ_4}/4 + Dagger(c_{-K,-,↑,κ_1})*c_{-K,-,↑,κ_2}*Dagger(c_{-K,+,↓,κ_3})*c_{-K,+,↓,κ_4}/4 + Dagger(c_{-K,-,↑,κ_1})*c_{-K,-,↑,κ_2}*Dagger(c_{-K,+,↓,κ_3})*c_{-K,-,↓,κ_4}/4 + Dagger(c_{-K,-,↑,κ_1})*c_{-K,-,↑,κ_2}*Dagger(c_{-K,-,↓,κ_3})*c_{-K,+,↓,κ_4}/4 + Dagger(c_{-K,-,↑,κ_1})*c_{-K,-,↑,κ_2}*Dagger(c_{-K,-,↓,κ_3})*c_{-K,-,↓,κ_4}/4 + exp(-I*\\theta_{κ_3})*exp(I*\\theta_{κ_4})*Dagger(c_{+K,+,↑,κ_1})*c_{+K,+,↑,κ_2}*Dagger(c_{-K,+,↓,κ_3})*c_{-K,+,↓,κ_4}/4 - exp(-I*\\theta_{κ_3})*exp(I*\\theta_{κ_4})*Dagger(c_{+K,+,↑,κ_1})*c_{+K,+,↑,κ_2}*Dagger(c_{-K,+,↓,κ_3})*c_{-K,-,↓,κ_4}/4 - exp(-I*\\theta_{κ_3})*exp(I*\\theta_{κ_4})*Dagger(c_{+K,+,↑,κ_1})*c_{+K,+,↑,κ_2}*Dagger(c_{-K,-,↓,κ_3})*c_{-K,+,↓,κ_4}/4 + exp(-I*\\theta_{κ_3})*exp(I*\\theta_{κ_4})*Dagger(c_{+K,+,↑,κ_1})*c_{+K,+,↑,κ_2}*Dagger(c_{-K,-,↓,κ_3})*c_{-K,-,↓,κ_4}/4 + exp(-I*\\theta_{κ_3})*exp(I*\\theta_{κ_4})*Dagger(c_{+K,+,↑,κ_1})*c_{+K,-,↑,κ_2}*Dagger(c_{-K,+,↓,κ_3})*c_{-K,+,↓,κ_4}/4 - exp(-I*\\theta_{κ_3})*exp(I*\\theta_{κ_4})*Dagger(c_{+K,+,↑,κ_1})*c_{+K,-,↑,κ_2}*Dagger(c_{-K,+,↓,κ_3})*c_{-K,-,↓,κ_4}/4 - exp(-I*\\theta_{κ_3})*exp(I*\\theta_{κ_4})*Dagger(c_{+K,+,↑,κ_1})*c_{+K,-,↑,κ_2}*Dagger(c_{-K,-,↓,κ_3})*c_{-K,+,↓,κ_4}/4 + exp(-I*\\theta_{κ_3})*exp(I*\\theta_{κ_4})*Dagger(c_{+K,+,↑,κ_1})*c_{+K,-,↑,κ_2}*Dagger(c_{-K,-,↓,κ_3})*c_{-K,-,↓,κ_4}/4 + exp(-I*\\theta_{κ_3})*exp(I*\\theta_{κ_4})*Dagger(c_{+K,-,↑,κ_1})*c_{+K,+,↑,κ_2}*Dagger(c_{-K,+,↓,κ_3})*c_{-K,+,↓,κ_4}/4 - exp(-I*\\theta_{κ_3})*exp(I*\\theta_{κ_4})*Dagger(c_{+K,-,↑,κ_1})*c_{+K,+,↑,κ_2}*Dagger(c_{-K,+,↓,κ_3})*c_{-K,-,↓,κ_4}/4 - exp(-I*\\theta_{κ_3})*exp(I*\\theta_{κ_4})*Dagger(c_{+K,-,↑,κ_1})*c_{+K,+,↑,κ_2}*Dagger(c_{-K,-,↓,κ_3})*c_{-K,+,↓,κ_4}/4 + exp(-I*\\theta_{κ_3})*exp(I*\\theta_{κ_4})*Dagger(c_{+K,-,↑,κ_1})*c_{+K,+,↑,κ_2}*Dagger(c_{-K,-,↓,κ_3})*c_{-K,-,↓,κ_4}/4 + exp(-I*\\theta_{κ_3})*exp(I*\\theta_{κ_4})*Dagger(c_{+K,-,↑,κ_1})*c_{+K,-,↑,κ_2}*Dagger(c_{-K,+,↓,κ_3})*c_{-K,+,↓,κ_4}/4 - exp(-I*\\theta_{κ_3})*exp(I*\\theta_{κ_4})*Dagger(c_{+K,-,↑,κ_1})*c_{+K,-,↑,κ_2}*Dagger(c_{-K,+,↓,κ_3})*c_{-K,-,↓,κ_4}/4 - exp(-I*\\theta_{κ_3})*exp(I*\\theta_{κ_4})*Dagger(c_{+K,-,↑,κ_1})*c_{+K,-,↑,κ_2}*Dagger(c_{-K,-,↓,κ_3})*c_{-K,+,↓,κ_4}/4 + exp(-I*\\theta_{κ_3})*exp(I*\\theta_{κ_4})*Dagger(c_{+K,-,↑,κ_1})*c_{+K,-,↑,κ_2}*Dagger(c_{-K,-,↓,κ_3})*c_{-K,-,↓,κ_4}/4 + exp(-I*\\theta_{κ_3})*exp(I*\\theta_{κ_4})*Dagger(c_{-K,+,↑,κ_1})*c_{-K,+,↑,κ_2}*Dagger(c_{+K,+,↓,κ_3})*c_{+K,+,↓,κ_4}/4 - exp(-I*\\theta_{κ_3})*exp(I*\\theta_{κ_4})*Dagger(c_{-K,+,↑,κ_1})*c_{-K,+,↑,κ_2}*Dagger(c_{+K,+,↓,κ_3})*c_{+K,-,↓,κ_4}/4 - exp(-I*\\theta_{κ_3})*exp(I*\\theta_{κ_4})*Dagger(c_{-K,+,↑,κ_1})*c_{-K,+,↑,κ_2}*Dagger(c_{+K,-,↓,κ_3})*c_{+K,+,↓,κ_4}/4 + exp(-I*\\theta_{κ_3})*exp(I*\\theta_{κ_4})*Dagger(c_{-K,+,↑,κ_1})*c_{-K,+,↑,κ_2}*Dagger(c_{+K,-,↓,κ_3})*c_{+K,-,↓,κ_4}/4 + exp(-I*\\theta_{κ_3})*exp(I*\\theta_{κ_4})*Dagger(c_{-K,+,↑,κ_1})*c_{-K,-,↑,κ_2}*Dagger(c_{+K,+,↓,κ_3})*c_{+K,+,↓,κ_4}/4 - exp(-I*\\theta_{κ_3})*exp(I*\\theta_{κ_4})*Dagger(c_{-K,+,↑,κ_1})*c_{-K,-,↑,κ_2}*Dagger(c_{+K,+,↓,κ_3})*c_{+K,-,↓,κ_4}/4 - exp(-I*\\theta_{κ_3})*exp(I*\\theta_{κ_4})*Dagger(c_{-K,+,↑,κ_1})*c_{-K,-,↑,κ_2}*Dagger(c_{+K,-,↓,κ_3})*c_{+K,+,↓,κ_4}/4 + exp(-I*\\theta_{κ_3})*exp(I*\\theta_{κ_4})*Dagger(c_{-K,+,↑,κ_1})*c_{-K,-,↑,κ_2}*Dagger(c_{+K,-,↓,κ_3})*c_{+K,-,↓,κ_4}/4 + exp(-I*\\theta_{κ_3})*exp(I*\\theta_{κ_4})*Dagger(c_{-K,-,↑,κ_1})*c_{-K,+,↑,κ_2}*Dagger(c_{+K,+,↓,κ_3})*c_{+K,+,↓,κ_4}/4 - exp(-I*\\theta_{κ_3})*exp(I*\\theta_{κ_4})*Dagger(c_{-K,-,↑,κ_1})*c_{-K,+,↑,κ_2}*Dagger(c_{+K,+,↓,κ_3})*c_{+K,-,↓,κ_4}/4 - exp(-I*\\theta_{κ_3})*exp(I*\\theta_{κ_4})*Dagger(c_{-K,-,↑,κ_1})*c_{-K,+,↑,κ_2}*Dagger(c_{+K,-,↓,κ_3})*c_{+K,+,↓,κ_4}/4 + exp(-I*\\theta_{κ_3})*exp(I*\\theta_{κ_4})*Dagger(c_{-K,-,↑,κ_1})*c_{-K,+,↑,κ_2}*Dagger(c_{+K,-,↓,κ_3})*c_{+K,-,↓,κ_4}/4 + exp(-I*\\theta_{κ_3})*exp(I*\\theta_{κ_4})*Dagger(c_{-K,-,↑,κ_1})*c_{-K,-,↑,κ_2}*Dagger(c_{+K,+,↓,κ_3})*c_{+K,+,↓,κ_4}/4 - exp(-I*\\theta_{κ_3})*exp(I*\\theta_{κ_4})*Dagger(c_{-K,-,↑,κ_1})*c_{-K,-,↑,κ_2}*Dagger(c_{+K,+,↓,κ_3})*c_{+K,-,↓,κ_4}/4 - exp(-I*\\theta_{κ_3})*exp(I*\\theta_{κ_4})*Dagger(c_{-K,-,↑,κ_1})*c_{-K,-,↑,κ_2}*Dagger(c_{+K,-,↓,κ_3})*c_{+K,+,↓,κ_4}/4 + exp(-I*\\theta_{κ_3})*exp(I*\\theta_{κ_4})*Dagger(c_{-K,-,↑,κ_1})*c_{-K,-,↑,κ_2}*Dagger(c_{+K,-,↓,κ_3})*c_{+K,-,↓,κ_4}/4 + exp(-I*\\theta_{κ_1})*exp(I*\\theta_{κ_2})*Dagger(c_{+K,+,↑,κ_1})*c_{+K,+,↑,κ_2}*Dagger(c_{-K,+,↓,κ_3})*c_{-K,+,↓,κ_4}/4 + exp(-I*\\theta_{κ_1})*exp(I*\\theta_{κ_2})*Dagger(c_{+K,+,↑,κ_1})*c_{+K,+,↑,κ_2}*Dagger(c_{-K,+,↓,κ_3})*c_{-K,-,↓,κ_4}/4 + exp(-I*\\theta_{κ_1})*exp(I*\\theta_{κ_2})*Dagger(c_{+K,+,↑,κ_1})*c_{+K,+,↑,κ_2}*Dagger(c_{-K,-,↓,κ_3})*c_{-K,+,↓,κ_4}/4 + exp(-I*\\theta_{κ_1})*exp(I*\\theta_{κ_2})*Dagger(c_{+K,+,↑,κ_1})*c_{+K,+,↑,κ_2}*Dagger(c_{-K,-,↓,κ_3})*c_{-K,-,↓,κ_4}/4 - exp(-I*\\theta_{κ_1})*exp(I*\\theta_{κ_2})*Dagger(c_{+K,+,↑,κ_1})*c_{+K,-,↑,κ_2}*Dagger(c_{-K,+,↓,κ_3})*c_{-K,+,↓,κ_4}/4 - exp(-I*\\theta_{κ_1})*exp(I*\\theta_{κ_2})*Dagger(c_{+K,+,↑,κ_1})*c_{+K,-,↑,κ_2}*Dagger(c_{-K,+,↓,κ_3})*c_{-K,-,↓,κ_4}/4 - exp(-I*\\theta_{κ_1})*exp(I*\\theta_{κ_2})*Dagger(c_{+K,+,↑,κ_1})*c_{+K,-,↑,κ_2}*Dagger(c_{-K,-,↓,κ_3})*c_{-K,+,↓,κ_4}/4 - exp(-I*\\theta_{κ_1})*exp(I*\\theta_{κ_2})*Dagger(c_{+K,+,↑,κ_1})*c_{+K,-,↑,κ_2}*Dagger(c_{-K,-,↓,κ_3})*c_{-K,-,↓,κ_4}/4 - exp(-I*\\theta_{κ_1})*exp(I*\\theta_{κ_2})*Dagger(c_{+K,-,↑,κ_1})*c_{+K,+,↑,κ_2}*Dagger(c_{-K,+,↓,κ_3})*c_{-K,+,↓,κ_4}/4 - exp(-I*\\theta_{κ_1})*exp(I*\\theta_{κ_2})*Dagger(c_{+K,-,↑,κ_1})*c_{+K,+,↑,κ_2}*Dagger(c_{-K,+,↓,κ_3})*c_{-K,-,↓,κ_4}/4 - exp(-I*\\theta_{κ_1})*exp(I*\\theta_{κ_2})*Dagger(c_{+K,-,↑,κ_1})*c_{+K,+,↑,κ_2}*Dagger(c_{-K,-,↓,κ_3})*c_{-K,+,↓,κ_4}/4 - exp(-I*\\theta_{κ_1})*exp(I*\\theta_{κ_2})*Dagger(c_{+K,-,↑,κ_1})*c_{+K,+,↑,κ_2}*Dagger(c_{-K,-,↓,κ_3})*c_{-K,-,↓,κ_4}/4 + exp(-I*\\theta_{κ_1})*exp(I*\\theta_{κ_2})*Dagger(c_{+K,-,↑,κ_1})*c_{+K,-,↑,κ_2}*Dagger(c_{-K,+,↓,κ_3})*c_{-K,+,↓,κ_4}/4 + exp(-I*\\theta_{κ_1})*exp(I*\\theta_{κ_2})*Dagger(c_{+K,-,↑,κ_1})*c_{+K,-,↑,κ_2}*Dagger(c_{-K,+,↓,κ_3})*c_{-K,-,↓,κ_4}/4 + exp(-I*\\theta_{κ_1})*exp(I*\\theta_{κ_2})*Dagger(c_{+K,-,↑,κ_1})*c_{+K,-,↑,κ_2}*Dagger(c_{-K,-,↓,κ_3})*c_{-K,+,↓,κ_4}/4 + exp(-I*\\theta_{κ_1})*exp(I*\\theta_{κ_2})*Dagger(c_{+K,-,↑,κ_1})*c_{+K,-,↑,κ_2}*Dagger(c_{-K,-,↓,κ_3})*c_{-K,-,↓,κ_4}/4 + exp(-I*\\theta_{κ_1})*exp(I*\\theta_{κ_2})*Dagger(c_{-K,+,↑,κ_1})*c_{-K,+,↑,κ_2}*Dagger(c_{+K,+,↓,κ_3})*c_{+K,+,↓,κ_4}/4 + exp(-I*\\theta_{κ_1})*exp(I*\\theta_{κ_2})*Dagger(c_{-K,+,↑,κ_1})*c_{-K,+,↑,κ_2}*Dagger(c_{+K,+,↓,κ_3})*c_{+K,-,↓,κ_4}/4 + exp(-I*\\theta_{κ_1})*exp(I*\\theta_{κ_2})*Dagger(c_{-K,+,↑,κ_1})*c_{-K,+,↑,κ_2}*Dagger(c_{+K,-,↓,κ_3})*c_{+K,+,↓,κ_4}/4 + exp(-I*\\theta_{κ_1})*exp(I*\\theta_{κ_2})*Dagger(c_{-K,+,↑,κ_1})*c_{-K,+,↑,κ_2}*Dagger(c_{+K,-,↓,κ_3})*c_{+K,-,↓,κ_4}/4 - exp(-I*\\theta_{κ_1})*exp(I*\\theta_{κ_2})*Dagger(c_{-K,+,↑,κ_1})*c_{-K,-,↑,κ_2}*Dagger(c_{+K,+,↓,κ_3})*c_{+K,+,↓,κ_4}/4 - exp(-I*\\theta_{κ_1})*exp(I*\\theta_{κ_2})*Dagger(c_{-K,+,↑,κ_1})*c_{-K,-,↑,κ_2}*Dagger(c_{+K,+,↓,κ_3})*c_{+K,-,↓,κ_4}/4 - exp(-I*\\theta_{κ_1})*exp(I*\\theta_{κ_2})*Dagger(c_{-K,+,↑,κ_1})*c_{-K,-,↑,κ_2}*Dagger(c_{+K,-,↓,κ_3})*c_{+K,+,↓,κ_4}/4 - exp(-I*\\theta_{κ_1})*exp(I*\\theta_{κ_2})*Dagger(c_{-K,+,↑,κ_1})*c_{-K,-,↑,κ_2}*Dagger(c_{+K,-,↓,κ_3})*c_{+K,-,↓,κ_4}/4 - exp(-I*\\theta_{κ_1})*exp(I*\\theta_{κ_2})*Dagger(c_{-K,-,↑,κ_1})*c_{-K,+,↑,κ_2}*Dagger(c_{+K,+,↓,κ_3})*c_{+K,+,↓,κ_4}/4 - exp(-I*\\theta_{κ_1})*exp(I*\\theta_{κ_2})*Dagger(c_{-K,-,↑,κ_1})*c_{-K,+,↑,κ_2}*Dagger(c_{+K,+,↓,κ_3})*c_{+K,-,↓,κ_4}/4 - exp(-I*\\theta_{κ_1})*exp(I*\\theta_{κ_2})*Dagger(c_{-K,-,↑,κ_1})*c_{-K,+,↑,κ_2}*Dagger(c_{+K,-,↓,κ_3})*c_{+K,+,↓,κ_4}/4 - exp(-I*\\theta_{κ_1})*exp(I*\\theta_{κ_2})*Dagger(c_{-K,-,↑,κ_1})*c_{-K,+,↑,κ_2}*Dagger(c_{+K,-,↓,κ_3})*c_{+K,-,↓,κ_4}/4 + exp(-I*\\theta_{κ_1})*exp(I*\\theta_{κ_2})*Dagger(c_{-K,-,↑,κ_1})*c_{-K,-,↑,κ_2}*Dagger(c_{+K,+,↓,κ_3})*c_{+K,+,↓,κ_4}/4 + exp(-I*\\theta_{κ_1})*exp(I*\\theta_{κ_2})*Dagger(c_{-K,-,↑,κ_1})*c_{-K,-,↑,κ_2}*Dagger(c_{+K,+,↓,κ_3})*c_{+K,-,↓,κ_4}/4 + exp(-I*\\theta_{κ_1})*exp(I*\\theta_{κ_2})*Dagger(c_{-K,-,↑,κ_1})*c_{-K,-,↑,κ_2}*Dagger(c_{+K,-,↓,κ_3})*c_{+K,+,↓,κ_4}/4 + exp(-I*\\theta_{κ_1})*exp(I*\\theta_{κ_2})*Dagger(c_{-K,-,↑,κ_1})*c_{-K,-,↑,κ_2}*Dagger(c_{+K,-,↓,κ_3})*c_{+K,-,↓,κ_4}/4 + exp(-I*\\theta_{κ_1})*exp(I*\\theta_{κ_2})*exp(-I*\\theta_{κ_3})*exp(I*\\theta_{κ_4})*Dagger(c_{+K,+,↑,κ_1})*c_{+K,+,↑,κ_2}*Dagger(c_{+K,+,↓,κ_3})*c_{+K,+,↓,κ_4}/4 - exp(-I*\\theta_{κ_1})*exp(I*\\theta_{κ_2})*exp(-I*\\theta_{κ_3})*exp(I*\\theta_{κ_4})*Dagger(c_{+K,+,↑,κ_1})*c_{+K,+,↑,κ_2}*Dagger(c_{+K,+,↓,κ_3})*c_{+K,-,↓,κ_4}/4 - exp(-I*\\theta_{κ_1})*exp(I*\\theta_{κ_2})*exp(-I*\\theta_{κ_3})*exp(I*\\theta_{κ_4})*Dagger(c_{+K,+,↑,κ_1})*c_{+K,+,↑,κ_2}*Dagger(c_{+K,-,↓,κ_3})*c_{+K,+,↓,κ_4}/4 + exp(-I*\\theta_{κ_1})*exp(I*\\theta_{κ_2})*exp(-I*\\theta_{κ_3})*exp(I*\\theta_{κ_4})*Dagger(c_{+K,+,↑,κ_1})*c_{+K,+,↑,κ_2}*Dagger(c_{+K,-,↓,κ_3})*c_{+K,-,↓,κ_4}/4 - exp(-I*\\theta_{κ_1})*exp(I*\\theta_{κ_2})*exp(-I*\\theta_{κ_3})*exp(I*\\theta_{κ_4})*Dagger(c_{+K,+,↑,κ_1})*c_{+K,-,↑,κ_2}*Dagger(c_{+K,+,↓,κ_3})*c_{+K,+,↓,κ_4}/4 + exp(-I*\\theta_{κ_1})*exp(I*\\theta_{κ_2})*exp(-I*\\theta_{κ_3})*exp(I*\\theta_{κ_4})*Dagger(c_{+K,+,↑,κ_1})*c_{+K,-,↑,κ_2}*Dagger(c_{+K,+,↓,κ_3})*c_{+K,-,↓,κ_4}/4 + exp(-I*\\theta_{κ_1})*exp(I*\\theta_{κ_2})*exp(-I*\\theta_{κ_3})*exp(I*\\theta_{κ_4})*Dagger(c_{+K,+,↑,κ_1})*c_{+K,-,↑,κ_2}*Dagger(c_{+K,-,↓,κ_3})*c_{+K,+,↓,κ_4}/4 - exp(-I*\\theta_{κ_1})*exp(I*\\theta_{κ_2})*exp(-I*\\theta_{κ_3})*exp(I*\\theta_{κ_4})*Dagger(c_{+K,+,↑,κ_1})*c_{+K,-,↑,κ_2}*Dagger(c_{+K,-,↓,κ_3})*c_{+K,-,↓,κ_4}/4 - exp(-I*\\theta_{κ_1})*exp(I*\\theta_{κ_2})*exp(-I*\\theta_{κ_3})*exp(I*\\theta_{κ_4})*Dagger(c_{+K,-,↑,κ_1})*c_{+K,+,↑,κ_2}*Dagger(c_{+K,+,↓,κ_3})*c_{+K,+,↓,κ_4}/4 + exp(-I*\\theta_{κ_1})*exp(I*\\theta_{κ_2})*exp(-I*\\theta_{κ_3})*exp(I*\\theta_{κ_4})*Dagger(c_{+K,-,↑,κ_1})*c_{+K,+,↑,κ_2}*Dagger(c_{+K,+,↓,κ_3})*c_{+K,-,↓,κ_4}/4 + exp(-I*\\theta_{κ_1})*exp(I*\\theta_{κ_2})*exp(-I*\\theta_{κ_3})*exp(I*\\theta_{κ_4})*Dagger(c_{+K,-,↑,κ_1})*c_{+K,+,↑,κ_2}*Dagger(c_{+K,-,↓,κ_3})*c_{+K,+,↓,κ_4}/4 - exp(-I*\\theta_{κ_1})*exp(I*\\theta_{κ_2})*exp(-I*\\theta_{κ_3})*exp(I*\\theta_{κ_4})*Dagger(c_{+K,-,↑,κ_1})*c_{+K,+,↑,κ_2}*Dagger(c_{+K,-,↓,κ_3})*c_{+K,-,↓,κ_4}/4 + exp(-I*\\theta_{κ_1})*exp(I*\\theta_{κ_2})*exp(-I*\\theta_{κ_3})*exp(I*\\theta_{κ_4})*Dagger(c_{+K,-,↑,κ_1})*c_{+K,-,↑,κ_2}*Dagger(c_{+K,+,↓,κ_3})*c_{+K,+,↓,κ_4}/4 - exp(-I*\\theta_{κ_1})*exp(I*\\theta_{κ_2})*exp(-I*\\theta_{κ_3})*exp(I*\\theta_{κ_4})*Dagger(c_{+K,-,↑,κ_1})*c_{+K,-,↑,κ_2}*Dagger(c_{+K,+,↓,κ_3})*c_{+K,-,↓,κ_4}/4 - exp(-I*\\theta_{κ_1})*exp(I*\\theta_{κ_2})*exp(-I*\\theta_{κ_3})*exp(I*\\theta_{κ_4})*Dagger(c_{+K,-,↑,κ_1})*c_{+K,-,↑,κ_2}*Dagger(c_{+K,-,↓,κ_3})*c_{+K,+,↓,κ_4}/4 + exp(-I*\\theta_{κ_1})*exp(I*\\theta_{κ_2})*exp(-I*\\theta_{κ_3})*exp(I*\\theta_{κ_4})*Dagger(c_{+K,-,↑,κ_1})*c_{+K,-,↑,κ_2}*Dagger(c_{+K,-,↓,κ_3})*c_{+K,-,↓,κ_4}/4 + exp(-I*\\theta_{κ_1})*exp(I*\\theta_{κ_2})*exp(-I*\\theta_{κ_3})*exp(I*\\theta_{κ_4})*Dagger(c_{-K,+,↑,κ_1})*c_{-K,+,↑,κ_2}*Dagger(c_{-K,+,↓,κ_3})*c_{-K,+,↓,κ_4}/4 - exp(-I*\\theta_{κ_1})*exp(I*\\theta_{κ_2})*exp(-I*\\theta_{κ_3})*exp(I*\\theta_{κ_4})*Dagger(c_{-K,+,↑,κ_1})*c_{-K,+,↑,κ_2}*Dagger(c_{-K,+,↓,κ_3})*c_{-K,-,↓,κ_4}/4 - exp(-I*\\theta_{κ_1})*exp(I*\\theta_{κ_2})*exp(-I*\\theta_{κ_3})*exp(I*\\theta_{κ_4})*Dagger(c_{-K,+,↑,κ_1})*c_{-K,+,↑,κ_2}*Dagger(c_{-K,-,↓,κ_3})*c_{-K,+,↓,κ_4}/4 + exp(-I*\\theta_{κ_1})*exp(I*\\theta_{κ_2})*exp(-I*\\theta_{κ_3})*exp(I*\\theta_{κ_4})*Dagger(c_{-K,+,↑,κ_1})*c_{-K,+,↑,κ_2}*Dagger(c_{-K,-,↓,κ_3})*c_{-K,-,↓,κ_4}/4 - exp(-I*\\theta_{κ_1})*exp(I*\\theta_{κ_2})*exp(-I*\\theta_{κ_3})*exp(I*\\theta_{κ_4})*Dagger(c_{-K,+,↑,κ_1})*c_{-K,-,↑,κ_2}*Dagger(c_{-K,+,↓,κ_3})*c_{-K,+,↓,κ_4}/4 + exp(-I*\\theta_{κ_1})*exp(I*\\theta_{κ_2})*exp(-I*\\theta_{κ_3})*exp(I*\\theta_{κ_4})*Dagger(c_{-K,+,↑,κ_1})*c_{-K,-,↑,κ_2}*Dagger(c_{-K,+,↓,κ_3})*c_{-K,-,↓,κ_4}/4 + exp(-I*\\theta_{κ_1})*exp(I*\\theta_{κ_2})*exp(-I*\\theta_{κ_3})*exp(I*\\theta_{κ_4})*Dagger(c_{-K,+,↑,κ_1})*c_{-K,-,↑,κ_2}*Dagger(c_{-K,-,↓,κ_3})*c_{-K,+,↓,κ_4}/4 - exp(-I*\\theta_{κ_1})*exp(I*\\theta_{κ_2})*exp(-I*\\theta_{κ_3})*exp(I*\\theta_{κ_4})*Dagger(c_{-K,+,↑,κ_1})*c_{-K,-,↑,κ_2}*Dagger(c_{-K,-,↓,κ_3})*c_{-K,-,↓,κ_4}/4 - exp(-I*\\theta_{κ_1})*exp(I*\\theta_{κ_2})*exp(-I*\\theta_{κ_3})*exp(I*\\theta_{κ_4})*Dagger(c_{-K,-,↑,κ_1})*c_{-K,+,↑,κ_2}*Dagger(c_{-K,+,↓,κ_3})*c_{-K,+,↓,κ_4}/4 + exp(-I*\\theta_{κ_1})*exp(I*\\theta_{κ_2})*exp(-I*\\theta_{κ_3})*exp(I*\\theta_{κ_4})*Dagger(c_{-K,-,↑,κ_1})*c_{-K,+,↑,κ_2}*Dagger(c_{-K,+,↓,κ_3})*c_{-K,-,↓,κ_4}/4 + exp(-I*\\theta_{κ_1})*exp(I*\\theta_{κ_2})*exp(-I*\\theta_{κ_3})*exp(I*\\theta_{κ_4})*Dagger(c_{-K,-,↑,κ_1})*c_{-K,+,↑,κ_2}*Dagger(c_{-K,-,↓,κ_3})*c_{-K,+,↓,κ_4}/4 - exp(-I*\\theta_{κ_1})*exp(I*\\theta_{κ_2})*exp(-I*\\theta_{κ_3})*exp(I*\\theta_{κ_4})*Dagger(c_{-K,-,↑,κ_1})*c_{-K,+,↑,κ_2}*Dagger(c_{-K,-,↓,κ_3})*c_{-K,-,↓,κ_4}/4 + exp(-I*\\theta_{κ_1})*exp(I*\\theta_{κ_2})*exp(-I*\\theta_{κ_3})*exp(I*\\theta_{κ_4})*Dagger(c_{-K,-,↑,κ_1})*c_{-K,-,↑,κ_2}*Dagger(c_{-K,+,↓,κ_3})*c_{-K,+,↓,κ_4}/4 - exp(-I*\\theta_{κ_1})*exp(I*\\theta_{κ_2})*exp(-I*\\theta_{κ_3})*exp(I*\\theta_{κ_4})*Dagger(c_{-K,-,↑,κ_1})*c_{-K,-,↑,κ_2}*Dagger(c_{-K,+,↓,κ_3})*c_{-K,-,↓,κ_4}/4 - exp(-I*\\theta_{κ_1})*exp(I*\\theta_{κ_2})*exp(-I*\\theta_{κ_3})*exp(I*\\theta_{κ_4})*Dagger(c_{-K,-,↑,κ_1})*c_{-K,-,↑,κ_2}*Dagger(c_{-K,-,↓,κ_3})*c_{-K,+,↓,κ_4}/4 + exp(-I*\\theta_{κ_1})*exp(I*\\theta_{κ_2})*exp(-I*\\theta_{κ_3})*exp(I*\\theta_{κ_4})*Dagger(c_{-K,-,↑,κ_1})*c_{-K,-,↑,κ_2}*Dagger(c_{-K,-,↓,κ_3})*c_{-K,-,↓,κ_4}/4 + exp(-I*\\theta_{κ_1})*exp(I*\\theta_{κ_4})*Dagger(c_{+K,+,↑,κ_1})*c_{-K,+,↑,κ_2}*Dagger(c_{-K,+,↓,κ_3})*c_{+K,+,↓,κ_4}/4 - exp(-I*\\theta_{κ_1})*exp(I*\\theta_{κ_4})*Dagger(c_{+K,+,↑,κ_1})*c_{-K,+,↑,κ_2}*Dagger(c_{-K,+,↓,κ_3})*c_{+K,-,↓,κ_4}/4 + exp(-I*\\theta_{κ_1})*exp(I*\\theta_{κ_4})*Dagger(c_{+K,+,↑,κ_1})*c_{-K,+,↑,κ_2}*Dagger(c_{-K,-,↓,κ_3})*c_{+K,+,↓,κ_4}/4 - exp(-I*\\theta_{κ_1})*exp(I*\\theta_{κ_4})*Dagger(c_{+K,+,↑,κ_1})*c_{-K,+,↑,κ_2}*Dagger(c_{-K,-,↓,κ_3})*c_{+K,-,↓,κ_4}/4 + exp(-I*\\theta_{κ_1})*exp(I*\\theta_{κ_4})*Dagger(c_{+K,+,↑,κ_1})*c_{-K,-,↑,κ_2}*Dagger(c_{-K,+,↓,κ_3})*c_{+K,+,↓,κ_4}/4 - exp(-I*\\theta_{κ_1})*exp(I*\\theta_{κ_4})*Dagger(c_{+K,+,↑,κ_1})*c_{-K,-,↑,κ_2}*Dagger(c_{-K,+,↓,κ_3})*c_{+K,-,↓,κ_4}/4 + exp(-I*\\theta_{κ_1})*exp(I*\\theta_{κ_4})*Dagger(c_{+K,+,↑,κ_1})*c_{-K,-,↑,κ_2}*Dagger(c_{-K,-,↓,κ_3})*c_{+K,+,↓,κ_4}/4 - exp(-I*\\theta_{κ_1})*exp(I*\\theta_{κ_4})*Dagger(c_{+K,+,↑,κ_1})*c_{-K,-,↑,κ_2}*Dagger(c_{-K,-,↓,κ_3})*c_{+K,-,↓,κ_4}/4 - exp(-I*\\theta_{κ_1})*exp(I*\\theta_{κ_4})*Dagger(c_{+K,-,↑,κ_1})*c_{-K,+,↑,κ_2}*Dagger(c_{-K,+,↓,κ_3})*c_{+K,+,↓,κ_4}/4 + exp(-I*\\theta_{κ_1})*exp(I*\\theta_{κ_4})*Dagger(c_{+K,-,↑,κ_1})*c_{-K,+,↑,κ_2}*Dagger(c_{-K,+,↓,κ_3})*c_{+K,-,↓,κ_4}/4 - exp(-I*\\theta_{κ_1})*exp(I*\\theta_{κ_4})*Dagger(c_{+K,-,↑,κ_1})*c_{-K,+,↑,κ_2}*Dagger(c_{-K,-,↓,κ_3})*c_{+K,+,↓,κ_4}/4 + exp(-I*\\theta_{κ_1})*exp(I*\\theta_{κ_4})*Dagger(c_{+K,-,↑,κ_1})*c_{-K,+,↑,κ_2}*Dagger(c_{-K,-,↓,κ_3})*c_{+K,-,↓,κ_4}/4 - exp(-I*\\theta_{κ_1})*exp(I*\\theta_{κ_4})*Dagger(c_{+K,-,↑,κ_1})*c_{-K,-,↑,κ_2}*Dagger(c_{-K,+,↓,κ_3})*c_{+K,+,↓,κ_4}/4 + exp(-I*\\theta_{κ_1})*exp(I*\\theta_{κ_4})*Dagger(c_{+K,-,↑,κ_1})*c_{-K,-,↑,κ_2}*Dagger(c_{-K,+,↓,κ_3})*c_{+K,-,↓,κ_4}/4 - exp(-I*\\theta_{κ_1})*exp(I*\\theta_{κ_4})*Dagger(c_{+K,-,↑,κ_1})*c_{-K,-,↑,κ_2}*Dagger(c_{-K,-,↓,κ_3})*c_{+K,+,↓,κ_4}/4 + exp(-I*\\theta_{κ_1})*exp(I*\\theta_{κ_4})*Dagger(c_{+K,-,↑,κ_1})*c_{-K,-,↑,κ_2}*Dagger(c_{-K,-,↓,κ_3})*c_{+K,-,↓,κ_4}/4 + exp(-I*\\theta_{κ_1})*exp(I*\\theta_{κ_4})*Dagger(c_{-K,+,↑,κ_1})*c_{+K,+,↑,κ_2}*Dagger(c_{+K,+,↓,κ_3})*c_{-K,+,↓,κ_4}/4 - exp(-I*\\theta_{κ_1})*exp(I*\\theta_{κ_4})*Dagger(c_{-K,+,↑,κ_1})*c_{+K,+,↑,κ_2}*Dagger(c_{+K,+,↓,κ_3})*c_{-K,-,↓,κ_4}/4 + exp(-I*\\theta_{κ_1})*exp(I*\\theta_{κ_4})*Dagger(c_{-K,+,↑,κ_1})*c_{+K,+,↑,κ_2}*Dagger(c_{+K,-,↓,κ_3})*c_{-K,+,↓,κ_4}/4 - exp(-I*\\theta_{κ_1})*exp(I*\\theta_{κ_4})*Dagger(c_{-K,+,↑,κ_1})*c_{+K,+,↑,κ_2}*Dagger(c_{+K,-,↓,κ_3})*c_{-K,-,↓,κ_4}/4 + exp(-I*\\theta_{κ_1})*exp(I*\\theta_{κ_4})*Dagger(c_{-K,+,↑,κ_1})*c_{+K,-,↑,κ_2}*Dagger(c_{+K,+,↓,κ_3})*c_{-K,+,↓,κ_4}/4 - exp(-I*\\theta_{κ_1})*exp(I*\\theta_{κ_4})*Dagger(c_{-K,+,↑,κ_1})*c_{+K,-,↑,κ_2}*Dagger(c_{+K,+,↓,κ_3})*c_{-K,-,↓,κ_4}/4 + exp(-I*\\theta_{κ_1})*exp(I*\\theta_{κ_4})*Dagger(c_{-K,+,↑,κ_1})*c_{+K,-,↑,κ_2}*Dagger(c_{+K,-,↓,κ_3})*c_{-K,+,↓,κ_4}/4 - exp(-I*\\theta_{κ_1})*exp(I*\\theta_{κ_4})*Dagger(c_{-K,+,↑,κ_1})*c_{+K,-,↑,κ_2}*Dagger(c_{+K,-,↓,κ_3})*c_{-K,-,↓,κ_4}/4 - exp(-I*\\theta_{κ_1})*exp(I*\\theta_{κ_4})*Dagger(c_{-K,-,↑,κ_1})*c_{+K,+,↑,κ_2}*Dagger(c_{+K,+,↓,κ_3})*c_{-K,+,↓,κ_4}/4 + exp(-I*\\theta_{κ_1})*exp(I*\\theta_{κ_4})*Dagger(c_{-K,-,↑,κ_1})*c_{+K,+,↑,κ_2}*Dagger(c_{+K,+,↓,κ_3})*c_{-K,-,↓,κ_4}/4 - exp(-I*\\theta_{κ_1})*exp(I*\\theta_{κ_4})*Dagger(c_{-K,-,↑,κ_1})*c_{+K,+,↑,κ_2}*Dagger(c_{+K,-,↓,κ_3})*c_{-K,+,↓,κ_4}/4 + exp(-I*\\theta_{κ_1})*exp(I*\\theta_{κ_4})*Dagger(c_{-K,-,↑,κ_1})*c_{+K,+,↑,κ_2}*Dagger(c_{+K,-,↓,κ_3})*c_{-K,-,↓,κ_4}/4 - exp(-I*\\theta_{κ_1})*exp(I*\\theta_{κ_4})*Dagger(c_{-K,-,↑,κ_1})*c_{+K,-,↑,κ_2}*Dagger(c_{+K,+,↓,κ_3})*c_{-K,+,↓,κ_4}/4 + exp(-I*\\theta_{κ_1})*exp(I*\\theta_{κ_4})*Dagger(c_{-K,-,↑,κ_1})*c_{+K,-,↑,κ_2}*Dagger(c_{+K,+,↓,κ_3})*c_{-K,-,↓,κ_4}/4 - exp(-I*\\theta_{κ_1})*exp(I*\\theta_{κ_4})*Dagger(c_{-K,-,↑,κ_1})*c_{+K,-,↑,κ_2}*Dagger(c_{+K,-,↓,κ_3})*c_{-K,+,↓,κ_4}/4 + exp(-I*\\theta_{κ_1})*exp(I*\\theta_{κ_4})*Dagger(c_{-K,-,↑,κ_1})*c_{+K,-,↑,κ_2}*Dagger(c_{+K,-,↓,κ_3})*c_{-K,-,↓,κ_4}/4"
      ]
     },
     "execution_count": 26,
     "metadata": {},
     "output_type": "execute_result"
    }
   ],
   "source": [
    "H10_pm"
   ]
  },
  {
   "cell_type": "code",
   "execution_count": 47,
   "metadata": {},
   "outputs": [],
   "source": [
    "# H10_pm_proj=H10_pm.subs(rules_proj)\n",
    "H10_pm_proj=H10_pm.subs(rules_proj_1)"
   ]
  },
  {
   "cell_type": "code",
   "execution_count": 48,
   "metadata": {},
   "outputs": [
    {
     "data": {
      "text/latex": [
       "$\\displaystyle \\frac{e^{i \\left(- \\theta_{κ_1} + \\theta_{κ_2}\\right)} c_{+K,-,↑,κ_1}^{\\dagger} c_{+K,-,↑,κ_2} c_{-K,+,↓,κ_3}^{\\dagger} c_{-K,+,↓,κ_4}}{4} + \\frac{e^{i \\left(- \\theta_{κ_1} + \\theta_{κ_2}\\right)} c_{+K,-,↑,κ_1}^{\\dagger} c_{+K,-,↑,κ_2} c_{-K,+,↓,κ_3}^{\\dagger} c_{-K,-,↓,κ_4}}{4} + \\frac{e^{i \\left(- \\theta_{κ_1} + \\theta_{κ_2}\\right)} c_{+K,-,↑,κ_1}^{\\dagger} c_{+K,-,↑,κ_2} c_{-K,-,↓,κ_3}^{\\dagger} c_{-K,+,↓,κ_4}}{4} + \\frac{e^{i \\left(- \\theta_{κ_1} + \\theta_{κ_2}\\right)} c_{+K,-,↑,κ_1}^{\\dagger} c_{+K,-,↑,κ_2} c_{-K,-,↓,κ_3}^{\\dagger} c_{-K,-,↓,κ_4}}{4} + \\frac{e^{i \\left(- \\theta_{κ_1} + \\theta_{κ_2}\\right)} c_{-K,-,↑,κ_1}^{\\dagger} c_{-K,-,↑,κ_2} c_{+K,+,↓,κ_3}^{\\dagger} c_{+K,+,↓,κ_4}}{4} + \\frac{e^{i \\left(- \\theta_{κ_1} + \\theta_{κ_2}\\right)} c_{-K,-,↑,κ_1}^{\\dagger} c_{-K,-,↑,κ_2} c_{+K,+,↓,κ_3}^{\\dagger} c_{+K,-,↓,κ_4}}{4} + \\frac{e^{i \\left(- \\theta_{κ_1} + \\theta_{κ_2}\\right)} c_{-K,-,↑,κ_1}^{\\dagger} c_{-K,-,↑,κ_2} c_{+K,-,↓,κ_3}^{\\dagger} c_{+K,+,↓,κ_4}}{4} + \\frac{e^{i \\left(- \\theta_{κ_1} + \\theta_{κ_2}\\right)} c_{-K,-,↑,κ_1}^{\\dagger} c_{-K,-,↑,κ_2} c_{+K,-,↓,κ_3}^{\\dagger} c_{+K,-,↓,κ_4}}{4} - \\frac{e^{i \\left(- \\theta_{κ_1} + \\theta_{κ_4}\\right)} c_{+K,-,↑,κ_1}^{\\dagger} c_{-K,-,↑,κ_2} c_{-K,+,↓,κ_3}^{\\dagger} c_{+K,+,↓,κ_4}}{4} + \\frac{e^{i \\left(- \\theta_{κ_1} + \\theta_{κ_4}\\right)} c_{+K,-,↑,κ_1}^{\\dagger} c_{-K,-,↑,κ_2} c_{-K,+,↓,κ_3}^{\\dagger} c_{+K,-,↓,κ_4}}{4} - \\frac{e^{i \\left(- \\theta_{κ_1} + \\theta_{κ_4}\\right)} c_{+K,-,↑,κ_1}^{\\dagger} c_{-K,-,↑,κ_2} c_{-K,-,↓,κ_3}^{\\dagger} c_{+K,+,↓,κ_4}}{4} + \\frac{e^{i \\left(- \\theta_{κ_1} + \\theta_{κ_4}\\right)} c_{+K,-,↑,κ_1}^{\\dagger} c_{-K,-,↑,κ_2} c_{-K,-,↓,κ_3}^{\\dagger} c_{+K,-,↓,κ_4}}{4} - \\frac{e^{i \\left(- \\theta_{κ_1} + \\theta_{κ_4}\\right)} c_{-K,-,↑,κ_1}^{\\dagger} c_{+K,-,↑,κ_2} c_{+K,+,↓,κ_3}^{\\dagger} c_{-K,+,↓,κ_4}}{4} + \\frac{e^{i \\left(- \\theta_{κ_1} + \\theta_{κ_4}\\right)} c_{-K,-,↑,κ_1}^{\\dagger} c_{+K,-,↑,κ_2} c_{+K,+,↓,κ_3}^{\\dagger} c_{-K,-,↓,κ_4}}{4} - \\frac{e^{i \\left(- \\theta_{κ_1} + \\theta_{κ_4}\\right)} c_{-K,-,↑,κ_1}^{\\dagger} c_{+K,-,↑,κ_2} c_{+K,-,↓,κ_3}^{\\dagger} c_{-K,+,↓,κ_4}}{4} + \\frac{e^{i \\left(- \\theta_{κ_1} + \\theta_{κ_4}\\right)} c_{-K,-,↑,κ_1}^{\\dagger} c_{+K,-,↑,κ_2} c_{+K,-,↓,κ_3}^{\\dagger} c_{-K,-,↓,κ_4}}{4} - \\frac{e^{i \\left(\\theta_{κ_2} - \\theta_{κ_3}\\right)} c_{+K,-,↑,κ_1}^{\\dagger} c_{-K,-,↑,κ_2} c_{-K,+,↓,κ_3}^{\\dagger} c_{+K,+,↓,κ_4}}{4} - \\frac{e^{i \\left(\\theta_{κ_2} - \\theta_{κ_3}\\right)} c_{+K,-,↑,κ_1}^{\\dagger} c_{-K,-,↑,κ_2} c_{-K,+,↓,κ_3}^{\\dagger} c_{+K,-,↓,κ_4}}{4} + \\frac{e^{i \\left(\\theta_{κ_2} - \\theta_{κ_3}\\right)} c_{+K,-,↑,κ_1}^{\\dagger} c_{-K,-,↑,κ_2} c_{-K,-,↓,κ_3}^{\\dagger} c_{+K,+,↓,κ_4}}{4} + \\frac{e^{i \\left(\\theta_{κ_2} - \\theta_{κ_3}\\right)} c_{+K,-,↑,κ_1}^{\\dagger} c_{-K,-,↑,κ_2} c_{-K,-,↓,κ_3}^{\\dagger} c_{+K,-,↓,κ_4}}{4} - \\frac{e^{i \\left(\\theta_{κ_2} - \\theta_{κ_3}\\right)} c_{-K,-,↑,κ_1}^{\\dagger} c_{+K,-,↑,κ_2} c_{+K,+,↓,κ_3}^{\\dagger} c_{-K,+,↓,κ_4}}{4} - \\frac{e^{i \\left(\\theta_{κ_2} - \\theta_{κ_3}\\right)} c_{-K,-,↑,κ_1}^{\\dagger} c_{+K,-,↑,κ_2} c_{+K,+,↓,κ_3}^{\\dagger} c_{-K,-,↓,κ_4}}{4} + \\frac{e^{i \\left(\\theta_{κ_2} - \\theta_{κ_3}\\right)} c_{-K,-,↑,κ_1}^{\\dagger} c_{+K,-,↑,κ_2} c_{+K,-,↓,κ_3}^{\\dagger} c_{-K,+,↓,κ_4}}{4} + \\frac{e^{i \\left(\\theta_{κ_2} - \\theta_{κ_3}\\right)} c_{-K,-,↑,κ_1}^{\\dagger} c_{+K,-,↑,κ_2} c_{+K,-,↓,κ_3}^{\\dagger} c_{-K,-,↓,κ_4}}{4} + \\frac{e^{i \\left(- \\theta_{κ_3} + \\theta_{κ_4}\\right)} c_{+K,-,↑,κ_1}^{\\dagger} c_{+K,-,↑,κ_2} c_{-K,+,↓,κ_3}^{\\dagger} c_{-K,+,↓,κ_4}}{4} - \\frac{e^{i \\left(- \\theta_{κ_3} + \\theta_{κ_4}\\right)} c_{+K,-,↑,κ_1}^{\\dagger} c_{+K,-,↑,κ_2} c_{-K,+,↓,κ_3}^{\\dagger} c_{-K,-,↓,κ_4}}{4} - \\frac{e^{i \\left(- \\theta_{κ_3} + \\theta_{κ_4}\\right)} c_{+K,-,↑,κ_1}^{\\dagger} c_{+K,-,↑,κ_2} c_{-K,-,↓,κ_3}^{\\dagger} c_{-K,+,↓,κ_4}}{4} + \\frac{e^{i \\left(- \\theta_{κ_3} + \\theta_{κ_4}\\right)} c_{+K,-,↑,κ_1}^{\\dagger} c_{+K,-,↑,κ_2} c_{-K,-,↓,κ_3}^{\\dagger} c_{-K,-,↓,κ_4}}{4} + \\frac{e^{i \\left(- \\theta_{κ_3} + \\theta_{κ_4}\\right)} c_{-K,-,↑,κ_1}^{\\dagger} c_{-K,-,↑,κ_2} c_{+K,+,↓,κ_3}^{\\dagger} c_{+K,+,↓,κ_4}}{4} - \\frac{e^{i \\left(- \\theta_{κ_3} + \\theta_{κ_4}\\right)} c_{-K,-,↑,κ_1}^{\\dagger} c_{-K,-,↑,κ_2} c_{+K,+,↓,κ_3}^{\\dagger} c_{+K,-,↓,κ_4}}{4} - \\frac{e^{i \\left(- \\theta_{κ_3} + \\theta_{κ_4}\\right)} c_{-K,-,↑,κ_1}^{\\dagger} c_{-K,-,↑,κ_2} c_{+K,-,↓,κ_3}^{\\dagger} c_{+K,+,↓,κ_4}}{4} + \\frac{e^{i \\left(- \\theta_{κ_3} + \\theta_{κ_4}\\right)} c_{-K,-,↑,κ_1}^{\\dagger} c_{-K,-,↑,κ_2} c_{+K,-,↓,κ_3}^{\\dagger} c_{+K,-,↓,κ_4}}{4} + \\frac{e^{i \\left(- \\theta_{κ_1} + \\theta_{κ_2} - \\theta_{κ_3} + \\theta_{κ_4}\\right)} c_{+K,-,↑,κ_1}^{\\dagger} c_{+K,-,↑,κ_2} c_{+K,+,↓,κ_3}^{\\dagger} c_{+K,+,↓,κ_4}}{4} - \\frac{e^{i \\left(- \\theta_{κ_1} + \\theta_{κ_2} - \\theta_{κ_3} + \\theta_{κ_4}\\right)} c_{+K,-,↑,κ_1}^{\\dagger} c_{+K,-,↑,κ_2} c_{+K,+,↓,κ_3}^{\\dagger} c_{+K,-,↓,κ_4}}{4} - \\frac{e^{i \\left(- \\theta_{κ_1} + \\theta_{κ_2} - \\theta_{κ_3} + \\theta_{κ_4}\\right)} c_{+K,-,↑,κ_1}^{\\dagger} c_{+K,-,↑,κ_2} c_{+K,-,↓,κ_3}^{\\dagger} c_{+K,+,↓,κ_4}}{4} + \\frac{e^{i \\left(- \\theta_{κ_1} + \\theta_{κ_2} - \\theta_{κ_3} + \\theta_{κ_4}\\right)} c_{+K,-,↑,κ_1}^{\\dagger} c_{+K,-,↑,κ_2} c_{+K,-,↓,κ_3}^{\\dagger} c_{+K,-,↓,κ_4}}{4} + \\frac{e^{i \\left(- \\theta_{κ_1} + \\theta_{κ_2} - \\theta_{κ_3} + \\theta_{κ_4}\\right)} c_{-K,-,↑,κ_1}^{\\dagger} c_{-K,-,↑,κ_2} c_{-K,+,↓,κ_3}^{\\dagger} c_{-K,+,↓,κ_4}}{4} - \\frac{e^{i \\left(- \\theta_{κ_1} + \\theta_{κ_2} - \\theta_{κ_3} + \\theta_{κ_4}\\right)} c_{-K,-,↑,κ_1}^{\\dagger} c_{-K,-,↑,κ_2} c_{-K,+,↓,κ_3}^{\\dagger} c_{-K,-,↓,κ_4}}{4} - \\frac{e^{i \\left(- \\theta_{κ_1} + \\theta_{κ_2} - \\theta_{κ_3} + \\theta_{κ_4}\\right)} c_{-K,-,↑,κ_1}^{\\dagger} c_{-K,-,↑,κ_2} c_{-K,-,↓,κ_3}^{\\dagger} c_{-K,+,↓,κ_4}}{4} + \\frac{e^{i \\left(- \\theta_{κ_1} + \\theta_{κ_2} - \\theta_{κ_3} + \\theta_{κ_4}\\right)} c_{-K,-,↑,κ_1}^{\\dagger} c_{-K,-,↑,κ_2} c_{-K,-,↓,κ_3}^{\\dagger} c_{-K,-,↓,κ_4}}{4} + \\frac{c_{+K,-,↑,κ_1}^{\\dagger} c_{+K,-,↑,κ_2} c_{+K,+,↓,κ_3}^{\\dagger} c_{+K,+,↓,κ_4}}{4} + \\frac{c_{+K,-,↑,κ_1}^{\\dagger} c_{+K,-,↑,κ_2} c_{+K,+,↓,κ_3}^{\\dagger} c_{+K,-,↓,κ_4}}{4} + \\frac{c_{+K,-,↑,κ_1}^{\\dagger} c_{+K,-,↑,κ_2} c_{+K,-,↓,κ_3}^{\\dagger} c_{+K,+,↓,κ_4}}{4} + \\frac{c_{+K,-,↑,κ_1}^{\\dagger} c_{+K,-,↑,κ_2} c_{+K,-,↓,κ_3}^{\\dagger} c_{+K,-,↓,κ_4}}{4} + \\frac{c_{-K,-,↑,κ_1}^{\\dagger} c_{-K,-,↑,κ_2} c_{-K,+,↓,κ_3}^{\\dagger} c_{-K,+,↓,κ_4}}{4} + \\frac{c_{-K,-,↑,κ_1}^{\\dagger} c_{-K,-,↑,κ_2} c_{-K,+,↓,κ_3}^{\\dagger} c_{-K,-,↓,κ_4}}{4} + \\frac{c_{-K,-,↑,κ_1}^{\\dagger} c_{-K,-,↑,κ_2} c_{-K,-,↓,κ_3}^{\\dagger} c_{-K,+,↓,κ_4}}{4} + \\frac{c_{-K,-,↑,κ_1}^{\\dagger} c_{-K,-,↑,κ_2} c_{-K,-,↓,κ_3}^{\\dagger} c_{-K,-,↓,κ_4}}{4}$"
      ],
      "text/plain": [
       "exp(I*(-\\theta_{κ_1} + \\theta_{κ_2}))*Dagger(c_{+K,-,↑,κ_1})*c_{+K,-,↑,κ_2}*Dagger(c_{-K,+,↓,κ_3})*c_{-K,+,↓,κ_4}/4 + exp(I*(-\\theta_{κ_1} + \\theta_{κ_2}))*Dagger(c_{+K,-,↑,κ_1})*c_{+K,-,↑,κ_2}*Dagger(c_{-K,+,↓,κ_3})*c_{-K,-,↓,κ_4}/4 + exp(I*(-\\theta_{κ_1} + \\theta_{κ_2}))*Dagger(c_{+K,-,↑,κ_1})*c_{+K,-,↑,κ_2}*Dagger(c_{-K,-,↓,κ_3})*c_{-K,+,↓,κ_4}/4 + exp(I*(-\\theta_{κ_1} + \\theta_{κ_2}))*Dagger(c_{+K,-,↑,κ_1})*c_{+K,-,↑,κ_2}*Dagger(c_{-K,-,↓,κ_3})*c_{-K,-,↓,κ_4}/4 + exp(I*(-\\theta_{κ_1} + \\theta_{κ_2}))*Dagger(c_{-K,-,↑,κ_1})*c_{-K,-,↑,κ_2}*Dagger(c_{+K,+,↓,κ_3})*c_{+K,+,↓,κ_4}/4 + exp(I*(-\\theta_{κ_1} + \\theta_{κ_2}))*Dagger(c_{-K,-,↑,κ_1})*c_{-K,-,↑,κ_2}*Dagger(c_{+K,+,↓,κ_3})*c_{+K,-,↓,κ_4}/4 + exp(I*(-\\theta_{κ_1} + \\theta_{κ_2}))*Dagger(c_{-K,-,↑,κ_1})*c_{-K,-,↑,κ_2}*Dagger(c_{+K,-,↓,κ_3})*c_{+K,+,↓,κ_4}/4 + exp(I*(-\\theta_{κ_1} + \\theta_{κ_2}))*Dagger(c_{-K,-,↑,κ_1})*c_{-K,-,↑,κ_2}*Dagger(c_{+K,-,↓,κ_3})*c_{+K,-,↓,κ_4}/4 - exp(I*(-\\theta_{κ_1} + \\theta_{κ_4}))*Dagger(c_{+K,-,↑,κ_1})*c_{-K,-,↑,κ_2}*Dagger(c_{-K,+,↓,κ_3})*c_{+K,+,↓,κ_4}/4 + exp(I*(-\\theta_{κ_1} + \\theta_{κ_4}))*Dagger(c_{+K,-,↑,κ_1})*c_{-K,-,↑,κ_2}*Dagger(c_{-K,+,↓,κ_3})*c_{+K,-,↓,κ_4}/4 - exp(I*(-\\theta_{κ_1} + \\theta_{κ_4}))*Dagger(c_{+K,-,↑,κ_1})*c_{-K,-,↑,κ_2}*Dagger(c_{-K,-,↓,κ_3})*c_{+K,+,↓,κ_4}/4 + exp(I*(-\\theta_{κ_1} + \\theta_{κ_4}))*Dagger(c_{+K,-,↑,κ_1})*c_{-K,-,↑,κ_2}*Dagger(c_{-K,-,↓,κ_3})*c_{+K,-,↓,κ_4}/4 - exp(I*(-\\theta_{κ_1} + \\theta_{κ_4}))*Dagger(c_{-K,-,↑,κ_1})*c_{+K,-,↑,κ_2}*Dagger(c_{+K,+,↓,κ_3})*c_{-K,+,↓,κ_4}/4 + exp(I*(-\\theta_{κ_1} + \\theta_{κ_4}))*Dagger(c_{-K,-,↑,κ_1})*c_{+K,-,↑,κ_2}*Dagger(c_{+K,+,↓,κ_3})*c_{-K,-,↓,κ_4}/4 - exp(I*(-\\theta_{κ_1} + \\theta_{κ_4}))*Dagger(c_{-K,-,↑,κ_1})*c_{+K,-,↑,κ_2}*Dagger(c_{+K,-,↓,κ_3})*c_{-K,+,↓,κ_4}/4 + exp(I*(-\\theta_{κ_1} + \\theta_{κ_4}))*Dagger(c_{-K,-,↑,κ_1})*c_{+K,-,↑,κ_2}*Dagger(c_{+K,-,↓,κ_3})*c_{-K,-,↓,κ_4}/4 - exp(I*(\\theta_{κ_2} - \\theta_{κ_3}))*Dagger(c_{+K,-,↑,κ_1})*c_{-K,-,↑,κ_2}*Dagger(c_{-K,+,↓,κ_3})*c_{+K,+,↓,κ_4}/4 - exp(I*(\\theta_{κ_2} - \\theta_{κ_3}))*Dagger(c_{+K,-,↑,κ_1})*c_{-K,-,↑,κ_2}*Dagger(c_{-K,+,↓,κ_3})*c_{+K,-,↓,κ_4}/4 + exp(I*(\\theta_{κ_2} - \\theta_{κ_3}))*Dagger(c_{+K,-,↑,κ_1})*c_{-K,-,↑,κ_2}*Dagger(c_{-K,-,↓,κ_3})*c_{+K,+,↓,κ_4}/4 + exp(I*(\\theta_{κ_2} - \\theta_{κ_3}))*Dagger(c_{+K,-,↑,κ_1})*c_{-K,-,↑,κ_2}*Dagger(c_{-K,-,↓,κ_3})*c_{+K,-,↓,κ_4}/4 - exp(I*(\\theta_{κ_2} - \\theta_{κ_3}))*Dagger(c_{-K,-,↑,κ_1})*c_{+K,-,↑,κ_2}*Dagger(c_{+K,+,↓,κ_3})*c_{-K,+,↓,κ_4}/4 - exp(I*(\\theta_{κ_2} - \\theta_{κ_3}))*Dagger(c_{-K,-,↑,κ_1})*c_{+K,-,↑,κ_2}*Dagger(c_{+K,+,↓,κ_3})*c_{-K,-,↓,κ_4}/4 + exp(I*(\\theta_{κ_2} - \\theta_{κ_3}))*Dagger(c_{-K,-,↑,κ_1})*c_{+K,-,↑,κ_2}*Dagger(c_{+K,-,↓,κ_3})*c_{-K,+,↓,κ_4}/4 + exp(I*(\\theta_{κ_2} - \\theta_{κ_3}))*Dagger(c_{-K,-,↑,κ_1})*c_{+K,-,↑,κ_2}*Dagger(c_{+K,-,↓,κ_3})*c_{-K,-,↓,κ_4}/4 + exp(I*(-\\theta_{κ_3} + \\theta_{κ_4}))*Dagger(c_{+K,-,↑,κ_1})*c_{+K,-,↑,κ_2}*Dagger(c_{-K,+,↓,κ_3})*c_{-K,+,↓,κ_4}/4 - exp(I*(-\\theta_{κ_3} + \\theta_{κ_4}))*Dagger(c_{+K,-,↑,κ_1})*c_{+K,-,↑,κ_2}*Dagger(c_{-K,+,↓,κ_3})*c_{-K,-,↓,κ_4}/4 - exp(I*(-\\theta_{κ_3} + \\theta_{κ_4}))*Dagger(c_{+K,-,↑,κ_1})*c_{+K,-,↑,κ_2}*Dagger(c_{-K,-,↓,κ_3})*c_{-K,+,↓,κ_4}/4 + exp(I*(-\\theta_{κ_3} + \\theta_{κ_4}))*Dagger(c_{+K,-,↑,κ_1})*c_{+K,-,↑,κ_2}*Dagger(c_{-K,-,↓,κ_3})*c_{-K,-,↓,κ_4}/4 + exp(I*(-\\theta_{κ_3} + \\theta_{κ_4}))*Dagger(c_{-K,-,↑,κ_1})*c_{-K,-,↑,κ_2}*Dagger(c_{+K,+,↓,κ_3})*c_{+K,+,↓,κ_4}/4 - exp(I*(-\\theta_{κ_3} + \\theta_{κ_4}))*Dagger(c_{-K,-,↑,κ_1})*c_{-K,-,↑,κ_2}*Dagger(c_{+K,+,↓,κ_3})*c_{+K,-,↓,κ_4}/4 - exp(I*(-\\theta_{κ_3} + \\theta_{κ_4}))*Dagger(c_{-K,-,↑,κ_1})*c_{-K,-,↑,κ_2}*Dagger(c_{+K,-,↓,κ_3})*c_{+K,+,↓,κ_4}/4 + exp(I*(-\\theta_{κ_3} + \\theta_{κ_4}))*Dagger(c_{-K,-,↑,κ_1})*c_{-K,-,↑,κ_2}*Dagger(c_{+K,-,↓,κ_3})*c_{+K,-,↓,κ_4}/4 + exp(I*(-\\theta_{κ_1} + \\theta_{κ_2} - \\theta_{κ_3} + \\theta_{κ_4}))*Dagger(c_{+K,-,↑,κ_1})*c_{+K,-,↑,κ_2}*Dagger(c_{+K,+,↓,κ_3})*c_{+K,+,↓,κ_4}/4 - exp(I*(-\\theta_{κ_1} + \\theta_{κ_2} - \\theta_{κ_3} + \\theta_{κ_4}))*Dagger(c_{+K,-,↑,κ_1})*c_{+K,-,↑,κ_2}*Dagger(c_{+K,+,↓,κ_3})*c_{+K,-,↓,κ_4}/4 - exp(I*(-\\theta_{κ_1} + \\theta_{κ_2} - \\theta_{κ_3} + \\theta_{κ_4}))*Dagger(c_{+K,-,↑,κ_1})*c_{+K,-,↑,κ_2}*Dagger(c_{+K,-,↓,κ_3})*c_{+K,+,↓,κ_4}/4 + exp(I*(-\\theta_{κ_1} + \\theta_{κ_2} - \\theta_{κ_3} + \\theta_{κ_4}))*Dagger(c_{+K,-,↑,κ_1})*c_{+K,-,↑,κ_2}*Dagger(c_{+K,-,↓,κ_3})*c_{+K,-,↓,κ_4}/4 + exp(I*(-\\theta_{κ_1} + \\theta_{κ_2} - \\theta_{κ_3} + \\theta_{κ_4}))*Dagger(c_{-K,-,↑,κ_1})*c_{-K,-,↑,κ_2}*Dagger(c_{-K,+,↓,κ_3})*c_{-K,+,↓,κ_4}/4 - exp(I*(-\\theta_{κ_1} + \\theta_{κ_2} - \\theta_{κ_3} + \\theta_{κ_4}))*Dagger(c_{-K,-,↑,κ_1})*c_{-K,-,↑,κ_2}*Dagger(c_{-K,+,↓,κ_3})*c_{-K,-,↓,κ_4}/4 - exp(I*(-\\theta_{κ_1} + \\theta_{κ_2} - \\theta_{κ_3} + \\theta_{κ_4}))*Dagger(c_{-K,-,↑,κ_1})*c_{-K,-,↑,κ_2}*Dagger(c_{-K,-,↓,κ_3})*c_{-K,+,↓,κ_4}/4 + exp(I*(-\\theta_{κ_1} + \\theta_{κ_2} - \\theta_{κ_3} + \\theta_{κ_4}))*Dagger(c_{-K,-,↑,κ_1})*c_{-K,-,↑,κ_2}*Dagger(c_{-K,-,↓,κ_3})*c_{-K,-,↓,κ_4}/4 + Dagger(c_{+K,-,↑,κ_1})*c_{+K,-,↑,κ_2}*Dagger(c_{+K,+,↓,κ_3})*c_{+K,+,↓,κ_4}/4 + Dagger(c_{+K,-,↑,κ_1})*c_{+K,-,↑,κ_2}*Dagger(c_{+K,+,↓,κ_3})*c_{+K,-,↓,κ_4}/4 + Dagger(c_{+K,-,↑,κ_1})*c_{+K,-,↑,κ_2}*Dagger(c_{+K,-,↓,κ_3})*c_{+K,+,↓,κ_4}/4 + Dagger(c_{+K,-,↑,κ_1})*c_{+K,-,↑,κ_2}*Dagger(c_{+K,-,↓,κ_3})*c_{+K,-,↓,κ_4}/4 + Dagger(c_{-K,-,↑,κ_1})*c_{-K,-,↑,κ_2}*Dagger(c_{-K,+,↓,κ_3})*c_{-K,+,↓,κ_4}/4 + Dagger(c_{-K,-,↑,κ_1})*c_{-K,-,↑,κ_2}*Dagger(c_{-K,+,↓,κ_3})*c_{-K,-,↓,κ_4}/4 + Dagger(c_{-K,-,↑,κ_1})*c_{-K,-,↑,κ_2}*Dagger(c_{-K,-,↓,κ_3})*c_{-K,+,↓,κ_4}/4 + Dagger(c_{-K,-,↑,κ_1})*c_{-K,-,↑,κ_2}*Dagger(c_{-K,-,↓,κ_3})*c_{-K,-,↓,κ_4}/4"
      ]
     },
     "execution_count": 48,
     "metadata": {},
     "output_type": "execute_result"
    }
   ],
   "source": [
    "H10_pm_proj.powsimp()"
   ]
  },
  {
   "cell_type": "code",
   "execution_count": 45,
   "metadata": {},
   "outputs": [],
   "source": [
    "expval={}\n",
    "expval={(i,j): Symbol(rf'\\langle {i}^\\dagger {j} \\rangle') for i in sum([list(psil_vec[i]) for i in range(1,5)],[]) for j in sum([list(psil_vec[i]) for i in range(1,5)],[])}\n",
    "expval.update({(i,j): Symbol(rf'\\langle {i}^\\dagger {j} \\rangle') for i in sum([list(cl_vec[i]) for i in range(1,5)],[]) for j in sum([list(cl_vec[i]) for i in range(1,5)],[])})"
   ]
  },
  {
   "cell_type": "code",
   "execution_count": 46,
   "metadata": {},
   "outputs": [],
   "source": [
    "import re\n",
    "def _idx(op):\n",
    "    op_str=str(op)\n",
    "    match = re.search(r'κ_(\\d+)', op_str)\n",
    "    if match:\n",
    "        return int(match.group(1))\n",
    "    else:\n",
    "        raise ValueError(f'cannot find index in {op_str}')\n",
    "    "
   ]
  },
  {
   "cell_type": "code",
   "execution_count": 47,
   "metadata": {},
   "outputs": [],
   "source": [
    "def wick_expansion(op):\n",
    "    '''\n",
    "    op: list of operators\n",
    "    Assume the input operator is in the order of c^dagger c c^dagger c\n",
    "    '''\n",
    "    hartree=(expval[(Dagger(op[0]),op[1])]*op[2]*op[3] + op[0]*op[1]*expval[(Dagger(op[2]),op[3])])* delta[(_idx(op[0]),_idx(op[1]))]*delta[(_idx(op[2]),_idx(op[3]))]\n",
    "    hartree_exp=expval[(Dagger(op[0]),op[1])]* expval[(Dagger(op[2]),op[3])]* delta[(_idx(op[0]),_idx(op[1]))]*delta[(_idx(op[2]),_idx(op[3]))]\n",
    "    fock=(-expval[(Dagger(op[0]),op[3])]*op[2]*op[1] - op[0]*op[3]*expval[(Dagger(op[2]),op[1])] ) *delta[(_idx(op[0]),_idx(op[3]))]*delta[(_idx(op[2]),_idx(op[1]))]\n",
    "    fock_exp=-expval[(Dagger(op[0]),op[3])]* expval[(Dagger(op[2]),op[1])] *delta[(_idx(op[0]),_idx(op[3]))]*delta[(_idx(op[2]),_idx(op[1]))]\n",
    "    return hartree, fock,hartree_exp,fock_exp\n"
   ]
  },
  {
   "cell_type": "code",
   "execution_count": 48,
   "metadata": {},
   "outputs": [],
   "source": [
    "def extract_op(h):\n",
    "    '''\n",
    "    h: expresion\n",
    "    '''\n",
    "    args=h.args\n",
    "    op_list=[op for op in args if type(op) is type(psil_vec[1][0]) or type(op) is type(psil_d_vec[1][0]) or type(op) is type(psil_d_vec[1][0]) ]\n",
    "    num_list=list(set(args)-set(op_list))\n",
    "    if len(num_list)==0:\n",
    "        num_list=[1]\n",
    "    return num_list,op_list"
   ]
  },
  {
   "cell_type": "code",
   "execution_count": 49,
   "metadata": {},
   "outputs": [],
   "source": [
    "def perform_wicks(h,delta=True):\n",
    "    '''\n",
    "    h: expression\n",
    "    '''\n",
    "    num_list,op_list=extract_op(h)\n",
    "    hartree, fock,hartree_exp,fock_exp=wick_expansion(op_list)\n",
    "    num=h.func(*num_list)\n",
    "    return num*hartree, num*fock,num*hartree_exp,num*fock_exp"
   ]
  },
  {
   "cell_type": "code",
   "execution_count": 50,
   "metadata": {},
   "outputs": [],
   "source": [
    "def perform_wicks_all(h):\n",
    "    hartree_list,fock_list,hartree_exp_list,fock_exp_list=list(zip(*[perform_wicks(s) for s in h.args]))\n",
    "    return h.func(*hartree_list),h.func(*fock_list),h.func(*hartree_exp_list), h.func(*fock_exp_list)"
   ]
  },
  {
   "cell_type": "code",
   "execution_count": 51,
   "metadata": {},
   "outputs": [],
   "source": [
    "delta={}\n",
    "delta={(i,j):Symbol(rf'\\delta_{{{i},{j}}}',real=True) for i in range(1,5) for j in range(1,5) if i!=j}"
   ]
  },
  {
   "cell_type": "code",
   "execution_count": 52,
   "metadata": {},
   "outputs": [
    {
     "data": {
      "text/latex": [
       "$\\displaystyle \\delta_{1,2}$"
      ],
      "text/plain": [
       "\\delta_{1,2}"
      ]
     },
     "execution_count": 52,
     "metadata": {},
     "output_type": "execute_result"
    }
   ],
   "source": [
    "delta[(1,2)]"
   ]
  },
  {
   "cell_type": "code",
   "execution_count": 53,
   "metadata": {},
   "outputs": [],
   "source": [
    "H10_pm_proj_H,H10_pm_proj_F,H10_pm_proj_H_exp,H10_pm_proj_F_exp=perform_wicks_all(H10_pm_proj)"
   ]
  },
  {
   "cell_type": "code",
   "execution_count": 54,
   "metadata": {},
   "outputs": [],
   "source": [
    "def extract_delta(h):\n",
    "    delta_list=[]\n",
    "    non_delta_list=[]\n",
    "    for op in h.args:\n",
    "        match= re.search(r'\\\\delta_{(\\d+),(\\d+)}', str(op))\n",
    "        if match:\n",
    "            delta_list.append((int(match.group(1)),int(match.group(2))))\n",
    "        else:\n",
    "            non_delta_list.append(op)\n",
    "    return delta_list,h.func(*non_delta_list)"
   ]
  },
  {
   "cell_type": "code",
   "execution_count": 55,
   "metadata": {},
   "outputs": [],
   "source": [
    "def sum_delta(h):\n",
    "    delta_list,non_delta_list=extract_delta(h)\n",
    "    r_theta=[]\n",
    "    r_psil=[]\n",
    "    r_cl=[]\n",
    "    r_order=[]\n",
    "    r_kappa=[]\n",
    "\n",
    "    for i,j in delta_list:\n",
    "        psi_i_list=[(p1,p2) for p1 in psil_vec[i] for p2 in psil_vec[j]]\n",
    "        psi_j_list=[(p1,p2) for p1 in psil_vec[i] for p2 in psil_vec[i]]\n",
    "        c_i_list=[(p1,p2) for p1 in cl_vec[i] for p2 in cl_vec[j]]\n",
    "        c_j_list=[(p1,p2) for p1 in cl_vec[i] for p2 in cl_vec[i]]\n",
    "        r_theta.append((theta[j],theta[i]))\n",
    "        r_psil=r_psil+list(zip(psil_vec[j],psil_vec[i]))\n",
    "        r_cl=r_cl+list(zip(cl_vec[j],cl_vec[i]))\n",
    "        r_order=r_order+[(expval[psi_i],expval[psi_j]) for psi_i,psi_j in zip(psi_i_list,psi_j_list)] + [(expval[c_i],expval[c_j]) for c_i,c_j in zip(c_i_list,c_j_list)]\n",
    "        r_kappa.append((κ[j],κ[i]))\n",
    "    \n",
    "    rules=r_theta+r_psil+r_cl+r_order+r_kappa\n",
    "\n",
    "\n",
    "    return non_delta_list.subs(rules)"
   ]
  },
  {
   "cell_type": "code",
   "execution_count": 32,
   "metadata": {},
   "outputs": [],
   "source": [
    "κ={i:Symbol(f'κ_{i}') for i in range(1,5)}"
   ]
  },
  {
   "cell_type": "code",
   "execution_count": 57,
   "metadata": {},
   "outputs": [],
   "source": [
    "def generate_relabel_rule(i,j):\n",
    "    '''\n",
    "    substitute i to j\n",
    "    '''\n",
    "    psi_i_list=[(p1,p2) for p1 in psil_vec[i] for p2 in psil_vec[i]]\n",
    "    psi_j_list=[(p1,p2) for p1 in psil_vec[j] for p2 in psil_vec[j]]\n",
    "    c_i_list=[(p1,p2) for p1 in cl_vec[i] for p2 in cl_vec[i]]\n",
    "    c_j_list=[(p1,p2) for p1 in cl_vec[j] for p2 in cl_vec[j]]\n",
    "\n",
    "    return [(theta[i],theta[j])]+ [(κ[i],κ[j])]+list(zip(psil_vec[i],psil_vec[j])) + list(zip(psil_d_vec[i],psil_d_vec[j])) + [(expval[psi_i],expval[psi_j]) for psi_i,psi_j in zip(psi_i_list,psi_j_list)] + list(zip(cl_vec[i],cl_vec[j])) + list(zip(cl_d_vec[i],cl_d_vec[j])) + [(expval[c_i],expval[c_j]) for c_i,c_j in zip(c_i_list,c_j_list)]\n",
    "    "
   ]
  },
  {
   "cell_type": "code",
   "execution_count": 58,
   "metadata": {},
   "outputs": [],
   "source": [
    "rule32=generate_relabel_rule(3,2)\n",
    "rule13=generate_relabel_rule(1,3)\n",
    "rule21=generate_relabel_rule(2,1)\n",
    "def relabel_idx(h):\n",
    "    '''\n",
    "    Change psi_dagger (c_dagger) /psi (c)-> κ1\n",
    "    and order parameter -> κ3\n",
    "    use k2 to transit\n",
    "    κ3 -> κ2\n",
    "    κ1 -> κ3\n",
    "    κ2 -> κ1\n",
    "    '''\n",
    "    \n",
    "    if set(psil_vec[3]).intersection(set(h.args)) or set(cl_vec[3]).intersection(set(h.args)):\n",
    "        return h.subs(rule32).subs(rule13).subs(rule21)\n",
    "    else:\n",
    "        return h\n"
   ]
  },
  {
   "cell_type": "code",
   "execution_count": 59,
   "metadata": {},
   "outputs": [],
   "source": [
    "def sum_delta_all(h,relabel=False):\n",
    "    if relabel:\n",
    "        return h.func(*[relabel_idx(sum_delta(h1)) for h1 in h.args])\n",
    "    else:\n",
    "        return h.func(*[sum_delta(h1) for h1 in h.args])"
   ]
  },
  {
   "cell_type": "code",
   "execution_count": 60,
   "metadata": {},
   "outputs": [],
   "source": [
    "H10_pm_proj_F_bilinear=sum_delta_all(H10_pm_proj_F.expand(),relabel=True)"
   ]
  },
  {
   "cell_type": "code",
   "execution_count": 61,
   "metadata": {},
   "outputs": [],
   "source": [
    "rules_intravalley=[(expval[(psi[\"\".join([λ1,l1,σ1,'3'])],psi[\"\".join([λ2,l2,σ2,'3'])])],0) for λ1,λ2 in [\"-+\",\"+-\"] for l1 in \"-+\" for l2 in \"-+\" for σ1 in 'ud' for σ2 in 'ud']+[(expval[(c[\"\".join([λ1,l1,σ1,'3'])],c[\"\".join([λ2,l2,σ2,'3'])])],0) for λ1,λ2 in [\"-+\",\"+-\"] for l1 in \"-+\" for l2 in \"-+\" for σ1 in 'ud' for σ2 in 'ud']"
   ]
  },
  {
   "cell_type": "code",
   "execution_count": 62,
   "metadata": {},
   "outputs": [],
   "source": [
    "rules_intervalley=[(expval[(psi[\"\".join([λ,l1,σ1,'3'])],psi[\"\".join([λ,l2,σ2,'3'])])],0) for λ in \"-+\" for l1 in \"-+\" for l2 in \"-+\" for σ1 in 'ud' for σ2 in 'ud']+[(expval[(c[\"\".join([λ,l1,σ1,'3'])],c[\"\".join([λ,l2,σ2,'3'])])],0) for λ in \"-+\" for l1 in \"-+\" for l2 in \"-+\" for σ1 in 'ud' for σ2 in 'ud']"
   ]
  },
  {
   "cell_type": "code",
   "execution_count": 63,
   "metadata": {},
   "outputs": [],
   "source": [
    "H10_intra=H10_pm_proj_F_bilinear.subs(rules_intravalley).powsimp().rewrite(cos).expand()"
   ]
  },
  {
   "cell_type": "code",
   "execution_count": 64,
   "metadata": {},
   "outputs": [
    {
     "data": {
      "text/latex": [
       "$\\displaystyle - \\frac{\\langle c_{+K,+,↓,κ_3}^\\dagger c_{+K,-,↑,κ_3} \\rangle c_{+K,-,↑,κ_1}^{\\dagger} c_{+K,+,↓,κ_1}}{2} + \\frac{\\langle c_{+K,+,↓,κ_3}^\\dagger c_{+K,-,↑,κ_3} \\rangle c_{-K,-,↑,κ_1}^{\\dagger} c_{-K,+,↓,κ_1}}{2} - \\frac{\\langle c_{+K,-,↑,κ_3}^\\dagger c_{+K,+,↓,κ_3} \\rangle c_{+K,+,↓,κ_1}^{\\dagger} c_{+K,-,↑,κ_1}}{2} + \\frac{\\langle c_{+K,-,↑,κ_3}^\\dagger c_{+K,+,↓,κ_3} \\rangle c_{-K,+,↓,κ_1}^{\\dagger} c_{-K,-,↑,κ_1}}{2} + \\frac{\\langle c_{-K,+,↓,κ_3}^\\dagger c_{-K,-,↑,κ_3} \\rangle c_{+K,-,↑,κ_1}^{\\dagger} c_{+K,+,↓,κ_1}}{2} - \\frac{\\langle c_{-K,+,↓,κ_3}^\\dagger c_{-K,-,↑,κ_3} \\rangle c_{-K,-,↑,κ_1}^{\\dagger} c_{-K,+,↓,κ_1}}{2} + \\frac{\\langle c_{-K,-,↑,κ_3}^\\dagger c_{-K,+,↓,κ_3} \\rangle c_{+K,+,↓,κ_1}^{\\dagger} c_{+K,-,↑,κ_1}}{2} - \\frac{\\langle c_{-K,-,↑,κ_3}^\\dagger c_{-K,+,↓,κ_3} \\rangle c_{-K,+,↓,κ_1}^{\\dagger} c_{-K,-,↑,κ_1}}{2}$"
      ],
      "text/plain": [
       "-\\langle c_{+K,+,↓,κ_3}^\\dagger c_{+K,-,↑,κ_3} \\rangle*Dagger(c_{+K,-,↑,κ_1})*c_{+K,+,↓,κ_1}/2 + \\langle c_{+K,+,↓,κ_3}^\\dagger c_{+K,-,↑,κ_3} \\rangle*Dagger(c_{-K,-,↑,κ_1})*c_{-K,+,↓,κ_1}/2 - \\langle c_{+K,-,↑,κ_3}^\\dagger c_{+K,+,↓,κ_3} \\rangle*Dagger(c_{+K,+,↓,κ_1})*c_{+K,-,↑,κ_1}/2 + \\langle c_{+K,-,↑,κ_3}^\\dagger c_{+K,+,↓,κ_3} \\rangle*Dagger(c_{-K,+,↓,κ_1})*c_{-K,-,↑,κ_1}/2 + \\langle c_{-K,+,↓,κ_3}^\\dagger c_{-K,-,↑,κ_3} \\rangle*Dagger(c_{+K,-,↑,κ_1})*c_{+K,+,↓,κ_1}/2 - \\langle c_{-K,+,↓,κ_3}^\\dagger c_{-K,-,↑,κ_3} \\rangle*Dagger(c_{-K,-,↑,κ_1})*c_{-K,+,↓,κ_1}/2 + \\langle c_{-K,-,↑,κ_3}^\\dagger c_{-K,+,↓,κ_3} \\rangle*Dagger(c_{+K,+,↓,κ_1})*c_{+K,-,↑,κ_1}/2 - \\langle c_{-K,-,↑,κ_3}^\\dagger c_{-K,+,↓,κ_3} \\rangle*Dagger(c_{-K,+,↓,κ_1})*c_{-K,-,↑,κ_1}/2"
      ]
     },
     "execution_count": 64,
     "metadata": {},
     "output_type": "execute_result"
    }
   ],
   "source": [
    "H10_intra"
   ]
  },
  {
   "cell_type": "code",
   "execution_count": 65,
   "metadata": {},
   "outputs": [],
   "source": [
    "H10_inter=H10_pm_proj_F_bilinear.subs(rules_intervalley).powsimp().rewrite(cos).expand()"
   ]
  },
  {
   "cell_type": "code",
   "execution_count": 66,
   "metadata": {},
   "outputs": [
    {
     "data": {
      "text/latex": [
       "$\\displaystyle - \\frac{\\langle c_{+K,+,↓,κ_3}^\\dagger c_{-K,-,↑,κ_3} \\rangle \\cos{\\left(\\theta_{κ_1} - \\theta_{κ_3} \\right)} c_{-K,-,↑,κ_1}^{\\dagger} c_{+K,+,↓,κ_1}}{2} - \\frac{\\langle c_{+K,-,↑,κ_3}^\\dagger c_{-K,+,↓,κ_3} \\rangle \\cos{\\left(\\theta_{κ_1} - \\theta_{κ_3} \\right)} c_{-K,+,↓,κ_1}^{\\dagger} c_{+K,-,↑,κ_1}}{2} - \\frac{\\langle c_{-K,+,↓,κ_3}^\\dagger c_{+K,-,↑,κ_3} \\rangle \\cos{\\left(\\theta_{κ_1} - \\theta_{κ_3} \\right)} c_{+K,-,↑,κ_1}^{\\dagger} c_{-K,+,↓,κ_1}}{2} - \\frac{\\langle c_{-K,-,↑,κ_3}^\\dagger c_{+K,+,↓,κ_3} \\rangle \\cos{\\left(\\theta_{κ_1} - \\theta_{κ_3} \\right)} c_{+K,+,↓,κ_1}^{\\dagger} c_{-K,-,↑,κ_1}}{2}$"
      ],
      "text/plain": [
       "-\\langle c_{+K,+,↓,κ_3}^\\dagger c_{-K,-,↑,κ_3} \\rangle*cos(\\theta_{κ_1} - \\theta_{κ_3})*Dagger(c_{-K,-,↑,κ_1})*c_{+K,+,↓,κ_1}/2 - \\langle c_{+K,-,↑,κ_3}^\\dagger c_{-K,+,↓,κ_3} \\rangle*cos(\\theta_{κ_1} - \\theta_{κ_3})*Dagger(c_{-K,+,↓,κ_1})*c_{+K,-,↑,κ_1}/2 - \\langle c_{-K,+,↓,κ_3}^\\dagger c_{+K,-,↑,κ_3} \\rangle*cos(\\theta_{κ_1} - \\theta_{κ_3})*Dagger(c_{+K,-,↑,κ_1})*c_{-K,+,↓,κ_1}/2 - \\langle c_{-K,-,↑,κ_3}^\\dagger c_{+K,+,↓,κ_3} \\rangle*cos(\\theta_{κ_1} - \\theta_{κ_3})*Dagger(c_{+K,+,↓,κ_1})*c_{-K,-,↑,κ_1}/2"
      ]
     },
     "execution_count": 66,
     "metadata": {},
     "output_type": "execute_result"
    }
   ],
   "source": [
    "H10_inter"
   ]
  },
  {
   "cell_type": "code",
   "execution_count": 67,
   "metadata": {},
   "outputs": [],
   "source": [
    "H10_pm_proj_F_exp_const=-sum_delta_all(H10_pm_proj_F_exp)"
   ]
  },
  {
   "cell_type": "code",
   "execution_count": 68,
   "metadata": {},
   "outputs": [
    {
     "data": {
      "text/latex": [
       "$\\displaystyle \\frac{\\langle c_{+K,+,↓,κ_3}^\\dagger c_{-K,-,↑,κ_3} \\rangle \\langle c_{-K,-,↑,κ_1}^\\dagger c_{+K,+,↓,κ_1} \\rangle \\cos{\\left(\\theta_{κ_1} - \\theta_{κ_3} \\right)}}{2} + \\frac{\\langle c_{+K,-,↑,κ_1}^\\dagger c_{-K,+,↓,κ_1} \\rangle \\langle c_{-K,+,↓,κ_3}^\\dagger c_{+K,-,↑,κ_3} \\rangle \\cos{\\left(\\theta_{κ_1} - \\theta_{κ_3} \\right)}}{2}$"
      ],
      "text/plain": [
       "\\langle c_{+K,+,↓,κ_3}^\\dagger c_{-K,-,↑,κ_3} \\rangle*\\langle c_{-K,-,↑,κ_1}^\\dagger c_{+K,+,↓,κ_1} \\rangle*cos(\\theta_{κ_1} - \\theta_{κ_3})/2 + \\langle c_{+K,-,↑,κ_1}^\\dagger c_{-K,+,↓,κ_1} \\rangle*\\langle c_{-K,+,↓,κ_3}^\\dagger c_{+K,-,↑,κ_3} \\rangle*cos(\\theta_{κ_1} - \\theta_{κ_3})/2"
      ]
     },
     "execution_count": 68,
     "metadata": {},
     "output_type": "execute_result"
    }
   ],
   "source": [
    "H10_pm_proj_F_exp_const.subs(rules_intervalley).powsimp().rewrite(cos).expand()"
   ]
  },
  {
   "cell_type": "code",
   "execution_count": 69,
   "metadata": {},
   "outputs": [
    {
     "data": {
      "text/latex": [
       "$\\displaystyle \\frac{\\langle c_{+K,+,↓,κ_3}^\\dagger c_{+K,-,↑,κ_3} \\rangle \\langle c_{+K,-,↑,κ_1}^\\dagger c_{+K,+,↓,κ_1} \\rangle}{2} - \\frac{\\langle c_{+K,+,↓,κ_3}^\\dagger c_{+K,-,↑,κ_3} \\rangle \\langle c_{-K,-,↑,κ_1}^\\dagger c_{-K,+,↓,κ_1} \\rangle}{2} - \\frac{\\langle c_{+K,-,↑,κ_1}^\\dagger c_{+K,+,↓,κ_1} \\rangle \\langle c_{-K,+,↓,κ_3}^\\dagger c_{-K,-,↑,κ_3} \\rangle}{2} + \\frac{\\langle c_{-K,+,↓,κ_3}^\\dagger c_{-K,-,↑,κ_3} \\rangle \\langle c_{-K,-,↑,κ_1}^\\dagger c_{-K,+,↓,κ_1} \\rangle}{2}$"
      ],
      "text/plain": [
       "\\langle c_{+K,+,↓,κ_3}^\\dagger c_{+K,-,↑,κ_3} \\rangle*\\langle c_{+K,-,↑,κ_1}^\\dagger c_{+K,+,↓,κ_1} \\rangle/2 - \\langle c_{+K,+,↓,κ_3}^\\dagger c_{+K,-,↑,κ_3} \\rangle*\\langle c_{-K,-,↑,κ_1}^\\dagger c_{-K,+,↓,κ_1} \\rangle/2 - \\langle c_{+K,-,↑,κ_1}^\\dagger c_{+K,+,↓,κ_1} \\rangle*\\langle c_{-K,+,↓,κ_3}^\\dagger c_{-K,-,↑,κ_3} \\rangle/2 + \\langle c_{-K,+,↓,κ_3}^\\dagger c_{-K,-,↑,κ_3} \\rangle*\\langle c_{-K,-,↑,κ_1}^\\dagger c_{-K,+,↓,κ_1} \\rangle/2"
      ]
     },
     "execution_count": 69,
     "metadata": {},
     "output_type": "execute_result"
    }
   ],
   "source": [
    "H10_pm_proj_F_exp_const.subs(rules_intravalley).powsimp().rewrite(cos).expand()"
   ]
  },
  {
   "cell_type": "code",
   "execution_count": 298,
   "metadata": {},
   "outputs": [
    {
     "data": {
      "text/latex": [
       "$\\displaystyle \\left[\\begin{matrix}\\frac{\\sqrt{3}}{3}\\\\0\\end{matrix}\\right]$"
      ],
      "text/plain": [
       "Matrix([\n",
       "[sqrt(3)/3],\n",
       "[        0]])"
      ]
     },
     "execution_count": 298,
     "metadata": {},
     "output_type": "execute_result"
    }
   ],
   "source": [
    "K['+']"
   ]
  },
  {
   "cell_type": "code",
   "execution_count": 159,
   "metadata": {},
   "outputs": [],
   "source": [
    "z4=zeros(4,4)\n",
    "mat4={}\n",
    "for i in range(4):\n",
    "    for j in range(4):\n",
    "        tmp=z4.copy()\n",
    "        tmp[i,j]=1\n",
    "        mat4[(i,j)]=tmp.copy()"
   ]
  },
  {
   "cell_type": "code",
   "execution_count": 173,
   "metadata": {},
   "outputs": [],
   "source": [
    "ε={\"\".join([λ,l,σ,str(k)]): Operator(f'ε_{{{λ}K,{l},{spin(σ)},κ_{k}}}') for λ in '-+' for l in '-+' for σ in 'ud' for k in range(4)}"
   ]
  },
  {
   "cell_type": "code",
   "execution_count": 174,
   "metadata": {},
   "outputs": [],
   "source": [
    "ek=sum([ε[key]*Dagger(c[key])*c[key] for key in ['+-u1','--u1','++d1','-+d1']])\n",
    "# diag(ε['+u1'],ε['-u1'],ε['+d1'],ε['-d1'])"
   ]
  },
  {
   "cell_type": "code",
   "execution_count": 299,
   "metadata": {},
   "outputs": [
    {
     "data": {
      "text/latex": [
       "$\\displaystyle ε_{+K,+,↓,κ_1} c_{+K,+,↓,κ_1}^{\\dagger} c_{+K,+,↓,κ_1} + ε_{+K,-,↑,κ_1} c_{+K,-,↑,κ_1}^{\\dagger} c_{+K,-,↑,κ_1} + ε_{-K,+,↓,κ_1} c_{-K,+,↓,κ_1}^{\\dagger} c_{-K,+,↓,κ_1} + ε_{-K,-,↑,κ_1} c_{-K,-,↑,κ_1}^{\\dagger} c_{-K,-,↑,κ_1}$"
      ],
      "text/plain": [
       "ε_{+K,+,↓,κ_1}*Dagger(c_{+K,+,↓,κ_1})*c_{+K,+,↓,κ_1} + ε_{+K,-,↑,κ_1}*Dagger(c_{+K,-,↑,κ_1})*c_{+K,-,↑,κ_1} + ε_{-K,+,↓,κ_1}*Dagger(c_{-K,+,↓,κ_1})*c_{-K,+,↓,κ_1} + ε_{-K,-,↑,κ_1}*Dagger(c_{-K,-,↑,κ_1})*c_{-K,-,↑,κ_1}"
      ]
     },
     "execution_count": 299,
     "metadata": {},
     "output_type": "execute_result"
    }
   ],
   "source": [
    "ek"
   ]
  },
  {
   "cell_type": "code",
   "execution_count": 198,
   "metadata": {},
   "outputs": [],
   "source": [
    "cl_eff_d_vec=lambda order_basis: [cl_d_vec[1][i] for i in order_basis]\n",
    "cl_eff_vec=lambda order_basis: [cl_vec[1][i] for i in order_basis]\n",
    "\n",
    "rules_cl2mat_inter=list(zip(Matrix([cl_eff_d_vec([1,6,3,4])[i]* cl_eff_vec([1,6,3,4])[j] for i in range(4) for j in range(4)]),[mat4[(i,j)] for i in range(4) for j in range(4)]))"
   ]
  },
  {
   "cell_type": "code",
   "execution_count": 199,
   "metadata": {},
   "outputs": [
    {
     "data": {
      "text/latex": [
       "$\\displaystyle \\left[\\begin{matrix}ε_{+K,-,↑,κ_1} & - \\frac{\\langle c_{-K,+,↓,κ_3}^\\dagger c_{+K,-,↑,κ_3} \\rangle \\cos{\\left(\\theta_{κ_1} - \\theta_{κ_3} \\right)}}{2} & 0 & 0\\\\- \\frac{\\langle c_{+K,-,↑,κ_3}^\\dagger c_{-K,+,↓,κ_3} \\rangle \\cos{\\left(\\theta_{κ_1} - \\theta_{κ_3} \\right)}}{2} & ε_{-K,+,↓,κ_1} & 0 & 0\\\\0 & 0 & ε_{-K,-,↑,κ_1} & - \\frac{\\langle c_{+K,+,↓,κ_3}^\\dagger c_{-K,-,↑,κ_3} \\rangle \\cos{\\left(\\theta_{κ_1} - \\theta_{κ_3} \\right)}}{2}\\\\0 & 0 & - \\frac{\\langle c_{-K,-,↑,κ_3}^\\dagger c_{+K,+,↓,κ_3} \\rangle \\cos{\\left(\\theta_{κ_1} - \\theta_{κ_3} \\right)}}{2} & ε_{+K,+,↓,κ_1}\\end{matrix}\\right]$"
      ],
      "text/plain": [
       "Matrix([\n",
       "[                                                                           ε_{+K,-,↑,κ_1}, -\\langle c_{-K,+,↓,κ_3}^\\dagger c_{+K,-,↑,κ_3} \\rangle*cos(\\theta_{κ_1} - \\theta_{κ_3})/2,                                                                                         0,                                                                                         0],\n",
       "[-\\langle c_{+K,-,↑,κ_3}^\\dagger c_{-K,+,↓,κ_3} \\rangle*cos(\\theta_{κ_1} - \\theta_{κ_3})/2,                                                                            ε_{-K,+,↓,κ_1},                                                                                         0,                                                                                         0],\n",
       "[                                                                                        0,                                                                                         0,                                                                            ε_{-K,-,↑,κ_1}, -\\langle c_{+K,+,↓,κ_3}^\\dagger c_{-K,-,↑,κ_3} \\rangle*cos(\\theta_{κ_1} - \\theta_{κ_3})/2],\n",
       "[                                                                                        0,                                                                                         0, -\\langle c_{-K,-,↑,κ_3}^\\dagger c_{+K,+,↓,κ_3} \\rangle*cos(\\theta_{κ_1} - \\theta_{κ_3})/2,                                                                            ε_{+K,+,↓,κ_1}]])"
      ]
     },
     "execution_count": 199,
     "metadata": {},
     "output_type": "execute_result"
    }
   ],
   "source": [
    "(H10_inter+ek).subs(rules_cl2mat_inter)"
   ]
  },
  {
   "cell_type": "code",
   "execution_count": 185,
   "metadata": {},
   "outputs": [
    {
     "data": {
      "text/plain": [
       "[c_{+K,-,↑,κ_1}, c_{-K,+,↓,κ_1}, c_{+K,+,↓,κ_1}, c_{-K,-,↑,κ_1}]"
      ]
     },
     "execution_count": 185,
     "metadata": {},
     "output_type": "execute_result"
    }
   ],
   "source": [
    "cl_eff_vec([1,6,4,3])"
   ]
  },
  {
   "cell_type": "code",
   "execution_count": 194,
   "metadata": {},
   "outputs": [],
   "source": [
    "rules_cl2mat_intra=list(zip(Matrix([cl_eff_d_vec([1,4,3,6])[i]* cl_eff_vec([1,4,3,6])[j] for i in range(4) for j in range(4)]),[mat4[(i,j)] for i in range(4) for j in range(4)]))"
   ]
  },
  {
   "cell_type": "code",
   "execution_count": 195,
   "metadata": {},
   "outputs": [
    {
     "data": {
      "text/latex": [
       "$\\displaystyle \\left[\\begin{matrix}ε_{+K,-,↑,κ_1} & - \\frac{\\langle c_{+K,+,↓,κ_3}^\\dagger c_{+K,-,↑,κ_3} \\rangle}{2} + \\frac{\\langle c_{-K,+,↓,κ_3}^\\dagger c_{-K,-,↑,κ_3} \\rangle}{2} & 0 & 0\\\\- \\frac{\\langle c_{+K,-,↑,κ_3}^\\dagger c_{+K,+,↓,κ_3} \\rangle}{2} + \\frac{\\langle c_{-K,-,↑,κ_3}^\\dagger c_{-K,+,↓,κ_3} \\rangle}{2} & ε_{+K,+,↓,κ_1} & 0 & 0\\\\0 & 0 & ε_{-K,-,↑,κ_1} & \\frac{\\langle c_{+K,+,↓,κ_3}^\\dagger c_{+K,-,↑,κ_3} \\rangle}{2} - \\frac{\\langle c_{-K,+,↓,κ_3}^\\dagger c_{-K,-,↑,κ_3} \\rangle}{2}\\\\0 & 0 & \\frac{\\langle c_{+K,-,↑,κ_3}^\\dagger c_{+K,+,↓,κ_3} \\rangle}{2} - \\frac{\\langle c_{-K,-,↑,κ_3}^\\dagger c_{-K,+,↓,κ_3} \\rangle}{2} & ε_{-K,+,↓,κ_1}\\end{matrix}\\right]$"
      ],
      "text/plain": [
       "Matrix([\n",
       "[                                                                                                    ε_{+K,-,↑,κ_1}, -\\langle c_{+K,+,↓,κ_3}^\\dagger c_{+K,-,↑,κ_3} \\rangle/2 + \\langle c_{-K,+,↓,κ_3}^\\dagger c_{-K,-,↑,κ_3} \\rangle/2,                                                                                                                 0,                                                                                                                 0],\n",
       "[-\\langle c_{+K,-,↑,κ_3}^\\dagger c_{+K,+,↓,κ_3} \\rangle/2 + \\langle c_{-K,-,↑,κ_3}^\\dagger c_{-K,+,↓,κ_3} \\rangle/2,                                                                                                     ε_{+K,+,↓,κ_1},                                                                                                                 0,                                                                                                                 0],\n",
       "[                                                                                                                 0,                                                                                                                  0,                                                                                                    ε_{-K,-,↑,κ_1}, \\langle c_{+K,+,↓,κ_3}^\\dagger c_{+K,-,↑,κ_3} \\rangle/2 - \\langle c_{-K,+,↓,κ_3}^\\dagger c_{-K,-,↑,κ_3} \\rangle/2],\n",
       "[                                                                                                                 0,                                                                                                                  0, \\langle c_{+K,-,↑,κ_3}^\\dagger c_{+K,+,↓,κ_3} \\rangle/2 - \\langle c_{-K,-,↑,κ_3}^\\dagger c_{-K,+,↓,κ_3} \\rangle/2,                                                                                                    ε_{-K,+,↓,κ_1}]])"
      ]
     },
     "execution_count": 195,
     "metadata": {},
     "output_type": "execute_result"
    }
   ],
   "source": [
    "(H10_intra+ek).subs(rules_cl2mat_intra)"
   ]
  },
  {
   "cell_type": "code",
   "execution_count": null,
   "metadata": {},
   "outputs": [],
   "source": [
    "[valley_pairing[idx] for idx in [1,-2]]"
   ]
  },
  {
   "cell_type": "markdown",
   "metadata": {},
   "source": [
    "# $H_{11}$"
   ]
  },
  {
   "cell_type": "code",
   "execution_count": 106,
   "metadata": {},
   "outputs": [],
   "source": [
    "nn=Symbol('n')"
   ]
  },
  {
   "cell_type": "code",
   "execution_count": 107,
   "metadata": {},
   "outputs": [],
   "source": [
    "def convert_valley(s):\n",
    "    return 1 if s=='+' else -1"
   ]
  },
  {
   "cell_type": "code",
   "execution_count": 35,
   "metadata": {},
   "outputs": [],
   "source": [
    "# H11=sum([Dagger(c[\"\".join([k1,'A',σ1,'1'])]) * c[\"\".join([k2,'A',σ1,'2'])] * Dagger(c[\"\".join([k3,'B',σ2,'3'])]) * c[\"\".join([k4,'B',σ2,'4'])] * exp(-I*(κ[3]-κ[4])*nn) for k1,k2,k3,k4 in valley_pairing for σ1 in 'ud' for σ2 in 'ud'])"
   ]
  },
  {
   "cell_type": "code",
   "execution_count": 129,
   "metadata": {},
   "outputs": [],
   "source": [
    "# H11=sum([Dagger(c[\"\".join([k1,'A',σ1,'1'])]) * c[\"\".join([k2,'A',σ1,'2'])] * Dagger(c[\"\".join([k3,'B',σ2,'3'])]) * c[\"\".join([k4,'B',σ2,'4'])] * exp(-I* ((convert_valley(k3)-convert_valley(k4))*4*pi/sqrt(3)*K['+']).dot(n[i])) for k1,k2,k3,k4 in valley_pairing for σ1 in 'ud' for σ2 in 'ud' for i in range(3)]).subs(rules_c2psi).rewrite(cos).expand()\n",
    "H11=sum([Dagger(c[\"\".join([k1,'A',σ1,'1'])]) * c[\"\".join([k2,'A',σ1,'2'])] * Dagger(c[\"\".join([k3,'B',σ2,'3'])]) * c[\"\".join([k4,'B',σ2,'4'])] * exp(-I* ((convert_valley(k3)-convert_valley(k4))*4*pi/sqrt(3)*K['+']).dot(n[i])) for k1,k2,k3,k4 in valley_pairing for σ1 in 'ud' for σ2 in 'ud' for i in range(3)]).rewrite(cos).expand()"
   ]
  },
  {
   "cell_type": "code",
   "execution_count": 130,
   "metadata": {},
   "outputs": [],
   "source": [
    "# H11_pm=H11.subs(rules_c2psi).subs(rules_psi2psil).expand()\n",
    "H11_pm=H11.subs(rules_c2cl).expand()"
   ]
  },
  {
   "cell_type": "code",
   "execution_count": 131,
   "metadata": {},
   "outputs": [],
   "source": [
    "# H11_pm_proj=H11_pm.subs(rules_proj)\n",
    "H11_pm_proj=H11_pm.subs(rules_proj_3)"
   ]
  },
  {
   "cell_type": "code",
   "execution_count": null,
   "metadata": {},
   "outputs": [
    {
     "data": {
      "text/latex": [
       "$\\displaystyle \\frac{3 c_{+K,-,↑,κ_1}^{\\dagger} c_{+K,-,↑,κ_2} c_{-K,-,↑,κ_3}^{\\dagger} c_{-K,-,↑,κ_4}}{4} + \\frac{3 e^{- i \\theta_{κ_3}} e^{i \\theta_{κ_4}} c_{+K,-,↑,κ_1}^{\\dagger} c_{+K,-,↑,κ_2} c_{+K,-,↑,κ_3}^{\\dagger} c_{+K,-,↑,κ_4}}{4} + \\frac{3 e^{- i \\theta_{κ_1}} e^{i \\theta_{κ_2}} c_{-K,-,↑,κ_1}^{\\dagger} c_{-K,-,↑,κ_2} c_{-K,-,↑,κ_3}^{\\dagger} c_{-K,-,↑,κ_4}}{4} + \\frac{3 e^{- i \\theta_{κ_1}} e^{i \\theta_{κ_2}} e^{- i \\theta_{κ_3}} e^{i \\theta_{κ_4}} c_{-K,-,↑,κ_1}^{\\dagger} c_{-K,-,↑,κ_2} c_{+K,-,↑,κ_3}^{\\dagger} c_{+K,-,↑,κ_4}}{4}$"
      ],
      "text/plain": [
       "3*Dagger(c_{+K,-,↑,κ_1})*c_{+K,-,↑,κ_2}*Dagger(c_{-K,-,↑,κ_3})*c_{-K,-,↑,κ_4}/4 + 3*exp(-I*\\theta_{κ_3})*exp(I*\\theta_{κ_4})*Dagger(c_{+K,-,↑,κ_1})*c_{+K,-,↑,κ_2}*Dagger(c_{+K,-,↑,κ_3})*c_{+K,-,↑,κ_4}/4 + 3*exp(-I*\\theta_{κ_1})*exp(I*\\theta_{κ_2})*Dagger(c_{-K,-,↑,κ_1})*c_{-K,-,↑,κ_2}*Dagger(c_{-K,-,↑,κ_3})*c_{-K,-,↑,κ_4}/4 + 3*exp(-I*\\theta_{κ_1})*exp(I*\\theta_{κ_2})*exp(-I*\\theta_{κ_3})*exp(I*\\theta_{κ_4})*Dagger(c_{-K,-,↑,κ_1})*c_{-K,-,↑,κ_2}*Dagger(c_{+K,-,↑,κ_3})*c_{+K,-,↑,κ_4}/4"
      ]
     },
     "metadata": {},
     "output_type": "display_data"
    }
   ],
   "source": [
    "H11_pm_proj"
   ]
  },
  {
   "cell_type": "code",
   "execution_count": 114,
   "metadata": {},
   "outputs": [
    {
     "data": {
      "text/latex": [
       "$\\displaystyle \\frac{3 e^{\\frac{i \\theta_{κ_1}}{2}} e^{- \\frac{i \\theta_{κ_2}}{2}} e^{- \\frac{i \\theta_{κ_3}}{2}} e^{\\frac{i \\theta_{κ_4}}{2}} c_{+K,-,↑,κ_1}^{\\dagger} c_{+K,-,↑,κ_2} c_{+K,-,↑,κ_3}^{\\dagger} c_{+K,-,↑,κ_4}}{4} + \\frac{3 e^{\\frac{i \\theta_{κ_1}}{2}} e^{- \\frac{i \\theta_{κ_2}}{2}} e^{- \\frac{i \\theta_{κ_3}}{2}} e^{\\frac{i \\theta_{κ_4}}{2}} c_{+K,-,↑,κ_1}^{\\dagger} c_{+K,-,↑,κ_2} c_{-K,-,↑,κ_3}^{\\dagger} c_{-K,-,↑,κ_4}}{4} + \\frac{3 e^{\\frac{i \\theta_{κ_1}}{2}} e^{- \\frac{i \\theta_{κ_2}}{2}} e^{- \\frac{i \\theta_{κ_3}}{2}} e^{\\frac{i \\theta_{κ_4}}{2}} c_{-K,-,↑,κ_1}^{\\dagger} c_{-K,-,↑,κ_2} c_{+K,-,↑,κ_3}^{\\dagger} c_{+K,-,↑,κ_4}}{4} + \\frac{3 e^{\\frac{i \\theta_{κ_1}}{2}} e^{- \\frac{i \\theta_{κ_2}}{2}} e^{- \\frac{i \\theta_{κ_3}}{2}} e^{\\frac{i \\theta_{κ_4}}{2}} c_{-K,-,↑,κ_1}^{\\dagger} c_{-K,-,↑,κ_2} c_{-K,-,↑,κ_3}^{\\dagger} c_{-K,-,↑,κ_4}}{4}$"
      ],
      "text/plain": [
       "3*exp(I*\\theta_{κ_1}/2)*exp(-I*\\theta_{κ_2}/2)*exp(-I*\\theta_{κ_3}/2)*exp(I*\\theta_{κ_4}/2)*Dagger(c_{+K,-,↑,κ_1})*c_{+K,-,↑,κ_2}*Dagger(c_{+K,-,↑,κ_3})*c_{+K,-,↑,κ_4}/4 + 3*exp(I*\\theta_{κ_1}/2)*exp(-I*\\theta_{κ_2}/2)*exp(-I*\\theta_{κ_3}/2)*exp(I*\\theta_{κ_4}/2)*Dagger(c_{+K,-,↑,κ_1})*c_{+K,-,↑,κ_2}*Dagger(c_{-K,-,↑,κ_3})*c_{-K,-,↑,κ_4}/4 + 3*exp(I*\\theta_{κ_1}/2)*exp(-I*\\theta_{κ_2}/2)*exp(-I*\\theta_{κ_3}/2)*exp(I*\\theta_{κ_4}/2)*Dagger(c_{-K,-,↑,κ_1})*c_{-K,-,↑,κ_2}*Dagger(c_{+K,-,↑,κ_3})*c_{+K,-,↑,κ_4}/4 + 3*exp(I*\\theta_{κ_1}/2)*exp(-I*\\theta_{κ_2}/2)*exp(-I*\\theta_{κ_3}/2)*exp(I*\\theta_{κ_4}/2)*Dagger(c_{-K,-,↑,κ_1})*c_{-K,-,↑,κ_2}*Dagger(c_{-K,-,↑,κ_3})*c_{-K,-,↑,κ_4}/4"
      ]
     },
     "execution_count": 114,
     "metadata": {},
     "output_type": "execute_result"
    }
   ],
   "source": [
    "H11_pm_proj"
   ]
  },
  {
   "cell_type": "code",
   "execution_count": 75,
   "metadata": {},
   "outputs": [
    {
     "data": {
      "text/plain": [
       "([3/4],\n",
       " [Dagger(c_{+K,+,↓,κ_1}),\n",
       "  c_{+K,+,↓,κ_2},\n",
       "  Dagger(c_{-K,+,↓,κ_3}),\n",
       "  c_{-K,+,↓,κ_4}])"
      ]
     },
     "execution_count": 75,
     "metadata": {},
     "output_type": "execute_result"
    }
   ],
   "source": [
    "extract_op(H11_pm_proj.args[0])"
   ]
  },
  {
   "cell_type": "code",
   "execution_count": 76,
   "metadata": {},
   "outputs": [],
   "source": [
    "H11_pm_proj_H,H11_pm_proj_F,H11_pm_proj_H_exp,H11_pm_proj_F_exp=perform_wicks_all(H11_pm_proj)"
   ]
  },
  {
   "cell_type": "code",
   "execution_count": 77,
   "metadata": {},
   "outputs": [],
   "source": [
    "rules_spinmix=[(expval[(psi[\"\".join([λ1,l1,σ,k1])],psi[\"\".join([λ2,l2,σ,k2])])],0) for λ1 in '-+' for λ2 in '-+' for l1 in \"-+\" for l2 in \"-+\" for σ in 'ud' for k1 in '1234' for k2 in '1234']+[(expval[(c[\"\".join([λ1,l1,σ,k1])],c[\"\".join([λ2,l2,σ,k2])])],0) for λ1 in '-+' for λ2 in '-+' for l1 in \"-+\" for l2 in \"-+\" for σ in 'ud' for k1 in '1234' for k2 in '1234']"
   ]
  },
  {
   "cell_type": "code",
   "execution_count": 78,
   "metadata": {},
   "outputs": [],
   "source": [
    "H11_pm_proj_F_spinmix=H11_pm_proj_F.expand()\n",
    "# .subs(rules_spinmix)"
   ]
  },
  {
   "cell_type": "code",
   "execution_count": 79,
   "metadata": {},
   "outputs": [],
   "source": [
    "H11_pm_proj_F_bilinear=sum_delta_all(H11_pm_proj_F_spinmix,relabel=True)"
   ]
  },
  {
   "cell_type": "code",
   "execution_count": 80,
   "metadata": {},
   "outputs": [],
   "source": [
    "H11_intra=H11_pm_proj_F_bilinear.subs(rules_intravalley).powsimp().rewrite(cos).expand()"
   ]
  },
  {
   "cell_type": "code",
   "execution_count": 81,
   "metadata": {},
   "outputs": [],
   "source": [
    "H11_inter=H11_pm_proj_F_bilinear.subs(rules_intervalley).powsimp().rewrite(exp).expand()"
   ]
  },
  {
   "cell_type": "code",
   "execution_count": 82,
   "metadata": {},
   "outputs": [],
   "source": [
    "H11_pm_proj_F_exp_const=-sum_delta_all(H11_pm_proj_F_exp)"
   ]
  },
  {
   "cell_type": "code",
   "execution_count": 89,
   "metadata": {},
   "outputs": [
    {
     "data": {
      "text/latex": [
       "$\\displaystyle \\frac{3 \\langle c_{+K,+,↓,κ_1}^\\dagger c_{-K,-,↑,κ_1} \\rangle \\langle c_{-K,-,↑,κ_3}^\\dagger c_{+K,+,↓,κ_3} \\rangle}{4} + \\frac{3 \\langle c_{+K,+,↓,κ_3}^\\dagger c_{-K,-,↑,κ_3} \\rangle \\langle c_{-K,-,↑,κ_1}^\\dagger c_{+K,+,↓,κ_1} \\rangle}{4} + \\frac{3 \\langle c_{+K,-,↑,κ_1}^\\dagger c_{-K,+,↓,κ_1} \\rangle \\langle c_{-K,+,↓,κ_3}^\\dagger c_{+K,-,↑,κ_3} \\rangle}{4} + \\frac{3 \\langle c_{+K,-,↑,κ_3}^\\dagger c_{-K,+,↓,κ_3} \\rangle \\langle c_{-K,+,↓,κ_1}^\\dagger c_{+K,-,↑,κ_1} \\rangle}{4}$"
      ],
      "text/plain": [
       "3*\\langle c_{+K,+,↓,κ_1}^\\dagger c_{-K,-,↑,κ_1} \\rangle*\\langle c_{-K,-,↑,κ_3}^\\dagger c_{+K,+,↓,κ_3} \\rangle/4 + 3*\\langle c_{+K,+,↓,κ_3}^\\dagger c_{-K,-,↑,κ_3} \\rangle*\\langle c_{-K,-,↑,κ_1}^\\dagger c_{+K,+,↓,κ_1} \\rangle/4 + 3*\\langle c_{+K,-,↑,κ_1}^\\dagger c_{-K,+,↓,κ_1} \\rangle*\\langle c_{-K,+,↓,κ_3}^\\dagger c_{+K,-,↑,κ_3} \\rangle/4 + 3*\\langle c_{+K,-,↑,κ_3}^\\dagger c_{-K,+,↓,κ_3} \\rangle*\\langle c_{-K,+,↓,κ_1}^\\dagger c_{+K,-,↑,κ_1} \\rangle/4"
      ]
     },
     "execution_count": 89,
     "metadata": {},
     "output_type": "execute_result"
    }
   ],
   "source": [
    "H11_pm_proj_F_exp_const.subs(rules_spinmix).subs(rules_intervalley).powsimp().rewrite(cos).expand()"
   ]
  },
  {
   "cell_type": "code",
   "execution_count": 90,
   "metadata": {},
   "outputs": [
    {
     "data": {
      "text/latex": [
       "$\\displaystyle \\frac{3 \\langle c_{+K,+,↓,κ_1}^\\dagger c_{+K,-,↑,κ_1} \\rangle \\langle c_{+K,-,↑,κ_3}^\\dagger c_{+K,+,↓,κ_3} \\rangle e^{i \\theta_{κ_1}} e^{- i \\theta_{κ_3}}}{4} + \\frac{3 \\langle c_{+K,+,↓,κ_3}^\\dagger c_{+K,-,↑,κ_3} \\rangle \\langle c_{+K,-,↑,κ_1}^\\dagger c_{+K,+,↓,κ_1} \\rangle e^{i \\theta_{κ_1}} e^{- i \\theta_{κ_3}}}{4} + \\frac{3 \\langle c_{-K,+,↓,κ_1}^\\dagger c_{-K,-,↑,κ_1} \\rangle \\langle c_{-K,-,↑,κ_3}^\\dagger c_{-K,+,↓,κ_3} \\rangle e^{- i \\theta_{κ_1}} e^{i \\theta_{κ_3}}}{4} + \\frac{3 \\langle c_{-K,+,↓,κ_3}^\\dagger c_{-K,-,↑,κ_3} \\rangle \\langle c_{-K,-,↑,κ_1}^\\dagger c_{-K,+,↓,κ_1} \\rangle e^{- i \\theta_{κ_1}} e^{i \\theta_{κ_3}}}{4}$"
      ],
      "text/plain": [
       "3*\\langle c_{+K,+,↓,κ_1}^\\dagger c_{+K,-,↑,κ_1} \\rangle*\\langle c_{+K,-,↑,κ_3}^\\dagger c_{+K,+,↓,κ_3} \\rangle*exp(I*\\theta_{κ_1})*exp(-I*\\theta_{κ_3})/4 + 3*\\langle c_{+K,+,↓,κ_3}^\\dagger c_{+K,-,↑,κ_3} \\rangle*\\langle c_{+K,-,↑,κ_1}^\\dagger c_{+K,+,↓,κ_1} \\rangle*exp(I*\\theta_{κ_1})*exp(-I*\\theta_{κ_3})/4 + 3*\\langle c_{-K,+,↓,κ_1}^\\dagger c_{-K,-,↑,κ_1} \\rangle*\\langle c_{-K,-,↑,κ_3}^\\dagger c_{-K,+,↓,κ_3} \\rangle*exp(-I*\\theta_{κ_1})*exp(I*\\theta_{κ_3})/4 + 3*\\langle c_{-K,+,↓,κ_3}^\\dagger c_{-K,-,↑,κ_3} \\rangle*\\langle c_{-K,-,↑,κ_1}^\\dagger c_{-K,+,↓,κ_1} \\rangle*exp(-I*\\theta_{κ_1})*exp(I*\\theta_{κ_3})/4"
      ]
     },
     "execution_count": 90,
     "metadata": {},
     "output_type": "execute_result"
    }
   ],
   "source": [
    "H11_pm_proj_F_exp_const.subs(rules_spinmix).subs(rules_intravalley)"
   ]
  },
  {
   "cell_type": "code",
   "execution_count": 85,
   "metadata": {},
   "outputs": [
    {
     "data": {
      "text/latex": [
       "$\\displaystyle - \\frac{3 \\langle c_{+K,+,↓,κ_3}^\\dagger c_{+K,+,↓,κ_3} \\rangle \\cos{\\left(\\theta_{κ_1} - \\theta_{κ_3} \\right)} c_{+K,+,↓,κ_1}^{\\dagger} c_{+K,+,↓,κ_1}}{2} - \\frac{3 \\langle c_{+K,+,↓,κ_3}^\\dagger c_{+K,-,↑,κ_3} \\rangle \\cos{\\left(\\theta_{κ_1} - \\theta_{κ_3} \\right)} c_{+K,-,↑,κ_1}^{\\dagger} c_{+K,+,↓,κ_1}}{2} - \\frac{3 \\langle c_{+K,-,↑,κ_3}^\\dagger c_{+K,+,↓,κ_3} \\rangle \\cos{\\left(\\theta_{κ_1} - \\theta_{κ_3} \\right)} c_{+K,+,↓,κ_1}^{\\dagger} c_{+K,-,↑,κ_1}}{2} - \\frac{3 \\langle c_{+K,-,↑,κ_3}^\\dagger c_{+K,-,↑,κ_3} \\rangle \\cos{\\left(\\theta_{κ_1} - \\theta_{κ_3} \\right)} c_{+K,-,↑,κ_1}^{\\dagger} c_{+K,-,↑,κ_1}}{2} - \\frac{3 \\langle c_{-K,+,↓,κ_3}^\\dagger c_{-K,+,↓,κ_3} \\rangle \\cos{\\left(\\theta_{κ_1} - \\theta_{κ_3} \\right)} c_{-K,+,↓,κ_1}^{\\dagger} c_{-K,+,↓,κ_1}}{2} - \\frac{3 \\langle c_{-K,+,↓,κ_3}^\\dagger c_{-K,-,↑,κ_3} \\rangle \\cos{\\left(\\theta_{κ_1} - \\theta_{κ_3} \\right)} c_{-K,-,↑,κ_1}^{\\dagger} c_{-K,+,↓,κ_1}}{2} - \\frac{3 \\langle c_{-K,-,↑,κ_3}^\\dagger c_{-K,+,↓,κ_3} \\rangle \\cos{\\left(\\theta_{κ_1} - \\theta_{κ_3} \\right)} c_{-K,+,↓,κ_1}^{\\dagger} c_{-K,-,↑,κ_1}}{2} - \\frac{3 \\langle c_{-K,-,↑,κ_3}^\\dagger c_{-K,-,↑,κ_3} \\rangle \\cos{\\left(\\theta_{κ_1} - \\theta_{κ_3} \\right)} c_{-K,-,↑,κ_1}^{\\dagger} c_{-K,-,↑,κ_1}}{2}$"
      ],
      "text/plain": [
       "-3*\\langle c_{+K,+,↓,κ_3}^\\dagger c_{+K,+,↓,κ_3} \\rangle*cos(\\theta_{κ_1} - \\theta_{κ_3})*Dagger(c_{+K,+,↓,κ_1})*c_{+K,+,↓,κ_1}/2 - 3*\\langle c_{+K,+,↓,κ_3}^\\dagger c_{+K,-,↑,κ_3} \\rangle*cos(\\theta_{κ_1} - \\theta_{κ_3})*Dagger(c_{+K,-,↑,κ_1})*c_{+K,+,↓,κ_1}/2 - 3*\\langle c_{+K,-,↑,κ_3}^\\dagger c_{+K,+,↓,κ_3} \\rangle*cos(\\theta_{κ_1} - \\theta_{κ_3})*Dagger(c_{+K,+,↓,κ_1})*c_{+K,-,↑,κ_1}/2 - 3*\\langle c_{+K,-,↑,κ_3}^\\dagger c_{+K,-,↑,κ_3} \\rangle*cos(\\theta_{κ_1} - \\theta_{κ_3})*Dagger(c_{+K,-,↑,κ_1})*c_{+K,-,↑,κ_1}/2 - 3*\\langle c_{-K,+,↓,κ_3}^\\dagger c_{-K,+,↓,κ_3} \\rangle*cos(\\theta_{κ_1} - \\theta_{κ_3})*Dagger(c_{-K,+,↓,κ_1})*c_{-K,+,↓,κ_1}/2 - 3*\\langle c_{-K,+,↓,κ_3}^\\dagger c_{-K,-,↑,κ_3} \\rangle*cos(\\theta_{κ_1} - \\theta_{κ_3})*Dagger(c_{-K,-,↑,κ_1})*c_{-K,+,↓,κ_1}/2 - 3*\\langle c_{-K,-,↑,κ_3}^\\dagger c_{-K,+,↓,κ_3} \\rangle*cos(\\theta_{κ_1} - \\theta_{κ_3})*Dagger(c_{-K,+,↓,κ_1})*c_{-K,-,↑,κ_1}/2 - 3*\\langle c_{-K,-,↑,κ_3}^\\dagger c_{-K,-,↑,κ_3} \\rangle*cos(\\theta_{κ_1} - \\theta_{κ_3})*Dagger(c_{-K,-,↑,κ_1})*c_{-K,-,↑,κ_1}/2"
      ]
     },
     "execution_count": 85,
     "metadata": {},
     "output_type": "execute_result"
    }
   ],
   "source": [
    "H11_intra"
   ]
  },
  {
   "cell_type": "code",
   "execution_count": 86,
   "metadata": {},
   "outputs": [
    {
     "data": {
      "text/latex": [
       "$\\displaystyle - \\frac{3 \\langle c_{+K,+,↓,κ_3}^\\dagger c_{-K,+,↓,κ_3} \\rangle c_{-K,+,↓,κ_1}^{\\dagger} c_{+K,+,↓,κ_1}}{2} - \\frac{3 \\langle c_{+K,+,↓,κ_3}^\\dagger c_{-K,-,↑,κ_3} \\rangle c_{-K,-,↑,κ_1}^{\\dagger} c_{+K,+,↓,κ_1}}{2} - \\frac{3 \\langle c_{+K,-,↑,κ_3}^\\dagger c_{-K,+,↓,κ_3} \\rangle c_{-K,+,↓,κ_1}^{\\dagger} c_{+K,-,↑,κ_1}}{2} - \\frac{3 \\langle c_{+K,-,↑,κ_3}^\\dagger c_{-K,-,↑,κ_3} \\rangle c_{-K,-,↑,κ_1}^{\\dagger} c_{+K,-,↑,κ_1}}{2} - \\frac{3 \\langle c_{-K,+,↓,κ_3}^\\dagger c_{+K,+,↓,κ_3} \\rangle c_{+K,+,↓,κ_1}^{\\dagger} c_{-K,+,↓,κ_1}}{2} - \\frac{3 \\langle c_{-K,+,↓,κ_3}^\\dagger c_{+K,-,↑,κ_3} \\rangle c_{+K,-,↑,κ_1}^{\\dagger} c_{-K,+,↓,κ_1}}{2} - \\frac{3 \\langle c_{-K,-,↑,κ_3}^\\dagger c_{+K,+,↓,κ_3} \\rangle c_{+K,+,↓,κ_1}^{\\dagger} c_{-K,-,↑,κ_1}}{2} - \\frac{3 \\langle c_{-K,-,↑,κ_3}^\\dagger c_{+K,-,↑,κ_3} \\rangle c_{+K,-,↑,κ_1}^{\\dagger} c_{-K,-,↑,κ_1}}{2}$"
      ],
      "text/plain": [
       "-3*\\langle c_{+K,+,↓,κ_3}^\\dagger c_{-K,+,↓,κ_3} \\rangle*Dagger(c_{-K,+,↓,κ_1})*c_{+K,+,↓,κ_1}/2 - 3*\\langle c_{+K,+,↓,κ_3}^\\dagger c_{-K,-,↑,κ_3} \\rangle*Dagger(c_{-K,-,↑,κ_1})*c_{+K,+,↓,κ_1}/2 - 3*\\langle c_{+K,-,↑,κ_3}^\\dagger c_{-K,+,↓,κ_3} \\rangle*Dagger(c_{-K,+,↓,κ_1})*c_{+K,-,↑,κ_1}/2 - 3*\\langle c_{+K,-,↑,κ_3}^\\dagger c_{-K,-,↑,κ_3} \\rangle*Dagger(c_{-K,-,↑,κ_1})*c_{+K,-,↑,κ_1}/2 - 3*\\langle c_{-K,+,↓,κ_3}^\\dagger c_{+K,+,↓,κ_3} \\rangle*Dagger(c_{+K,+,↓,κ_1})*c_{-K,+,↓,κ_1}/2 - 3*\\langle c_{-K,+,↓,κ_3}^\\dagger c_{+K,-,↑,κ_3} \\rangle*Dagger(c_{+K,-,↑,κ_1})*c_{-K,+,↓,κ_1}/2 - 3*\\langle c_{-K,-,↑,κ_3}^\\dagger c_{+K,+,↓,κ_3} \\rangle*Dagger(c_{+K,+,↓,κ_1})*c_{-K,-,↑,κ_1}/2 - 3*\\langle c_{-K,-,↑,κ_3}^\\dagger c_{+K,-,↑,κ_3} \\rangle*Dagger(c_{+K,-,↑,κ_1})*c_{-K,-,↑,κ_1}/2"
      ]
     },
     "execution_count": 86,
     "metadata": {},
     "output_type": "execute_result"
    }
   ],
   "source": [
    "H11_inter"
   ]
  },
  {
   "cell_type": "code",
   "execution_count": 200,
   "metadata": {},
   "outputs": [
    {
     "data": {
      "text/latex": [
       "$\\displaystyle \\left[\\begin{matrix}- \\frac{3 \\langle c_{+K,-,↑,κ_3}^\\dagger c_{+K,-,↑,κ_3} \\rangle \\cos{\\left(\\theta_{κ_1} - \\theta_{κ_3} \\right)}}{2} + ε_{+K,-,↑,κ_1} & - \\frac{3 \\langle c_{+K,+,↓,κ_3}^\\dagger c_{+K,-,↑,κ_3} \\rangle \\cos{\\left(\\theta_{κ_1} - \\theta_{κ_3} \\right)}}{2} & 0 & 0\\\\- \\frac{3 \\langle c_{+K,-,↑,κ_3}^\\dagger c_{+K,+,↓,κ_3} \\rangle \\cos{\\left(\\theta_{κ_1} - \\theta_{κ_3} \\right)}}{2} & - \\frac{3 \\langle c_{+K,+,↓,κ_3}^\\dagger c_{+K,+,↓,κ_3} \\rangle \\cos{\\left(\\theta_{κ_1} - \\theta_{κ_3} \\right)}}{2} + ε_{+K,+,↓,κ_1} & 0 & 0\\\\0 & 0 & - \\frac{3 \\langle c_{-K,-,↑,κ_3}^\\dagger c_{-K,-,↑,κ_3} \\rangle \\cos{\\left(\\theta_{κ_1} - \\theta_{κ_3} \\right)}}{2} + ε_{-K,-,↑,κ_1} & - \\frac{3 \\langle c_{-K,+,↓,κ_3}^\\dagger c_{-K,-,↑,κ_3} \\rangle \\cos{\\left(\\theta_{κ_1} - \\theta_{κ_3} \\right)}}{2}\\\\0 & 0 & - \\frac{3 \\langle c_{-K,-,↑,κ_3}^\\dagger c_{-K,+,↓,κ_3} \\rangle \\cos{\\left(\\theta_{κ_1} - \\theta_{κ_3} \\right)}}{2} & - \\frac{3 \\langle c_{-K,+,↓,κ_3}^\\dagger c_{-K,+,↓,κ_3} \\rangle \\cos{\\left(\\theta_{κ_1} - \\theta_{κ_3} \\right)}}{2} + ε_{-K,+,↓,κ_1}\\end{matrix}\\right]$"
      ],
      "text/plain": [
       "Matrix([\n",
       "[-3*\\langle c_{+K,-,↑,κ_3}^\\dagger c_{+K,-,↑,κ_3} \\rangle*cos(\\theta_{κ_1} - \\theta_{κ_3})/2 + ε_{+K,-,↑,κ_1},                  -3*\\langle c_{+K,+,↓,κ_3}^\\dagger c_{+K,-,↑,κ_3} \\rangle*cos(\\theta_{κ_1} - \\theta_{κ_3})/2,                                                                                                            0,                                                                                                            0],\n",
       "[                 -3*\\langle c_{+K,-,↑,κ_3}^\\dagger c_{+K,+,↓,κ_3} \\rangle*cos(\\theta_{κ_1} - \\theta_{κ_3})/2, -3*\\langle c_{+K,+,↓,κ_3}^\\dagger c_{+K,+,↓,κ_3} \\rangle*cos(\\theta_{κ_1} - \\theta_{κ_3})/2 + ε_{+K,+,↓,κ_1},                                                                                                            0,                                                                                                            0],\n",
       "[                                                                                                           0,                                                                                                            0, -3*\\langle c_{-K,-,↑,κ_3}^\\dagger c_{-K,-,↑,κ_3} \\rangle*cos(\\theta_{κ_1} - \\theta_{κ_3})/2 + ε_{-K,-,↑,κ_1},                  -3*\\langle c_{-K,+,↓,κ_3}^\\dagger c_{-K,-,↑,κ_3} \\rangle*cos(\\theta_{κ_1} - \\theta_{κ_3})/2],\n",
       "[                                                                                                           0,                                                                                                            0,                  -3*\\langle c_{-K,-,↑,κ_3}^\\dagger c_{-K,+,↓,κ_3} \\rangle*cos(\\theta_{κ_1} - \\theta_{κ_3})/2, -3*\\langle c_{-K,+,↓,κ_3}^\\dagger c_{-K,+,↓,κ_3} \\rangle*cos(\\theta_{κ_1} - \\theta_{κ_3})/2 + ε_{-K,+,↓,κ_1}]])"
      ]
     },
     "execution_count": 200,
     "metadata": {},
     "output_type": "execute_result"
    }
   ],
   "source": [
    "(H11_intra+ek).subs(rules_cl2mat_intra)"
   ]
  },
  {
   "cell_type": "code",
   "execution_count": 201,
   "metadata": {},
   "outputs": [
    {
     "data": {
      "text/latex": [
       "$\\displaystyle \\left[\\begin{matrix}ε_{+K,-,↑,κ_1} & - \\frac{3 \\langle c_{-K,+,↓,κ_3}^\\dagger c_{+K,-,↑,κ_3} \\rangle}{2} & - \\frac{3 \\langle c_{-K,-,↑,κ_3}^\\dagger c_{+K,-,↑,κ_3} \\rangle}{2} & 0\\\\- \\frac{3 \\langle c_{+K,-,↑,κ_3}^\\dagger c_{-K,+,↓,κ_3} \\rangle}{2} & ε_{-K,+,↓,κ_1} & 0 & - \\frac{3 \\langle c_{+K,+,↓,κ_3}^\\dagger c_{-K,+,↓,κ_3} \\rangle}{2}\\\\- \\frac{3 \\langle c_{+K,-,↑,κ_3}^\\dagger c_{-K,-,↑,κ_3} \\rangle}{2} & 0 & ε_{-K,-,↑,κ_1} & - \\frac{3 \\langle c_{+K,+,↓,κ_3}^\\dagger c_{-K,-,↑,κ_3} \\rangle}{2}\\\\0 & - \\frac{3 \\langle c_{-K,+,↓,κ_3}^\\dagger c_{+K,+,↓,κ_3} \\rangle}{2} & - \\frac{3 \\langle c_{-K,-,↑,κ_3}^\\dagger c_{+K,+,↓,κ_3} \\rangle}{2} & ε_{+K,+,↓,κ_1}\\end{matrix}\\right]$"
      ],
      "text/plain": [
       "Matrix([\n",
       "[                                            ε_{+K,-,↑,κ_1}, -3*\\langle c_{-K,+,↓,κ_3}^\\dagger c_{+K,-,↑,κ_3} \\rangle/2, -3*\\langle c_{-K,-,↑,κ_3}^\\dagger c_{+K,-,↑,κ_3} \\rangle/2,                                                          0],\n",
       "[-3*\\langle c_{+K,-,↑,κ_3}^\\dagger c_{-K,+,↓,κ_3} \\rangle/2,                                             ε_{-K,+,↓,κ_1},                                                          0, -3*\\langle c_{+K,+,↓,κ_3}^\\dagger c_{-K,+,↓,κ_3} \\rangle/2],\n",
       "[-3*\\langle c_{+K,-,↑,κ_3}^\\dagger c_{-K,-,↑,κ_3} \\rangle/2,                                                          0,                                             ε_{-K,-,↑,κ_1}, -3*\\langle c_{+K,+,↓,κ_3}^\\dagger c_{-K,-,↑,κ_3} \\rangle/2],\n",
       "[                                                         0, -3*\\langle c_{-K,+,↓,κ_3}^\\dagger c_{+K,+,↓,κ_3} \\rangle/2, -3*\\langle c_{-K,-,↑,κ_3}^\\dagger c_{+K,+,↓,κ_3} \\rangle/2,                                             ε_{+K,+,↓,κ_1}]])"
      ]
     },
     "execution_count": 201,
     "metadata": {},
     "output_type": "execute_result"
    }
   ],
   "source": [
    "(H11_inter+ek).subs(rules_cl2mat_inter)"
   ]
  },
  {
   "cell_type": "code",
   "execution_count": null,
   "metadata": {},
   "outputs": [],
   "source": [
    "K['+'].dot(n[1])*4*pi/sqrt(3)"
   ]
  },
  {
   "cell_type": "code",
   "execution_count": null,
   "metadata": {},
   "outputs": [],
   "source": [
    "(Matrix([[cos(rad(120)),-sin(rad(120))],[sin(rad(120)),cos(rad(120))]])*K['-']).dot(n[1])*4*pi/sqrt(3)"
   ]
  },
  {
   "cell_type": "code",
   "execution_count": null,
   "metadata": {},
   "outputs": [],
   "source": [
    "(Matrix([[cos(rad(120)),sin(rad(120))],[-sin(rad(120)),cos(rad(120))]])*K['+']).dot(n[1])*4*pi/sqrt(3)"
   ]
  },
  {
   "cell_type": "code",
   "execution_count": null,
   "metadata": {},
   "outputs": [],
   "source": [
    "sum([Dagger(c[\"\".join([k1,'A',σ1])]) * c[\"\".join([k2,'A',σ1])] * Dagger(c[\"\".join([k3,'B',σ2])]) * c[\"\".join([k4,'B',σ2])]  for k1,k2,k3,k4 in [valley_pairing[idx] for idx in [2,-3]] for σ1 in 'u' for σ2 in 'd'])"
   ]
  },
  {
   "cell_type": "code",
   "execution_count": null,
   "metadata": {},
   "outputs": [],
   "source": [
    "sum([Dagger(c[\"\".join([k1,'A',σ1])]) * c[\"\".join([k2,'A',σ1])] * Dagger(c[\"\".join([k3,'B',σ2])]) * c[\"\".join([k4,'B',σ2])]  for k1,k2,k3,k4 in [valley_pairing[idx] for idx in [2,-3]] for σ1 in 'u' for σ2 in 'd']).subs(rules_c2psi)\n",
    "# * exp(-I* ((convert_valley(k3)-convert_valley(k4))*4*pi/sqrt(3)*K['+']).dot(n[i]))\n",
    "# for l in 'AB' for σ1 in 'ud' for σ2 in 'ud'"
   ]
  },
  {
   "cell_type": "markdown",
   "metadata": {},
   "source": [
    "# Check order parameter"
   ]
  },
  {
   "cell_type": "code",
   "execution_count": 39,
   "metadata": {},
   "outputs": [],
   "source": [
    "O={}\n",
    "O={(i,j): Symbol(f'O_{{{i},{j}}}') for i in range(1,3) for j in range(1,3)}"
   ]
  },
  {
   "cell_type": "code",
   "execution_count": 40,
   "metadata": {},
   "outputs": [],
   "source": [
    "O_mat=Matrix([[O[i,j] for j in range(1,3)] for i in range(1,3)])"
   ]
  },
  {
   "cell_type": "code",
   "execution_count": 41,
   "metadata": {},
   "outputs": [
    {
     "data": {
      "text/latex": [
       "$\\displaystyle \\left[\\begin{matrix}0 & 0 & 0 & 0\\\\0 & 0 & 0 & 0\\\\O_{1,1} & O_{1,2} & 0 & 0\\\\O_{2,1} & O_{2,2} & 0 & 0\\end{matrix}\\right]$"
      ],
      "text/plain": [
       "Matrix([\n",
       "[      0,       0, 0, 0],\n",
       "[      0,       0, 0, 0],\n",
       "[O_{1,1}, O_{1,2}, 0, 0],\n",
       "[O_{2,1}, O_{2,2}, 0, 0]])"
      ]
     },
     "execution_count": 41,
     "metadata": {},
     "output_type": "execute_result"
    }
   ],
   "source": [
    "kronecker_product(sigma['-'],O_mat)"
   ]
  },
  {
   "cell_type": "code",
   "execution_count": 42,
   "metadata": {},
   "outputs": [],
   "source": [
    "P=Matrix([[1,0,0,0],[0,0,1,0],[0,1,0,0],[0,0,0,1]])"
   ]
  },
  {
   "cell_type": "code",
   "execution_count": 43,
   "metadata": {},
   "outputs": [],
   "source": [
    "OO=P*kronecker_product(sigma['-'],O_mat)*P\n",
    "# OO=Matrix([[0,0,0,0],[O[1,1],0,0,O[1,2]],[O[2,1],0,0,O[2,2]],[0,0,0,0]])"
   ]
  },
  {
   "cell_type": "code",
   "execution_count": 44,
   "metadata": {},
   "outputs": [
    {
     "data": {
      "text/latex": [
       "$\\displaystyle \\left[\\begin{matrix}0 & 0 & 0 & 0\\\\O_{1,1} & 0 & O_{1,2} & 0\\\\0 & 0 & 0 & 0\\\\O_{2,1} & 0 & O_{2,2} & 0\\end{matrix}\\right]$"
      ],
      "text/plain": [
       "Matrix([\n",
       "[      0, 0,       0, 0],\n",
       "[O_{1,1}, 0, O_{1,2}, 0],\n",
       "[      0, 0,       0, 0],\n",
       "[O_{2,1}, 0, O_{2,2}, 0]])"
      ]
     },
     "execution_count": 44,
     "metadata": {},
     "output_type": "execute_result"
    }
   ],
   "source": [
    "OO"
   ]
  },
  {
   "cell_type": "code",
   "execution_count": 45,
   "metadata": {},
   "outputs": [],
   "source": [
    "OOO=kronecker_product(sigma['+'],OO)+ kronecker_product(sigma['+'],OO).H"
   ]
  },
  {
   "cell_type": "code",
   "execution_count": 46,
   "metadata": {},
   "outputs": [
    {
     "data": {
      "text/latex": [
       "$\\displaystyle \\left[\\begin{matrix}0 & 0 & 0 & 0 & 0 & 0 & 0 & 0\\\\0 & 0 & 0 & 0 & O_{1,1} & 0 & O_{1,2} & 0\\\\0 & 0 & 0 & 0 & 0 & 0 & 0 & 0\\\\0 & 0 & 0 & 0 & O_{2,1} & 0 & O_{2,2} & 0\\\\0 & \\overline{O_{1,1}} & 0 & \\overline{O_{2,1}} & 0 & 0 & 0 & 0\\\\0 & 0 & 0 & 0 & 0 & 0 & 0 & 0\\\\0 & \\overline{O_{1,2}} & 0 & \\overline{O_{2,2}} & 0 & 0 & 0 & 0\\\\0 & 0 & 0 & 0 & 0 & 0 & 0 & 0\\end{matrix}\\right]$"
      ],
      "text/plain": [
       "Matrix([\n",
       "[0,                  0, 0,                  0,       0, 0,       0, 0],\n",
       "[0,                  0, 0,                  0, O_{1,1}, 0, O_{1,2}, 0],\n",
       "[0,                  0, 0,                  0,       0, 0,       0, 0],\n",
       "[0,                  0, 0,                  0, O_{2,1}, 0, O_{2,2}, 0],\n",
       "[0, conjugate(O_{1,1}), 0, conjugate(O_{2,1}),       0, 0,       0, 0],\n",
       "[0,                  0, 0,                  0,       0, 0,       0, 0],\n",
       "[0, conjugate(O_{1,2}), 0, conjugate(O_{2,2}),       0, 0,       0, 0],\n",
       "[0,                  0, 0,                  0,       0, 0,       0, 0]])"
      ]
     },
     "execution_count": 46,
     "metadata": {},
     "output_type": "execute_result"
    }
   ],
   "source": [
    "OOO"
   ]
  },
  {
   "cell_type": "code",
   "execution_count": 47,
   "metadata": {},
   "outputs": [
    {
     "data": {
      "text/latex": [
       "$\\displaystyle \\left[\\begin{matrix}0 & 0 & 0 & 0 & \\frac{O_{1,1}}{2} & \\frac{O_{1,1} e^{i \\theta_{κ_1}}}{2} & - \\frac{O_{1,2} e^{i \\theta_{κ_1}}}{2} & \\frac{O_{1,2}}{2}\\\\0 & 0 & 0 & 0 & - \\frac{O_{1,1} e^{- i \\theta_{κ_1}}}{2} & - \\frac{O_{1,1}}{2} & \\frac{O_{1,2}}{2} & - \\frac{O_{1,2} e^{- i \\theta_{κ_1}}}{2}\\\\0 & 0 & 0 & 0 & \\frac{O_{2,1} e^{- i \\theta_{κ_1}}}{2} & \\frac{O_{2,1}}{2} & - \\frac{O_{2,2}}{2} & \\frac{O_{2,2} e^{- i \\theta_{κ_1}}}{2}\\\\0 & 0 & 0 & 0 & \\frac{O_{2,1}}{2} & \\frac{O_{2,1} e^{i \\theta_{κ_1}}}{2} & - \\frac{O_{2,2} e^{i \\theta_{κ_1}}}{2} & \\frac{O_{2,2}}{2}\\\\\\frac{\\overline{O_{1,1}}}{2} & - \\frac{e^{i \\theta_{κ_1}} \\overline{O_{1,1}}}{2} & \\frac{e^{i \\theta_{κ_1}} \\overline{O_{2,1}}}{2} & \\frac{\\overline{O_{2,1}}}{2} & 0 & 0 & 0 & 0\\\\\\frac{e^{- i \\theta_{κ_1}} \\overline{O_{1,1}}}{2} & - \\frac{\\overline{O_{1,1}}}{2} & \\frac{\\overline{O_{2,1}}}{2} & \\frac{e^{- i \\theta_{κ_1}} \\overline{O_{2,1}}}{2} & 0 & 0 & 0 & 0\\\\- \\frac{e^{- i \\theta_{κ_1}} \\overline{O_{1,2}}}{2} & \\frac{\\overline{O_{1,2}}}{2} & - \\frac{\\overline{O_{2,2}}}{2} & - \\frac{e^{- i \\theta_{κ_1}} \\overline{O_{2,2}}}{2} & 0 & 0 & 0 & 0\\\\\\frac{\\overline{O_{1,2}}}{2} & - \\frac{e^{i \\theta_{κ_1}} \\overline{O_{1,2}}}{2} & \\frac{e^{i \\theta_{κ_1}} \\overline{O_{2,2}}}{2} & \\frac{\\overline{O_{2,2}}}{2} & 0 & 0 & 0 & 0\\end{matrix}\\right]$"
      ],
      "text/plain": [
       "Matrix([\n",
       "[                                         0,                                         0,                                        0,                                          0,                       O_{1,1}/2, O_{1,1}*exp(I*\\theta_{κ_1})/2, -O_{1,2}*exp(I*\\theta_{κ_1})/2,                       O_{1,2}/2],\n",
       "[                                         0,                                         0,                                        0,                                          0, -O_{1,1}*exp(-I*\\theta_{κ_1})/2,                    -O_{1,1}/2,                      O_{1,2}/2, -O_{1,2}*exp(-I*\\theta_{κ_1})/2],\n",
       "[                                         0,                                         0,                                        0,                                          0,  O_{2,1}*exp(-I*\\theta_{κ_1})/2,                     O_{2,1}/2,                     -O_{2,2}/2,  O_{2,2}*exp(-I*\\theta_{κ_1})/2],\n",
       "[                                         0,                                         0,                                        0,                                          0,                       O_{2,1}/2, O_{2,1}*exp(I*\\theta_{κ_1})/2, -O_{2,2}*exp(I*\\theta_{κ_1})/2,                       O_{2,2}/2],\n",
       "[                      conjugate(O_{1,1})/2, -exp(I*\\theta_{κ_1})*conjugate(O_{1,1})/2, exp(I*\\theta_{κ_1})*conjugate(O_{2,1})/2,                       conjugate(O_{2,1})/2,                               0,                             0,                              0,                               0],\n",
       "[ exp(-I*\\theta_{κ_1})*conjugate(O_{1,1})/2,                     -conjugate(O_{1,1})/2,                     conjugate(O_{2,1})/2,  exp(-I*\\theta_{κ_1})*conjugate(O_{2,1})/2,                               0,                             0,                              0,                               0],\n",
       "[-exp(-I*\\theta_{κ_1})*conjugate(O_{1,2})/2,                      conjugate(O_{1,2})/2,                    -conjugate(O_{2,2})/2, -exp(-I*\\theta_{κ_1})*conjugate(O_{2,2})/2,                               0,                             0,                              0,                               0],\n",
       "[                      conjugate(O_{1,2})/2, -exp(I*\\theta_{κ_1})*conjugate(O_{1,2})/2, exp(I*\\theta_{κ_1})*conjugate(O_{2,2})/2,                       conjugate(O_{2,2})/2,                               0,                             0,                              0,                               0]])"
      ]
     },
     "execution_count": 47,
     "metadata": {},
     "output_type": "execute_result"
    }
   ],
   "source": [
    "WW[1].H * OOO* WW[1]"
   ]
  },
  {
   "cell_type": "code",
   "execution_count": 48,
   "metadata": {},
   "outputs": [],
   "source": [
    "rules_intra=[(O[(1,2)],0),(O[(2,1)],0)]\n",
    "rules_inter=[(O[(1,1)],0),(O[(2,2)],0)]"
   ]
  },
  {
   "cell_type": "code",
   "execution_count": 49,
   "metadata": {},
   "outputs": [],
   "source": [
    "# COO=(M.T *WW[1].H * OOO* WW[1] * M)\n",
    "COO=WW[1].H * OOO* WW[1]"
   ]
  },
  {
   "cell_type": "code",
   "execution_count": 50,
   "metadata": {},
   "outputs": [
    {
     "data": {
      "text/latex": [
       "$\\displaystyle \\left[\\begin{matrix}\\frac{O_{1,1}}{2} & \\frac{O_{1,1} e^{i \\theta_{κ_1}}}{2} & - \\frac{O_{1,2} e^{i \\theta_{κ_1}}}{2} & \\frac{O_{1,2}}{2}\\\\- \\frac{O_{1,1} e^{- i \\theta_{κ_1}}}{2} & - \\frac{O_{1,1}}{2} & \\frac{O_{1,2}}{2} & - \\frac{O_{1,2} e^{- i \\theta_{κ_1}}}{2}\\\\\\frac{O_{2,1} e^{- i \\theta_{κ_1}}}{2} & \\frac{O_{2,1}}{2} & - \\frac{O_{2,2}}{2} & \\frac{O_{2,2} e^{- i \\theta_{κ_1}}}{2}\\\\\\frac{O_{2,1}}{2} & \\frac{O_{2,1} e^{i \\theta_{κ_1}}}{2} & - \\frac{O_{2,2} e^{i \\theta_{κ_1}}}{2} & \\frac{O_{2,2}}{2}\\end{matrix}\\right]$"
      ],
      "text/plain": [
       "Matrix([\n",
       "[                      O_{1,1}/2, O_{1,1}*exp(I*\\theta_{κ_1})/2, -O_{1,2}*exp(I*\\theta_{κ_1})/2,                       O_{1,2}/2],\n",
       "[-O_{1,1}*exp(-I*\\theta_{κ_1})/2,                    -O_{1,1}/2,                      O_{1,2}/2, -O_{1,2}*exp(-I*\\theta_{κ_1})/2],\n",
       "[ O_{2,1}*exp(-I*\\theta_{κ_1})/2,                     O_{2,1}/2,                     -O_{2,2}/2,  O_{2,2}*exp(-I*\\theta_{κ_1})/2],\n",
       "[                      O_{2,1}/2, O_{2,1}*exp(I*\\theta_{κ_1})/2, -O_{2,2}*exp(I*\\theta_{κ_1})/2,                       O_{2,2}/2]])"
      ]
     },
     "execution_count": 50,
     "metadata": {},
     "output_type": "execute_result"
    }
   ],
   "source": [
    "COO[:4,4:]"
   ]
  },
  {
   "cell_type": "code",
   "execution_count": 51,
   "metadata": {},
   "outputs": [
    {
     "data": {
      "text/latex": [
       "$\\displaystyle \\left[\\begin{matrix}0 & 0 & 0 & 0 & \\frac{O_{1,1}}{2} & \\frac{O_{1,1} e^{i \\theta_{κ_1}}}{2} & 0 & 0\\\\0 & 0 & 0 & 0 & - \\frac{O_{1,1} e^{- i \\theta_{κ_1}}}{2} & - \\frac{O_{1,1}}{2} & 0 & 0\\\\0 & 0 & 0 & 0 & 0 & 0 & - \\frac{O_{2,2}}{2} & \\frac{O_{2,2} e^{- i \\theta_{κ_1}}}{2}\\\\0 & 0 & 0 & 0 & 0 & 0 & - \\frac{O_{2,2} e^{i \\theta_{κ_1}}}{2} & \\frac{O_{2,2}}{2}\\\\\\frac{\\overline{O_{1,1}}}{2} & - \\frac{e^{i \\theta_{κ_1}} \\overline{O_{1,1}}}{2} & 0 & 0 & 0 & 0 & 0 & 0\\\\\\frac{e^{- i \\theta_{κ_1}} \\overline{O_{1,1}}}{2} & - \\frac{\\overline{O_{1,1}}}{2} & 0 & 0 & 0 & 0 & 0 & 0\\\\0 & 0 & - \\frac{\\overline{O_{2,2}}}{2} & - \\frac{e^{- i \\theta_{κ_1}} \\overline{O_{2,2}}}{2} & 0 & 0 & 0 & 0\\\\0 & 0 & \\frac{e^{i \\theta_{κ_1}} \\overline{O_{2,2}}}{2} & \\frac{\\overline{O_{2,2}}}{2} & 0 & 0 & 0 & 0\\end{matrix}\\right]$"
      ],
      "text/plain": [
       "Matrix([\n",
       "[                                        0,                                         0,                                        0,                                          0,                       O_{1,1}/2, O_{1,1}*exp(I*\\theta_{κ_1})/2,                              0,                              0],\n",
       "[                                        0,                                         0,                                        0,                                          0, -O_{1,1}*exp(-I*\\theta_{κ_1})/2,                    -O_{1,1}/2,                              0,                              0],\n",
       "[                                        0,                                         0,                                        0,                                          0,                               0,                             0,                     -O_{2,2}/2, O_{2,2}*exp(-I*\\theta_{κ_1})/2],\n",
       "[                                        0,                                         0,                                        0,                                          0,                               0,                             0, -O_{2,2}*exp(I*\\theta_{κ_1})/2,                      O_{2,2}/2],\n",
       "[                     conjugate(O_{1,1})/2, -exp(I*\\theta_{κ_1})*conjugate(O_{1,1})/2,                                        0,                                          0,                               0,                             0,                              0,                              0],\n",
       "[exp(-I*\\theta_{κ_1})*conjugate(O_{1,1})/2,                     -conjugate(O_{1,1})/2,                                        0,                                          0,                               0,                             0,                              0,                              0],\n",
       "[                                        0,                                         0,                    -conjugate(O_{2,2})/2, -exp(-I*\\theta_{κ_1})*conjugate(O_{2,2})/2,                               0,                             0,                              0,                              0],\n",
       "[                                        0,                                         0, exp(I*\\theta_{κ_1})*conjugate(O_{2,2})/2,                       conjugate(O_{2,2})/2,                               0,                             0,                              0,                              0]])"
      ]
     },
     "execution_count": 51,
     "metadata": {},
     "output_type": "execute_result"
    }
   ],
   "source": [
    "COO.subs(rules_intra)"
   ]
  },
  {
   "cell_type": "code",
   "execution_count": 52,
   "metadata": {},
   "outputs": [
    {
     "data": {
      "text/latex": [
       "$\\displaystyle \\left[\\begin{matrix}0 & 0 & 0 & 0 & 0 & 0 & - \\frac{O_{1,2} e^{i \\theta_{κ_1}}}{2} & \\frac{O_{1,2}}{2}\\\\0 & 0 & 0 & 0 & 0 & 0 & \\frac{O_{1,2}}{2} & - \\frac{O_{1,2} e^{- i \\theta_{κ_1}}}{2}\\\\0 & 0 & 0 & 0 & \\frac{O_{2,1} e^{- i \\theta_{κ_1}}}{2} & \\frac{O_{2,1}}{2} & 0 & 0\\\\0 & 0 & 0 & 0 & \\frac{O_{2,1}}{2} & \\frac{O_{2,1} e^{i \\theta_{κ_1}}}{2} & 0 & 0\\\\0 & 0 & \\frac{e^{i \\theta_{κ_1}} \\overline{O_{2,1}}}{2} & \\frac{\\overline{O_{2,1}}}{2} & 0 & 0 & 0 & 0\\\\0 & 0 & \\frac{\\overline{O_{2,1}}}{2} & \\frac{e^{- i \\theta_{κ_1}} \\overline{O_{2,1}}}{2} & 0 & 0 & 0 & 0\\\\- \\frac{e^{- i \\theta_{κ_1}} \\overline{O_{1,2}}}{2} & \\frac{\\overline{O_{1,2}}}{2} & 0 & 0 & 0 & 0 & 0 & 0\\\\\\frac{\\overline{O_{1,2}}}{2} & - \\frac{e^{i \\theta_{κ_1}} \\overline{O_{1,2}}}{2} & 0 & 0 & 0 & 0 & 0 & 0\\end{matrix}\\right]$"
      ],
      "text/plain": [
       "Matrix([\n",
       "[                                         0,                                         0,                                        0,                                         0,                              0,                             0, -O_{1,2}*exp(I*\\theta_{κ_1})/2,                       O_{1,2}/2],\n",
       "[                                         0,                                         0,                                        0,                                         0,                              0,                             0,                      O_{1,2}/2, -O_{1,2}*exp(-I*\\theta_{κ_1})/2],\n",
       "[                                         0,                                         0,                                        0,                                         0, O_{2,1}*exp(-I*\\theta_{κ_1})/2,                     O_{2,1}/2,                              0,                               0],\n",
       "[                                         0,                                         0,                                        0,                                         0,                      O_{2,1}/2, O_{2,1}*exp(I*\\theta_{κ_1})/2,                              0,                               0],\n",
       "[                                         0,                                         0, exp(I*\\theta_{κ_1})*conjugate(O_{2,1})/2,                      conjugate(O_{2,1})/2,                              0,                             0,                              0,                               0],\n",
       "[                                         0,                                         0,                     conjugate(O_{2,1})/2, exp(-I*\\theta_{κ_1})*conjugate(O_{2,1})/2,                              0,                             0,                              0,                               0],\n",
       "[-exp(-I*\\theta_{κ_1})*conjugate(O_{1,2})/2,                      conjugate(O_{1,2})/2,                                        0,                                         0,                              0,                             0,                              0,                               0],\n",
       "[                      conjugate(O_{1,2})/2, -exp(I*\\theta_{κ_1})*conjugate(O_{1,2})/2,                                        0,                                         0,                              0,                             0,                              0,                               0]])"
      ]
     },
     "execution_count": 52,
     "metadata": {},
     "output_type": "execute_result"
    }
   ],
   "source": [
    "COO.subs(rules_inter)"
   ]
  },
  {
   "cell_type": "code",
   "execution_count": 53,
   "metadata": {},
   "outputs": [],
   "source": [
    "cr={\"\".join([l,σ]):Operator(f'c_{{{l},{spin(σ)}}}') for l in 'AB' for σ in 'ud'}"
   ]
  },
  {
   "cell_type": "code",
   "execution_count": 54,
   "metadata": {},
   "outputs": [],
   "source": [
    "cc=Matrix([[cr[\"\".join([l,σ])] for l in 'AB'] for σ in 'ud'])\n",
    "cc_d=Matrix([[Dagger(cr[\"\".join([l,σ])]) for σ in 'ud'] for l in 'AB'])"
   ]
  },
  {
   "cell_type": "code",
   "execution_count": 55,
   "metadata": {},
   "outputs": [
    {
     "data": {
      "text/latex": [
       "$\\displaystyle \\left[\\begin{matrix}c_{A,↑}^{\\dagger} c_{A,↓} + c_{A,↓}^{\\dagger} c_{A,↑} & c_{A,↑}^{\\dagger} c_{B,↓} + c_{A,↓}^{\\dagger} c_{B,↑}\\\\c_{B,↑}^{\\dagger} c_{A,↓} + c_{B,↓}^{\\dagger} c_{A,↑} & c_{B,↑}^{\\dagger} c_{B,↓} + c_{B,↓}^{\\dagger} c_{B,↑}\\end{matrix}\\right]$"
      ],
      "text/plain": [
       "Matrix([\n",
       "[Dagger(c_{A,↑})*c_{A,↓} + Dagger(c_{A,↓})*c_{A,↑}, Dagger(c_{A,↑})*c_{B,↓} + Dagger(c_{A,↓})*c_{B,↑}],\n",
       "[Dagger(c_{B,↑})*c_{A,↓} + Dagger(c_{B,↓})*c_{A,↑}, Dagger(c_{B,↑})*c_{B,↓} + Dagger(c_{B,↓})*c_{B,↑}]])"
      ]
     },
     "execution_count": 55,
     "metadata": {},
     "output_type": "execute_result"
    }
   ],
   "source": [
    "cc_d*sigma['x']*cc"
   ]
  },
  {
   "cell_type": "code",
   "execution_count": 219,
   "metadata": {},
   "outputs": [
    {
     "data": {
      "text/latex": [
       "$\\displaystyle \\left[\\begin{matrix}- i c_{A,↑}^{\\dagger} c_{A,↓} + i c_{A,↓}^{\\dagger} c_{A,↑} & - i c_{A,↑}^{\\dagger} c_{B,↓} + i c_{A,↓}^{\\dagger} c_{B,↑}\\\\- i c_{B,↑}^{\\dagger} c_{A,↓} + i c_{B,↓}^{\\dagger} c_{A,↑} & - i c_{B,↑}^{\\dagger} c_{B,↓} + i c_{B,↓}^{\\dagger} c_{B,↑}\\end{matrix}\\right]$"
      ],
      "text/plain": [
       "Matrix([\n",
       "[-I*Dagger(c_{A,↑})*c_{A,↓} + I*Dagger(c_{A,↓})*c_{A,↑}, -I*Dagger(c_{A,↑})*c_{B,↓} + I*Dagger(c_{A,↓})*c_{B,↑}],\n",
       "[-I*Dagger(c_{B,↑})*c_{A,↓} + I*Dagger(c_{B,↓})*c_{A,↑}, -I*Dagger(c_{B,↑})*c_{B,↓} + I*Dagger(c_{B,↓})*c_{B,↑}]])"
      ]
     },
     "execution_count": 219,
     "metadata": {},
     "output_type": "execute_result"
    }
   ],
   "source": [
    "cc_d*sigma['y']*cc"
   ]
  },
  {
   "cell_type": "code",
   "execution_count": 56,
   "metadata": {},
   "outputs": [
    {
     "data": {
      "text/latex": [
       "$\\displaystyle \\left[\\begin{matrix}1 & 0 & 0 & 0\\\\0 & 0 & 1 & 0\\\\0 & 1 & 0 & 0\\\\0 & 0 & 0 & 1\\end{matrix}\\right]$"
      ],
      "text/plain": [
       "Matrix([\n",
       "[1, 0, 0, 0],\n",
       "[0, 0, 1, 0],\n",
       "[0, 1, 0, 0],\n",
       "[0, 0, 0, 1]])"
      ]
     },
     "execution_count": 56,
     "metadata": {},
     "output_type": "execute_result"
    }
   ],
   "source": [
    "P"
   ]
  },
  {
   "cell_type": "code",
   "execution_count": 57,
   "metadata": {},
   "outputs": [
    {
     "data": {
      "text/latex": [
       "$\\displaystyle \\left[\\begin{matrix}c_{+K,A,↑,κ_1} & c_{+K,B,↑,κ_1}\\\\c_{+K,A,↓,κ_1} & c_{+K,B,↓,κ_1}\\\\c_{-K,A,↑,κ_1} & c_{-K,B,↑,κ_1}\\\\c_{-K,A,↓,κ_1} & c_{-K,B,↓,κ_1}\\end{matrix}\\right]$"
      ],
      "text/plain": [
       "Matrix([\n",
       "[c_{+K,A,↑,κ_1}, c_{+K,B,↑,κ_1}],\n",
       "[c_{+K,A,↓,κ_1}, c_{+K,B,↓,κ_1}],\n",
       "[c_{-K,A,↑,κ_1}, c_{-K,B,↑,κ_1}],\n",
       "[c_{-K,A,↓,κ_1}, c_{-K,B,↓,κ_1}]])"
      ]
     },
     "execution_count": 57,
     "metadata": {},
     "output_type": "execute_result"
    }
   ],
   "source": [
    "P*c_vec[1].reshape(4,2)"
   ]
  },
  {
   "cell_type": "code",
   "execution_count": 58,
   "metadata": {},
   "outputs": [
    {
     "data": {
      "text/latex": [
       "$\\displaystyle \\left[\\begin{matrix}c_{+K,A,↑,κ_1}^{\\dagger} & c_{+K,A,↓,κ_1}^{\\dagger} & c_{-K,A,↑,κ_1}^{\\dagger} & c_{-K,A,↓,κ_1}^{\\dagger}\\\\c_{+K,B,↑,κ_1}^{\\dagger} & c_{+K,B,↓,κ_1}^{\\dagger} & c_{-K,B,↑,κ_1}^{\\dagger} & c_{-K,B,↓,κ_1}^{\\dagger}\\end{matrix}\\right]$"
      ],
      "text/plain": [
       "Matrix([\n",
       "[Dagger(c_{+K,A,↑,κ_1}), Dagger(c_{+K,A,↓,κ_1}), Dagger(c_{-K,A,↑,κ_1}), Dagger(c_{-K,A,↓,κ_1})],\n",
       "[Dagger(c_{+K,B,↑,κ_1}), Dagger(c_{+K,B,↓,κ_1}), Dagger(c_{-K,B,↑,κ_1}), Dagger(c_{-K,B,↓,κ_1})]])"
      ]
     },
     "execution_count": 58,
     "metadata": {},
     "output_type": "execute_result"
    }
   ],
   "source": [
    "(P*c_d_vec[1].reshape(4,2)).T"
   ]
  },
  {
   "cell_type": "code",
   "execution_count": 59,
   "metadata": {},
   "outputs": [],
   "source": [
    "Kr=symbols('Kr')"
   ]
  },
  {
   "cell_type": "code",
   "execution_count": 60,
   "metadata": {},
   "outputs": [],
   "source": [
    "s={spin:Matrix([[sigma[spin],sigma[spin]*exp(-2*I*Kr)],[sigma[spin]*exp(2*I*Kr),sigma[spin]]]) for spin in 'xy'}"
   ]
  },
  {
   "cell_type": "code",
   "execution_count": 61,
   "metadata": {},
   "outputs": [
    {
     "data": {
      "text/latex": [
       "$\\displaystyle \\left[\\begin{matrix}e^{\\frac{2 i \\pi}{3}} & 0 & 0 & 0\\\\0 & e^{\\frac{2 i \\pi}{3}} & 0 & 0\\\\0 & 0 & e^{- \\frac{2 i \\pi}{3}} & 0\\\\0 & 0 & 0 & e^{- \\frac{2 i \\pi}{3}}\\end{matrix}\\right]$"
      ],
      "text/plain": [
       "Matrix([\n",
       "[exp(2*I*pi/3),             0,              0,              0],\n",
       "[            0, exp(2*I*pi/3),              0,              0],\n",
       "[            0,             0, exp(-2*I*pi/3),              0],\n",
       "[            0,             0,              0, exp(-2*I*pi/3)]])"
      ]
     },
     "execution_count": 61,
     "metadata": {},
     "output_type": "execute_result"
    }
   ],
   "source": [
    "diag(*[exp(I*K[valley].dot(n[2])*4*pi/sqrt(3)) for valley in '++--'])"
   ]
  },
  {
   "cell_type": "code",
   "execution_count": 62,
   "metadata": {},
   "outputs": [],
   "source": [
    "S={(spin,n_idx):((P*c_d_vec[1].reshape(4,2)).T * s[spin] * diag(*[exp(I*K[valley].dot(n[n_idx])*4*pi/sqrt(3)) for valley in '++--']) * (P*c_vec[1].reshape(4,2))).expand() for spin in 'xy' for n_idx in range(3)}"
   ]
  },
  {
   "cell_type": "code",
   "execution_count": 63,
   "metadata": {},
   "outputs": [
    {
     "data": {
      "text/latex": [
       "$\\displaystyle \\left[\\begin{matrix}e^{2 i Kr} c_{-K,A,↑,κ_1}^{\\dagger} c_{+K,A,↓,κ_1} + e^{2 i Kr} c_{-K,A,↓,κ_1}^{\\dagger} c_{+K,A,↑,κ_1} + c_{+K,A,↑,κ_1}^{\\dagger} c_{+K,A,↓,κ_1} + c_{+K,A,↓,κ_1}^{\\dagger} c_{+K,A,↑,κ_1} + c_{-K,A,↑,κ_1}^{\\dagger} c_{-K,A,↓,κ_1} + c_{-K,A,↓,κ_1}^{\\dagger} c_{-K,A,↑,κ_1} + e^{- 2 i Kr} c_{+K,A,↑,κ_1}^{\\dagger} c_{-K,A,↓,κ_1} + e^{- 2 i Kr} c_{+K,A,↓,κ_1}^{\\dagger} c_{-K,A,↑,κ_1} & e^{2 i Kr} c_{-K,A,↑,κ_1}^{\\dagger} c_{+K,B,↓,κ_1} + e^{2 i Kr} c_{-K,A,↓,κ_1}^{\\dagger} c_{+K,B,↑,κ_1} + c_{+K,A,↑,κ_1}^{\\dagger} c_{+K,B,↓,κ_1} + c_{+K,A,↓,κ_1}^{\\dagger} c_{+K,B,↑,κ_1} + c_{-K,A,↑,κ_1}^{\\dagger} c_{-K,B,↓,κ_1} + c_{-K,A,↓,κ_1}^{\\dagger} c_{-K,B,↑,κ_1} + e^{- 2 i Kr} c_{+K,A,↑,κ_1}^{\\dagger} c_{-K,B,↓,κ_1} + e^{- 2 i Kr} c_{+K,A,↓,κ_1}^{\\dagger} c_{-K,B,↑,κ_1}\\\\e^{2 i Kr} c_{-K,B,↑,κ_1}^{\\dagger} c_{+K,A,↓,κ_1} + e^{2 i Kr} c_{-K,B,↓,κ_1}^{\\dagger} c_{+K,A,↑,κ_1} + c_{+K,B,↑,κ_1}^{\\dagger} c_{+K,A,↓,κ_1} + c_{+K,B,↓,κ_1}^{\\dagger} c_{+K,A,↑,κ_1} + c_{-K,B,↑,κ_1}^{\\dagger} c_{-K,A,↓,κ_1} + c_{-K,B,↓,κ_1}^{\\dagger} c_{-K,A,↑,κ_1} + e^{- 2 i Kr} c_{+K,B,↑,κ_1}^{\\dagger} c_{-K,A,↓,κ_1} + e^{- 2 i Kr} c_{+K,B,↓,κ_1}^{\\dagger} c_{-K,A,↑,κ_1} & e^{2 i Kr} c_{-K,B,↑,κ_1}^{\\dagger} c_{+K,B,↓,κ_1} + e^{2 i Kr} c_{-K,B,↓,κ_1}^{\\dagger} c_{+K,B,↑,κ_1} + c_{+K,B,↑,κ_1}^{\\dagger} c_{+K,B,↓,κ_1} + c_{+K,B,↓,κ_1}^{\\dagger} c_{+K,B,↑,κ_1} + c_{-K,B,↑,κ_1}^{\\dagger} c_{-K,B,↓,κ_1} + c_{-K,B,↓,κ_1}^{\\dagger} c_{-K,B,↑,κ_1} + e^{- 2 i Kr} c_{+K,B,↑,κ_1}^{\\dagger} c_{-K,B,↓,κ_1} + e^{- 2 i Kr} c_{+K,B,↓,κ_1}^{\\dagger} c_{-K,B,↑,κ_1}\\end{matrix}\\right]$"
      ],
      "text/plain": [
       "Matrix([\n",
       "[exp(2*I*Kr)*Dagger(c_{-K,A,↑,κ_1})*c_{+K,A,↓,κ_1} + exp(2*I*Kr)*Dagger(c_{-K,A,↓,κ_1})*c_{+K,A,↑,κ_1} + Dagger(c_{+K,A,↑,κ_1})*c_{+K,A,↓,κ_1} + Dagger(c_{+K,A,↓,κ_1})*c_{+K,A,↑,κ_1} + Dagger(c_{-K,A,↑,κ_1})*c_{-K,A,↓,κ_1} + Dagger(c_{-K,A,↓,κ_1})*c_{-K,A,↑,κ_1} + exp(-2*I*Kr)*Dagger(c_{+K,A,↑,κ_1})*c_{-K,A,↓,κ_1} + exp(-2*I*Kr)*Dagger(c_{+K,A,↓,κ_1})*c_{-K,A,↑,κ_1}, exp(2*I*Kr)*Dagger(c_{-K,A,↑,κ_1})*c_{+K,B,↓,κ_1} + exp(2*I*Kr)*Dagger(c_{-K,A,↓,κ_1})*c_{+K,B,↑,κ_1} + Dagger(c_{+K,A,↑,κ_1})*c_{+K,B,↓,κ_1} + Dagger(c_{+K,A,↓,κ_1})*c_{+K,B,↑,κ_1} + Dagger(c_{-K,A,↑,κ_1})*c_{-K,B,↓,κ_1} + Dagger(c_{-K,A,↓,κ_1})*c_{-K,B,↑,κ_1} + exp(-2*I*Kr)*Dagger(c_{+K,A,↑,κ_1})*c_{-K,B,↓,κ_1} + exp(-2*I*Kr)*Dagger(c_{+K,A,↓,κ_1})*c_{-K,B,↑,κ_1}],\n",
       "[exp(2*I*Kr)*Dagger(c_{-K,B,↑,κ_1})*c_{+K,A,↓,κ_1} + exp(2*I*Kr)*Dagger(c_{-K,B,↓,κ_1})*c_{+K,A,↑,κ_1} + Dagger(c_{+K,B,↑,κ_1})*c_{+K,A,↓,κ_1} + Dagger(c_{+K,B,↓,κ_1})*c_{+K,A,↑,κ_1} + Dagger(c_{-K,B,↑,κ_1})*c_{-K,A,↓,κ_1} + Dagger(c_{-K,B,↓,κ_1})*c_{-K,A,↑,κ_1} + exp(-2*I*Kr)*Dagger(c_{+K,B,↑,κ_1})*c_{-K,A,↓,κ_1} + exp(-2*I*Kr)*Dagger(c_{+K,B,↓,κ_1})*c_{-K,A,↑,κ_1}, exp(2*I*Kr)*Dagger(c_{-K,B,↑,κ_1})*c_{+K,B,↓,κ_1} + exp(2*I*Kr)*Dagger(c_{-K,B,↓,κ_1})*c_{+K,B,↑,κ_1} + Dagger(c_{+K,B,↑,κ_1})*c_{+K,B,↓,κ_1} + Dagger(c_{+K,B,↓,κ_1})*c_{+K,B,↑,κ_1} + Dagger(c_{-K,B,↑,κ_1})*c_{-K,B,↓,κ_1} + Dagger(c_{-K,B,↓,κ_1})*c_{-K,B,↑,κ_1} + exp(-2*I*Kr)*Dagger(c_{+K,B,↑,κ_1})*c_{-K,B,↓,κ_1} + exp(-2*I*Kr)*Dagger(c_{+K,B,↓,κ_1})*c_{-K,B,↑,κ_1}]])"
      ]
     },
     "execution_count": 63,
     "metadata": {},
     "output_type": "execute_result"
    }
   ],
   "source": [
    "S[('x',0)]"
   ]
  },
  {
   "cell_type": "code",
   "execution_count": 76,
   "metadata": {},
   "outputs": [],
   "source": [
    "cm={λ:Matrix([[c[\"\".join([λ,'Au1'])],c[\"\".join([λ,'Bu1'])]],[c[\"\".join([λ,'Ad1'])],c[\"\".join([λ,'Bd1'])]]]) for λ in '+-'}\n",
    "cm_d={λ:Matrix([[Dagger(c[\"\".join([λ,'Au1'])]),Dagger(c[\"\".join([λ,'Bu1'])])],[Dagger(c[\"\".join([λ,'Ad1'])]),Dagger(c[\"\".join([λ,'Bd1'])])]]).T for λ in '+-'}"
   ]
  },
  {
   "cell_type": "code",
   "execution_count": 108,
   "metadata": {},
   "outputs": [],
   "source": [
    "zz=sum([cm_d[λ1]*sigma['x']*cm[λ2]*exp(-I*(convert_valley(λ1)-convert_valley(λ2))*Kr)*exp(-I*convert_valley(λ2)*2*pi/3) for λ1 in '+-' for λ2 in '+-'],zeros(2,2)).expand() "
   ]
  },
  {
   "cell_type": "code",
   "execution_count": 109,
   "metadata": {},
   "outputs": [
    {
     "data": {
      "text/latex": [
       "$\\displaystyle \\left[\\begin{matrix}e^{- \\frac{2 i \\pi}{3}} e^{2 i Kr} c_{-K,A,↑,κ_1}^{\\dagger} c_{+K,A,↓,κ_1} + e^{- \\frac{2 i \\pi}{3}} e^{2 i Kr} c_{-K,A,↓,κ_1}^{\\dagger} c_{+K,A,↑,κ_1} + e^{- \\frac{2 i \\pi}{3}} c_{+K,A,↑,κ_1}^{\\dagger} c_{+K,A,↓,κ_1} + e^{- \\frac{2 i \\pi}{3}} c_{+K,A,↓,κ_1}^{\\dagger} c_{+K,A,↑,κ_1} + e^{\\frac{2 i \\pi}{3}} c_{-K,A,↑,κ_1}^{\\dagger} c_{-K,A,↓,κ_1} + e^{\\frac{2 i \\pi}{3}} c_{-K,A,↓,κ_1}^{\\dagger} c_{-K,A,↑,κ_1} + e^{\\frac{2 i \\pi}{3}} e^{- 2 i Kr} c_{+K,A,↑,κ_1}^{\\dagger} c_{-K,A,↓,κ_1} + e^{\\frac{2 i \\pi}{3}} e^{- 2 i Kr} c_{+K,A,↓,κ_1}^{\\dagger} c_{-K,A,↑,κ_1} & e^{- \\frac{2 i \\pi}{3}} e^{2 i Kr} c_{-K,A,↑,κ_1}^{\\dagger} c_{+K,B,↓,κ_1} + e^{- \\frac{2 i \\pi}{3}} e^{2 i Kr} c_{-K,A,↓,κ_1}^{\\dagger} c_{+K,B,↑,κ_1} + e^{- \\frac{2 i \\pi}{3}} c_{+K,A,↑,κ_1}^{\\dagger} c_{+K,B,↓,κ_1} + e^{- \\frac{2 i \\pi}{3}} c_{+K,A,↓,κ_1}^{\\dagger} c_{+K,B,↑,κ_1} + e^{\\frac{2 i \\pi}{3}} c_{-K,A,↑,κ_1}^{\\dagger} c_{-K,B,↓,κ_1} + e^{\\frac{2 i \\pi}{3}} c_{-K,A,↓,κ_1}^{\\dagger} c_{-K,B,↑,κ_1} + e^{\\frac{2 i \\pi}{3}} e^{- 2 i Kr} c_{+K,A,↑,κ_1}^{\\dagger} c_{-K,B,↓,κ_1} + e^{\\frac{2 i \\pi}{3}} e^{- 2 i Kr} c_{+K,A,↓,κ_1}^{\\dagger} c_{-K,B,↑,κ_1}\\\\e^{- \\frac{2 i \\pi}{3}} e^{2 i Kr} c_{-K,B,↑,κ_1}^{\\dagger} c_{+K,A,↓,κ_1} + e^{- \\frac{2 i \\pi}{3}} e^{2 i Kr} c_{-K,B,↓,κ_1}^{\\dagger} c_{+K,A,↑,κ_1} + e^{- \\frac{2 i \\pi}{3}} c_{+K,B,↑,κ_1}^{\\dagger} c_{+K,A,↓,κ_1} + e^{- \\frac{2 i \\pi}{3}} c_{+K,B,↓,κ_1}^{\\dagger} c_{+K,A,↑,κ_1} + e^{\\frac{2 i \\pi}{3}} c_{-K,B,↑,κ_1}^{\\dagger} c_{-K,A,↓,κ_1} + e^{\\frac{2 i \\pi}{3}} c_{-K,B,↓,κ_1}^{\\dagger} c_{-K,A,↑,κ_1} + e^{\\frac{2 i \\pi}{3}} e^{- 2 i Kr} c_{+K,B,↑,κ_1}^{\\dagger} c_{-K,A,↓,κ_1} + e^{\\frac{2 i \\pi}{3}} e^{- 2 i Kr} c_{+K,B,↓,κ_1}^{\\dagger} c_{-K,A,↑,κ_1} & e^{- \\frac{2 i \\pi}{3}} e^{2 i Kr} c_{-K,B,↑,κ_1}^{\\dagger} c_{+K,B,↓,κ_1} + e^{- \\frac{2 i \\pi}{3}} e^{2 i Kr} c_{-K,B,↓,κ_1}^{\\dagger} c_{+K,B,↑,κ_1} + e^{- \\frac{2 i \\pi}{3}} c_{+K,B,↑,κ_1}^{\\dagger} c_{+K,B,↓,κ_1} + e^{- \\frac{2 i \\pi}{3}} c_{+K,B,↓,κ_1}^{\\dagger} c_{+K,B,↑,κ_1} + e^{\\frac{2 i \\pi}{3}} c_{-K,B,↑,κ_1}^{\\dagger} c_{-K,B,↓,κ_1} + e^{\\frac{2 i \\pi}{3}} c_{-K,B,↓,κ_1}^{\\dagger} c_{-K,B,↑,κ_1} + e^{\\frac{2 i \\pi}{3}} e^{- 2 i Kr} c_{+K,B,↑,κ_1}^{\\dagger} c_{-K,B,↓,κ_1} + e^{\\frac{2 i \\pi}{3}} e^{- 2 i Kr} c_{+K,B,↓,κ_1}^{\\dagger} c_{-K,B,↑,κ_1}\\end{matrix}\\right]$"
      ],
      "text/plain": [
       "Matrix([\n",
       "[exp(-2*I*pi/3)*exp(2*I*Kr)*Dagger(c_{-K,A,↑,κ_1})*c_{+K,A,↓,κ_1} + exp(-2*I*pi/3)*exp(2*I*Kr)*Dagger(c_{-K,A,↓,κ_1})*c_{+K,A,↑,κ_1} + exp(-2*I*pi/3)*Dagger(c_{+K,A,↑,κ_1})*c_{+K,A,↓,κ_1} + exp(-2*I*pi/3)*Dagger(c_{+K,A,↓,κ_1})*c_{+K,A,↑,κ_1} + exp(2*I*pi/3)*Dagger(c_{-K,A,↑,κ_1})*c_{-K,A,↓,κ_1} + exp(2*I*pi/3)*Dagger(c_{-K,A,↓,κ_1})*c_{-K,A,↑,κ_1} + exp(2*I*pi/3)*exp(-2*I*Kr)*Dagger(c_{+K,A,↑,κ_1})*c_{-K,A,↓,κ_1} + exp(2*I*pi/3)*exp(-2*I*Kr)*Dagger(c_{+K,A,↓,κ_1})*c_{-K,A,↑,κ_1}, exp(-2*I*pi/3)*exp(2*I*Kr)*Dagger(c_{-K,A,↑,κ_1})*c_{+K,B,↓,κ_1} + exp(-2*I*pi/3)*exp(2*I*Kr)*Dagger(c_{-K,A,↓,κ_1})*c_{+K,B,↑,κ_1} + exp(-2*I*pi/3)*Dagger(c_{+K,A,↑,κ_1})*c_{+K,B,↓,κ_1} + exp(-2*I*pi/3)*Dagger(c_{+K,A,↓,κ_1})*c_{+K,B,↑,κ_1} + exp(2*I*pi/3)*Dagger(c_{-K,A,↑,κ_1})*c_{-K,B,↓,κ_1} + exp(2*I*pi/3)*Dagger(c_{-K,A,↓,κ_1})*c_{-K,B,↑,κ_1} + exp(2*I*pi/3)*exp(-2*I*Kr)*Dagger(c_{+K,A,↑,κ_1})*c_{-K,B,↓,κ_1} + exp(2*I*pi/3)*exp(-2*I*Kr)*Dagger(c_{+K,A,↓,κ_1})*c_{-K,B,↑,κ_1}],\n",
       "[exp(-2*I*pi/3)*exp(2*I*Kr)*Dagger(c_{-K,B,↑,κ_1})*c_{+K,A,↓,κ_1} + exp(-2*I*pi/3)*exp(2*I*Kr)*Dagger(c_{-K,B,↓,κ_1})*c_{+K,A,↑,κ_1} + exp(-2*I*pi/3)*Dagger(c_{+K,B,↑,κ_1})*c_{+K,A,↓,κ_1} + exp(-2*I*pi/3)*Dagger(c_{+K,B,↓,κ_1})*c_{+K,A,↑,κ_1} + exp(2*I*pi/3)*Dagger(c_{-K,B,↑,κ_1})*c_{-K,A,↓,κ_1} + exp(2*I*pi/3)*Dagger(c_{-K,B,↓,κ_1})*c_{-K,A,↑,κ_1} + exp(2*I*pi/3)*exp(-2*I*Kr)*Dagger(c_{+K,B,↑,κ_1})*c_{-K,A,↓,κ_1} + exp(2*I*pi/3)*exp(-2*I*Kr)*Dagger(c_{+K,B,↓,κ_1})*c_{-K,A,↑,κ_1}, exp(-2*I*pi/3)*exp(2*I*Kr)*Dagger(c_{-K,B,↑,κ_1})*c_{+K,B,↓,κ_1} + exp(-2*I*pi/3)*exp(2*I*Kr)*Dagger(c_{-K,B,↓,κ_1})*c_{+K,B,↑,κ_1} + exp(-2*I*pi/3)*Dagger(c_{+K,B,↑,κ_1})*c_{+K,B,↓,κ_1} + exp(-2*I*pi/3)*Dagger(c_{+K,B,↓,κ_1})*c_{+K,B,↑,κ_1} + exp(2*I*pi/3)*Dagger(c_{-K,B,↑,κ_1})*c_{-K,B,↓,κ_1} + exp(2*I*pi/3)*Dagger(c_{-K,B,↓,κ_1})*c_{-K,B,↑,κ_1} + exp(2*I*pi/3)*exp(-2*I*Kr)*Dagger(c_{+K,B,↑,κ_1})*c_{-K,B,↓,κ_1} + exp(2*I*pi/3)*exp(-2*I*Kr)*Dagger(c_{+K,B,↓,κ_1})*c_{-K,B,↑,κ_1}]])"
      ]
     },
     "execution_count": 109,
     "metadata": {},
     "output_type": "execute_result"
    }
   ],
   "source": [
    "S[('x',1)]"
   ]
  },
  {
   "cell_type": "code",
   "execution_count": 100,
   "metadata": {},
   "outputs": [
    {
     "data": {
      "text/latex": [
       "$\\displaystyle e^{2 i Kr} c_{-K,A,↑,κ_1}^{\\dagger} c_{+K,A,↓,κ_1} + e^{2 i Kr} c_{-K,A,↓,κ_1}^{\\dagger} c_{+K,A,↑,κ_1} + c_{+K,A,↑,κ_1}^{\\dagger} c_{+K,A,↓,κ_1} + c_{+K,A,↓,κ_1}^{\\dagger} c_{+K,A,↑,κ_1} + c_{-K,A,↑,κ_1}^{\\dagger} c_{-K,A,↓,κ_1} + c_{-K,A,↓,κ_1}^{\\dagger} c_{-K,A,↑,κ_1} + e^{- 2 i Kr} c_{+K,A,↑,κ_1}^{\\dagger} c_{-K,A,↓,κ_1} + e^{- 2 i Kr} c_{+K,A,↓,κ_1}^{\\dagger} c_{-K,A,↑,κ_1}$"
      ],
      "text/plain": [
       "exp(2*I*Kr)*Dagger(c_{-K,A,↑,κ_1})*c_{+K,A,↓,κ_1} + exp(2*I*Kr)*Dagger(c_{-K,A,↓,κ_1})*c_{+K,A,↑,κ_1} + Dagger(c_{+K,A,↑,κ_1})*c_{+K,A,↓,κ_1} + Dagger(c_{+K,A,↓,κ_1})*c_{+K,A,↑,κ_1} + Dagger(c_{-K,A,↑,κ_1})*c_{-K,A,↓,κ_1} + Dagger(c_{-K,A,↓,κ_1})*c_{-K,A,↑,κ_1} + exp(-2*I*Kr)*Dagger(c_{+K,A,↑,κ_1})*c_{-K,A,↓,κ_1} + exp(-2*I*Kr)*Dagger(c_{+K,A,↓,κ_1})*c_{-K,A,↑,κ_1}"
      ]
     },
     "execution_count": 100,
     "metadata": {},
     "output_type": "execute_result"
    }
   ],
   "source": [
    "zz[0,0]"
   ]
  },
  {
   "cell_type": "code",
   "execution_count": 113,
   "metadata": {},
   "outputs": [
    {
     "data": {
      "text/latex": [
       "$\\displaystyle 0$"
      ],
      "text/plain": [
       "0"
      ]
     },
     "execution_count": 113,
     "metadata": {},
     "output_type": "execute_result"
    }
   ],
   "source": [
    "S[('x',1)][1,0]-zz[1,0]"
   ]
  },
  {
   "cell_type": "code",
   "execution_count": 322,
   "metadata": {},
   "outputs": [
    {
     "data": {
      "text/latex": [
       "$\\displaystyle \\left[\\begin{matrix}- i e^{- \\frac{2 i \\pi}{3}} e^{2 i Kr} c_{-K,A,↑,κ_1}^{\\dagger} c_{+K,A,↓,κ_1} + i e^{- \\frac{2 i \\pi}{3}} e^{2 i Kr} c_{-K,A,↓,κ_1}^{\\dagger} c_{+K,A,↑,κ_1} - i e^{- \\frac{2 i \\pi}{3}} c_{+K,A,↑,κ_1}^{\\dagger} c_{+K,A,↓,κ_1} + i e^{- \\frac{2 i \\pi}{3}} c_{+K,A,↓,κ_1}^{\\dagger} c_{+K,A,↑,κ_1} - i e^{\\frac{2 i \\pi}{3}} c_{-K,A,↑,κ_1}^{\\dagger} c_{-K,A,↓,κ_1} + i e^{\\frac{2 i \\pi}{3}} c_{-K,A,↓,κ_1}^{\\dagger} c_{-K,A,↑,κ_1} - i e^{\\frac{2 i \\pi}{3}} e^{- 2 i Kr} c_{+K,A,↑,κ_1}^{\\dagger} c_{-K,A,↓,κ_1} + i e^{\\frac{2 i \\pi}{3}} e^{- 2 i Kr} c_{+K,A,↓,κ_1}^{\\dagger} c_{-K,A,↑,κ_1} & - i e^{- \\frac{2 i \\pi}{3}} e^{2 i Kr} c_{-K,A,↑,κ_1}^{\\dagger} c_{+K,B,↓,κ_1} + i e^{- \\frac{2 i \\pi}{3}} e^{2 i Kr} c_{-K,A,↓,κ_1}^{\\dagger} c_{+K,B,↑,κ_1} - i e^{- \\frac{2 i \\pi}{3}} c_{+K,A,↑,κ_1}^{\\dagger} c_{+K,B,↓,κ_1} + i e^{- \\frac{2 i \\pi}{3}} c_{+K,A,↓,κ_1}^{\\dagger} c_{+K,B,↑,κ_1} - i e^{\\frac{2 i \\pi}{3}} c_{-K,A,↑,κ_1}^{\\dagger} c_{-K,B,↓,κ_1} + i e^{\\frac{2 i \\pi}{3}} c_{-K,A,↓,κ_1}^{\\dagger} c_{-K,B,↑,κ_1} - i e^{\\frac{2 i \\pi}{3}} e^{- 2 i Kr} c_{+K,A,↑,κ_1}^{\\dagger} c_{-K,B,↓,κ_1} + i e^{\\frac{2 i \\pi}{3}} e^{- 2 i Kr} c_{+K,A,↓,κ_1}^{\\dagger} c_{-K,B,↑,κ_1}\\\\- i e^{- \\frac{2 i \\pi}{3}} e^{2 i Kr} c_{-K,B,↑,κ_1}^{\\dagger} c_{+K,A,↓,κ_1} + i e^{- \\frac{2 i \\pi}{3}} e^{2 i Kr} c_{-K,B,↓,κ_1}^{\\dagger} c_{+K,A,↑,κ_1} - i e^{- \\frac{2 i \\pi}{3}} c_{+K,B,↑,κ_1}^{\\dagger} c_{+K,A,↓,κ_1} + i e^{- \\frac{2 i \\pi}{3}} c_{+K,B,↓,κ_1}^{\\dagger} c_{+K,A,↑,κ_1} - i e^{\\frac{2 i \\pi}{3}} c_{-K,B,↑,κ_1}^{\\dagger} c_{-K,A,↓,κ_1} + i e^{\\frac{2 i \\pi}{3}} c_{-K,B,↓,κ_1}^{\\dagger} c_{-K,A,↑,κ_1} - i e^{\\frac{2 i \\pi}{3}} e^{- 2 i Kr} c_{+K,B,↑,κ_1}^{\\dagger} c_{-K,A,↓,κ_1} + i e^{\\frac{2 i \\pi}{3}} e^{- 2 i Kr} c_{+K,B,↓,κ_1}^{\\dagger} c_{-K,A,↑,κ_1} & - i e^{- \\frac{2 i \\pi}{3}} e^{2 i Kr} c_{-K,B,↑,κ_1}^{\\dagger} c_{+K,B,↓,κ_1} + i e^{- \\frac{2 i \\pi}{3}} e^{2 i Kr} c_{-K,B,↓,κ_1}^{\\dagger} c_{+K,B,↑,κ_1} - i e^{- \\frac{2 i \\pi}{3}} c_{+K,B,↑,κ_1}^{\\dagger} c_{+K,B,↓,κ_1} + i e^{- \\frac{2 i \\pi}{3}} c_{+K,B,↓,κ_1}^{\\dagger} c_{+K,B,↑,κ_1} - i e^{\\frac{2 i \\pi}{3}} c_{-K,B,↑,κ_1}^{\\dagger} c_{-K,B,↓,κ_1} + i e^{\\frac{2 i \\pi}{3}} c_{-K,B,↓,κ_1}^{\\dagger} c_{-K,B,↑,κ_1} - i e^{\\frac{2 i \\pi}{3}} e^{- 2 i Kr} c_{+K,B,↑,κ_1}^{\\dagger} c_{-K,B,↓,κ_1} + i e^{\\frac{2 i \\pi}{3}} e^{- 2 i Kr} c_{+K,B,↓,κ_1}^{\\dagger} c_{-K,B,↑,κ_1}\\end{matrix}\\right]$"
      ],
      "text/plain": [
       "Matrix([\n",
       "[-I*exp(-2*I*pi/3)*exp(2*I*Kr)*Dagger(c_{-K,A,↑,κ_1})*c_{+K,A,↓,κ_1} + I*exp(-2*I*pi/3)*exp(2*I*Kr)*Dagger(c_{-K,A,↓,κ_1})*c_{+K,A,↑,κ_1} - I*exp(-2*I*pi/3)*Dagger(c_{+K,A,↑,κ_1})*c_{+K,A,↓,κ_1} + I*exp(-2*I*pi/3)*Dagger(c_{+K,A,↓,κ_1})*c_{+K,A,↑,κ_1} - I*exp(2*I*pi/3)*Dagger(c_{-K,A,↑,κ_1})*c_{-K,A,↓,κ_1} + I*exp(2*I*pi/3)*Dagger(c_{-K,A,↓,κ_1})*c_{-K,A,↑,κ_1} - I*exp(2*I*pi/3)*exp(-2*I*Kr)*Dagger(c_{+K,A,↑,κ_1})*c_{-K,A,↓,κ_1} + I*exp(2*I*pi/3)*exp(-2*I*Kr)*Dagger(c_{+K,A,↓,κ_1})*c_{-K,A,↑,κ_1}, -I*exp(-2*I*pi/3)*exp(2*I*Kr)*Dagger(c_{-K,A,↑,κ_1})*c_{+K,B,↓,κ_1} + I*exp(-2*I*pi/3)*exp(2*I*Kr)*Dagger(c_{-K,A,↓,κ_1})*c_{+K,B,↑,κ_1} - I*exp(-2*I*pi/3)*Dagger(c_{+K,A,↑,κ_1})*c_{+K,B,↓,κ_1} + I*exp(-2*I*pi/3)*Dagger(c_{+K,A,↓,κ_1})*c_{+K,B,↑,κ_1} - I*exp(2*I*pi/3)*Dagger(c_{-K,A,↑,κ_1})*c_{-K,B,↓,κ_1} + I*exp(2*I*pi/3)*Dagger(c_{-K,A,↓,κ_1})*c_{-K,B,↑,κ_1} - I*exp(2*I*pi/3)*exp(-2*I*Kr)*Dagger(c_{+K,A,↑,κ_1})*c_{-K,B,↓,κ_1} + I*exp(2*I*pi/3)*exp(-2*I*Kr)*Dagger(c_{+K,A,↓,κ_1})*c_{-K,B,↑,κ_1}],\n",
       "[-I*exp(-2*I*pi/3)*exp(2*I*Kr)*Dagger(c_{-K,B,↑,κ_1})*c_{+K,A,↓,κ_1} + I*exp(-2*I*pi/3)*exp(2*I*Kr)*Dagger(c_{-K,B,↓,κ_1})*c_{+K,A,↑,κ_1} - I*exp(-2*I*pi/3)*Dagger(c_{+K,B,↑,κ_1})*c_{+K,A,↓,κ_1} + I*exp(-2*I*pi/3)*Dagger(c_{+K,B,↓,κ_1})*c_{+K,A,↑,κ_1} - I*exp(2*I*pi/3)*Dagger(c_{-K,B,↑,κ_1})*c_{-K,A,↓,κ_1} + I*exp(2*I*pi/3)*Dagger(c_{-K,B,↓,κ_1})*c_{-K,A,↑,κ_1} - I*exp(2*I*pi/3)*exp(-2*I*Kr)*Dagger(c_{+K,B,↑,κ_1})*c_{-K,A,↓,κ_1} + I*exp(2*I*pi/3)*exp(-2*I*Kr)*Dagger(c_{+K,B,↓,κ_1})*c_{-K,A,↑,κ_1}, -I*exp(-2*I*pi/3)*exp(2*I*Kr)*Dagger(c_{-K,B,↑,κ_1})*c_{+K,B,↓,κ_1} + I*exp(-2*I*pi/3)*exp(2*I*Kr)*Dagger(c_{-K,B,↓,κ_1})*c_{+K,B,↑,κ_1} - I*exp(-2*I*pi/3)*Dagger(c_{+K,B,↑,κ_1})*c_{+K,B,↓,κ_1} + I*exp(-2*I*pi/3)*Dagger(c_{+K,B,↓,κ_1})*c_{+K,B,↑,κ_1} - I*exp(2*I*pi/3)*Dagger(c_{-K,B,↑,κ_1})*c_{-K,B,↓,κ_1} + I*exp(2*I*pi/3)*Dagger(c_{-K,B,↓,κ_1})*c_{-K,B,↑,κ_1} - I*exp(2*I*pi/3)*exp(-2*I*Kr)*Dagger(c_{+K,B,↑,κ_1})*c_{-K,B,↓,κ_1} + I*exp(2*I*pi/3)*exp(-2*I*Kr)*Dagger(c_{+K,B,↓,κ_1})*c_{-K,B,↑,κ_1}]])"
      ]
     },
     "execution_count": 322,
     "metadata": {},
     "output_type": "execute_result"
    }
   ],
   "source": [
    "S[('y',1)]"
   ]
  },
  {
   "cell_type": "code",
   "execution_count": 119,
   "metadata": {},
   "outputs": [],
   "source": [
    "rules_O=list(zip(Matrix([c_d_vec[1][i]* c_vec[1][j] for i in range(8) for j in range(8)]),COO.reshape(64,1)))"
   ]
  },
  {
   "cell_type": "code",
   "execution_count": 325,
   "metadata": {},
   "outputs": [
    {
     "data": {
      "text/latex": [
       "$\\displaystyle \\left[\\begin{matrix}\\frac{O_{1,1}}{2} - \\frac{O_{2,2}}{2} + \\frac{\\overline{O_{1,1}}}{2} - \\frac{\\overline{O_{2,2}}}{2} & \\frac{O_{1,1} e^{i \\theta_{κ_1}}}{2} + \\frac{O_{2,2} e^{- i \\theta_{κ_1}}}{2} - \\frac{e^{i \\theta_{κ_1}} \\overline{O_{1,1}}}{2} - \\frac{e^{- i \\theta_{κ_1}} \\overline{O_{2,2}}}{2}\\\\- \\frac{O_{1,1} e^{- i \\theta_{κ_1}}}{2} - \\frac{O_{2,2} e^{i \\theta_{κ_1}}}{2} + \\frac{e^{i \\theta_{κ_1}} \\overline{O_{2,2}}}{2} + \\frac{e^{- i \\theta_{κ_1}} \\overline{O_{1,1}}}{2} & - \\frac{O_{1,1}}{2} + \\frac{O_{2,2}}{2} - \\frac{\\overline{O_{1,1}}}{2} + \\frac{\\overline{O_{2,2}}}{2}\\end{matrix}\\right]$"
      ],
      "text/plain": [
       "Matrix([\n",
       "[                                                                                   O_{1,1}/2 - O_{2,2}/2 + conjugate(O_{1,1})/2 - conjugate(O_{2,2})/2, O_{1,1}*exp(I*\\theta_{κ_1})/2 + O_{2,2}*exp(-I*\\theta_{κ_1})/2 - exp(I*\\theta_{κ_1})*conjugate(O_{1,1})/2 - exp(-I*\\theta_{κ_1})*conjugate(O_{2,2})/2],\n",
       "[-O_{1,1}*exp(-I*\\theta_{κ_1})/2 - O_{2,2}*exp(I*\\theta_{κ_1})/2 + exp(I*\\theta_{κ_1})*conjugate(O_{2,2})/2 + exp(-I*\\theta_{κ_1})*conjugate(O_{1,1})/2,                                                                                  -O_{1,1}/2 + O_{2,2}/2 - conjugate(O_{1,1})/2 + conjugate(O_{2,2})/2]])"
      ]
     },
     "execution_count": 325,
     "metadata": {},
     "output_type": "execute_result"
    }
   ],
   "source": [
    "S[('x',0)].subs(rules_O).subs(rules_intra)"
   ]
  },
  {
   "cell_type": "code",
   "execution_count": 329,
   "metadata": {},
   "outputs": [
    {
     "data": {
      "text/latex": [
       "$\\displaystyle \\left[\\begin{matrix}\\frac{O_{1,1} e^{- \\frac{2 i \\pi}{3}}}{2} - \\frac{\\left(-1\\right)^{\\frac{2}{3}} O_{2,2}}{2} + \\frac{e^{- \\frac{2 i \\pi}{3}} \\overline{O_{1,1}}}{2} - \\frac{\\left(-1\\right)^{\\frac{2}{3}} \\overline{O_{2,2}}}{2} & \\frac{O_{1,1} e^{- \\frac{2 i \\pi}{3}} e^{i \\theta_{κ_1}}}{2} + \\frac{\\left(-1\\right)^{\\frac{2}{3}} O_{2,2} e^{- i \\theta_{κ_1}}}{2} - \\frac{e^{- \\frac{2 i \\pi}{3}} e^{i \\theta_{κ_1}} \\overline{O_{1,1}}}{2} - \\frac{\\left(-1\\right)^{\\frac{2}{3}} e^{- i \\theta_{κ_1}} \\overline{O_{2,2}}}{2}\\\\- \\frac{O_{1,1} e^{- \\frac{2 i \\pi}{3}} e^{- i \\theta_{κ_1}}}{2} - \\frac{\\left(-1\\right)^{\\frac{2}{3}} O_{2,2} e^{i \\theta_{κ_1}}}{2} + \\frac{\\left(-1\\right)^{\\frac{2}{3}} e^{i \\theta_{κ_1}} \\overline{O_{2,2}}}{2} + \\frac{e^{- \\frac{2 i \\pi}{3}} e^{- i \\theta_{κ_1}} \\overline{O_{1,1}}}{2} & - \\frac{O_{1,1} e^{- \\frac{2 i \\pi}{3}}}{2} + \\frac{\\left(-1\\right)^{\\frac{2}{3}} O_{2,2}}{2} - \\frac{e^{- \\frac{2 i \\pi}{3}} \\overline{O_{1,1}}}{2} + \\frac{\\left(-1\\right)^{\\frac{2}{3}} \\overline{O_{2,2}}}{2}\\end{matrix}\\right]$"
      ],
      "text/plain": [
       "Matrix([\n",
       "[                                                                                   O_{1,1}*exp(-2*I*pi/3)/2 - (-1)**(2/3)*O_{2,2}/2 + exp(-2*I*pi/3)*conjugate(O_{1,1})/2 - (-1)**(2/3)*conjugate(O_{2,2})/2, O_{1,1}*exp(-2*I*pi/3)*exp(I*\\theta_{κ_1})/2 + (-1)**(2/3)*O_{2,2}*exp(-I*\\theta_{κ_1})/2 - exp(-2*I*pi/3)*exp(I*\\theta_{κ_1})*conjugate(O_{1,1})/2 - (-1)**(2/3)*exp(-I*\\theta_{κ_1})*conjugate(O_{2,2})/2],\n",
       "[-O_{1,1}*exp(-2*I*pi/3)*exp(-I*\\theta_{κ_1})/2 - (-1)**(2/3)*O_{2,2}*exp(I*\\theta_{κ_1})/2 + (-1)**(2/3)*exp(I*\\theta_{κ_1})*conjugate(O_{2,2})/2 + exp(-2*I*pi/3)*exp(-I*\\theta_{κ_1})*conjugate(O_{1,1})/2,                                                                                  -O_{1,1}*exp(-2*I*pi/3)/2 + (-1)**(2/3)*O_{2,2}/2 - exp(-2*I*pi/3)*conjugate(O_{1,1})/2 + (-1)**(2/3)*conjugate(O_{2,2})/2]])"
      ]
     },
     "execution_count": 329,
     "metadata": {},
     "output_type": "execute_result"
    }
   ],
   "source": [
    "S[('x',1)].subs(rules_O).subs(rules_intra)"
   ]
  },
  {
   "cell_type": "code",
   "execution_count": 330,
   "metadata": {},
   "outputs": [
    {
     "data": {
      "text/latex": [
       "$\\displaystyle \\left[\\begin{matrix}\\frac{\\left(-1\\right)^{\\frac{2}{3}} O_{1,1}}{2} - \\frac{O_{2,2} e^{- \\frac{2 i \\pi}{3}}}{2} + \\frac{\\left(-1\\right)^{\\frac{2}{3}} \\overline{O_{1,1}}}{2} - \\frac{e^{- \\frac{2 i \\pi}{3}} \\overline{O_{2,2}}}{2} & \\frac{\\left(-1\\right)^{\\frac{2}{3}} O_{1,1} e^{i \\theta_{κ_1}}}{2} + \\frac{O_{2,2} e^{- \\frac{2 i \\pi}{3}} e^{- i \\theta_{κ_1}}}{2} - \\frac{\\left(-1\\right)^{\\frac{2}{3}} e^{i \\theta_{κ_1}} \\overline{O_{1,1}}}{2} - \\frac{e^{- \\frac{2 i \\pi}{3}} e^{- i \\theta_{κ_1}} \\overline{O_{2,2}}}{2}\\\\- \\frac{\\left(-1\\right)^{\\frac{2}{3}} O_{1,1} e^{- i \\theta_{κ_1}}}{2} - \\frac{O_{2,2} e^{- \\frac{2 i \\pi}{3}} e^{i \\theta_{κ_1}}}{2} + \\frac{e^{- \\frac{2 i \\pi}{3}} e^{i \\theta_{κ_1}} \\overline{O_{2,2}}}{2} + \\frac{\\left(-1\\right)^{\\frac{2}{3}} e^{- i \\theta_{κ_1}} \\overline{O_{1,1}}}{2} & - \\frac{\\left(-1\\right)^{\\frac{2}{3}} O_{1,1}}{2} + \\frac{O_{2,2} e^{- \\frac{2 i \\pi}{3}}}{2} - \\frac{\\left(-1\\right)^{\\frac{2}{3}} \\overline{O_{1,1}}}{2} + \\frac{e^{- \\frac{2 i \\pi}{3}} \\overline{O_{2,2}}}{2}\\end{matrix}\\right]$"
      ],
      "text/plain": [
       "Matrix([\n",
       "[                                                                                   (-1)**(2/3)*O_{1,1}/2 - O_{2,2}*exp(-2*I*pi/3)/2 + (-1)**(2/3)*conjugate(O_{1,1})/2 - exp(-2*I*pi/3)*conjugate(O_{2,2})/2, (-1)**(2/3)*O_{1,1}*exp(I*\\theta_{κ_1})/2 + O_{2,2}*exp(-2*I*pi/3)*exp(-I*\\theta_{κ_1})/2 - (-1)**(2/3)*exp(I*\\theta_{κ_1})*conjugate(O_{1,1})/2 - exp(-2*I*pi/3)*exp(-I*\\theta_{κ_1})*conjugate(O_{2,2})/2],\n",
       "[-(-1)**(2/3)*O_{1,1}*exp(-I*\\theta_{κ_1})/2 - O_{2,2}*exp(-2*I*pi/3)*exp(I*\\theta_{κ_1})/2 + exp(-2*I*pi/3)*exp(I*\\theta_{κ_1})*conjugate(O_{2,2})/2 + (-1)**(2/3)*exp(-I*\\theta_{κ_1})*conjugate(O_{1,1})/2,                                                                                  -(-1)**(2/3)*O_{1,1}/2 + O_{2,2}*exp(-2*I*pi/3)/2 - (-1)**(2/3)*conjugate(O_{1,1})/2 + exp(-2*I*pi/3)*conjugate(O_{2,2})/2]])"
      ]
     },
     "execution_count": 330,
     "metadata": {},
     "output_type": "execute_result"
    }
   ],
   "source": [
    "S[('x',2)].subs(rules_O).subs(rules_intra)"
   ]
  },
  {
   "cell_type": "code",
   "execution_count": 326,
   "metadata": {},
   "outputs": [
    {
     "data": {
      "text/latex": [
       "$\\displaystyle \\left[\\begin{matrix}- \\frac{i O_{1,1}}{2} + \\frac{i O_{2,2}}{2} + \\frac{i \\overline{O_{1,1}}}{2} - \\frac{i \\overline{O_{2,2}}}{2} & - \\frac{i O_{1,1} e^{i \\theta_{κ_1}}}{2} - \\frac{i O_{2,2} e^{- i \\theta_{κ_1}}}{2} - \\frac{i e^{i \\theta_{κ_1}} \\overline{O_{1,1}}}{2} - \\frac{i e^{- i \\theta_{κ_1}} \\overline{O_{2,2}}}{2}\\\\\\frac{i O_{1,1} e^{- i \\theta_{κ_1}}}{2} + \\frac{i O_{2,2} e^{i \\theta_{κ_1}}}{2} + \\frac{i e^{i \\theta_{κ_1}} \\overline{O_{2,2}}}{2} + \\frac{i e^{- i \\theta_{κ_1}} \\overline{O_{1,1}}}{2} & \\frac{i O_{1,1}}{2} - \\frac{i O_{2,2}}{2} - \\frac{i \\overline{O_{1,1}}}{2} + \\frac{i \\overline{O_{2,2}}}{2}\\end{matrix}\\right]$"
      ],
      "text/plain": [
       "Matrix([\n",
       "[                                                                                 -I*O_{1,1}/2 + I*O_{2,2}/2 + I*conjugate(O_{1,1})/2 - I*conjugate(O_{2,2})/2, -I*O_{1,1}*exp(I*\\theta_{κ_1})/2 - I*O_{2,2}*exp(-I*\\theta_{κ_1})/2 - I*exp(I*\\theta_{κ_1})*conjugate(O_{1,1})/2 - I*exp(-I*\\theta_{κ_1})*conjugate(O_{2,2})/2],\n",
       "[I*O_{1,1}*exp(-I*\\theta_{κ_1})/2 + I*O_{2,2}*exp(I*\\theta_{κ_1})/2 + I*exp(I*\\theta_{κ_1})*conjugate(O_{2,2})/2 + I*exp(-I*\\theta_{κ_1})*conjugate(O_{1,1})/2,                                                                                    I*O_{1,1}/2 - I*O_{2,2}/2 - I*conjugate(O_{1,1})/2 + I*conjugate(O_{2,2})/2]])"
      ]
     },
     "execution_count": 326,
     "metadata": {},
     "output_type": "execute_result"
    }
   ],
   "source": [
    "S[('y',0)].subs(rules_O).subs(rules_intra)"
   ]
  },
  {
   "cell_type": "code",
   "execution_count": 327,
   "metadata": {},
   "outputs": [
    {
     "data": {
      "text/latex": [
       "$\\displaystyle \\left[\\begin{matrix}- \\frac{O_{1,2} e^{- 2 i Kr} e^{i \\theta_{κ_1}}}{2} + \\frac{O_{2,1} e^{2 i Kr} e^{- i \\theta_{κ_1}}}{2} - \\frac{e^{2 i Kr} e^{- i \\theta_{κ_1}} \\overline{O_{1,2}}}{2} + \\frac{e^{- 2 i Kr} e^{i \\theta_{κ_1}} \\overline{O_{2,1}}}{2} & \\frac{O_{1,2} e^{- 2 i Kr}}{2} + \\frac{O_{2,1} e^{2 i Kr}}{2} + \\frac{e^{2 i Kr} \\overline{O_{1,2}}}{2} + \\frac{e^{- 2 i Kr} \\overline{O_{2,1}}}{2}\\\\\\frac{O_{1,2} e^{- 2 i Kr}}{2} + \\frac{O_{2,1} e^{2 i Kr}}{2} + \\frac{e^{2 i Kr} \\overline{O_{1,2}}}{2} + \\frac{e^{- 2 i Kr} \\overline{O_{2,1}}}{2} & - \\frac{O_{1,2} e^{- 2 i Kr} e^{- i \\theta_{κ_1}}}{2} + \\frac{O_{2,1} e^{2 i Kr} e^{i \\theta_{κ_1}}}{2} - \\frac{e^{2 i Kr} e^{i \\theta_{κ_1}} \\overline{O_{1,2}}}{2} + \\frac{e^{- 2 i Kr} e^{- i \\theta_{κ_1}} \\overline{O_{2,1}}}{2}\\end{matrix}\\right]$"
      ],
      "text/plain": [
       "Matrix([\n",
       "[-O_{1,2}*exp(-2*I*Kr)*exp(I*\\theta_{κ_1})/2 + O_{2,1}*exp(2*I*Kr)*exp(-I*\\theta_{κ_1})/2 - exp(2*I*Kr)*exp(-I*\\theta_{κ_1})*conjugate(O_{1,2})/2 + exp(-2*I*Kr)*exp(I*\\theta_{κ_1})*conjugate(O_{2,1})/2,                                                                                    O_{1,2}*exp(-2*I*Kr)/2 + O_{2,1}*exp(2*I*Kr)/2 + exp(2*I*Kr)*conjugate(O_{1,2})/2 + exp(-2*I*Kr)*conjugate(O_{2,1})/2],\n",
       "[                                                                                   O_{1,2}*exp(-2*I*Kr)/2 + O_{2,1}*exp(2*I*Kr)/2 + exp(2*I*Kr)*conjugate(O_{1,2})/2 + exp(-2*I*Kr)*conjugate(O_{2,1})/2, -O_{1,2}*exp(-2*I*Kr)*exp(-I*\\theta_{κ_1})/2 + O_{2,1}*exp(2*I*Kr)*exp(I*\\theta_{κ_1})/2 - exp(2*I*Kr)*exp(I*\\theta_{κ_1})*conjugate(O_{1,2})/2 + exp(-2*I*Kr)*exp(-I*\\theta_{κ_1})*conjugate(O_{2,1})/2]])"
      ]
     },
     "execution_count": 327,
     "metadata": {},
     "output_type": "execute_result"
    }
   ],
   "source": [
    "S[('x',0)].subs(rules_O).subs(rules_inter)"
   ]
  },
  {
   "cell_type": "code",
   "execution_count": 328,
   "metadata": {},
   "outputs": [
    {
     "data": {
      "text/latex": [
       "$\\displaystyle \\left[\\begin{matrix}\\frac{i O_{1,2} e^{- 2 i Kr} e^{i \\theta_{κ_1}}}{2} - \\frac{i O_{2,1} e^{2 i Kr} e^{- i \\theta_{κ_1}}}{2} - \\frac{i e^{2 i Kr} e^{- i \\theta_{κ_1}} \\overline{O_{1,2}}}{2} + \\frac{i e^{- 2 i Kr} e^{i \\theta_{κ_1}} \\overline{O_{2,1}}}{2} & - \\frac{i O_{1,2} e^{- 2 i Kr}}{2} - \\frac{i O_{2,1} e^{2 i Kr}}{2} + \\frac{i e^{2 i Kr} \\overline{O_{1,2}}}{2} + \\frac{i e^{- 2 i Kr} \\overline{O_{2,1}}}{2}\\\\- \\frac{i O_{1,2} e^{- 2 i Kr}}{2} - \\frac{i O_{2,1} e^{2 i Kr}}{2} + \\frac{i e^{2 i Kr} \\overline{O_{1,2}}}{2} + \\frac{i e^{- 2 i Kr} \\overline{O_{2,1}}}{2} & \\frac{i O_{1,2} e^{- 2 i Kr} e^{- i \\theta_{κ_1}}}{2} - \\frac{i O_{2,1} e^{2 i Kr} e^{i \\theta_{κ_1}}}{2} - \\frac{i e^{2 i Kr} e^{i \\theta_{κ_1}} \\overline{O_{1,2}}}{2} + \\frac{i e^{- 2 i Kr} e^{- i \\theta_{κ_1}} \\overline{O_{2,1}}}{2}\\end{matrix}\\right]$"
      ],
      "text/plain": [
       "Matrix([\n",
       "[I*O_{1,2}*exp(-2*I*Kr)*exp(I*\\theta_{κ_1})/2 - I*O_{2,1}*exp(2*I*Kr)*exp(-I*\\theta_{κ_1})/2 - I*exp(2*I*Kr)*exp(-I*\\theta_{κ_1})*conjugate(O_{1,2})/2 + I*exp(-2*I*Kr)*exp(I*\\theta_{κ_1})*conjugate(O_{2,1})/2,                                                                                  -I*O_{1,2}*exp(-2*I*Kr)/2 - I*O_{2,1}*exp(2*I*Kr)/2 + I*exp(2*I*Kr)*conjugate(O_{1,2})/2 + I*exp(-2*I*Kr)*conjugate(O_{2,1})/2],\n",
       "[                                                                                 -I*O_{1,2}*exp(-2*I*Kr)/2 - I*O_{2,1}*exp(2*I*Kr)/2 + I*exp(2*I*Kr)*conjugate(O_{1,2})/2 + I*exp(-2*I*Kr)*conjugate(O_{2,1})/2, I*O_{1,2}*exp(-2*I*Kr)*exp(-I*\\theta_{κ_1})/2 - I*O_{2,1}*exp(2*I*Kr)*exp(I*\\theta_{κ_1})/2 - I*exp(2*I*Kr)*exp(I*\\theta_{κ_1})*conjugate(O_{1,2})/2 + I*exp(-2*I*Kr)*exp(-I*\\theta_{κ_1})*conjugate(O_{2,1})/2]])"
      ]
     },
     "execution_count": 328,
     "metadata": {},
     "output_type": "execute_result"
    }
   ],
   "source": [
    "S[('y',0)].subs(rules_O).subs(rules_inter)"
   ]
  },
  {
   "cell_type": "code",
   "execution_count": 115,
   "metadata": {},
   "outputs": [],
   "source": [
    "Re,Im={},{}\n",
    "Re={(i,j): Symbol(f'a_{{{i},{j}}}',real=True) for i in range(1,3) for j in range(1,3)}\n",
    "Im={(i,j): Symbol(f'b_{{{i},{j}}}',real=True) for i in range(1,3) for j in range(1,3)}"
   ]
  },
  {
   "cell_type": "code",
   "execution_count": 116,
   "metadata": {},
   "outputs": [],
   "source": [
    "rules_Oab=[(O[(i,j)],Re[(i,j)]+I*Im[(i,j)]) for i in range(1,3) for j in range(1,3)]"
   ]
  },
  {
   "cell_type": "code",
   "execution_count": 235,
   "metadata": {},
   "outputs": [
    {
     "data": {
      "text/latex": [
       "$\\displaystyle \\left[\\begin{matrix}\\frac{O_{1,1}}{2} - \\frac{O_{1,2} e^{- 2 i Kr} e^{i \\theta_{κ_1}}}{2} + \\frac{O_{2,1} e^{2 i Kr} e^{- i \\theta_{κ_1}}}{2} - \\frac{O_{2,2}}{2} - \\frac{e^{2 i Kr} e^{- i \\theta_{κ_1}} \\overline{O_{1,2}}}{2} + \\frac{\\overline{O_{1,1}}}{2} - \\frac{\\overline{O_{2,2}}}{2} + \\frac{e^{- 2 i Kr} e^{i \\theta_{κ_1}} \\overline{O_{2,1}}}{2} & \\frac{O_{1,1} e^{i \\theta_{κ_1}}}{2} + \\frac{O_{1,2} e^{- 2 i Kr}}{2} + \\frac{O_{2,1} e^{2 i Kr}}{2} + \\frac{O_{2,2} e^{- i \\theta_{κ_1}}}{2} + \\frac{e^{2 i Kr} \\overline{O_{1,2}}}{2} - \\frac{e^{i \\theta_{κ_1}} \\overline{O_{1,1}}}{2} - \\frac{e^{- i \\theta_{κ_1}} \\overline{O_{2,2}}}{2} + \\frac{e^{- 2 i Kr} \\overline{O_{2,1}}}{2}\\\\- \\frac{O_{1,1} e^{- i \\theta_{κ_1}}}{2} + \\frac{O_{1,2} e^{- 2 i Kr}}{2} + \\frac{O_{2,1} e^{2 i Kr}}{2} - \\frac{O_{2,2} e^{i \\theta_{κ_1}}}{2} + \\frac{e^{2 i Kr} \\overline{O_{1,2}}}{2} + \\frac{e^{i \\theta_{κ_1}} \\overline{O_{2,2}}}{2} + \\frac{e^{- i \\theta_{κ_1}} \\overline{O_{1,1}}}{2} + \\frac{e^{- 2 i Kr} \\overline{O_{2,1}}}{2} & - \\frac{O_{1,1}}{2} - \\frac{O_{1,2} e^{- 2 i Kr} e^{- i \\theta_{κ_1}}}{2} + \\frac{O_{2,1} e^{2 i Kr} e^{i \\theta_{κ_1}}}{2} + \\frac{O_{2,2}}{2} - \\frac{e^{2 i Kr} e^{i \\theta_{κ_1}} \\overline{O_{1,2}}}{2} - \\frac{\\overline{O_{1,1}}}{2} + \\frac{\\overline{O_{2,2}}}{2} + \\frac{e^{- 2 i Kr} e^{- i \\theta_{κ_1}} \\overline{O_{2,1}}}{2}\\end{matrix}\\right]$"
      ],
      "text/plain": [
       "Matrix([\n",
       "[ O_{1,1}/2 - O_{1,2}*exp(-2*I*Kr)*exp(I*\\theta_{κ_1})/2 + O_{2,1}*exp(2*I*Kr)*exp(-I*\\theta_{κ_1})/2 - O_{2,2}/2 - exp(2*I*Kr)*exp(-I*\\theta_{κ_1})*conjugate(O_{1,2})/2 + conjugate(O_{1,1})/2 - conjugate(O_{2,2})/2 + exp(-2*I*Kr)*exp(I*\\theta_{κ_1})*conjugate(O_{2,1})/2,  O_{1,1}*exp(I*\\theta_{κ_1})/2 + O_{1,2}*exp(-2*I*Kr)/2 + O_{2,1}*exp(2*I*Kr)/2 + O_{2,2}*exp(-I*\\theta_{κ_1})/2 + exp(2*I*Kr)*conjugate(O_{1,2})/2 - exp(I*\\theta_{κ_1})*conjugate(O_{1,1})/2 - exp(-I*\\theta_{κ_1})*conjugate(O_{2,2})/2 + exp(-2*I*Kr)*conjugate(O_{2,1})/2],\n",
       "[-O_{1,1}*exp(-I*\\theta_{κ_1})/2 + O_{1,2}*exp(-2*I*Kr)/2 + O_{2,1}*exp(2*I*Kr)/2 - O_{2,2}*exp(I*\\theta_{κ_1})/2 + exp(2*I*Kr)*conjugate(O_{1,2})/2 + exp(I*\\theta_{κ_1})*conjugate(O_{2,2})/2 + exp(-I*\\theta_{κ_1})*conjugate(O_{1,1})/2 + exp(-2*I*Kr)*conjugate(O_{2,1})/2, -O_{1,1}/2 - O_{1,2}*exp(-2*I*Kr)*exp(-I*\\theta_{κ_1})/2 + O_{2,1}*exp(2*I*Kr)*exp(I*\\theta_{κ_1})/2 + O_{2,2}/2 - exp(2*I*Kr)*exp(I*\\theta_{κ_1})*conjugate(O_{1,2})/2 - conjugate(O_{1,1})/2 + conjugate(O_{2,2})/2 + exp(-2*I*Kr)*exp(-I*\\theta_{κ_1})*conjugate(O_{2,1})/2]])"
      ]
     },
     "execution_count": 235,
     "metadata": {},
     "output_type": "execute_result"
    }
   ],
   "source": [
    "S['x'].subs(rules_O)"
   ]
  },
  {
   "cell_type": "code",
   "execution_count": 236,
   "metadata": {},
   "outputs": [
    {
     "ename": "NameError",
     "evalue": "name 'rules_sum' is not defined",
     "output_type": "error",
     "traceback": [
      "\u001b[0;31m---------------------------------------------------------------------------\u001b[0m",
      "\u001b[0;31mNameError\u001b[0m                                 Traceback (most recent call last)",
      "\u001b[0;32m/tmp/ipykernel_14502/677876620.py\u001b[0m in \u001b[0;36m<module>\u001b[0;34m\u001b[0m\n\u001b[0;32m----> 1\u001b[0;31m \u001b[0mS\u001b[0m\u001b[0;34m[\u001b[0m\u001b[0;34m'y'\u001b[0m\u001b[0;34m]\u001b[0m\u001b[0;34m.\u001b[0m\u001b[0msubs\u001b[0m\u001b[0;34m(\u001b[0m\u001b[0mrules_O\u001b[0m\u001b[0;34m)\u001b[0m\u001b[0;34m.\u001b[0m\u001b[0msubs\u001b[0m\u001b[0;34m(\u001b[0m\u001b[0mrules_intra\u001b[0m\u001b[0;34m)\u001b[0m\u001b[0;34m.\u001b[0m\u001b[0msubs\u001b[0m\u001b[0;34m(\u001b[0m\u001b[0mrules_Oab\u001b[0m\u001b[0;34m)\u001b[0m\u001b[0;34m.\u001b[0m\u001b[0mexpand\u001b[0m\u001b[0;34m(\u001b[0m\u001b[0;34m)\u001b[0m\u001b[0;34m.\u001b[0m\u001b[0mxreplace\u001b[0m\u001b[0;34m(\u001b[0m\u001b[0mrules_sum\u001b[0m\u001b[0;34m)\u001b[0m\u001b[0;34m\u001b[0m\u001b[0;34m\u001b[0m\u001b[0m\n\u001b[0m",
      "\u001b[0;31mNameError\u001b[0m: name 'rules_sum' is not defined"
     ]
    }
   ],
   "source": [
    "S['y'].subs(rules_O).subs(rules_intra).subs(rules_Oab).expand().xreplace(rules_sum)"
   ]
  },
  {
   "cell_type": "code",
   "execution_count": null,
   "metadata": {},
   "outputs": [],
   "source": [
    "S['x'].subs(rules_O).subs(rules_inter).subs(rules_Oab).expand()"
   ]
  },
  {
   "cell_type": "code",
   "execution_count": null,
   "metadata": {},
   "outputs": [],
   "source": [
    "(matrix_rewrite(S['y'].subs(rules_O).subs(rules_inter).subs(rules_Oab).expand().xreplace(rules_sum),cos).expand())"
   ]
  },
  {
   "cell_type": "code",
   "execution_count": null,
   "metadata": {},
   "outputs": [],
   "source": [
    "S['y'].subs(rules_O).subs(rules_inter).subs(rules_Oab).expand()"
   ]
  },
  {
   "cell_type": "code",
   "execution_count": null,
   "metadata": {},
   "outputs": [],
   "source": [
    "matrix_rewrite(S['y'].subs(rules_O).subs(rules_inter).subs(rules_Oab).expand(),sin).expand()"
   ]
  },
  {
   "cell_type": "code",
   "execution_count": 95,
   "metadata": {},
   "outputs": [],
   "source": [
    "def matrix_rewrite(mat,func,simplify=False):\n",
    "    _shape=mat.shape\n",
    "    if simplify:\n",
    "        return Matrix([[mat[i,j].rewrite(func).simplify() for j in range(_shape[0])] for i in range(_shape[1])])\n",
    "    else:\n",
    "        return Matrix([[mat[i,j].rewrite(func) for j in range(_shape[0])] for i in range(_shape[1])])\n",
    "\n"
   ]
  },
  {
   "attachments": {},
   "cell_type": "markdown",
   "metadata": {},
   "source": [
    "## s-wave order parameter"
   ]
  },
  {
   "cell_type": "markdown",
   "metadata": {},
   "source": [
    "Assume real order parameter "
   ]
  },
  {
   "cell_type": "code",
   "execution_count": 117,
   "metadata": {},
   "outputs": [],
   "source": [
    "rules_O_s=[(O[(i,j)],Re[(i,j)]) for i in range(1,3) for j in range(1,3)]"
   ]
  },
  {
   "cell_type": "code",
   "execution_count": 239,
   "metadata": {},
   "outputs": [],
   "source": [
    "rules_O_s_im=[(O[(i,j)],I*Im[(i,j)]) for i in range(1,3) for j in range(1,3)]"
   ]
  },
  {
   "cell_type": "code",
   "execution_count": 131,
   "metadata": {},
   "outputs": [],
   "source": [
    "rules_O_s_reim=[(O[(i,j)],Re[(i,j)]+I*Im[(i,j)]) for i in range(1,3) for j in range(1,3)]"
   ]
  },
  {
   "cell_type": "code",
   "execution_count": 136,
   "metadata": {},
   "outputs": [],
   "source": [
    "rules_sum={exp(k*I*theta[1]):0 for k in range(-10,11)}"
   ]
  },
  {
   "cell_type": "code",
   "execution_count": 178,
   "metadata": {},
   "outputs": [
    {
     "data": {
      "text/latex": [
       "$\\displaystyle \\left[\\begin{matrix}0 & \\frac{i a_{1,2} e^{2 i Kr}}{2} - \\frac{i a_{1,2} e^{- 2 i Kr}}{2} - \\frac{i a_{2,1} e^{2 i Kr}}{2} + \\frac{i a_{2,1} e^{- 2 i Kr}}{2}\\\\\\frac{i a_{1,2} e^{2 i Kr}}{2} - \\frac{i a_{1,2} e^{- 2 i Kr}}{2} - \\frac{i a_{2,1} e^{2 i Kr}}{2} + \\frac{i a_{2,1} e^{- 2 i Kr}}{2} & 0\\end{matrix}\\right]$"
      ],
      "text/plain": [
       "Matrix([\n",
       "[                                                                                                      0, I*a_{1,2}*exp(2*I*Kr)/2 - I*a_{1,2}*exp(-2*I*Kr)/2 - I*a_{2,1}*exp(2*I*Kr)/2 + I*a_{2,1}*exp(-2*I*Kr)/2],\n",
       "[I*a_{1,2}*exp(2*I*Kr)/2 - I*a_{1,2}*exp(-2*I*Kr)/2 - I*a_{2,1}*exp(2*I*Kr)/2 + I*a_{2,1}*exp(-2*I*Kr)/2,                                                                                                       0]])"
      ]
     },
     "execution_count": 178,
     "metadata": {},
     "output_type": "execute_result"
    }
   ],
   "source": [
    "matrix_rewrite(S[('y',0)].subs(rules_O).subs(rules_inter).subs(rules_O_s).expand().xreplace(rules_sum),exp)"
   ]
  },
  {
   "cell_type": "code",
   "execution_count": 183,
   "metadata": {},
   "outputs": [
    {
     "data": {
      "text/latex": [
       "$\\displaystyle \\left[\\begin{matrix}b_{1,1} e^{\\frac{2 i \\pi}{3}} - b_{2,2} e^{- \\frac{2 i \\pi}{3}} & 0\\\\0 & - b_{1,1} e^{\\frac{2 i \\pi}{3}} + b_{2,2} e^{- \\frac{2 i \\pi}{3}}\\end{matrix}\\right]$"
      ],
      "text/plain": [
       "Matrix([\n",
       "[b_{1,1}*exp(2*I*pi/3) - b_{2,2}*exp(-2*I*pi/3),                                               0],\n",
       "[                                             0, -b_{1,1}*exp(2*I*pi/3) + b_{2,2}*exp(-2*I*pi/3)]])"
      ]
     },
     "execution_count": 183,
     "metadata": {},
     "output_type": "execute_result"
    }
   ],
   "source": [
    "matrix_rewrite(S[('y',2)].subs(rules_O).subs(rules_intra).subs(rules_O_s_reim).expand().xreplace(rules_sum),exp)"
   ]
  },
  {
   "cell_type": "code",
   "execution_count": 139,
   "metadata": {},
   "outputs": [
    {
     "data": {
      "text/latex": [
       "$\\displaystyle \\left[\\begin{matrix}a_{1,1} e^{\\frac{2 i \\pi}{3}} - a_{2,2} e^{- \\frac{2 i \\pi}{3}} & 0\\\\0 & - a_{1,1} e^{\\frac{2 i \\pi}{3}} + a_{2,2} e^{- \\frac{2 i \\pi}{3}}\\end{matrix}\\right]$"
      ],
      "text/plain": [
       "Matrix([\n",
       "[a_{1,1}*exp(2*I*pi/3) - a_{2,2}*exp(-2*I*pi/3),                                               0],\n",
       "[                                             0, -a_{1,1}*exp(2*I*pi/3) + a_{2,2}*exp(-2*I*pi/3)]])"
      ]
     },
     "execution_count": 139,
     "metadata": {},
     "output_type": "execute_result"
    }
   ],
   "source": [
    "matrix_rewrite(S[('x',2)].subs(rules_O).subs(rules_intra).subs(rules_O_s_reim).expand().xreplace(rules_sum),exp)"
   ]
  },
  {
   "cell_type": "code",
   "execution_count": 341,
   "metadata": {},
   "outputs": [
    {
     "data": {
      "text/latex": [
       "$\\displaystyle \\left[\\begin{matrix}- \\frac{a_{1,2} e^{2 i Kr} e^{- i \\theta_{κ_1}}}{2} - \\frac{a_{1,2} e^{- 2 i Kr} e^{i \\theta_{κ_1}}}{2} + \\frac{a_{2,1} e^{2 i Kr} e^{- i \\theta_{κ_1}}}{2} + \\frac{a_{2,1} e^{- 2 i Kr} e^{i \\theta_{κ_1}}}{2} & \\frac{a_{1,2} e^{2 i Kr}}{2} + \\frac{a_{1,2} e^{- 2 i Kr}}{2} + \\frac{a_{2,1} e^{2 i Kr}}{2} + \\frac{a_{2,1} e^{- 2 i Kr}}{2}\\\\\\frac{a_{1,2} e^{2 i Kr}}{2} + \\frac{a_{1,2} e^{- 2 i Kr}}{2} + \\frac{a_{2,1} e^{2 i Kr}}{2} + \\frac{a_{2,1} e^{- 2 i Kr}}{2} & - \\frac{a_{1,2} e^{2 i Kr} e^{i \\theta_{κ_1}}}{2} - \\frac{a_{1,2} e^{- 2 i Kr} e^{- i \\theta_{κ_1}}}{2} + \\frac{a_{2,1} e^{2 i Kr} e^{i \\theta_{κ_1}}}{2} + \\frac{a_{2,1} e^{- 2 i Kr} e^{- i \\theta_{κ_1}}}{2}\\end{matrix}\\right]$"
      ],
      "text/plain": [
       "Matrix([\n",
       "[-a_{1,2}*exp(2*I*Kr)*exp(-I*\\theta_{κ_1})/2 - a_{1,2}*exp(-2*I*Kr)*exp(I*\\theta_{κ_1})/2 + a_{2,1}*exp(2*I*Kr)*exp(-I*\\theta_{κ_1})/2 + a_{2,1}*exp(-2*I*Kr)*exp(I*\\theta_{κ_1})/2,                                                                                    a_{1,2}*exp(2*I*Kr)/2 + a_{1,2}*exp(-2*I*Kr)/2 + a_{2,1}*exp(2*I*Kr)/2 + a_{2,1}*exp(-2*I*Kr)/2],\n",
       "[                                                                                   a_{1,2}*exp(2*I*Kr)/2 + a_{1,2}*exp(-2*I*Kr)/2 + a_{2,1}*exp(2*I*Kr)/2 + a_{2,1}*exp(-2*I*Kr)/2, -a_{1,2}*exp(2*I*Kr)*exp(I*\\theta_{κ_1})/2 - a_{1,2}*exp(-2*I*Kr)*exp(-I*\\theta_{κ_1})/2 + a_{2,1}*exp(2*I*Kr)*exp(I*\\theta_{κ_1})/2 + a_{2,1}*exp(-2*I*Kr)*exp(-I*\\theta_{κ_1})/2]])"
      ]
     },
     "execution_count": 341,
     "metadata": {},
     "output_type": "execute_result"
    }
   ],
   "source": [
    "S[('x',0)].subs(rules_O).subs(rules_inter).subs(rules_O_s).expand()"
   ]
  },
  {
   "cell_type": "code",
   "execution_count": 340,
   "metadata": {},
   "outputs": [
    {
     "data": {
      "text/latex": [
       "$\\displaystyle \\left[\\begin{matrix}0 & \\frac{O_{1,2} e^{- 2 i Kr}}{2} + \\frac{O_{2,1} e^{2 i Kr}}{2} + \\frac{e^{2 i Kr} \\overline{O_{1,2}}}{2} + \\frac{e^{- 2 i Kr} \\overline{O_{2,1}}}{2}\\\\\\frac{O_{1,2} e^{- 2 i Kr}}{2} + \\frac{O_{2,1} e^{2 i Kr}}{2} + \\frac{e^{2 i Kr} \\overline{O_{1,2}}}{2} + \\frac{e^{- 2 i Kr} \\overline{O_{2,1}}}{2} & 0\\end{matrix}\\right]$"
      ],
      "text/plain": [
       "Matrix([\n",
       "[                                                                                                                    0, O_{1,2}*exp(-2*I*Kr)/2 + O_{2,1}*exp(2*I*Kr)/2 + exp(2*I*Kr)*conjugate(O_{1,2})/2 + exp(-2*I*Kr)*conjugate(O_{2,1})/2],\n",
       "[O_{1,2}*exp(-2*I*Kr)/2 + O_{2,1}*exp(2*I*Kr)/2 + exp(2*I*Kr)*conjugate(O_{1,2})/2 + exp(-2*I*Kr)*conjugate(O_{2,1})/2,                                                                                                                     0]])"
      ]
     },
     "execution_count": 340,
     "metadata": {},
     "output_type": "execute_result"
    }
   ],
   "source": [
    "S[('x',0)].subs(rules_O).subs(rules_inter).expand().xreplace(rules_sum)"
   ]
  },
  {
   "cell_type": "code",
   "execution_count": 342,
   "metadata": {},
   "outputs": [
    {
     "data": {
      "text/latex": [
       "$\\displaystyle \\left[\\begin{matrix}0 & \\frac{\\left(-1\\right)^{\\frac{2}{3}} O_{1,2} e^{- 2 i Kr}}{2} + \\frac{O_{2,1} e^{- \\frac{2 i \\pi}{3}} e^{2 i Kr}}{2} + \\frac{e^{- \\frac{2 i \\pi}{3}} e^{2 i Kr} \\overline{O_{1,2}}}{2} + \\frac{\\left(-1\\right)^{\\frac{2}{3}} e^{- 2 i Kr} \\overline{O_{2,1}}}{2}\\\\\\frac{\\left(-1\\right)^{\\frac{2}{3}} O_{1,2} e^{- 2 i Kr}}{2} + \\frac{O_{2,1} e^{- \\frac{2 i \\pi}{3}} e^{2 i Kr}}{2} + \\frac{e^{- \\frac{2 i \\pi}{3}} e^{2 i Kr} \\overline{O_{1,2}}}{2} + \\frac{\\left(-1\\right)^{\\frac{2}{3}} e^{- 2 i Kr} \\overline{O_{2,1}}}{2} & 0\\end{matrix}\\right]$"
      ],
      "text/plain": [
       "Matrix([\n",
       "[                                                                                                                                                                          0, (-1)**(2/3)*O_{1,2}*exp(-2*I*Kr)/2 + O_{2,1}*exp(-2*I*pi/3)*exp(2*I*Kr)/2 + exp(-2*I*pi/3)*exp(2*I*Kr)*conjugate(O_{1,2})/2 + (-1)**(2/3)*exp(-2*I*Kr)*conjugate(O_{2,1})/2],\n",
       "[(-1)**(2/3)*O_{1,2}*exp(-2*I*Kr)/2 + O_{2,1}*exp(-2*I*pi/3)*exp(2*I*Kr)/2 + exp(-2*I*pi/3)*exp(2*I*Kr)*conjugate(O_{1,2})/2 + (-1)**(2/3)*exp(-2*I*Kr)*conjugate(O_{2,1})/2,                                                                                                                                                                           0]])"
      ]
     },
     "execution_count": 342,
     "metadata": {},
     "output_type": "execute_result"
    }
   ],
   "source": [
    "S[('x',1)].subs(rules_O).subs(rules_inter).expand().xreplace(rules_sum)"
   ]
  },
  {
   "cell_type": "code",
   "execution_count": 344,
   "metadata": {},
   "outputs": [
    {
     "data": {
      "text/latex": [
       "$\\displaystyle \\left[\\begin{matrix}0 & \\frac{a_{1,2} e^{- \\frac{2 i \\pi}{3}} e^{2 i Kr}}{2} + \\frac{\\left(-1\\right)^{\\frac{2}{3}} a_{1,2} e^{- 2 i Kr}}{2} + \\frac{a_{2,1} e^{- \\frac{2 i \\pi}{3}} e^{2 i Kr}}{2} + \\frac{\\left(-1\\right)^{\\frac{2}{3}} a_{2,1} e^{- 2 i Kr}}{2}\\\\\\frac{a_{1,2} e^{- \\frac{2 i \\pi}{3}} e^{2 i Kr}}{2} + \\frac{\\left(-1\\right)^{\\frac{2}{3}} a_{1,2} e^{- 2 i Kr}}{2} + \\frac{a_{2,1} e^{- \\frac{2 i \\pi}{3}} e^{2 i Kr}}{2} + \\frac{\\left(-1\\right)^{\\frac{2}{3}} a_{2,1} e^{- 2 i Kr}}{2} & 0\\end{matrix}\\right]$"
      ],
      "text/plain": [
       "Matrix([\n",
       "[                                                                                                                                                    0, a_{1,2}*exp(-2*I*pi/3)*exp(2*I*Kr)/2 + (-1)**(2/3)*a_{1,2}*exp(-2*I*Kr)/2 + a_{2,1}*exp(-2*I*pi/3)*exp(2*I*Kr)/2 + (-1)**(2/3)*a_{2,1}*exp(-2*I*Kr)/2],\n",
       "[a_{1,2}*exp(-2*I*pi/3)*exp(2*I*Kr)/2 + (-1)**(2/3)*a_{1,2}*exp(-2*I*Kr)/2 + a_{2,1}*exp(-2*I*pi/3)*exp(2*I*Kr)/2 + (-1)**(2/3)*a_{2,1}*exp(-2*I*Kr)/2,                                                                                                                                                     0]])"
      ]
     },
     "execution_count": 344,
     "metadata": {},
     "output_type": "execute_result"
    }
   ],
   "source": [
    "S[('x',1)].subs(rules_O).subs(rules_inter).subs(rules_O_s).expand().xreplace(rules_sum)"
   ]
  },
  {
   "cell_type": "code",
   "execution_count": 345,
   "metadata": {},
   "outputs": [
    {
     "data": {
      "text/latex": [
       "$\\displaystyle \\left[\\begin{matrix}0 & \\frac{\\left(-1\\right)^{\\frac{2}{3}} a_{1,2} e^{2 i Kr}}{2} + \\frac{a_{1,2} e^{- \\frac{2 i \\pi}{3}} e^{- 2 i Kr}}{2} + \\frac{\\left(-1\\right)^{\\frac{2}{3}} a_{2,1} e^{2 i Kr}}{2} + \\frac{a_{2,1} e^{- \\frac{2 i \\pi}{3}} e^{- 2 i Kr}}{2}\\\\\\frac{\\left(-1\\right)^{\\frac{2}{3}} a_{1,2} e^{2 i Kr}}{2} + \\frac{a_{1,2} e^{- \\frac{2 i \\pi}{3}} e^{- 2 i Kr}}{2} + \\frac{\\left(-1\\right)^{\\frac{2}{3}} a_{2,1} e^{2 i Kr}}{2} + \\frac{a_{2,1} e^{- \\frac{2 i \\pi}{3}} e^{- 2 i Kr}}{2} & 0\\end{matrix}\\right]$"
      ],
      "text/plain": [
       "Matrix([\n",
       "[                                                                                                                                                    0, (-1)**(2/3)*a_{1,2}*exp(2*I*Kr)/2 + a_{1,2}*exp(-2*I*pi/3)*exp(-2*I*Kr)/2 + (-1)**(2/3)*a_{2,1}*exp(2*I*Kr)/2 + a_{2,1}*exp(-2*I*pi/3)*exp(-2*I*Kr)/2],\n",
       "[(-1)**(2/3)*a_{1,2}*exp(2*I*Kr)/2 + a_{1,2}*exp(-2*I*pi/3)*exp(-2*I*Kr)/2 + (-1)**(2/3)*a_{2,1}*exp(2*I*Kr)/2 + a_{2,1}*exp(-2*I*pi/3)*exp(-2*I*Kr)/2,                                                                                                                                                     0]])"
      ]
     },
     "execution_count": 345,
     "metadata": {},
     "output_type": "execute_result"
    }
   ],
   "source": [
    "S[('x',2)].subs(rules_O).subs(rules_inter).subs(rules_O_s).expand().xreplace(rules_sum)"
   ]
  },
  {
   "cell_type": "code",
   "execution_count": 244,
   "metadata": {},
   "outputs": [
    {
     "data": {
      "text/latex": [
       "$\\displaystyle \\left[\\begin{matrix}b_{1,1} - b_{2,2} & 0\\\\0 & - b_{1,1} + b_{2,2}\\end{matrix}\\right]$"
      ],
      "text/plain": [
       "Matrix([\n",
       "[b_{1,1} - b_{2,2},                  0],\n",
       "[                0, -b_{1,1} + b_{2,2}]])"
      ]
     },
     "execution_count": 244,
     "metadata": {},
     "output_type": "execute_result"
    }
   ],
   "source": [
    "S['y'].subs(rules_O).subs(rules_intra).subs(rules_O_s_im).expand().xreplace(rules_sum)"
   ]
  },
  {
   "cell_type": "code",
   "execution_count": null,
   "metadata": {},
   "outputs": [],
   "source": [
    "matrix_rewrite(S['x'].subs(rules_O).subs(rules_inter).subs(rules_O_s).expand().xreplace(rules_sum),cos).expand()"
   ]
  },
  {
   "cell_type": "code",
   "execution_count": null,
   "metadata": {},
   "outputs": [],
   "source": [
    "matrix_rewrite(S['x'].subs(rules_O).subs(rules_inter).subs(rules_O_s_im).expand().xreplace(rules_sum),cos).expand()"
   ]
  },
  {
   "cell_type": "code",
   "execution_count": null,
   "metadata": {},
   "outputs": [],
   "source": [
    "matrix_rewrite(S['y'].subs(rules_O).subs(rules_inter).subs(rules_O_s).expand().xreplace(rules_sum),cos).expand()"
   ]
  },
  {
   "cell_type": "code",
   "execution_count": null,
   "metadata": {},
   "outputs": [],
   "source": [
    "matrix_rewrite(S['y'].subs(rules_O).subs(rules_inter).subs(rules_O_s_im).expand().xreplace(rules_sum),cos).expand()"
   ]
  },
  {
   "cell_type": "code",
   "execution_count": null,
   "metadata": {},
   "outputs": [],
   "source": [
    "COO.subs(rules_intra).subs(rules_O_s)"
   ]
  },
  {
   "cell_type": "code",
   "execution_count": null,
   "metadata": {},
   "outputs": [],
   "source": [
    "H0=(Matrix([Dagger(c['+Au1']),Dagger(c['+Bu1'])]).T * (vF*(sigma['x']*cos(theta[1])+sigma['y']*sin(theta[1])) + B*  sigma['0']) * Matrix([c['+Au1'],c['+Bu1']]) \\\n",
    "+ Matrix([Dagger(c['-Au1']),Dagger(c['-Bu1'])]).T * conjugate(vF*(-sigma['x']*cos(theta[1])-sigma['y']*sin(theta[1])) + B*  sigma['0']) * Matrix([c['-Au1'],c['-Bu1']])\\\n",
    "+ Matrix([Dagger(c['+Ad1']),Dagger(c['+Bd1'])]).T * (vF*(sigma['x']*cos(theta[1])+sigma['y']*sin(theta[1])) - B*  sigma['0'] ) * Matrix([c['+Ad1'],c['+Bd1']])\\\n",
    "+Matrix([Dagger(c['-Ad1']),Dagger(c['-Bd1'])]).T * conjugate(vF*(-sigma['x']*cos(theta[1])-sigma['y']*sin(theta[1])) - B*  sigma['0']) * Matrix([c['-Ad1'],c['-Bd1']])\\\n",
    ")[0,0].rewrite(exp)"
   ]
  },
  {
   "cell_type": "code",
   "execution_count": 109,
   "metadata": {},
   "outputs": [],
   "source": [
    "z8=zeros(8,8)\n",
    "mat={}\n",
    "for i in range(8):\n",
    "    for j in range(8):\n",
    "        tmp=z8.copy()\n",
    "        tmp[i,j]=1\n",
    "        mat[(i,j)]=tmp.copy()\n",
    "        \n",
    "rules_c2mat=list(zip(Matrix([c_d_vec[1][i]* c_vec[1][j] for i in range(8) for j in range(8)]),[mat[(i,j)] for i in range(8) for j in range(8)]))"
   ]
  },
  {
   "cell_type": "code",
   "execution_count": null,
   "metadata": {},
   "outputs": [],
   "source": [
    "H_re=H0.expand().subs(rules_c2mat)+COO.subs(rules_intra).subs(rules_O_s).subs([(Re[2,2],Re[1,1])])"
   ]
  },
  {
   "cell_type": "code",
   "execution_count": null,
   "metadata": {},
   "outputs": [],
   "source": [
    "H_re_={}\n",
    "H_re_['+K']=H_re[[0,1,4,5],[0,1,4,5]]\n",
    "H_re_['-K']=H_re[[2,3,6,7],[2,3,6,7]]"
   ]
  },
  {
   "cell_type": "code",
   "execution_count": null,
   "metadata": {},
   "outputs": [],
   "source": [
    "H_re"
   ]
  },
  {
   "cell_type": "code",
   "execution_count": null,
   "metadata": {},
   "outputs": [],
   "source": [
    "H_re_['+K']"
   ]
  },
  {
   "cell_type": "code",
   "execution_count": null,
   "metadata": {},
   "outputs": [],
   "source": [
    "vec,val=(H_re_['+K']).diagonalize()"
   ]
  },
  {
   "cell_type": "code",
   "execution_count": null,
   "metadata": {},
   "outputs": [],
   "source": [
    "matrix_rewrite(vec,cos).expand()"
   ]
  },
  {
   "cell_type": "code",
   "execution_count": null,
   "metadata": {},
   "outputs": [],
   "source": [
    "exp(I*theta[1])*kronecker_product(sigma['+'],sigma['+'])-exp(-I*theta[1])*kronecker_product(sigma['+'],sigma['-'])-exp(I*theta[1])*kronecker_product(sigma['-'],sigma['+'])+exp(-I*theta[1])*kronecker_product(sigma['-'],sigma['-'])"
   ]
  },
  {
   "cell_type": "code",
   "execution_count": null,
   "metadata": {},
   "outputs": [],
   "source": [
    "from sympy.physics.paulialgebra import Pauli, evaluate_pauli_product"
   ]
  },
  {
   "cell_type": "code",
   "execution_count": null,
   "metadata": {},
   "outputs": [],
   "source": [
    "SS={i:Operator(f'S_{i}') for i in '+-xyz'}\n",
    "Sigma={i:Operator(f'\\Sigma_{i}') for i in '+-xyz'}"
   ]
  },
  {
   "cell_type": "code",
   "execution_count": null,
   "metadata": {},
   "outputs": [],
   "source": [
    "rules_pauli=[(SS['+'],(SS['x'] + I* SS['y'])/2),(SS['-'],(SS['x'] - I* SS['y'])/2),(Sigma['+'],(Sigma['x'] + I* Sigma['y'])/2),(Sigma['-'],(Sigma['x'] - I* Sigma['y'])/2)]"
   ]
  },
  {
   "cell_type": "code",
   "execution_count": null,
   "metadata": {},
   "outputs": [],
   "source": [
    "(exp(I*theta[1])*(Sigma['+']*SS['+'])-exp(-I*theta[1])*(Sigma['+']*SS['-'])-exp(I*theta[1])*(Sigma['-']*SS['+'])+exp(-I*theta[1])*(Sigma['-']*SS['-'])).subs(rules_pauli).rewrite(cos).expand()"
   ]
  },
  {
   "cell_type": "code",
   "execution_count": null,
   "metadata": {},
   "outputs": [],
   "source": [
    "matrix_rewrite(val,cos,simplify=True)"
   ]
  },
  {
   "attachments": {},
   "cell_type": "markdown",
   "metadata": {},
   "source": [
    "## p-wave order parameter"
   ]
  },
  {
   "cell_type": "code",
   "execution_count": 156,
   "metadata": {},
   "outputs": [],
   "source": [
    "r={(i,j): Symbol(f'r_{{{i},{j}}}') for i in range(1,3) for j in range(1,3)}"
   ]
  },
  {
   "cell_type": "code",
   "execution_count": 157,
   "metadata": {},
   "outputs": [],
   "source": [
    "rules_O_p=[(O[(i,j)],r[(i,j)]*exp(I*theta[1])) for i in range(1,3) for j in range(1,3)]\n",
    "rules_O_p_intra_opposite=[(O[(i,j)],r[(i,j)]*exp((-1)**i*I*theta[1])) for i,j in zip(range(1,3),range(1,3))]\n",
    "rules_O_p_inter_opposite=[(O[(i,j)],r[(i,j)]*exp((-1)**i*I*theta[1])) for i,j in [(1,2),(2,1)]]"
   ]
  },
  {
   "cell_type": "code",
   "execution_count": 175,
   "metadata": {},
   "outputs": [
    {
     "data": {
      "text/latex": [
       "$\\displaystyle \\left[\\begin{matrix}0 & \\frac{r_{2,2} e^{\\frac{i \\pi}{6}}}{2} - \\frac{i e^{- \\frac{2 i \\pi}{3}} \\overline{r_{1,1}}}{2}\\\\\\frac{i r_{1,1} e^{- \\frac{2 i \\pi}{3}}}{2} - \\frac{e^{\\frac{i \\pi}{6}} \\overline{r_{2,2}}}{2} & 0\\end{matrix}\\right]$"
      ],
      "text/plain": [
       "Matrix([\n",
       "[                                                            0, r_{2,2}*exp(I*pi/6)/2 - I*exp(-2*I*pi/3)*conjugate(r_{1,1})/2],\n",
       "[I*r_{1,1}*exp(-2*I*pi/3)/2 - exp(I*pi/6)*conjugate(r_{2,2})/2,                                                             0]])"
      ]
     },
     "execution_count": 175,
     "metadata": {},
     "output_type": "execute_result"
    }
   ],
   "source": [
    "matrix_rewrite(S[('y',1)].subs(rules_O).subs(rules_intra).subs(rules_O_p).xreplace(rules_sum),exp)"
   ]
  },
  {
   "cell_type": "code",
   "execution_count": 256,
   "metadata": {},
   "outputs": [
    {
     "data": {
      "text/latex": [
       "$\\displaystyle \\left[\\begin{matrix}0 & - \\frac{i r_{2,2}}{2} - \\frac{i \\overline{r_{1,1}}}{2}\\\\\\frac{i r_{1,1}}{2} + \\frac{i \\overline{r_{2,2}}}{2} & 0\\end{matrix}\\right]$"
      ],
      "text/plain": [
       "Matrix([\n",
       "[                                   0, -I*r_{2,2}/2 - I*conjugate(r_{1,1})/2],\n",
       "[I*r_{1,1}/2 + I*conjugate(r_{2,2})/2,                                     0]])"
      ]
     },
     "execution_count": 256,
     "metadata": {},
     "output_type": "execute_result"
    }
   ],
   "source": [
    "S['y'].subs(rules_O).subs(rules_intra).subs(rules_O_p).xreplace(rules_sum)"
   ]
  },
  {
   "cell_type": "code",
   "execution_count": 172,
   "metadata": {},
   "outputs": [
    {
     "data": {
      "text/latex": [
       "$\\displaystyle \\left[\\begin{matrix}\\frac{r_{2,1} e^{\\frac{i \\pi}{6}} e^{2 i Kr}}{2} + \\frac{i e^{- \\frac{2 i \\pi}{3}} e^{- 2 i Kr} \\overline{r_{2,1}}}{2} & 0\\\\0 & \\frac{i r_{1,2} e^{- \\frac{2 i \\pi}{3}} e^{- 2 i Kr}}{2} + \\frac{e^{\\frac{i \\pi}{6}} e^{2 i Kr} \\overline{r_{1,2}}}{2}\\end{matrix}\\right]$"
      ],
      "text/plain": [
       "Matrix([\n",
       "[r_{2,1}*exp(I*pi/6)*exp(2*I*Kr)/2 + I*exp(-2*I*pi/3)*exp(-2*I*Kr)*conjugate(r_{2,1})/2,                                                                                      0],\n",
       "[                                                                                     0, I*r_{1,2}*exp(-2*I*pi/3)*exp(-2*I*Kr)/2 + exp(I*pi/6)*exp(2*I*Kr)*conjugate(r_{1,2})/2]])"
      ]
     },
     "execution_count": 172,
     "metadata": {},
     "output_type": "execute_result"
    }
   ],
   "source": [
    "matrix_rewrite(S[('y',2)].subs(rules_O).subs(rules_inter).subs(rules_O_p).xreplace(rules_sum),exp)"
   ]
  },
  {
   "cell_type": "code",
   "execution_count": 263,
   "metadata": {},
   "outputs": [
    {
     "data": {
      "text/latex": [
       "$\\displaystyle \\left[\\begin{matrix}\\frac{r_{1,1} e^{- i \\theta_{κ_1}}}{2} - \\frac{r_{2,2} e^{i \\theta_{κ_1}}}{2} + \\frac{e^{i \\theta_{κ_1}} \\overline{r_{1,1}}}{2} - \\frac{e^{- i \\theta_{κ_1}} \\overline{r_{2,2}}}{2} & \\frac{r_{1,1}}{2} + \\frac{r_{2,2}}{2} - \\frac{e^{2 i \\theta_{κ_1}} \\overline{r_{1,1}}}{2} - \\frac{e^{- 2 i \\theta_{κ_1}} \\overline{r_{2,2}}}{2}\\\\- \\frac{r_{1,1} e^{- 2 i \\theta_{κ_1}}}{2} - \\frac{r_{2,2} e^{2 i \\theta_{κ_1}}}{2} + \\frac{\\overline{r_{1,1}}}{2} + \\frac{\\overline{r_{2,2}}}{2} & - \\frac{r_{1,1} e^{- i \\theta_{κ_1}}}{2} + \\frac{r_{2,2} e^{i \\theta_{κ_1}}}{2} - \\frac{e^{i \\theta_{κ_1}} \\overline{r_{1,1}}}{2} + \\frac{e^{- i \\theta_{κ_1}} \\overline{r_{2,2}}}{2}\\end{matrix}\\right]$"
      ],
      "text/plain": [
       "Matrix([\n",
       "[r_{1,1}*exp(-I*\\theta_{κ_1})/2 - r_{2,2}*exp(I*\\theta_{κ_1})/2 + exp(I*\\theta_{κ_1})*conjugate(r_{1,1})/2 - exp(-I*\\theta_{κ_1})*conjugate(r_{2,2})/2,                                       r_{1,1}/2 + r_{2,2}/2 - exp(2*I*\\theta_{κ_1})*conjugate(r_{1,1})/2 - exp(-2*I*\\theta_{κ_1})*conjugate(r_{2,2})/2],\n",
       "[                                    -r_{1,1}*exp(-2*I*\\theta_{κ_1})/2 - r_{2,2}*exp(2*I*\\theta_{κ_1})/2 + conjugate(r_{1,1})/2 + conjugate(r_{2,2})/2, -r_{1,1}*exp(-I*\\theta_{κ_1})/2 + r_{2,2}*exp(I*\\theta_{κ_1})/2 - exp(I*\\theta_{κ_1})*conjugate(r_{1,1})/2 + exp(-I*\\theta_{κ_1})*conjugate(r_{2,2})/2]])"
      ]
     },
     "execution_count": 263,
     "metadata": {},
     "output_type": "execute_result"
    }
   ],
   "source": [
    "S['x'].subs(rules_O).subs(rules_intra).subs(rules_O_p_intra_opposite)"
   ]
  },
  {
   "cell_type": "code",
   "execution_count": 264,
   "metadata": {},
   "outputs": [
    {
     "data": {
      "text/latex": [
       "$\\displaystyle \\left[\\begin{matrix}0 & - \\frac{i r_{1,1}}{2} - \\frac{i r_{2,2}}{2}\\\\\\frac{i \\overline{r_{1,1}}}{2} + \\frac{i \\overline{r_{2,2}}}{2} & 0\\end{matrix}\\right]$"
      ],
      "text/plain": [
       "Matrix([\n",
       "[                                              0, -I*r_{1,1}/2 - I*r_{2,2}/2],\n",
       "[I*conjugate(r_{1,1})/2 + I*conjugate(r_{2,2})/2,                          0]])"
      ]
     },
     "execution_count": 264,
     "metadata": {},
     "output_type": "execute_result"
    }
   ],
   "source": [
    "S['y'].subs(rules_O).subs(rules_intra).subs(rules_O_p_intra_opposite).xreplace(rules_sum)"
   ]
  },
  {
   "cell_type": "code",
   "execution_count": 267,
   "metadata": {},
   "outputs": [
    {
     "data": {
      "text/latex": [
       "$\\displaystyle \\left[\\begin{matrix}\\frac{r_{2,1} e^{2 i Kr}}{2} + \\frac{e^{- 2 i Kr} \\overline{r_{2,1}}}{2} & 0\\\\0 & - \\frac{r_{1,2} e^{- 2 i Kr}}{2} - \\frac{e^{2 i Kr} \\overline{r_{1,2}}}{2}\\end{matrix}\\right]$"
      ],
      "text/plain": [
       "Matrix([\n",
       "[r_{2,1}*exp(2*I*Kr)/2 + exp(-2*I*Kr)*conjugate(r_{2,1})/2,                                                          0],\n",
       "[                                                        0, -r_{1,2}*exp(-2*I*Kr)/2 - exp(2*I*Kr)*conjugate(r_{1,2})/2]])"
      ]
     },
     "execution_count": 267,
     "metadata": {},
     "output_type": "execute_result"
    }
   ],
   "source": [
    "S['x'].subs(rules_O).subs(rules_inter).subs(rules_O_p).xreplace(rules_sum)"
   ]
  },
  {
   "cell_type": "code",
   "execution_count": 268,
   "metadata": {},
   "outputs": [
    {
     "data": {
      "text/latex": [
       "$\\displaystyle \\left[\\begin{matrix}- \\frac{i r_{2,1} e^{2 i Kr}}{2} + \\frac{i e^{- 2 i Kr} \\overline{r_{2,1}}}{2} & 0\\\\0 & \\frac{i r_{1,2} e^{- 2 i Kr}}{2} - \\frac{i e^{2 i Kr} \\overline{r_{1,2}}}{2}\\end{matrix}\\right]$"
      ],
      "text/plain": [
       "Matrix([\n",
       "[-I*r_{2,1}*exp(2*I*Kr)/2 + I*exp(-2*I*Kr)*conjugate(r_{2,1})/2,                                                             0],\n",
       "[                                                             0, I*r_{1,2}*exp(-2*I*Kr)/2 - I*exp(2*I*Kr)*conjugate(r_{1,2})/2]])"
      ]
     },
     "execution_count": 268,
     "metadata": {},
     "output_type": "execute_result"
    }
   ],
   "source": [
    "S['y'].subs(rules_O).subs(rules_inter).subs(rules_O_p).xreplace(rules_sum)"
   ]
  },
  {
   "cell_type": "code",
   "execution_count": 269,
   "metadata": {},
   "outputs": [
    {
     "data": {
      "text/latex": [
       "$\\displaystyle \\left[\\begin{matrix}- \\frac{r_{1,2} e^{- 2 i Kr}}{2} + \\frac{r_{2,1} e^{2 i Kr}}{2} - \\frac{e^{2 i Kr} \\overline{r_{1,2}}}{2} + \\frac{e^{- 2 i Kr} \\overline{r_{2,1}}}{2} & 0\\\\0 & 0\\end{matrix}\\right]$"
      ],
      "text/plain": [
       "Matrix([\n",
       "[-r_{1,2}*exp(-2*I*Kr)/2 + r_{2,1}*exp(2*I*Kr)/2 - exp(2*I*Kr)*conjugate(r_{1,2})/2 + exp(-2*I*Kr)*conjugate(r_{2,1})/2, 0],\n",
       "[                                                                                                                     0, 0]])"
      ]
     },
     "execution_count": 269,
     "metadata": {},
     "output_type": "execute_result"
    }
   ],
   "source": [
    "S['x'].subs(rules_O).subs(rules_inter).subs(rules_O_p_inter_opposite).xreplace(rules_sum)"
   ]
  },
  {
   "cell_type": "code",
   "execution_count": 270,
   "metadata": {},
   "outputs": [
    {
     "data": {
      "text/latex": [
       "$\\displaystyle \\left[\\begin{matrix}\\frac{i r_{1,2} e^{- 2 i Kr}}{2} - \\frac{i r_{2,1} e^{2 i Kr}}{2} - \\frac{i e^{2 i Kr} \\overline{r_{1,2}}}{2} + \\frac{i e^{- 2 i Kr} \\overline{r_{2,1}}}{2} & 0\\\\0 & 0\\end{matrix}\\right]$"
      ],
      "text/plain": [
       "Matrix([\n",
       "[I*r_{1,2}*exp(-2*I*Kr)/2 - I*r_{2,1}*exp(2*I*Kr)/2 - I*exp(2*I*Kr)*conjugate(r_{1,2})/2 + I*exp(-2*I*Kr)*conjugate(r_{2,1})/2, 0],\n",
       "[                                                                                                                            0, 0]])"
      ]
     },
     "execution_count": 270,
     "metadata": {},
     "output_type": "execute_result"
    }
   ],
   "source": [
    "S['y'].subs(rules_O).subs(rules_inter).subs(rules_O_p_inter_opposite).xreplace(rules_sum)"
   ]
  },
  {
   "attachments": {},
   "cell_type": "markdown",
   "metadata": {},
   "source": [
    "## d-wave order parameter"
   ]
  },
  {
   "cell_type": "code",
   "execution_count": null,
   "metadata": {},
   "outputs": [],
   "source": [
    "rules_O_d=[(O[(i,j)],r[(i,j)]*exp(2*I*theta[1])) for i in range(1,3) for j in range(1,3)]"
   ]
  },
  {
   "cell_type": "code",
   "execution_count": null,
   "metadata": {},
   "outputs": [],
   "source": [
    "S['x'].subs(rules_O).subs(rules_intra).subs(rules_O_d).xreplace(rules_sum)"
   ]
  },
  {
   "cell_type": "code",
   "execution_count": null,
   "metadata": {},
   "outputs": [],
   "source": [
    "S['y'].subs(rules_O).subs(rules_intra).subs(rules_O_d).xreplace(rules_sum)"
   ]
  },
  {
   "cell_type": "code",
   "execution_count": null,
   "metadata": {},
   "outputs": [],
   "source": [
    "S['x'].subs(rules_O).subs(rules_inter).subs(rules_O_d).xreplace(rules_sum)"
   ]
  },
  {
   "cell_type": "code",
   "execution_count": null,
   "metadata": {},
   "outputs": [],
   "source": [
    "S['y'].subs(rules_O).subs(rules_inter).subs(rules_O_d).xreplace(rules_sum)"
   ]
  },
  {
   "cell_type": "code",
   "execution_count": null,
   "metadata": {},
   "outputs": [],
   "source": [
    "WW[1]"
   ]
  },
  {
   "cell_type": "code",
   "execution_count": null,
   "metadata": {},
   "outputs": [],
   "source": [
    "(psi['++d1']*theta[2]+psi['++d1']*theta[1]).factor()"
   ]
  },
  {
   "cell_type": "code",
   "execution_count": null,
   "metadata": {},
   "outputs": [],
   "source": [
    "(theta[3]*theta[2]+theta[3]*theta[1])"
   ]
  },
  {
   "cell_type": "markdown",
   "metadata": {},
   "source": [
    "# C3 symm"
   ]
  },
  {
   "cell_type": "code",
   "execution_count": null,
   "metadata": {},
   "outputs": [],
   "source": [
    "C3=Operator(f'C_3')"
   ]
  },
  {
   "cell_type": "code",
   "execution_count": null,
   "metadata": {},
   "outputs": [],
   "source": []
  },
  {
   "cell_type": "code",
   "execution_count": null,
   "metadata": {},
   "outputs": [],
   "source": [
    "Matrix([c[f'+{l}u1'] for l in 'AB'])"
   ]
  },
  {
   "cell_type": "code",
   "execution_count": null,
   "metadata": {},
   "outputs": [],
   "source": [
    "omega=Symbol(r'\\omega')"
   ]
  },
  {
   "cell_type": "code",
   "execution_count": null,
   "metadata": {},
   "outputs": [],
   "source": [
    "diag(1,omega, 1, omega**-1)"
   ]
  },
  {
   "cell_type": "code",
   "execution_count": null,
   "metadata": {},
   "outputs": [],
   "source": [
    "(R(0)*K['+']).dot(n[1])*4*pi/sqrt(3)"
   ]
  },
  {
   "cell_type": "code",
   "execution_count": null,
   "metadata": {},
   "outputs": [],
   "source": [
    "R= lambda x: Matrix([[cos(rad(x)),-sin(rad(x))],[sin(rad(x)),cos(rad(x))]])"
   ]
  },
  {
   "cell_type": "code",
   "execution_count": null,
   "metadata": {},
   "outputs": [],
   "source": [
    "R(120)*K['+']"
   ]
  },
  {
   "cell_type": "code",
   "execution_count": null,
   "metadata": {},
   "outputs": [],
   "source": [
    "K['+'].dot(-n[2])*4*pi/sqrt(3)"
   ]
  },
  {
   "cell_type": "code",
   "execution_count": null,
   "metadata": {},
   "outputs": [],
   "source": [
    "n[1]"
   ]
  }
 ],
 "metadata": {
  "kernelspec": {
   "display_name": "base",
   "language": "python",
   "name": "python3"
  },
  "language_info": {
   "codemirror_mode": {
    "name": "ipython",
    "version": 3
   },
   "file_extension": ".py",
   "mimetype": "text/x-python",
   "name": "python",
   "nbconvert_exporter": "python",
   "pygments_lexer": "ipython3",
   "version": "3.9.13"
  },
  "orig_nbformat": 4,
  "vscode": {
   "interpreter": {
    "hash": "8763e5ea16b716ad1eeffeab5f34109bd722594d0305e114e3d37565ed57b2a4"
   }
  }
 },
 "nbformat": 4,
 "nbformat_minor": 2
}
