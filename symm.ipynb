{
 "cells": [
  {
   "cell_type": "code",
   "execution_count": 44,
   "metadata": {},
   "outputs": [],
   "source": [
    "from sympy import *\n",
    "from sympy.physics.quantum import *\n",
    "from sympy.physics.matrices import msigma\n",
    "# import pandas as pd\n",
    "# from scipy.sparse import csc_matrix"
   ]
  },
  {
   "cell_type": "markdown",
   "metadata": {},
   "source": [
    "# M1 spinful"
   ]
  },
  {
   "cell_type": "code",
   "execution_count": 22,
   "metadata": {},
   "outputs": [],
   "source": [
    "index={L+S:r'_{}^{}'.format(r'\\uparrow' if S=='u' else r'\\downarrow',L) for L in 'oe' for S in 'ud'}"
   ]
  },
  {
   "cell_type": "code",
   "execution_count": 29,
   "metadata": {},
   "outputs": [],
   "source": [
    "psi={key:Operator('\\psi{}'.format(val)) for key,val in index.items()}"
   ]
  },
  {
   "cell_type": "code",
   "execution_count": 13,
   "metadata": {},
   "outputs": [
    {
     "data": {
      "text/latex": [
       "$\\displaystyle \\psi^{o}_{\\uparrow}$"
      ],
      "text/plain": [
       "\\psi_\\uparrow^o"
      ]
     },
     "execution_count": 13,
     "metadata": {},
     "output_type": "execute_result"
    }
   ],
   "source": [
    "H={(Si+):Operator(r'H_{{{},{}}}^{{{},{}}}').format(Si,Sj,Li,Lj) for }"
   ]
  },
  {
   "cell_type": "code",
   "execution_count": 33,
   "metadata": {},
   "outputs": [],
   "source": [
    "arrow= lambda x: r'\\uparrow' if x=='u' else r'\\downarrow'"
   ]
  },
  {
   "cell_type": "code",
   "execution_count": 41,
   "metadata": {},
   "outputs": [],
   "source": [
    "H_mat=Matrix([[Symbol('H_{{{},{}}}^{{{},{}}}'.format(arrow(i[1]),arrow(j[1]),i[0],j[0])) for j in index.keys()] for i in index.keys()])"
   ]
  },
  {
   "cell_type": "code",
   "execution_count": 42,
   "metadata": {},
   "outputs": [
    {
     "data": {
      "text/latex": [
       "$\\displaystyle \\left[\\begin{matrix}H_{\\uparrow,\\uparrow}^{o,o} & H_{\\uparrow,\\downarrow}^{o,o} & H_{\\uparrow,\\uparrow}^{o,e} & H_{\\uparrow,\\downarrow}^{o,e}\\\\H_{\\downarrow,\\uparrow}^{o,o} & H_{\\downarrow,\\downarrow}^{o,o} & H_{\\downarrow,\\uparrow}^{o,e} & H_{\\downarrow,\\downarrow}^{o,e}\\\\H_{\\uparrow,\\uparrow}^{e,o} & H_{\\uparrow,\\downarrow}^{e,o} & H_{\\uparrow,\\uparrow}^{e,e} & H_{\\uparrow,\\downarrow}^{e,e}\\\\H_{\\downarrow,\\uparrow}^{e,o} & H_{\\downarrow,\\downarrow}^{e,o} & H_{\\downarrow,\\uparrow}^{e,e} & H_{\\downarrow,\\downarrow}^{e,e}\\end{matrix}\\right]$"
      ],
      "text/plain": [
       "Matrix([\n",
       "[  H_{\\uparrow,\\uparrow}^{o,o},   H_{\\uparrow,\\downarrow}^{o,o},   H_{\\uparrow,\\uparrow}^{o,e},   H_{\\uparrow,\\downarrow}^{o,e}],\n",
       "[H_{\\downarrow,\\uparrow}^{o,o}, H_{\\downarrow,\\downarrow}^{o,o}, H_{\\downarrow,\\uparrow}^{o,e}, H_{\\downarrow,\\downarrow}^{o,e}],\n",
       "[  H_{\\uparrow,\\uparrow}^{e,o},   H_{\\uparrow,\\downarrow}^{e,o},   H_{\\uparrow,\\uparrow}^{e,e},   H_{\\uparrow,\\downarrow}^{e,e}],\n",
       "[H_{\\downarrow,\\uparrow}^{e,o}, H_{\\downarrow,\\downarrow}^{e,o}, H_{\\downarrow,\\uparrow}^{e,e}, H_{\\downarrow,\\downarrow}^{e,e}]])"
      ]
     },
     "execution_count": 42,
     "metadata": {},
     "output_type": "execute_result"
    }
   ],
   "source": [
    "H_mat"
   ]
  },
  {
   "cell_type": "code",
   "execution_count": 57,
   "metadata": {},
   "outputs": [],
   "source": [
    "U=-I*kronecker_product(msigma(3),msigma(3))"
   ]
  },
  {
   "cell_type": "code",
   "execution_count": 58,
   "metadata": {},
   "outputs": [
    {
     "data": {
      "text/latex": [
       "$\\displaystyle \\left[\\begin{matrix}- i & 0 & 0 & 0\\\\0 & i & 0 & 0\\\\0 & 0 & i & 0\\\\0 & 0 & 0 & - i\\end{matrix}\\right]$"
      ],
      "text/plain": [
       "Matrix([\n",
       "[-I, 0, 0,  0],\n",
       "[ 0, I, 0,  0],\n",
       "[ 0, 0, I,  0],\n",
       "[ 0, 0, 0, -I]])"
      ]
     },
     "execution_count": 58,
     "metadata": {},
     "output_type": "execute_result"
    }
   ],
   "source": [
    "U"
   ]
  },
  {
   "cell_type": "code",
   "execution_count": 62,
   "metadata": {},
   "outputs": [
    {
     "data": {
      "text/latex": [
       "$\\displaystyle \\left[\\begin{matrix}H_{\\uparrow,\\uparrow}^{o,o} & - H_{\\uparrow,\\downarrow}^{o,o} & - H_{\\uparrow,\\uparrow}^{o,e} & H_{\\uparrow,\\downarrow}^{o,e}\\\\- H_{\\downarrow,\\uparrow}^{o,o} & H_{\\downarrow,\\downarrow}^{o,o} & H_{\\downarrow,\\uparrow}^{o,e} & - H_{\\downarrow,\\downarrow}^{o,e}\\\\- H_{\\uparrow,\\uparrow}^{e,o} & H_{\\uparrow,\\downarrow}^{e,o} & H_{\\uparrow,\\uparrow}^{e,e} & - H_{\\uparrow,\\downarrow}^{e,e}\\\\H_{\\downarrow,\\uparrow}^{e,o} & - H_{\\downarrow,\\downarrow}^{e,o} & - H_{\\downarrow,\\uparrow}^{e,e} & H_{\\downarrow,\\downarrow}^{e,e}\\end{matrix}\\right]$"
      ],
      "text/plain": [
       "Matrix([\n",
       "[   H_{\\uparrow,\\uparrow}^{o,o},   -H_{\\uparrow,\\downarrow}^{o,o},   -H_{\\uparrow,\\uparrow}^{o,e},    H_{\\uparrow,\\downarrow}^{o,e}],\n",
       "[-H_{\\downarrow,\\uparrow}^{o,o},  H_{\\downarrow,\\downarrow}^{o,o},  H_{\\downarrow,\\uparrow}^{o,e}, -H_{\\downarrow,\\downarrow}^{o,e}],\n",
       "[  -H_{\\uparrow,\\uparrow}^{e,o},    H_{\\uparrow,\\downarrow}^{e,o},    H_{\\uparrow,\\uparrow}^{e,e},   -H_{\\uparrow,\\downarrow}^{e,e}],\n",
       "[ H_{\\downarrow,\\uparrow}^{e,o}, -H_{\\downarrow,\\downarrow}^{e,o}, -H_{\\downarrow,\\uparrow}^{e,e},  H_{\\downarrow,\\downarrow}^{e,e}]])"
      ]
     },
     "execution_count": 62,
     "metadata": {},
     "output_type": "execute_result"
    }
   ],
   "source": [
    "U@H_mat@U.H"
   ]
  },
  {
   "cell_type": "code",
   "execution_count": 61,
   "metadata": {},
   "outputs": [
    {
     "data": {
      "text/latex": [
       "$\\displaystyle \\left[\\begin{matrix}H_{\\uparrow,\\uparrow}^{o,o} & H_{\\uparrow,\\downarrow}^{o,o} & H_{\\uparrow,\\uparrow}^{o,e} & H_{\\uparrow,\\downarrow}^{o,e}\\\\H_{\\downarrow,\\uparrow}^{o,o} & H_{\\downarrow,\\downarrow}^{o,o} & H_{\\downarrow,\\uparrow}^{o,e} & H_{\\downarrow,\\downarrow}^{o,e}\\\\H_{\\uparrow,\\uparrow}^{e,o} & H_{\\uparrow,\\downarrow}^{e,o} & H_{\\uparrow,\\uparrow}^{e,e} & H_{\\uparrow,\\downarrow}^{e,e}\\\\H_{\\downarrow,\\uparrow}^{e,o} & H_{\\downarrow,\\downarrow}^{e,o} & H_{\\downarrow,\\uparrow}^{e,e} & H_{\\downarrow,\\downarrow}^{e,e}\\end{matrix}\\right]$"
      ],
      "text/plain": [
       "Matrix([\n",
       "[  H_{\\uparrow,\\uparrow}^{o,o},   H_{\\uparrow,\\downarrow}^{o,o},   H_{\\uparrow,\\uparrow}^{o,e},   H_{\\uparrow,\\downarrow}^{o,e}],\n",
       "[H_{\\downarrow,\\uparrow}^{o,o}, H_{\\downarrow,\\downarrow}^{o,o}, H_{\\downarrow,\\uparrow}^{o,e}, H_{\\downarrow,\\downarrow}^{o,e}],\n",
       "[  H_{\\uparrow,\\uparrow}^{e,o},   H_{\\uparrow,\\downarrow}^{e,o},   H_{\\uparrow,\\uparrow}^{e,e},   H_{\\uparrow,\\downarrow}^{e,e}],\n",
       "[H_{\\downarrow,\\uparrow}^{e,o}, H_{\\downarrow,\\downarrow}^{e,o}, H_{\\downarrow,\\uparrow}^{e,e}, H_{\\downarrow,\\downarrow}^{e,e}]])"
      ]
     },
     "execution_count": 61,
     "metadata": {},
     "output_type": "execute_result"
    }
   ],
   "source": [
    "H_mat"
   ]
  },
  {
   "cell_type": "markdown",
   "metadata": {},
   "source": [
    "# TRS spinful"
   ]
  },
  {
   "cell_type": "code",
   "execution_count": 63,
   "metadata": {},
   "outputs": [],
   "source": [
    "index={L+S:r'_{}^{}'.format(r'\\uparrow' if S=='u' else r'\\downarrow',L) for L in 'bt' for S in 'ud'}"
   ]
  },
  {
   "cell_type": "code",
   "execution_count": 64,
   "metadata": {},
   "outputs": [],
   "source": [
    "H_mat=Matrix([[Symbol('H_{{{},{}}}^{{{},{}}}'.format(arrow(i[1]),arrow(j[1]),i[0],j[0])) for j in index.keys()] for i in index.keys()])"
   ]
  },
  {
   "cell_type": "code",
   "execution_count": 65,
   "metadata": {},
   "outputs": [
    {
     "data": {
      "text/latex": [
       "$\\displaystyle \\left[\\begin{matrix}H_{\\uparrow,\\uparrow}^{b,b} & H_{\\uparrow,\\downarrow}^{b,b} & H_{\\uparrow,\\uparrow}^{b,t} & H_{\\uparrow,\\downarrow}^{b,t}\\\\H_{\\downarrow,\\uparrow}^{b,b} & H_{\\downarrow,\\downarrow}^{b,b} & H_{\\downarrow,\\uparrow}^{b,t} & H_{\\downarrow,\\downarrow}^{b,t}\\\\H_{\\uparrow,\\uparrow}^{t,b} & H_{\\uparrow,\\downarrow}^{t,b} & H_{\\uparrow,\\uparrow}^{t,t} & H_{\\uparrow,\\downarrow}^{t,t}\\\\H_{\\downarrow,\\uparrow}^{t,b} & H_{\\downarrow,\\downarrow}^{t,b} & H_{\\downarrow,\\uparrow}^{t,t} & H_{\\downarrow,\\downarrow}^{t,t}\\end{matrix}\\right]$"
      ],
      "text/plain": [
       "Matrix([\n",
       "[  H_{\\uparrow,\\uparrow}^{b,b},   H_{\\uparrow,\\downarrow}^{b,b},   H_{\\uparrow,\\uparrow}^{b,t},   H_{\\uparrow,\\downarrow}^{b,t}],\n",
       "[H_{\\downarrow,\\uparrow}^{b,b}, H_{\\downarrow,\\downarrow}^{b,b}, H_{\\downarrow,\\uparrow}^{b,t}, H_{\\downarrow,\\downarrow}^{b,t}],\n",
       "[  H_{\\uparrow,\\uparrow}^{t,b},   H_{\\uparrow,\\downarrow}^{t,b},   H_{\\uparrow,\\uparrow}^{t,t},   H_{\\uparrow,\\downarrow}^{t,t}],\n",
       "[H_{\\downarrow,\\uparrow}^{t,b}, H_{\\downarrow,\\downarrow}^{t,b}, H_{\\downarrow,\\uparrow}^{t,t}, H_{\\downarrow,\\downarrow}^{t,t}]])"
      ]
     },
     "execution_count": 65,
     "metadata": {},
     "output_type": "execute_result"
    }
   ],
   "source": [
    "H_mat"
   ]
  },
  {
   "cell_type": "code",
   "execution_count": 69,
   "metadata": {},
   "outputs": [],
   "source": [
    "U=kronecker_product(eye(2),-I*msigma(2))"
   ]
  },
  {
   "cell_type": "code",
   "execution_count": 73,
   "metadata": {},
   "outputs": [
    {
     "data": {
      "text/latex": [
       "$\\displaystyle \\left[\\begin{matrix}H_{\\downarrow,\\downarrow}^{b,b} & - H_{\\downarrow,\\uparrow}^{b,b} & H_{\\downarrow,\\downarrow}^{b,t} & - H_{\\downarrow,\\uparrow}^{b,t}\\\\- H_{\\uparrow,\\downarrow}^{b,b} & H_{\\uparrow,\\uparrow}^{b,b} & - H_{\\uparrow,\\downarrow}^{b,t} & H_{\\uparrow,\\uparrow}^{b,t}\\\\H_{\\downarrow,\\downarrow}^{t,b} & - H_{\\downarrow,\\uparrow}^{t,b} & H_{\\downarrow,\\downarrow}^{t,t} & - H_{\\downarrow,\\uparrow}^{t,t}\\\\- H_{\\uparrow,\\downarrow}^{t,b} & H_{\\uparrow,\\uparrow}^{t,b} & - H_{\\uparrow,\\downarrow}^{t,t} & H_{\\uparrow,\\uparrow}^{t,t}\\end{matrix}\\right]$"
      ],
      "text/plain": [
       "Matrix([\n",
       "[H_{\\downarrow,\\downarrow}^{b,b}, -H_{\\downarrow,\\uparrow}^{b,b}, H_{\\downarrow,\\downarrow}^{b,t}, -H_{\\downarrow,\\uparrow}^{b,t}],\n",
       "[ -H_{\\uparrow,\\downarrow}^{b,b},    H_{\\uparrow,\\uparrow}^{b,b},  -H_{\\uparrow,\\downarrow}^{b,t},    H_{\\uparrow,\\uparrow}^{b,t}],\n",
       "[H_{\\downarrow,\\downarrow}^{t,b}, -H_{\\downarrow,\\uparrow}^{t,b}, H_{\\downarrow,\\downarrow}^{t,t}, -H_{\\downarrow,\\uparrow}^{t,t}],\n",
       "[ -H_{\\uparrow,\\downarrow}^{t,b},    H_{\\uparrow,\\uparrow}^{t,b},  -H_{\\uparrow,\\downarrow}^{t,t},    H_{\\uparrow,\\uparrow}^{t,t}]])"
      ]
     },
     "execution_count": 73,
     "metadata": {},
     "output_type": "execute_result"
    }
   ],
   "source": [
    "U*H_mat*U.H"
   ]
  },
  {
   "cell_type": "code",
   "execution_count": null,
   "metadata": {},
   "outputs": [],
   "source": []
  }
 ],
 "metadata": {
  "kernelspec": {
   "display_name": "base",
   "language": "python",
   "name": "python3"
  },
  "language_info": {
   "codemirror_mode": {
    "name": "ipython",
    "version": 3
   },
   "file_extension": ".py",
   "mimetype": "text/x-python",
   "name": "python",
   "nbconvert_exporter": "python",
   "pygments_lexer": "ipython3",
   "version": "3.8.11"
  },
  "orig_nbformat": 4,
  "vscode": {
   "interpreter": {
    "hash": "8763e5ea16b716ad1eeffeab5f34109bd722594d0305e114e3d37565ed57b2a4"
   }
  }
 },
 "nbformat": 4,
 "nbformat_minor": 2
}
